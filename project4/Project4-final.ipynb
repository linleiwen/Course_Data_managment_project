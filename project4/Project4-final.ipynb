{
 "cells": [
  {
   "cell_type": "markdown",
   "metadata": {},
   "source": [
    "# Project 4"
   ]
  },
  {
   "cell_type": "markdown",
   "metadata": {},
   "source": [
    "Team members: Leiwen Lin, Huiting Tang, Xiaoli Zhao, Ziyi Zhao"
   ]
  },
  {
   "cell_type": "markdown",
   "metadata": {},
   "source": [
    "Individual Contribution: We held group meeting for 5 times and every one contributed a lot. Leiwen is mainly responsible for wrangling data, building up star schema and draw plotly plots. Huiting is mainly responsible for doing analysis and write description of analysis result. Xiaoli is mainly responsible for improving our code and Ziyi is responsible for integrate notebook and presentation. "
   ]
  },
  {
   "cell_type": "markdown",
   "metadata": {},
   "source": [
    "# Selection Data"
   ]
  },
  {
   "cell_type": "markdown",
   "metadata": {},
   "source": [
    "In this project, we choose Austin 311 Unified Data (Utilities and City Services). It is about Non-emergency 311 call systems which is used increasingly in U.S. cities, offer a number of advantages. They give citizens a quick, convenient way to kvetch about problems in their neighborhoods, and get a response. We choose this dataset because Austin is famous for its strong data analytics industry. So, we want to explore their governmental database management by doing analysis on this dataset. Also, we want to know more about 311 call systems.\n",
    "Data Source: https://data.austintexas.gov/Utilities-and-City-Services/311-Unified-Data/i26j-ai4z\n",
    "We want to explore the pattern of service type by month, owning department and method. We attempt to answer the following qestions:\n",
    "1. Which service type is the most common one?\n",
    "2. Is there any pattern for service type records over month?\n",
    "3. What method is used more often for call systems?\n",
    "4. Is there any further pattern we can explore with other dataset?\n",
    "The dataset is very clean and constructed so we don't have concerns about it. But what could be a challenge is that once we find the interesting pattern of the data, can we find out proper dataset to further explore the pattern."
   ]
  },
  {
   "cell_type": "code",
   "execution_count": 1,
   "metadata": {},
   "outputs": [
    {
     "name": "stdout",
     "output_type": "stream",
     "text": [
      "File ‘Data.csv’ already there; not retrieving.\r\n",
      "\r\n"
     ]
    }
   ],
   "source": [
    "!wget -nc https://s3.amazonaws.com/leiwen/dmfa/Data.csv"
   ]
  },
  {
   "cell_type": "markdown",
   "metadata": {},
   "source": [
    "# Wrangling data"
   ]
  },
  {
   "cell_type": "code",
   "execution_count": 2,
   "metadata": {},
   "outputs": [
    {
     "data": {
      "text/html": [
       "<img src=\"https://s3.amazonaws.com/leiwen/dmfa/too_big.jpg\"/>"
      ],
      "text/plain": [
       "<IPython.core.display.Image object>"
      ]
     },
     "execution_count": 2,
     "metadata": {},
     "output_type": "execute_result"
    }
   ],
   "source": [
    "from IPython.display import Image\n",
    "url = \"https://s3.amazonaws.com/leiwen/dmfa/too_big.jpg\"\n",
    "Image(url=url)"
   ]
  },
  {
   "cell_type": "markdown",
   "metadata": {},
   "source": [
    "Trifacta cannot handle data larger than 100 migabyte, so we use pandas to do it."
   ]
  },
  {
   "cell_type": "code",
   "execution_count": 3,
   "metadata": {
    "collapsed": true
   },
   "outputs": [],
   "source": [
    "import pandas as pd"
   ]
  },
  {
   "cell_type": "code",
   "execution_count": 4,
   "metadata": {
    "collapsed": true
   },
   "outputs": [],
   "source": [
    "data = pd.read_csv(\"Data.csv\")"
   ]
  },
  {
   "cell_type": "code",
   "execution_count": 5,
   "metadata": {
    "collapsed": true
   },
   "outputs": [],
   "source": [
    "data = data.dropna(axis = 0)"
   ]
  },
  {
   "cell_type": "markdown",
   "metadata": {},
   "source": [
    "Drop null values."
   ]
  },
  {
   "cell_type": "code",
   "execution_count": 6,
   "metadata": {},
   "outputs": [
    {
     "data": {
      "text/plain": [
       "Service Request (SR) Number     object\n",
       "SR Type Code                    object\n",
       "SR Description                  object\n",
       "Owning Department               object\n",
       "Method Received                 object\n",
       "SR Status                       object\n",
       "Status Change Date              object\n",
       "Created Date                    object\n",
       "Last Update Date                object\n",
       "Close Date                      object\n",
       "SR Location                     object\n",
       "Street Number                  float64\n",
       "Street Name                     object\n",
       "City                            object\n",
       "Zip Code                         int64\n",
       "County                          object\n",
       "State Plane X Coordinate       float64\n",
       "State Plane Y Coordinate       float64\n",
       "Latitude Coordinate            float64\n",
       "Longitude Coordinate           float64\n",
       "(Latitude.Longitude)            object\n",
       "Council District                 int64\n",
       "Map Page                        object\n",
       "Map Tile                        object\n",
       "dtype: object"
      ]
     },
     "execution_count": 6,
     "metadata": {},
     "output_type": "execute_result"
    }
   ],
   "source": [
    "data.dtypes"
   ]
  },
  {
   "cell_type": "code",
   "execution_count": 7,
   "metadata": {
    "collapsed": true
   },
   "outputs": [],
   "source": [
    "data[\"Zip Code\"] = data[\"Zip Code\"].astype(\"int\")"
   ]
  },
  {
   "cell_type": "code",
   "execution_count": 8,
   "metadata": {
    "collapsed": true
   },
   "outputs": [],
   "source": [
    "data[\"Council District\"] = data[\"Council District\"].astype(\"int\")"
   ]
  },
  {
   "cell_type": "code",
   "execution_count": 9,
   "metadata": {},
   "outputs": [
    {
     "data": {
      "text/plain": [
       "(344794, 24)"
      ]
     },
     "execution_count": 9,
     "metadata": {},
     "output_type": "execute_result"
    }
   ],
   "source": [
    "data.shape"
   ]
  },
  {
   "cell_type": "code",
   "execution_count": 10,
   "metadata": {},
   "outputs": [
    {
     "data": {
      "text/plain": [
       "(344794, 24)"
      ]
     },
     "execution_count": 10,
     "metadata": {},
     "output_type": "execute_result"
    }
   ],
   "source": [
    "data.dropna(axis = 0).shape"
   ]
  },
  {
   "cell_type": "code",
   "execution_count": 11,
   "metadata": {},
   "outputs": [
    {
     "name": "stdout",
     "output_type": "stream",
     "text": [
      "Row count: 344794\r\n"
     ]
    }
   ],
   "source": [
    " !csvstat --count Data.csv"
   ]
  },
  {
   "cell_type": "code",
   "execution_count": 12,
   "metadata": {},
   "outputs": [],
   "source": [
    "%load_ext sql"
   ]
  },
  {
   "cell_type": "code",
   "execution_count": 13,
   "metadata": {
    "collapsed": true
   },
   "outputs": [],
   "source": [
    "!dropdb --if-exists -U student project4"
   ]
  },
  {
   "cell_type": "markdown",
   "metadata": {},
   "source": [
    "Create db 'project4'"
   ]
  },
  {
   "cell_type": "code",
   "execution_count": 14,
   "metadata": {
    "collapsed": true
   },
   "outputs": [],
   "source": [
    "!createdb -U student project4"
   ]
  },
  {
   "cell_type": "code",
   "execution_count": 15,
   "metadata": {},
   "outputs": [
    {
     "data": {
      "text/plain": [
       "'Connected: student@project4'"
      ]
     },
     "execution_count": 15,
     "metadata": {},
     "output_type": "execute_result"
    }
   ],
   "source": [
    "%sql postgresql://student@/project4"
   ]
  },
  {
   "cell_type": "code",
   "execution_count": 16,
   "metadata": {},
   "outputs": [
    {
     "name": "stdout",
     "output_type": "stream",
     "text": [
      "Done.\n"
     ]
    },
    {
     "data": {
      "text/plain": [
       "[]"
      ]
     },
     "execution_count": 16,
     "metadata": {},
     "output_type": "execute_result"
    }
   ],
   "source": [
    "%%sql\n",
    "DROP TABLE IF EXISTS facts;"
   ]
  },
  {
   "cell_type": "markdown",
   "metadata": {},
   "source": [
    "Create temporary fact table."
   ]
  },
  {
   "cell_type": "code",
   "execution_count": 17,
   "metadata": {},
   "outputs": [
    {
     "name": "stdout",
     "output_type": "stream",
     "text": [
      "Done.\n",
      "Done.\n"
     ]
    },
    {
     "data": {
      "text/plain": [
       "[]"
      ]
     },
     "execution_count": 17,
     "metadata": {},
     "output_type": "execute_result"
    }
   ],
   "source": [
    "%%sql\n",
    "DROP Table IF EXISTS facts;\n",
    "CREATE TABLE facts (\n",
    "SR_Number VARCHAR(30),\n",
    "SR_Type_Code VARCHAR(30),\n",
    "SR_Description VARCHAR(100),\n",
    "Owning_Department VARCHAR(50),\n",
    "Method_Received VARCHAR(30),\n",
    "SR_Status VARCHAR(30),\n",
    "Status_Change_Date TIMESTAMPTZ,\n",
    "Created_Date TIMESTAMPTZ,\n",
    "Last_Update_Date TIMESTAMPTZ,\n",
    "Close_Date TIMESTAMPTZ,\n",
    "SR_Location VARCHAR(500),\n",
    "Street_Number VARCHAR(500),\n",
    "Street_Name VARCHAR(100),\n",
    "City VARCHAR(100),\n",
    "Zip_Code INTEGER,\n",
    "County VARCHAR(100),\n",
    "State_Plane_X_Coordinate VARCHAR(100),\n",
    "State_Plane_Y_Coordinate VARCHAR(100),\n",
    "Latitude_Coordinate NUMERIC,\n",
    "Longitude_Coordinate NUMERIC,\n",
    "Latitude_Longitude VARCHAR(500),\n",
    "Council_District INTEGER,\n",
    "Map_Page VARCHAR(30),\n",
    "Map_Tile VARCHAR(30)\n",
    ")"
   ]
  },
  {
   "cell_type": "markdown",
   "metadata": {},
   "source": [
    "Here is our Star Schema."
   ]
  },
  {
   "cell_type": "code",
   "execution_count": 18,
   "metadata": {},
   "outputs": [
    {
     "data": {
      "text/html": [
       "<img src=\"https://s3.amazonaws.com/leiwen/dmfa/star_schema.png\"/>"
      ],
      "text/plain": [
       "<IPython.core.display.Image object>"
      ]
     },
     "execution_count": 18,
     "metadata": {},
     "output_type": "execute_result"
    }
   ],
   "source": [
    "from IPython.display import Image\n",
    "url = \"https://s3.amazonaws.com/leiwen/dmfa/star_schema.png\"\n",
    "Image(url=url)"
   ]
  },
  {
   "cell_type": "code",
   "execution_count": 19,
   "metadata": {},
   "outputs": [
    {
     "data": {
      "text/plain": [
       "'/home/ubuntu/Project4'"
      ]
     },
     "execution_count": 19,
     "metadata": {},
     "output_type": "execute_result"
    }
   ],
   "source": [
    "pwd"
   ]
  },
  {
   "cell_type": "code",
   "execution_count": 20,
   "metadata": {},
   "outputs": [
    {
     "name": "stdout",
     "output_type": "stream",
     "text": [
      "344794 rows affected.\n"
     ]
    },
    {
     "data": {
      "text/plain": [
       "[]"
      ]
     },
     "execution_count": 20,
     "metadata": {},
     "output_type": "execute_result"
    }
   ],
   "source": [
    "%%sql\n",
    "COPY facts FROM '/home/ubuntu/Project4/Data.csv'\n",
    "CSV\n",
    "HEADER;"
   ]
  },
  {
   "cell_type": "markdown",
   "metadata": {},
   "source": [
    "Let us take a look."
   ]
  },
  {
   "cell_type": "code",
   "execution_count": 21,
   "metadata": {},
   "outputs": [
    {
     "name": "stdout",
     "output_type": "stream",
     "text": [
      "5 rows affected.\n"
     ]
    },
    {
     "data": {
      "text/html": [
       "<table>\n",
       "    <tr>\n",
       "        <th>sr_number</th>\n",
       "        <th>sr_type_code</th>\n",
       "        <th>sr_description</th>\n",
       "        <th>owning_department</th>\n",
       "        <th>method_received</th>\n",
       "        <th>sr_status</th>\n",
       "        <th>status_change_date</th>\n",
       "        <th>created_date</th>\n",
       "        <th>last_update_date</th>\n",
       "        <th>close_date</th>\n",
       "        <th>sr_location</th>\n",
       "        <th>street_number</th>\n",
       "        <th>street_name</th>\n",
       "        <th>city</th>\n",
       "        <th>zip_code</th>\n",
       "        <th>county</th>\n",
       "        <th>state_plane_x_coordinate</th>\n",
       "        <th>state_plane_y_coordinate</th>\n",
       "        <th>latitude_coordinate</th>\n",
       "        <th>longitude_coordinate</th>\n",
       "        <th>latitude_longitude</th>\n",
       "        <th>council_district</th>\n",
       "        <th>map_page</th>\n",
       "        <th>map_tile</th>\n",
       "    </tr>\n",
       "    <tr>\n",
       "        <td>16-00108244</td>\n",
       "        <td>TRASIGMA</td>\n",
       "        <td>Traffic Signal - Maintenance</td>\n",
       "        <td>Transportation</td>\n",
       "        <td>Phone</td>\n",
       "        <td>Duplicate (closed)</td>\n",
       "        <td>2016-05-06 19:51:27+00:00</td>\n",
       "        <td>2016-05-06 19:51:27+00:00</td>\n",
       "        <td>2016-05-06 19:51:27+00:00</td>\n",
       "        <td>2016-05-06 19:51:27+00:00</td>\n",
       "        <td>6001 MANCHACA RD, AUSTIN, TX 78745</td>\n",
       "        <td>6001.0</td>\n",
       "        <td>MANCHACA</td>\n",
       "        <td>AUSTIN</td>\n",
       "        <td>78745</td>\n",
       "        <td>TRAVIS</td>\n",
       "        <td>3096240.5</td>\n",
       "        <td>10050194.0</td>\n",
       "        <td>30.212694899999995</td>\n",
       "        <td>-97.8015215</td>\n",
       "        <td>(30.2126949, -97.8015215)</td>\n",
       "        <td>5</td>\n",
       "        <td>643M</td>\n",
       "        <td>MF17</td>\n",
       "    </tr>\n",
       "    <tr>\n",
       "        <td>16-00108269</td>\n",
       "        <td>TRASIGMA</td>\n",
       "        <td>Traffic Signal - Maintenance</td>\n",
       "        <td>Transportation</td>\n",
       "        <td>Phone</td>\n",
       "        <td>Duplicate (closed)</td>\n",
       "        <td>2016-05-06 20:22:56+00:00</td>\n",
       "        <td>2016-05-06 20:22:56+00:00</td>\n",
       "        <td>2016-05-06 20:22:56+00:00</td>\n",
       "        <td>2016-05-06 20:22:56+00:00</td>\n",
       "        <td>6001 MANCHACA RD, AUSTIN, TX 78745</td>\n",
       "        <td>6001.0</td>\n",
       "        <td>MANCHACA</td>\n",
       "        <td>AUSTIN</td>\n",
       "        <td>78745</td>\n",
       "        <td>TRAVIS</td>\n",
       "        <td>3096240.5</td>\n",
       "        <td>10050194.0</td>\n",
       "        <td>30.212694899999995</td>\n",
       "        <td>-97.8015215</td>\n",
       "        <td>(30.2126949, -97.8015215)</td>\n",
       "        <td>5</td>\n",
       "        <td>643M</td>\n",
       "        <td>MF17</td>\n",
       "    </tr>\n",
       "    <tr>\n",
       "        <td>16-00324071</td>\n",
       "        <td>SWSDEADA</td>\n",
       "        <td>ARR Dead Animal Collection</td>\n",
       "        <td>Austin Resource Recovery</td>\n",
       "        <td>Phone</td>\n",
       "        <td>Closed</td>\n",
       "        <td>2016-12-15 09:05:43+00:00</td>\n",
       "        <td>2016-12-15 06:41:40+00:00</td>\n",
       "        <td>2016-12-15 09:05:43+00:00</td>\n",
       "        <td>2016-12-15 09:05:43+00:00</td>\n",
       "        <td>2200 E OLTORF ST, AUSTIN, TX 78741</td>\n",
       "        <td>2200.0</td>\n",
       "        <td>OLTORF</td>\n",
       "        <td>AUSTIN</td>\n",
       "        <td>78741</td>\n",
       "        <td>TRAVIS</td>\n",
       "        <td>3118116.50749136</td>\n",
       "        <td>10057053.9397969</td>\n",
       "        <td>30.23016411</td>\n",
       "        <td>-97.73177647</td>\n",
       "        <td>(30.23016411, -97.73177647)</td>\n",
       "        <td>3</td>\n",
       "        <td>615X</td>\n",
       "        <td>MJ19</td>\n",
       "    </tr>\n",
       "    <tr>\n",
       "        <td>16-00108062</td>\n",
       "        <td>TRASIGMA</td>\n",
       "        <td>Traffic Signal - Maintenance</td>\n",
       "        <td>Transportation</td>\n",
       "        <td>Phone</td>\n",
       "        <td>Duplicate (closed)</td>\n",
       "        <td>2016-05-10 16:56:52+00:00</td>\n",
       "        <td>2016-05-06 17:03:45+00:00</td>\n",
       "        <td>2016-05-10 16:56:52+00:00</td>\n",
       "        <td>2016-05-10 16:56:52+00:00</td>\n",
       "        <td>8401 N CAPITAL OF TEXAS HWY NB, AUSTIN, TX 78759</td>\n",
       "        <td>8401.0</td>\n",
       "        <td>CAPITAL OF TEXAS</td>\n",
       "        <td>AUSTIN</td>\n",
       "        <td>78759</td>\n",
       "        <td>TRAVIS</td>\n",
       "        <td>3105863.35797435</td>\n",
       "        <td>10113092.5341337</td>\n",
       "        <td>30.38498865</td>\n",
       "        <td>-97.76647071</td>\n",
       "        <td>(30.38498865, -97.76647071)</td>\n",
       "        <td>10</td>\n",
       "        <td>494L</td>\n",
       "        <td>MH32</td>\n",
       "    </tr>\n",
       "    <tr>\n",
       "        <td>16-00107654</td>\n",
       "        <td>STREETL2</td>\n",
       "        <td>Street Light Issue- Address</td>\n",
       "        <td>Austin Energy Department</td>\n",
       "        <td>Phone</td>\n",
       "        <td>Closed</td>\n",
       "        <td>2016-05-10 06:58:01+00:00</td>\n",
       "        <td>2016-05-06 10:28:16+00:00</td>\n",
       "        <td>2016-05-10 06:58:01+00:00</td>\n",
       "        <td>2016-05-10 06:58:01+00:00</td>\n",
       "        <td>300 WEST AVE, AUSTIN, TX 78703</td>\n",
       "        <td>300.0</td>\n",
       "        <td>WEST</td>\n",
       "        <td>AUSTIN</td>\n",
       "        <td>78703</td>\n",
       "        <td>TRAVIS</td>\n",
       "        <td>3111493.73999999</td>\n",
       "        <td>10070696.54</td>\n",
       "        <td>30.26808964</td>\n",
       "        <td>-97.75173887</td>\n",
       "        <td>(30.26808964, -97.75173887)</td>\n",
       "        <td>9</td>\n",
       "        <td>584V</td>\n",
       "        <td>MH22</td>\n",
       "    </tr>\n",
       "</table>"
      ],
      "text/plain": [
       "[('16-00108244', 'TRASIGMA', 'Traffic Signal - Maintenance', 'Transportation', 'Phone', 'Duplicate (closed)', datetime.datetime(2016, 5, 6, 19, 51, 27, tzinfo=psycopg2.tz.FixedOffsetTimezone(offset=0, name=None)), datetime.datetime(2016, 5, 6, 19, 51, 27, tzinfo=psycopg2.tz.FixedOffsetTimezone(offset=0, name=None)), datetime.datetime(2016, 5, 6, 19, 51, 27, tzinfo=psycopg2.tz.FixedOffsetTimezone(offset=0, name=None)), datetime.datetime(2016, 5, 6, 19, 51, 27, tzinfo=psycopg2.tz.FixedOffsetTimezone(offset=0, name=None)), '6001 MANCHACA RD, AUSTIN, TX 78745', '6001.0', 'MANCHACA', 'AUSTIN', 78745, 'TRAVIS', '3096240.5', '10050194.0', Decimal('30.212694899999995'), Decimal('-97.8015215'), '(30.2126949, -97.8015215)', 5, '643M', 'MF17'),\n",
       " ('16-00108269', 'TRASIGMA', 'Traffic Signal - Maintenance', 'Transportation', 'Phone', 'Duplicate (closed)', datetime.datetime(2016, 5, 6, 20, 22, 56, tzinfo=psycopg2.tz.FixedOffsetTimezone(offset=0, name=None)), datetime.datetime(2016, 5, 6, 20, 22, 56, tzinfo=psycopg2.tz.FixedOffsetTimezone(offset=0, name=None)), datetime.datetime(2016, 5, 6, 20, 22, 56, tzinfo=psycopg2.tz.FixedOffsetTimezone(offset=0, name=None)), datetime.datetime(2016, 5, 6, 20, 22, 56, tzinfo=psycopg2.tz.FixedOffsetTimezone(offset=0, name=None)), '6001 MANCHACA RD, AUSTIN, TX 78745', '6001.0', 'MANCHACA', 'AUSTIN', 78745, 'TRAVIS', '3096240.5', '10050194.0', Decimal('30.212694899999995'), Decimal('-97.8015215'), '(30.2126949, -97.8015215)', 5, '643M', 'MF17'),\n",
       " ('16-00324071', 'SWSDEADA', 'ARR Dead Animal Collection', 'Austin Resource Recovery', 'Phone', 'Closed', datetime.datetime(2016, 12, 15, 9, 5, 43, tzinfo=psycopg2.tz.FixedOffsetTimezone(offset=0, name=None)), datetime.datetime(2016, 12, 15, 6, 41, 40, tzinfo=psycopg2.tz.FixedOffsetTimezone(offset=0, name=None)), datetime.datetime(2016, 12, 15, 9, 5, 43, tzinfo=psycopg2.tz.FixedOffsetTimezone(offset=0, name=None)), datetime.datetime(2016, 12, 15, 9, 5, 43, tzinfo=psycopg2.tz.FixedOffsetTimezone(offset=0, name=None)), '2200 E OLTORF ST, AUSTIN, TX 78741', '2200.0', 'OLTORF', 'AUSTIN', 78741, 'TRAVIS', '3118116.50749136', '10057053.9397969', Decimal('30.23016411'), Decimal('-97.73177647'), '(30.23016411, -97.73177647)', 3, '615X', 'MJ19'),\n",
       " ('16-00108062', 'TRASIGMA', 'Traffic Signal - Maintenance', 'Transportation', 'Phone', 'Duplicate (closed)', datetime.datetime(2016, 5, 10, 16, 56, 52, tzinfo=psycopg2.tz.FixedOffsetTimezone(offset=0, name=None)), datetime.datetime(2016, 5, 6, 17, 3, 45, tzinfo=psycopg2.tz.FixedOffsetTimezone(offset=0, name=None)), datetime.datetime(2016, 5, 10, 16, 56, 52, tzinfo=psycopg2.tz.FixedOffsetTimezone(offset=0, name=None)), datetime.datetime(2016, 5, 10, 16, 56, 52, tzinfo=psycopg2.tz.FixedOffsetTimezone(offset=0, name=None)), '8401 N CAPITAL OF TEXAS HWY NB, AUSTIN, TX 78759', '8401.0', 'CAPITAL OF TEXAS', 'AUSTIN', 78759, 'TRAVIS', '3105863.35797435', '10113092.5341337', Decimal('30.38498865'), Decimal('-97.76647071'), '(30.38498865, -97.76647071)', 10, '494L', 'MH32'),\n",
       " ('16-00107654', 'STREETL2', 'Street Light Issue- Address', 'Austin Energy Department', 'Phone', 'Closed', datetime.datetime(2016, 5, 10, 6, 58, 1, tzinfo=psycopg2.tz.FixedOffsetTimezone(offset=0, name=None)), datetime.datetime(2016, 5, 6, 10, 28, 16, tzinfo=psycopg2.tz.FixedOffsetTimezone(offset=0, name=None)), datetime.datetime(2016, 5, 10, 6, 58, 1, tzinfo=psycopg2.tz.FixedOffsetTimezone(offset=0, name=None)), datetime.datetime(2016, 5, 10, 6, 58, 1, tzinfo=psycopg2.tz.FixedOffsetTimezone(offset=0, name=None)), '300 WEST AVE, AUSTIN, TX 78703', '300.0', 'WEST', 'AUSTIN', 78703, 'TRAVIS', '3111493.73999999', '10070696.54', Decimal('30.26808964'), Decimal('-97.75173887'), '(30.26808964, -97.75173887)', 9, '584V', 'MH22')]"
      ]
     },
     "execution_count": 21,
     "metadata": {},
     "output_type": "execute_result"
    }
   ],
   "source": [
    "%%sql\n",
    "SELECT *\n",
    "FROM facts\n",
    "LImit 5;"
   ]
  },
  {
   "cell_type": "markdown",
   "metadata": {},
   "source": [
    "Create hour table."
   ]
  },
  {
   "cell_type": "code",
   "execution_count": 22,
   "metadata": {},
   "outputs": [
    {
     "name": "stdout",
     "output_type": "stream",
     "text": [
      "Done.\n",
      "Done.\n"
     ]
    },
    {
     "data": {
      "text/plain": [
       "[]"
      ]
     },
     "execution_count": 22,
     "metadata": {},
     "output_type": "execute_result"
    }
   ],
   "source": [
    "%%sql\n",
    "DROP TABLE IF EXISTS hour;\n",
    "\n",
    "CREATE TABLE hour (\n",
    "    hour_key SERIAL PRIMARY KEY,\n",
    "    hour CHAR(19),\n",
    "    day CHAR(10),\n",
    "    year INTEGER,\n",
    "    month_of_year_str VARCHAR(12),\n",
    "    month_of_year INTEGER,\n",
    "    day_of_month INTEGER,\n",
    "    day_of_week_str CHAR(9),\n",
    "    day_of_week INTEGER,\n",
    "    is_weekend BOOLEAN,\n",
    "    is_weekday BOOLEAN,\n",
    "    hour_of_day INTEGER,\n",
    "    quarter_of_year INTEGER\n",
    ");"
   ]
  },
  {
   "cell_type": "code",
   "execution_count": 23,
   "metadata": {},
   "outputs": [
    {
     "name": "stdout",
     "output_type": "stream",
     "text": [
      "30318 rows affected.\n"
     ]
    },
    {
     "data": {
      "text/plain": [
       "[]"
      ]
     },
     "execution_count": 23,
     "metadata": {},
     "output_type": "execute_result"
    }
   ],
   "source": [
    "%%sql\n",
    "INSERT INTO hour (hour, day, year, month_of_year_str, month_of_year, day_of_month, \n",
    "                  day_of_week_str, day_of_week, is_weekend, is_weekday, \n",
    "                  hour_of_day, quarter_of_year)\n",
    "SELECT DISTINCT TO_CHAR(Status_Change_Date, 'YYYY-MM-DD HH24:00:00') AS hour,\n",
    "    TO_CHAR(Status_Change_Date, 'YYYY-MM-DD') AS day, \n",
    "    CAST(TO_CHAR(Status_Change_Date, 'YYYY') AS INTEGER) AS year,\n",
    "    TO_CHAR(Status_Change_Date, 'Month') AS month_of_year_str,\n",
    "    CAST(TO_CHAR(Status_Change_Date, 'MM') AS INTEGER) AS month_of_year,\n",
    "    CAST(TO_CHAR(Status_Change_Date, 'DD') AS INTEGER) AS day_of_month,\n",
    "    TO_CHAR(Status_Change_Date, 'Day') AS day_of_week_str,\n",
    "    CAST(TO_CHAR(Status_Change_Date, 'D') AS INTEGER) AS day_of_week,\n",
    "    CASE WHEN CAST(TO_CHAR(Status_Change_Date, 'D') AS INTEGER) IN (1, 7) \n",
    "        THEN TRUE\n",
    "        ELSE FALSE\n",
    "    END AS is_weekend,\n",
    "    CASE WHEN CAST(TO_CHAR(Status_Change_Date, 'D') AS INTEGER) NOT IN (1, 7) \n",
    "        THEN TRUE\n",
    "        ELSE FALSE\n",
    "    END AS is_weekday,\n",
    "    CAST(TO_CHAR(Status_Change_Date, 'HH24') AS INTEGER) AS hour_of_day,\n",
    "    CAST(TO_CHAR(Status_Change_Date, 'Q') AS INTEGER) AS quarter_of_year\n",
    "FROM facts\n",
    "UNION\n",
    "SELECT DISTINCT TO_CHAR(Created_Date, 'YYYY-MM-DD HH24:00:00') AS hour,\n",
    "    TO_CHAR(Created_Date, 'YYYY-MM-DD') AS day, \n",
    "    CAST(TO_CHAR(Created_Date, 'YYYY') AS INTEGER) AS year,\n",
    "    TO_CHAR(Created_Date, 'Month') AS month_of_year_str,\n",
    "    CAST(TO_CHAR(Created_Date, 'MM') AS INTEGER) AS month_of_year,\n",
    "    CAST(TO_CHAR(Created_Date, 'DD') AS INTEGER) AS day_of_month,\n",
    "    TO_CHAR(Created_Date, 'Day') AS day_of_week_str,\n",
    "    CAST(TO_CHAR(Created_Date, 'D') AS INTEGER) AS day_of_week,\n",
    "    CASE WHEN CAST(TO_CHAR(Created_Date, 'D') AS INTEGER) IN (1, 7) \n",
    "        THEN TRUE\n",
    "        ELSE FALSE\n",
    "    END AS is_weekend,\n",
    "    CASE WHEN CAST(TO_CHAR(Created_Date, 'D') AS INTEGER) NOT IN (1, 7) \n",
    "        THEN TRUE\n",
    "        ELSE FALSE\n",
    "    END AS is_weekday,\n",
    "    CAST(TO_CHAR(Created_Date, 'HH24') AS INTEGER) AS hour_of_day,\n",
    "    CAST(TO_CHAR(Created_Date, 'Q') AS INTEGER) AS quarter_of_year\n",
    "FROM facts\n",
    "UNION\n",
    "SELECT DISTINCT TO_CHAR(Last_Update_Date, 'YYYY-MM-DD HH24:00:00') AS hour,\n",
    "    TO_CHAR(Last_Update_Date, 'YYYY-MM-DD') AS day, \n",
    "    CAST(TO_CHAR(Last_Update_Date, 'YYYY') AS INTEGER) AS year,\n",
    "    TO_CHAR(Last_Update_Date, 'Month') AS month_of_year_str,\n",
    "    CAST(TO_CHAR(Last_Update_Date, 'MM') AS INTEGER) AS month_of_year,\n",
    "    CAST(TO_CHAR(Last_Update_Date, 'DD') AS INTEGER) AS day_of_month,\n",
    "    TO_CHAR(Last_Update_Date, 'Day') AS day_of_week_str,\n",
    "    CAST(TO_CHAR(Last_Update_Date, 'D') AS INTEGER) AS day_of_week,\n",
    "    CASE WHEN CAST(TO_CHAR(Last_Update_Date, 'D') AS INTEGER) IN (1, 7) \n",
    "        THEN TRUE\n",
    "        ELSE FALSE\n",
    "    END AS is_weekend,\n",
    "    CASE WHEN CAST(TO_CHAR(Last_Update_Date, 'D') AS INTEGER) NOT IN (1, 7) \n",
    "        THEN TRUE\n",
    "        ELSE FALSE\n",
    "    END AS is_weekday,\n",
    "    CAST(TO_CHAR(Last_Update_Date, 'HH24') AS INTEGER) AS hour_of_day,\n",
    "    CAST(TO_CHAR(Last_Update_Date, 'Q') AS INTEGER) AS quarter_of_year\n",
    "FROM facts\n",
    "UNION\n",
    "SELECT DISTINCT TO_CHAR(Last_Update_Date, 'YYYY-MM-DD HH24:00:00') AS hour,\n",
    "    TO_CHAR(Last_Update_Date, 'YYYY-MM-DD') AS day, \n",
    "    CAST(TO_CHAR(Last_Update_Date, 'YYYY') AS INTEGER) AS year,\n",
    "    TO_CHAR(Last_Update_Date, 'Month') AS month_of_year_str,\n",
    "    CAST(TO_CHAR(Last_Update_Date, 'MM') AS INTEGER) AS month_of_year,\n",
    "    CAST(TO_CHAR(Last_Update_Date, 'DD') AS INTEGER) AS day_of_month,\n",
    "    TO_CHAR(Last_Update_Date, 'Day') AS day_of_week_str,\n",
    "    CAST(TO_CHAR(Last_Update_Date, 'D') AS INTEGER) AS day_of_week,\n",
    "    CASE WHEN CAST(TO_CHAR(Last_Update_Date, 'D') AS INTEGER) IN (1, 7) \n",
    "        THEN TRUE\n",
    "        ELSE FALSE\n",
    "    END AS is_weekend,\n",
    "    CASE WHEN CAST(TO_CHAR(Last_Update_Date, 'D') AS INTEGER) NOT IN (1, 7) \n",
    "        THEN TRUE\n",
    "        ELSE FALSE\n",
    "    END AS is_weekday,\n",
    "    CAST(TO_CHAR(Last_Update_Date, 'HH24') AS INTEGER) AS hour_of_day,\n",
    "    CAST(TO_CHAR(Last_Update_Date, 'Q') AS INTEGER) AS quarter_of_year\n",
    "FROM facts\n",
    "UNION\n",
    "SELECT DISTINCT TO_CHAR(Close_Date, 'YYYY-MM-DD HH24:00:00') AS hour,\n",
    "    TO_CHAR(Close_Date, 'YYYY-MM-DD') AS day, \n",
    "    CAST(TO_CHAR(Close_Date, 'YYYY') AS INTEGER) AS year,\n",
    "    TO_CHAR(Close_Date, 'Month') AS month_of_year_str,\n",
    "    CAST(TO_CHAR(Close_Date, 'MM') AS INTEGER) AS month_of_year,\n",
    "    CAST(TO_CHAR(Close_Date, 'DD') AS INTEGER) AS day_of_month,\n",
    "    TO_CHAR(Close_Date, 'Day') AS day_of_week_str,\n",
    "    CAST(TO_CHAR(Close_Date, 'D') AS INTEGER) AS day_of_week,\n",
    "    CASE WHEN CAST(TO_CHAR(Close_Date, 'D') AS INTEGER) IN (1, 7) \n",
    "        THEN TRUE\n",
    "        ELSE FALSE\n",
    "    END AS is_weekend,\n",
    "    CASE WHEN CAST(TO_CHAR(Close_Date, 'D') AS INTEGER) NOT IN (1, 7) \n",
    "        THEN TRUE\n",
    "        ELSE FALSE\n",
    "    END AS is_weekday,\n",
    "    CAST(TO_CHAR(Close_Date, 'HH24') AS INTEGER) AS hour_of_day,\n",
    "    CAST(TO_CHAR(Close_Date, 'Q') AS INTEGER) AS quarter_of_year\n",
    "FROM facts;\n",
    "\n"
   ]
  },
  {
   "cell_type": "code",
   "execution_count": 24,
   "metadata": {},
   "outputs": [
    {
     "name": "stdout",
     "output_type": "stream",
     "text": [
      "5 rows affected.\n"
     ]
    },
    {
     "data": {
      "text/html": [
       "<table>\n",
       "    <tr>\n",
       "        <th>hour_key</th>\n",
       "        <th>hour</th>\n",
       "        <th>day</th>\n",
       "        <th>year</th>\n",
       "        <th>month_of_year_str</th>\n",
       "        <th>month_of_year</th>\n",
       "        <th>day_of_month</th>\n",
       "        <th>day_of_week_str</th>\n",
       "        <th>day_of_week</th>\n",
       "        <th>is_weekend</th>\n",
       "        <th>is_weekday</th>\n",
       "        <th>hour_of_day</th>\n",
       "        <th>quarter_of_year</th>\n",
       "    </tr>\n",
       "    <tr>\n",
       "        <td>1</td>\n",
       "        <td>2015-10-16 06:00:00</td>\n",
       "        <td>2015-10-16</td>\n",
       "        <td>2015</td>\n",
       "        <td>October  </td>\n",
       "        <td>10</td>\n",
       "        <td>16</td>\n",
       "        <td>Friday   </td>\n",
       "        <td>6</td>\n",
       "        <td>False</td>\n",
       "        <td>True</td>\n",
       "        <td>6</td>\n",
       "        <td>4</td>\n",
       "    </tr>\n",
       "    <tr>\n",
       "        <td>2</td>\n",
       "        <td>2017-09-22 00:00:00</td>\n",
       "        <td>2017-09-22</td>\n",
       "        <td>2017</td>\n",
       "        <td>September</td>\n",
       "        <td>9</td>\n",
       "        <td>22</td>\n",
       "        <td>Friday   </td>\n",
       "        <td>6</td>\n",
       "        <td>False</td>\n",
       "        <td>True</td>\n",
       "        <td>0</td>\n",
       "        <td>3</td>\n",
       "    </tr>\n",
       "    <tr>\n",
       "        <td>3</td>\n",
       "        <td>2014-01-26 16:00:00</td>\n",
       "        <td>2014-01-26</td>\n",
       "        <td>2014</td>\n",
       "        <td>January  </td>\n",
       "        <td>1</td>\n",
       "        <td>26</td>\n",
       "        <td>Sunday   </td>\n",
       "        <td>1</td>\n",
       "        <td>True</td>\n",
       "        <td>False</td>\n",
       "        <td>16</td>\n",
       "        <td>1</td>\n",
       "    </tr>\n",
       "    <tr>\n",
       "        <td>4</td>\n",
       "        <td>2015-09-24 16:00:00</td>\n",
       "        <td>2015-09-24</td>\n",
       "        <td>2015</td>\n",
       "        <td>September</td>\n",
       "        <td>9</td>\n",
       "        <td>24</td>\n",
       "        <td>Thursday </td>\n",
       "        <td>5</td>\n",
       "        <td>False</td>\n",
       "        <td>True</td>\n",
       "        <td>16</td>\n",
       "        <td>3</td>\n",
       "    </tr>\n",
       "    <tr>\n",
       "        <td>5</td>\n",
       "        <td>2017-03-15 08:00:00</td>\n",
       "        <td>2017-03-15</td>\n",
       "        <td>2017</td>\n",
       "        <td>March    </td>\n",
       "        <td>3</td>\n",
       "        <td>15</td>\n",
       "        <td>Wednesday</td>\n",
       "        <td>4</td>\n",
       "        <td>False</td>\n",
       "        <td>True</td>\n",
       "        <td>8</td>\n",
       "        <td>1</td>\n",
       "    </tr>\n",
       "</table>"
      ],
      "text/plain": [
       "[(1, '2015-10-16 06:00:00', '2015-10-16', 2015, 'October  ', 10, 16, 'Friday   ', 6, False, True, 6, 4),\n",
       " (2, '2017-09-22 00:00:00', '2017-09-22', 2017, 'September', 9, 22, 'Friday   ', 6, False, True, 0, 3),\n",
       " (3, '2014-01-26 16:00:00', '2014-01-26', 2014, 'January  ', 1, 26, 'Sunday   ', 1, True, False, 16, 1),\n",
       " (4, '2015-09-24 16:00:00', '2015-09-24', 2015, 'September', 9, 24, 'Thursday ', 5, False, True, 16, 3),\n",
       " (5, '2017-03-15 08:00:00', '2017-03-15', 2017, 'March    ', 3, 15, 'Wednesday', 4, False, True, 8, 1)]"
      ]
     },
     "execution_count": 24,
     "metadata": {},
     "output_type": "execute_result"
    }
   ],
   "source": [
    "%%sql\n",
    "SELECT * from hour limit 5;"
   ]
  },
  {
   "cell_type": "markdown",
   "metadata": {},
   "source": [
    "Create hour key in fact table and update hour key into fact table."
   ]
  },
  {
   "cell_type": "code",
   "execution_count": 25,
   "metadata": {},
   "outputs": [
    {
     "name": "stdout",
     "output_type": "stream",
     "text": [
      "Done.\n"
     ]
    },
    {
     "data": {
      "text/plain": [
       "[]"
      ]
     },
     "execution_count": 25,
     "metadata": {},
     "output_type": "execute_result"
    }
   ],
   "source": [
    "%%sql\n",
    "ALTER TABLE facts\n",
    "ADD COLUMN Status_Change_Date_key INTEGER,\n",
    "ADD CONSTRAINT fk_Status_Change_Date_key\n",
    "    FOREIGN KEY (Status_Change_Date_key)\n",
    "    REFERENCES hour (hour_key),\n",
    "ADD COLUMN Created_Date_key INTEGER,\n",
    "ADD CONSTRAINT fk_Created_Date_key\n",
    "    FOREIGN KEY (Created_Date_key)\n",
    "    REFERENCES hour (hour_key),\n",
    "ADD COLUMN Last_Update_Date_key INTEGER,\n",
    "ADD CONSTRAINT fk_Last_Update_Date_key\n",
    "    FOREIGN KEY (Last_Update_Date_key)\n",
    "    REFERENCES hour (hour_key), \n",
    "ADD COLUMN Close_Date_key INTEGER,\n",
    "ADD CONSTRAINT fk_Close_Date_key\n",
    "    FOREIGN KEY (Close_Date_key)\n",
    "    REFERENCES hour (hour_key);"
   ]
  },
  {
   "cell_type": "code",
   "execution_count": 26,
   "metadata": {},
   "outputs": [
    {
     "name": "stdout",
     "output_type": "stream",
     "text": [
      "10 rows affected.\n"
     ]
    },
    {
     "data": {
      "text/html": [
       "<table>\n",
       "    <tr>\n",
       "        <th>status_change_date</th>\n",
       "        <th>hour_key</th>\n",
       "    </tr>\n",
       "    <tr>\n",
       "        <td>2016-05-06 19:51:27+00:00</td>\n",
       "        <td>18215</td>\n",
       "    </tr>\n",
       "    <tr>\n",
       "        <td>2016-05-06 20:22:56+00:00</td>\n",
       "        <td>24850</td>\n",
       "    </tr>\n",
       "    <tr>\n",
       "        <td>2016-12-15 09:05:43+00:00</td>\n",
       "        <td>29125</td>\n",
       "    </tr>\n",
       "    <tr>\n",
       "        <td>2016-05-10 16:56:52+00:00</td>\n",
       "        <td>28537</td>\n",
       "    </tr>\n",
       "    <tr>\n",
       "        <td>2016-05-10 06:58:01+00:00</td>\n",
       "        <td>2179</td>\n",
       "    </tr>\n",
       "    <tr>\n",
       "        <td>2016-05-11 16:41:32+00:00</td>\n",
       "        <td>10402</td>\n",
       "    </tr>\n",
       "    <tr>\n",
       "        <td>2016-05-11 16:42:25+00:00</td>\n",
       "        <td>10402</td>\n",
       "    </tr>\n",
       "    <tr>\n",
       "        <td>2016-05-11 16:43:10+00:00</td>\n",
       "        <td>10402</td>\n",
       "    </tr>\n",
       "    <tr>\n",
       "        <td>2016-05-11 16:43:54+00:00</td>\n",
       "        <td>10402</td>\n",
       "    </tr>\n",
       "    <tr>\n",
       "        <td>2016-10-18 09:47:40+00:00</td>\n",
       "        <td>26582</td>\n",
       "    </tr>\n",
       "</table>"
      ],
      "text/plain": [
       "[(datetime.datetime(2016, 5, 6, 19, 51, 27, tzinfo=psycopg2.tz.FixedOffsetTimezone(offset=0, name=None)), 18215),\n",
       " (datetime.datetime(2016, 5, 6, 20, 22, 56, tzinfo=psycopg2.tz.FixedOffsetTimezone(offset=0, name=None)), 24850),\n",
       " (datetime.datetime(2016, 12, 15, 9, 5, 43, tzinfo=psycopg2.tz.FixedOffsetTimezone(offset=0, name=None)), 29125),\n",
       " (datetime.datetime(2016, 5, 10, 16, 56, 52, tzinfo=psycopg2.tz.FixedOffsetTimezone(offset=0, name=None)), 28537),\n",
       " (datetime.datetime(2016, 5, 10, 6, 58, 1, tzinfo=psycopg2.tz.FixedOffsetTimezone(offset=0, name=None)), 2179),\n",
       " (datetime.datetime(2016, 5, 11, 16, 41, 32, tzinfo=psycopg2.tz.FixedOffsetTimezone(offset=0, name=None)), 10402),\n",
       " (datetime.datetime(2016, 5, 11, 16, 42, 25, tzinfo=psycopg2.tz.FixedOffsetTimezone(offset=0, name=None)), 10402),\n",
       " (datetime.datetime(2016, 5, 11, 16, 43, 10, tzinfo=psycopg2.tz.FixedOffsetTimezone(offset=0, name=None)), 10402),\n",
       " (datetime.datetime(2016, 5, 11, 16, 43, 54, tzinfo=psycopg2.tz.FixedOffsetTimezone(offset=0, name=None)), 10402),\n",
       " (datetime.datetime(2016, 10, 18, 9, 47, 40, tzinfo=psycopg2.tz.FixedOffsetTimezone(offset=0, name=None)), 26582)]"
      ]
     },
     "execution_count": 26,
     "metadata": {},
     "output_type": "execute_result"
    }
   ],
   "source": [
    "%%sql\n",
    "Select status_change_date,hour.hour_key\n",
    "FROM facts,hour\n",
    "WHERE TO_CHAR(facts.status_change_date, 'YYYY-MM-DD HH24:00:00') = hour.hour\n",
    "limit 10;"
   ]
  },
  {
   "cell_type": "code",
   "execution_count": 27,
   "metadata": {},
   "outputs": [
    {
     "name": "stdout",
     "output_type": "stream",
     "text": [
      "344794 rows affected.\n"
     ]
    },
    {
     "data": {
      "text/plain": [
       "[]"
      ]
     },
     "execution_count": 27,
     "metadata": {},
     "output_type": "execute_result"
    }
   ],
   "source": [
    "%%sql\n",
    "UPDATE facts\n",
    "SET Status_Change_Date_key = hour.hour_key\n",
    "FROM hour\n",
    "WHERE TO_CHAR(facts.status_change_date, 'YYYY-MM-DD HH24:00:00') = hour.hour;\n"
   ]
  },
  {
   "cell_type": "code",
   "execution_count": 28,
   "metadata": {},
   "outputs": [
    {
     "name": "stdout",
     "output_type": "stream",
     "text": [
      "344794 rows affected.\n"
     ]
    },
    {
     "data": {
      "text/plain": [
       "[]"
      ]
     },
     "execution_count": 28,
     "metadata": {},
     "output_type": "execute_result"
    }
   ],
   "source": [
    "%%sql\n",
    "UPDATE facts\n",
    "SET Created_Date_key = hour.hour_key\n",
    "FROM hour\n",
    "WHERE hour.hour  = TO_CHAR(facts.Created_Date, 'YYYY-MM-DD HH24:00:00')"
   ]
  },
  {
   "cell_type": "code",
   "execution_count": 29,
   "metadata": {},
   "outputs": [
    {
     "name": "stdout",
     "output_type": "stream",
     "text": [
      "344794 rows affected.\n"
     ]
    },
    {
     "data": {
      "text/plain": [
       "[]"
      ]
     },
     "execution_count": 29,
     "metadata": {},
     "output_type": "execute_result"
    }
   ],
   "source": [
    "%%sql\n",
    "UPDATE facts\n",
    "SET Last_Update_Date_key = hour.hour_key\n",
    "FROM hour\n",
    "WHERE hour.hour  = TO_CHAR(facts.Last_Update_Date, 'YYYY-MM-DD HH24:00:00')"
   ]
  },
  {
   "cell_type": "code",
   "execution_count": 30,
   "metadata": {},
   "outputs": [
    {
     "name": "stdout",
     "output_type": "stream",
     "text": [
      "344794 rows affected.\n"
     ]
    },
    {
     "data": {
      "text/plain": [
       "[]"
      ]
     },
     "execution_count": 30,
     "metadata": {},
     "output_type": "execute_result"
    }
   ],
   "source": [
    "%%sql\n",
    "UPDATE facts\n",
    "SET Close_Date_key = hour.hour_key\n",
    "FROM hour\n",
    "WHERE hour.hour  = TO_CHAR(facts.Close_Date, 'YYYY-MM-DD HH24:00:00')"
   ]
  },
  {
   "cell_type": "code",
   "execution_count": 31,
   "metadata": {},
   "outputs": [
    {
     "name": "stdout",
     "output_type": "stream",
     "text": [
      "5 rows affected.\n"
     ]
    },
    {
     "data": {
      "text/html": [
       "<table>\n",
       "    <tr>\n",
       "        <th>sr_number</th>\n",
       "        <th>sr_type_code</th>\n",
       "        <th>sr_description</th>\n",
       "        <th>owning_department</th>\n",
       "        <th>method_received</th>\n",
       "        <th>sr_status</th>\n",
       "        <th>status_change_date</th>\n",
       "        <th>created_date</th>\n",
       "        <th>last_update_date</th>\n",
       "        <th>close_date</th>\n",
       "        <th>sr_location</th>\n",
       "        <th>street_number</th>\n",
       "        <th>street_name</th>\n",
       "        <th>city</th>\n",
       "        <th>zip_code</th>\n",
       "        <th>county</th>\n",
       "        <th>state_plane_x_coordinate</th>\n",
       "        <th>state_plane_y_coordinate</th>\n",
       "        <th>latitude_coordinate</th>\n",
       "        <th>longitude_coordinate</th>\n",
       "        <th>latitude_longitude</th>\n",
       "        <th>council_district</th>\n",
       "        <th>map_page</th>\n",
       "        <th>map_tile</th>\n",
       "        <th>status_change_date_key</th>\n",
       "        <th>created_date_key</th>\n",
       "        <th>last_update_date_key</th>\n",
       "        <th>close_date_key</th>\n",
       "    </tr>\n",
       "    <tr>\n",
       "        <td>16-00185678</td>\n",
       "        <td>PWBICYCL</td>\n",
       "        <td>Bicycle Issues</td>\n",
       "        <td>Transportation</td>\n",
       "        <td>Phone</td>\n",
       "        <td>Closed</td>\n",
       "        <td>2016-07-21 09:14:00+00:00</td>\n",
       "        <td>2016-07-20 10:26:00+00:00</td>\n",
       "        <td>2016-07-21 09:14:00+00:00</td>\n",
       "        <td>2016-07-21 09:14:00+00:00</td>\n",
       "        <td>900 E 38TH ST, AUSTIN, TX 78751</td>\n",
       "        <td>900.0</td>\n",
       "        <td>38TH</td>\n",
       "        <td>AUSTIN</td>\n",
       "        <td>78751</td>\n",
       "        <td>TRAVIS</td>\n",
       "        <td>3120253.672</td>\n",
       "        <td>10080990.1</td>\n",
       "        <td>30.29582303</td>\n",
       "        <td>-97.723233</td>\n",
       "        <td>(30.29582303, -97.723233)</td>\n",
       "        <td>9</td>\n",
       "        <td>585C</td>\n",
       "        <td>MK24</td>\n",
       "        <td>23143</td>\n",
       "        <td>19398</td>\n",
       "        <td>23143</td>\n",
       "        <td>23143</td>\n",
       "    </tr>\n",
       "    <tr>\n",
       "        <td>15-00144382</td>\n",
       "        <td>SBPOTREP</td>\n",
       "        <td>Pothole Repair</td>\n",
       "        <td>Public Works</td>\n",
       "        <td>Phone</td>\n",
       "        <td>Closed</td>\n",
       "        <td>2015-06-26 14:51:10+00:00</td>\n",
       "        <td>2015-06-25 15:13:58+00:00</td>\n",
       "        <td>2015-06-26 14:51:10+00:00</td>\n",
       "        <td>2015-06-26 14:51:10+00:00</td>\n",
       "        <td>3811 E 12TH ST, AUSTIN, TX</td>\n",
       "        <td>3811.0</td>\n",
       "        <td>12TH</td>\n",
       "        <td>AUSTIN</td>\n",
       "        <td>78721</td>\n",
       "        <td>TRAVIS</td>\n",
       "        <td>3130796.83</td>\n",
       "        <td>10074307.53</td>\n",
       "        <td>30.27676938</td>\n",
       "        <td>-97.69033868</td>\n",
       "        <td>(30.27676938, -97.69033868)</td>\n",
       "        <td>1</td>\n",
       "        <td>586P</td>\n",
       "        <td>ML23</td>\n",
       "        <td>25210</td>\n",
       "        <td>566</td>\n",
       "        <td>25210</td>\n",
       "        <td>25210</td>\n",
       "    </tr>\n",
       "    <tr>\n",
       "        <td>14-00087084</td>\n",
       "        <td>SIGNNEWT</td>\n",
       "        <td>Sign - New</td>\n",
       "        <td>Transportation</td>\n",
       "        <td>Web</td>\n",
       "        <td>Closed</td>\n",
       "        <td>2014-05-12 10:34:38+00:00</td>\n",
       "        <td>2014-05-08 11:18:24+00:00</td>\n",
       "        <td>2014-05-12 10:34:39+00:00</td>\n",
       "        <td>2014-05-12 10:34:38+00:00</td>\n",
       "        <td>8200 PAX DR, AUSTIN, TX 78736</td>\n",
       "        <td>8200.0</td>\n",
       "        <td>PAX</td>\n",
       "        <td>AUSTIN</td>\n",
       "        <td>78736</td>\n",
       "        <td>TRAVIS</td>\n",
       "        <td>3068705.0</td>\n",
       "        <td>10061222.0</td>\n",
       "        <td>30.24470333</td>\n",
       "        <td>-97.88790622</td>\n",
       "        <td>(30.24470333, -97.88790622)</td>\n",
       "        <td>8</td>\n",
       "        <td>611L</td>\n",
       "        <td>MB20</td>\n",
       "        <td>8989</td>\n",
       "        <td>24650</td>\n",
       "        <td>8989</td>\n",
       "        <td>8989</td>\n",
       "    </tr>\n",
       "    <tr>\n",
       "        <td>14-00132509</td>\n",
       "        <td>SBDEBROW</td>\n",
       "        <td>Debris in Street</td>\n",
       "        <td>Public Works</td>\n",
       "        <td>Phone</td>\n",
       "        <td>Closed</td>\n",
       "        <td>2014-07-02 09:31:38+00:00</td>\n",
       "        <td>2014-07-02 09:16:28+00:00</td>\n",
       "        <td>2014-07-02 09:31:39+00:00</td>\n",
       "        <td>2014-07-02 09:31:38+00:00</td>\n",
       "        <td>1750 W 5TH ST, AUSTIN, TX</td>\n",
       "        <td>1750.0</td>\n",
       "        <td>5TH</td>\n",
       "        <td>AUSTIN</td>\n",
       "        <td>78703</td>\n",
       "        <td>TRAVIS</td>\n",
       "        <td>3107115.37</td>\n",
       "        <td>10073262.92</td>\n",
       "        <td>30.27542286</td>\n",
       "        <td>-97.76541674</td>\n",
       "        <td>(30.27542286, -97.76541674)</td>\n",
       "        <td>9</td>\n",
       "        <td>584Q</td>\n",
       "        <td>MH23</td>\n",
       "        <td>19916</td>\n",
       "        <td>19916</td>\n",
       "        <td>19916</td>\n",
       "        <td>19916</td>\n",
       "    </tr>\n",
       "    <tr>\n",
       "        <td>14-00191823</td>\n",
       "        <td>SBSIDERE</td>\n",
       "        <td>Sidewalk Repair</td>\n",
       "        <td>Public Works</td>\n",
       "        <td>Phone</td>\n",
       "        <td>Closed</td>\n",
       "        <td>2014-09-10 16:14:31+00:00</td>\n",
       "        <td>2014-09-09 11:57:42+00:00</td>\n",
       "        <td>2014-09-10 16:14:32+00:00</td>\n",
       "        <td>2014-09-10 16:14:31+00:00</td>\n",
       "        <td>204 E 33RD ST, AUSTIN, TX</td>\n",
       "        <td>204.0</td>\n",
       "        <td>33RD</td>\n",
       "        <td>AUSTIN</td>\n",
       "        <td>78705</td>\n",
       "        <td>TRAVIS</td>\n",
       "        <td>3116691.0</td>\n",
       "        <td>10081342.0</td>\n",
       "        <td>30.29701967</td>\n",
       "        <td>-97.73449246</td>\n",
       "        <td>(30.29701967, -97.73449246)</td>\n",
       "        <td>9</td>\n",
       "        <td>585B</td>\n",
       "        <td>MJ24</td>\n",
       "        <td>13188</td>\n",
       "        <td>6895</td>\n",
       "        <td>13188</td>\n",
       "        <td>13188</td>\n",
       "    </tr>\n",
       "</table>"
      ],
      "text/plain": [
       "[('16-00185678', 'PWBICYCL', 'Bicycle Issues', 'Transportation', 'Phone', 'Closed', datetime.datetime(2016, 7, 21, 9, 14, tzinfo=psycopg2.tz.FixedOffsetTimezone(offset=0, name=None)), datetime.datetime(2016, 7, 20, 10, 26, tzinfo=psycopg2.tz.FixedOffsetTimezone(offset=0, name=None)), datetime.datetime(2016, 7, 21, 9, 14, tzinfo=psycopg2.tz.FixedOffsetTimezone(offset=0, name=None)), datetime.datetime(2016, 7, 21, 9, 14, tzinfo=psycopg2.tz.FixedOffsetTimezone(offset=0, name=None)), '900 E 38TH ST, AUSTIN, TX 78751', '900.0', '38TH', 'AUSTIN', 78751, 'TRAVIS', '3120253.672', '10080990.1', Decimal('30.29582303'), Decimal('-97.723233'), '(30.29582303, -97.723233)', 9, '585C', 'MK24', 23143, 19398, 23143, 23143),\n",
       " ('15-00144382', 'SBPOTREP', 'Pothole Repair', 'Public Works', 'Phone', 'Closed', datetime.datetime(2015, 6, 26, 14, 51, 10, tzinfo=psycopg2.tz.FixedOffsetTimezone(offset=0, name=None)), datetime.datetime(2015, 6, 25, 15, 13, 58, tzinfo=psycopg2.tz.FixedOffsetTimezone(offset=0, name=None)), datetime.datetime(2015, 6, 26, 14, 51, 10, tzinfo=psycopg2.tz.FixedOffsetTimezone(offset=0, name=None)), datetime.datetime(2015, 6, 26, 14, 51, 10, tzinfo=psycopg2.tz.FixedOffsetTimezone(offset=0, name=None)), '3811 E 12TH ST, AUSTIN, TX', '3811.0', '12TH', 'AUSTIN', 78721, 'TRAVIS', '3130796.83', '10074307.53', Decimal('30.27676938'), Decimal('-97.69033868'), '(30.27676938, -97.69033868)', 1, '586P', 'ML23', 25210, 566, 25210, 25210),\n",
       " ('14-00087084', 'SIGNNEWT', 'Sign - New', 'Transportation', 'Web', 'Closed', datetime.datetime(2014, 5, 12, 10, 34, 38, tzinfo=psycopg2.tz.FixedOffsetTimezone(offset=0, name=None)), datetime.datetime(2014, 5, 8, 11, 18, 24, tzinfo=psycopg2.tz.FixedOffsetTimezone(offset=0, name=None)), datetime.datetime(2014, 5, 12, 10, 34, 39, tzinfo=psycopg2.tz.FixedOffsetTimezone(offset=0, name=None)), datetime.datetime(2014, 5, 12, 10, 34, 38, tzinfo=psycopg2.tz.FixedOffsetTimezone(offset=0, name=None)), '8200 PAX DR, AUSTIN, TX 78736', '8200.0', 'PAX', 'AUSTIN', 78736, 'TRAVIS', '3068705.0', '10061222.0', Decimal('30.24470333'), Decimal('-97.88790622'), '(30.24470333, -97.88790622)', 8, '611L', 'MB20', 8989, 24650, 8989, 8989),\n",
       " ('14-00132509', 'SBDEBROW', 'Debris in Street', 'Public Works', 'Phone', 'Closed', datetime.datetime(2014, 7, 2, 9, 31, 38, tzinfo=psycopg2.tz.FixedOffsetTimezone(offset=0, name=None)), datetime.datetime(2014, 7, 2, 9, 16, 28, tzinfo=psycopg2.tz.FixedOffsetTimezone(offset=0, name=None)), datetime.datetime(2014, 7, 2, 9, 31, 39, tzinfo=psycopg2.tz.FixedOffsetTimezone(offset=0, name=None)), datetime.datetime(2014, 7, 2, 9, 31, 38, tzinfo=psycopg2.tz.FixedOffsetTimezone(offset=0, name=None)), '1750 W 5TH ST, AUSTIN, TX', '1750.0', '5TH', 'AUSTIN', 78703, 'TRAVIS', '3107115.37', '10073262.92', Decimal('30.27542286'), Decimal('-97.76541674'), '(30.27542286, -97.76541674)', 9, '584Q', 'MH23', 19916, 19916, 19916, 19916),\n",
       " ('14-00191823', 'SBSIDERE', 'Sidewalk Repair', 'Public Works', 'Phone', 'Closed', datetime.datetime(2014, 9, 10, 16, 14, 31, tzinfo=psycopg2.tz.FixedOffsetTimezone(offset=0, name=None)), datetime.datetime(2014, 9, 9, 11, 57, 42, tzinfo=psycopg2.tz.FixedOffsetTimezone(offset=0, name=None)), datetime.datetime(2014, 9, 10, 16, 14, 32, tzinfo=psycopg2.tz.FixedOffsetTimezone(offset=0, name=None)), datetime.datetime(2014, 9, 10, 16, 14, 31, tzinfo=psycopg2.tz.FixedOffsetTimezone(offset=0, name=None)), '204 E 33RD ST, AUSTIN, TX', '204.0', '33RD', 'AUSTIN', 78705, 'TRAVIS', '3116691.0', '10081342.0', Decimal('30.29701967'), Decimal('-97.73449246'), '(30.29701967, -97.73449246)', 9, '585B', 'MJ24', 13188, 6895, 13188, 13188)]"
      ]
     },
     "execution_count": 31,
     "metadata": {},
     "output_type": "execute_result"
    }
   ],
   "source": [
    "%%sql\n",
    "SELECT * from facts limit 5;"
   ]
  },
  {
   "cell_type": "markdown",
   "metadata": {
    "collapsed": true
   },
   "source": [
    "We can now remove some columns in `facts` that are not facts nor foreign keys of dimension tables."
   ]
  },
  {
   "cell_type": "code",
   "execution_count": 32,
   "metadata": {},
   "outputs": [
    {
     "name": "stdout",
     "output_type": "stream",
     "text": [
      "Done.\n"
     ]
    },
    {
     "data": {
      "text/plain": [
       "[]"
      ]
     },
     "execution_count": 32,
     "metadata": {},
     "output_type": "execute_result"
    }
   ],
   "source": [
    "%%sql\n",
    "ALTER TABLE facts\n",
    "DROP COLUMN status_change_date,\n",
    "DROP COLUMN created_date,\n",
    "DROP COLUMN close_date,\n",
    "DROP COLUMN last_update_date;"
   ]
  },
  {
   "cell_type": "markdown",
   "metadata": {},
   "source": [
    "Then create 'method' table."
   ]
  },
  {
   "cell_type": "code",
   "execution_count": 33,
   "metadata": {},
   "outputs": [
    {
     "name": "stdout",
     "output_type": "stream",
     "text": [
      "Done.\n",
      "Done.\n"
     ]
    },
    {
     "data": {
      "text/plain": [
       "[]"
      ]
     },
     "execution_count": 33,
     "metadata": {},
     "output_type": "execute_result"
    }
   ],
   "source": [
    "%%sql\n",
    "DROP TABLE IF EXISTS method;\n",
    "\n",
    "CREATE TABLE method (\n",
    "    Method_key SERIAL PRIMARY KEY,\n",
    "    Method VARCHAR(64)\n",
    ");"
   ]
  },
  {
   "cell_type": "code",
   "execution_count": 34,
   "metadata": {},
   "outputs": [
    {
     "name": "stdout",
     "output_type": "stream",
     "text": [
      "17 rows affected.\n"
     ]
    },
    {
     "data": {
      "text/html": [
       "<table>\n",
       "    <tr>\n",
       "        <th>method_received</th>\n",
       "        <th>count</th>\n",
       "    </tr>\n",
       "    <tr>\n",
       "        <td>Mobile Devi</td>\n",
       "        <td>1</td>\n",
       "    </tr>\n",
       "    <tr>\n",
       "        <td>Mass Entry</td>\n",
       "        <td>6436</td>\n",
       "    </tr>\n",
       "    <tr>\n",
       "        <td>CSR - Follow On SR</td>\n",
       "        <td>33</td>\n",
       "    </tr>\n",
       "    <tr>\n",
       "        <td>Web</td>\n",
       "        <td>20585</td>\n",
       "    </tr>\n",
       "    <tr>\n",
       "        <td>Social Media</td>\n",
       "        <td>1</td>\n",
       "    </tr>\n",
       "    <tr>\n",
       "        <td>Open311</td>\n",
       "        <td>185</td>\n",
       "    </tr>\n",
       "    <tr>\n",
       "        <td>CSR - Follo</td>\n",
       "        <td>1</td>\n",
       "    </tr>\n",
       "    <tr>\n",
       "        <td>E-Mail</td>\n",
       "        <td>156</td>\n",
       "    </tr>\n",
       "    <tr>\n",
       "        <td>Interface</td>\n",
       "        <td>4</td>\n",
       "    </tr>\n",
       "    <tr>\n",
       "        <td>Field Reque</td>\n",
       "        <td>31</td>\n",
       "    </tr>\n",
       "    <tr>\n",
       "        <td>Spot311 Interface</td>\n",
       "        <td>28955</td>\n",
       "    </tr>\n",
       "    <tr>\n",
       "        <td>Other</td>\n",
       "        <td>9</td>\n",
       "    </tr>\n",
       "    <tr>\n",
       "        <td>Walk In</td>\n",
       "        <td>2</td>\n",
       "    </tr>\n",
       "    <tr>\n",
       "        <td>Mail</td>\n",
       "        <td>3</td>\n",
       "    </tr>\n",
       "    <tr>\n",
       "        <td>Phone</td>\n",
       "        <td>286356</td>\n",
       "    </tr>\n",
       "    <tr>\n",
       "        <td>Radio</td>\n",
       "        <td>1</td>\n",
       "    </tr>\n",
       "    <tr>\n",
       "        <td>Field Request</td>\n",
       "        <td>2035</td>\n",
       "    </tr>\n",
       "</table>"
      ],
      "text/plain": [
       "[('Mobile Devi', 1),\n",
       " ('Mass Entry', 6436),\n",
       " ('CSR - Follow On SR', 33),\n",
       " ('Web', 20585),\n",
       " ('Social Media', 1),\n",
       " ('Open311', 185),\n",
       " ('CSR - Follo', 1),\n",
       " ('E-Mail', 156),\n",
       " ('Interface', 4),\n",
       " ('Field Reque', 31),\n",
       " ('Spot311 Interface', 28955),\n",
       " ('Other', 9),\n",
       " ('Walk In', 2),\n",
       " ('Mail', 3),\n",
       " ('Phone', 286356),\n",
       " ('Radio', 1),\n",
       " ('Field Request', 2035)]"
      ]
     },
     "execution_count": 34,
     "metadata": {},
     "output_type": "execute_result"
    }
   ],
   "source": [
    "%%sql\n",
    "SELECT Method_Received,count(Method_Received)\n",
    "FROM facts \n",
    "GROUP BY 1;"
   ]
  },
  {
   "cell_type": "code",
   "execution_count": 35,
   "metadata": {},
   "outputs": [
    {
     "name": "stdout",
     "output_type": "stream",
     "text": [
      "17 rows affected.\n"
     ]
    },
    {
     "data": {
      "text/plain": [
       "[]"
      ]
     },
     "execution_count": 35,
     "metadata": {},
     "output_type": "execute_result"
    }
   ],
   "source": [
    "%%sql\n",
    "INSERT INTO method (Method)\n",
    "SELECT DISTINCT Method_Received as method\n",
    "FROM facts;"
   ]
  },
  {
   "cell_type": "code",
   "execution_count": 36,
   "metadata": {},
   "outputs": [
    {
     "name": "stdout",
     "output_type": "stream",
     "text": [
      "Done.\n"
     ]
    },
    {
     "data": {
      "text/plain": [
       "[]"
      ]
     },
     "execution_count": 36,
     "metadata": {},
     "output_type": "execute_result"
    }
   ],
   "source": [
    "%%sql\n",
    "ALTER TABLE facts\n",
    "ADD COLUMN Method_key INTEGER,\n",
    "ADD CONSTRAINT fk_Method_key\n",
    "    FOREIGN KEY (Method_key)\n",
    "    REFERENCES method (Method_key);"
   ]
  },
  {
   "cell_type": "code",
   "execution_count": 37,
   "metadata": {},
   "outputs": [
    {
     "name": "stdout",
     "output_type": "stream",
     "text": [
      "344794 rows affected.\n"
     ]
    },
    {
     "data": {
      "text/plain": [
       "[]"
      ]
     },
     "execution_count": 37,
     "metadata": {},
     "output_type": "execute_result"
    }
   ],
   "source": [
    "%%sql\n",
    "UPDATE facts\n",
    "SET Method_key = method.method_key\n",
    "FROM method\n",
    "WHERE facts.Method_Received = method.Method;"
   ]
  },
  {
   "cell_type": "code",
   "execution_count": 38,
   "metadata": {},
   "outputs": [
    {
     "name": "stdout",
     "output_type": "stream",
     "text": [
      "Done.\n"
     ]
    },
    {
     "data": {
      "text/plain": [
       "[]"
      ]
     },
     "execution_count": 38,
     "metadata": {},
     "output_type": "execute_result"
    }
   ],
   "source": [
    "%%sql\n",
    "ALTER TABLE facts\n",
    "DROP COLUMN Method_Received;"
   ]
  },
  {
   "cell_type": "markdown",
   "metadata": {},
   "source": [
    "Create 'Location' table"
   ]
  },
  {
   "cell_type": "code",
   "execution_count": 39,
   "metadata": {},
   "outputs": [
    {
     "name": "stdout",
     "output_type": "stream",
     "text": [
      "Done.\n",
      "194431 rows affected.\n"
     ]
    },
    {
     "data": {
      "text/plain": [
       "[]"
      ]
     },
     "execution_count": 39,
     "metadata": {},
     "output_type": "execute_result"
    }
   ],
   "source": [
    "%%sql\n",
    "DROP TABLE  IF EXISTS Location;\n",
    "\n",
    "SELECT Distinct SR_Location,\n",
    "Street_Number,\n",
    "Street_Name,\n",
    "City,\n",
    "Zip_Code,\n",
    "County,\n",
    "State_Plane_X_Coordinate,\n",
    "State_Plane_Y_Coordinate,\n",
    "Latitude_Coordinate,\n",
    "Longitude_Coordinate,\n",
    "Council_District,\n",
    "Map_Page,\n",
    "Map_Tile\n",
    "INTO Location\n",
    "FROM facts;"
   ]
  },
  {
   "cell_type": "code",
   "execution_count": 40,
   "metadata": {},
   "outputs": [
    {
     "name": "stdout",
     "output_type": "stream",
     "text": [
      "Done.\n"
     ]
    },
    {
     "data": {
      "text/plain": [
       "[]"
      ]
     },
     "execution_count": 40,
     "metadata": {},
     "output_type": "execute_result"
    }
   ],
   "source": [
    "%%sql\n",
    "ALTER TABLE Location\n",
    "ADD COLUMN location_key SERIAL PRIMARY KEY;"
   ]
  },
  {
   "cell_type": "markdown",
   "metadata": {},
   "source": [
    "Alter fact table and update method_key into fact table."
   ]
  },
  {
   "cell_type": "code",
   "execution_count": 41,
   "metadata": {},
   "outputs": [
    {
     "name": "stdout",
     "output_type": "stream",
     "text": [
      "Done.\n"
     ]
    },
    {
     "data": {
      "text/plain": [
       "[]"
      ]
     },
     "execution_count": 41,
     "metadata": {},
     "output_type": "execute_result"
    }
   ],
   "source": [
    "%%sql\n",
    "ALTER TABLE facts\n",
    "ADD COLUMN location_key INTEGER,\n",
    "ADD CONSTRAINT fk_location_key\n",
    "    FOREIGN KEY (location_key)\n",
    "    REFERENCES location (location_key);"
   ]
  },
  {
   "cell_type": "code",
   "execution_count": 42,
   "metadata": {},
   "outputs": [
    {
     "name": "stdout",
     "output_type": "stream",
     "text": [
      "10 rows affected.\n"
     ]
    },
    {
     "data": {
      "text/html": [
       "<table>\n",
       "    <tr>\n",
       "        <th>sr_location</th>\n",
       "        <th>street_number</th>\n",
       "        <th>street_name</th>\n",
       "        <th>city</th>\n",
       "        <th>zip_code</th>\n",
       "        <th>county</th>\n",
       "        <th>state_plane_x_coordinate</th>\n",
       "        <th>state_plane_y_coordinate</th>\n",
       "        <th>latitude_coordinate</th>\n",
       "        <th>longitude_coordinate</th>\n",
       "        <th>council_district</th>\n",
       "        <th>map_page</th>\n",
       "        <th>map_tile</th>\n",
       "        <th>location_key</th>\n",
       "    </tr>\n",
       "    <tr>\n",
       "        <td>0 BASTROP HWY NB, AUSTIN, TX</td>\n",
       "        <td>0.0</td>\n",
       "        <td>BASTROP HWY</td>\n",
       "        <td>AUSTIN</td>\n",
       "        <td>78725</td>\n",
       "        <td>TRAVIS</td>\n",
       "        <td>3131078.8046126</td>\n",
       "        <td>10062985.5990243</td>\n",
       "        <td>30.24562909</td>\n",
       "        <td>-97.69029776</td>\n",
       "        <td>3</td>\n",
       "        <td>616K</td>\n",
       "        <td>ML20</td>\n",
       "        <td>1</td>\n",
       "    </tr>\n",
       "    <tr>\n",
       "        <td>0 E US 290 HWY EB, AUSTIN, TX</td>\n",
       "        <td>0.0</td>\n",
       "        <td>290</td>\n",
       "        <td>AUSTIN</td>\n",
       "        <td>78724</td>\n",
       "        <td>TRAVIS</td>\n",
       "        <td>3136294.85582263</td>\n",
       "        <td>10092147.3753045</td>\n",
       "        <td>30.32544739</td>\n",
       "        <td>-97.67157404</td>\n",
       "        <td>1</td>\n",
       "        <td>558A</td>\n",
       "        <td>MQ27</td>\n",
       "        <td>2</td>\n",
       "    </tr>\n",
       "    <tr>\n",
       "        <td>0 E US 290 HWY EB, AUSTIN, TX</td>\n",
       "        <td>0.0</td>\n",
       "        <td>290</td>\n",
       "        <td>AUSTIN</td>\n",
       "        <td>78724</td>\n",
       "        <td>TRAVIS</td>\n",
       "        <td>3136294.856</td>\n",
       "        <td>10092147.38</td>\n",
       "        <td>30.32544739</td>\n",
       "        <td>-97.67157404</td>\n",
       "        <td>1</td>\n",
       "        <td>558A</td>\n",
       "        <td>MQ27</td>\n",
       "        <td>3</td>\n",
       "    </tr>\n",
       "    <tr>\n",
       "        <td>0 N SH 130 NB, AUSTIN, TX</td>\n",
       "        <td>0.0</td>\n",
       "        <td>130</td>\n",
       "        <td>AUSTIN</td>\n",
       "        <td>78653</td>\n",
       "        <td>TRAVIS</td>\n",
       "        <td>3168463.31273532</td>\n",
       "        <td>10087069.4062448</td>\n",
       "        <td>30.30933259</td>\n",
       "        <td>-97.57004581</td>\n",
       "        <td>1</td>\n",
       "        <td>559P</td>\n",
       "        <td>MS26</td>\n",
       "        <td>4</td>\n",
       "    </tr>\n",
       "    <tr>\n",
       "        <td>0 RESEARCH BLVD SVRD NB, AUSTIN, TX 78758</td>\n",
       "        <td>0.0</td>\n",
       "        <td>RESEARCH BLVD SVRD</td>\n",
       "        <td>AUSTIN</td>\n",
       "        <td>78758</td>\n",
       "        <td>TRAVIS</td>\n",
       "        <td>3118828.582</td>\n",
       "        <td>10109080.93</td>\n",
       "        <td>30.37313223</td>\n",
       "        <td>-97.72566097</td>\n",
       "        <td>7</td>\n",
       "        <td>495Y</td>\n",
       "        <td>MK31</td>\n",
       "        <td>5</td>\n",
       "    </tr>\n",
       "    <tr>\n",
       "        <td>0 SERVICE RD N/A N/A N/A, AUSTIN, TX 78758</td>\n",
       "        <td>0.0</td>\n",
       "        <td>SERVICE</td>\n",
       "        <td>AUSTIN</td>\n",
       "        <td>78719</td>\n",
       "        <td>TRAVIS</td>\n",
       "        <td>3136878.89302637</td>\n",
       "        <td>10048964.4706612</td>\n",
       "        <td>30.20670769</td>\n",
       "        <td>-97.67299638</td>\n",
       "        <td>2</td>\n",
       "        <td>646R</td>\n",
       "        <td>MM17</td>\n",
       "        <td>6</td>\n",
       "    </tr>\n",
       "    <tr>\n",
       "        <td>10000 ANAHUAC TRL, AUSTIN, TX</td>\n",
       "        <td>10000.0</td>\n",
       "        <td>ANAHUAC</td>\n",
       "        <td>AUSTIN</td>\n",
       "        <td>78747</td>\n",
       "        <td>TRAVIS</td>\n",
       "        <td>3101033.93605819</td>\n",
       "        <td>10029672.133327</td>\n",
       "        <td>30.15598249</td>\n",
       "        <td>-97.78783672</td>\n",
       "        <td>5</td>\n",
       "        <td>704A</td>\n",
       "        <td>MG12</td>\n",
       "        <td>7</td>\n",
       "    </tr>\n",
       "    <tr>\n",
       "        <td>10000 AUSTRAL CV, AUSTIN, TX 78739</td>\n",
       "        <td>10000.0</td>\n",
       "        <td>AUSTRAL</td>\n",
       "        <td>AUSTIN</td>\n",
       "        <td>78739</td>\n",
       "        <td>TRAVIS</td>\n",
       "        <td>3072903.00042677</td>\n",
       "        <td>10043209.001360001</td>\n",
       "        <td>30.19493282</td>\n",
       "        <td>-97.87587493</td>\n",
       "        <td>8</td>\n",
       "        <td>641Z</td>\n",
       "        <td>MB16</td>\n",
       "        <td>8</td>\n",
       "    </tr>\n",
       "    <tr>\n",
       "        <td>10000 BARRINGTON CV, AUSTIN, TX</td>\n",
       "        <td>10000.0</td>\n",
       "        <td>BARRINGTON</td>\n",
       "        <td>AUSTIN</td>\n",
       "        <td>78753</td>\n",
       "        <td>TRAVIS</td>\n",
       "        <td>3134923.19425932</td>\n",
       "        <td>10104507.5227323</td>\n",
       "        <td>30.35951334</td>\n",
       "        <td>-97.67498423</td>\n",
       "        <td>4</td>\n",
       "        <td>526H</td>\n",
       "        <td>MM30</td>\n",
       "        <td>9</td>\n",
       "    </tr>\n",
       "    <tr>\n",
       "        <td>10000 BILBROOK PL, AUSTIN, TX</td>\n",
       "        <td>10000.0</td>\n",
       "        <td>BILBROOK</td>\n",
       "        <td>AUSTIN</td>\n",
       "        <td>78748</td>\n",
       "        <td>TRAVIS</td>\n",
       "        <td>3091504.72891257</td>\n",
       "        <td>10033777.8454873</td>\n",
       "        <td>30.16786448</td>\n",
       "        <td>-97.81768559</td>\n",
       "        <td>5</td>\n",
       "        <td>673T</td>\n",
       "        <td>ME13</td>\n",
       "        <td>10</td>\n",
       "    </tr>\n",
       "</table>"
      ],
      "text/plain": [
       "[('0 BASTROP HWY NB, AUSTIN, TX', '0.0', 'BASTROP HWY', 'AUSTIN', 78725, 'TRAVIS', '3131078.8046126', '10062985.5990243', Decimal('30.24562909'), Decimal('-97.69029776'), 3, '616K', 'ML20', 1),\n",
       " ('0 E US 290 HWY EB, AUSTIN, TX', '0.0', '290', 'AUSTIN', 78724, 'TRAVIS', '3136294.85582263', '10092147.3753045', Decimal('30.32544739'), Decimal('-97.67157404'), 1, '558A', 'MQ27', 2),\n",
       " ('0 E US 290 HWY EB, AUSTIN, TX', '0.0', '290', 'AUSTIN', 78724, 'TRAVIS', '3136294.856', '10092147.38', Decimal('30.32544739'), Decimal('-97.67157404'), 1, '558A', 'MQ27', 3),\n",
       " ('0 N SH 130 NB, AUSTIN, TX', '0.0', '130', 'AUSTIN', 78653, 'TRAVIS', '3168463.31273532', '10087069.4062448', Decimal('30.30933259'), Decimal('-97.57004581'), 1, '559P', 'MS26', 4),\n",
       " ('0 RESEARCH BLVD SVRD NB, AUSTIN, TX 78758', '0.0', 'RESEARCH BLVD SVRD', 'AUSTIN', 78758, 'TRAVIS', '3118828.582', '10109080.93', Decimal('30.37313223'), Decimal('-97.72566097'), 7, '495Y', 'MK31', 5),\n",
       " ('0 SERVICE RD N/A N/A N/A, AUSTIN, TX 78758', '0.0', 'SERVICE', 'AUSTIN', 78719, 'TRAVIS', '3136878.89302637', '10048964.4706612', Decimal('30.20670769'), Decimal('-97.67299638'), 2, '646R', 'MM17', 6),\n",
       " ('10000 ANAHUAC TRL, AUSTIN, TX', '10000.0', 'ANAHUAC', 'AUSTIN', 78747, 'TRAVIS', '3101033.93605819', '10029672.133327', Decimal('30.15598249'), Decimal('-97.78783672'), 5, '704A', 'MG12', 7),\n",
       " ('10000 AUSTRAL CV, AUSTIN, TX 78739', '10000.0', 'AUSTRAL', 'AUSTIN', 78739, 'TRAVIS', '3072903.00042677', '10043209.001360001', Decimal('30.19493282'), Decimal('-97.87587493'), 8, '641Z', 'MB16', 8),\n",
       " ('10000 BARRINGTON CV, AUSTIN, TX', '10000.0', 'BARRINGTON', 'AUSTIN', 78753, 'TRAVIS', '3134923.19425932', '10104507.5227323', Decimal('30.35951334'), Decimal('-97.67498423'), 4, '526H', 'MM30', 9),\n",
       " ('10000 BILBROOK PL, AUSTIN, TX', '10000.0', 'BILBROOK', 'AUSTIN', 78748, 'TRAVIS', '3091504.72891257', '10033777.8454873', Decimal('30.16786448'), Decimal('-97.81768559'), 5, '673T', 'ME13', 10)]"
      ]
     },
     "execution_count": 42,
     "metadata": {},
     "output_type": "execute_result"
    }
   ],
   "source": [
    "%%sql\n",
    "SELECT *\n",
    "FROM location\n",
    "limit 10 ;"
   ]
  },
  {
   "cell_type": "code",
   "execution_count": 43,
   "metadata": {},
   "outputs": [
    {
     "name": "stdout",
     "output_type": "stream",
     "text": [
      "1 rows affected.\n"
     ]
    },
    {
     "data": {
      "text/html": [
       "<table>\n",
       "    <tr>\n",
       "        <th>count</th>\n",
       "    </tr>\n",
       "    <tr>\n",
       "        <td>344794</td>\n",
       "    </tr>\n",
       "</table>"
      ],
      "text/plain": [
       "[(344794,)]"
      ]
     },
     "execution_count": 43,
     "metadata": {},
     "output_type": "execute_result"
    }
   ],
   "source": [
    "%%sql\n",
    "Select count(*)\n",
    "FROM location as l,facts as f\n",
    "WHERE\n",
    "f.sr_location= l.sr_location AND\n",
    "f.SR_Location = l.SR_Location AND\n",
    "f.Street_Number = l.Street_Number AND\n",
    "f.Street_Name = l.Street_Name AND\n",
    "f.City = l.City AND\n",
    "f.Zip_Code = l.Zip_Code AND\n",
    "f.County = l.County AND\n",
    "f.State_Plane_X_Coordinate = l.State_Plane_X_Coordinate AND\n",
    "f.State_Plane_Y_Coordinate = l.State_Plane_Y_Coordinate AND\n",
    "f.Council_District = l.Council_District  AND\n",
    "f.Latitude_Coordinate = l.Latitude_Coordinate AND\n",
    "f.Longitude_Coordinate = l.Longitude_Coordinate AND\n",
    "f.Map_Page = l.Map_Page AND\n",
    "f.Map_Tile = l.Map_Tile;"
   ]
  },
  {
   "cell_type": "code",
   "execution_count": 44,
   "metadata": {},
   "outputs": [
    {
     "name": "stdout",
     "output_type": "stream",
     "text": [
      "344794 rows affected.\n"
     ]
    },
    {
     "data": {
      "text/plain": [
       "[]"
      ]
     },
     "execution_count": 44,
     "metadata": {},
     "output_type": "execute_result"
    }
   ],
   "source": [
    "%%sql\n",
    "UPDATE facts as f\n",
    "SET location_key = l.location_key\n",
    "FROM location as l\n",
    "WHERE \n",
    "f.sr_location= l.sr_location AND\n",
    "f.SR_Location = l.SR_Location AND\n",
    "f.Street_Number = l.Street_Number AND\n",
    "f.Street_Name = l.Street_Name AND\n",
    "f.City = l.City AND\n",
    "f.Zip_Code = l.Zip_Code AND\n",
    "f.County = l.County AND\n",
    "f.State_Plane_X_Coordinate = l.State_Plane_X_Coordinate AND\n",
    "f.State_Plane_Y_Coordinate = l.State_Plane_Y_Coordinate AND\n",
    "f.Council_District = l.Council_District  AND\n",
    "f.Latitude_Coordinate = l.Latitude_Coordinate AND\n",
    "f.Longitude_Coordinate = l.Longitude_Coordinate AND\n",
    "f.Map_Page = l.Map_Page AND\n",
    "f.Map_Tile = l.Map_Tile;\n"
   ]
  },
  {
   "cell_type": "code",
   "execution_count": 45,
   "metadata": {},
   "outputs": [
    {
     "name": "stdout",
     "output_type": "stream",
     "text": [
      "5 rows affected.\n"
     ]
    },
    {
     "data": {
      "text/html": [
       "<table>\n",
       "    <tr>\n",
       "        <th>sr_number</th>\n",
       "        <th>sr_type_code</th>\n",
       "        <th>sr_description</th>\n",
       "        <th>owning_department</th>\n",
       "        <th>sr_status</th>\n",
       "        <th>sr_location</th>\n",
       "        <th>street_number</th>\n",
       "        <th>street_name</th>\n",
       "        <th>city</th>\n",
       "        <th>zip_code</th>\n",
       "        <th>county</th>\n",
       "        <th>state_plane_x_coordinate</th>\n",
       "        <th>state_plane_y_coordinate</th>\n",
       "        <th>latitude_coordinate</th>\n",
       "        <th>longitude_coordinate</th>\n",
       "        <th>latitude_longitude</th>\n",
       "        <th>council_district</th>\n",
       "        <th>map_page</th>\n",
       "        <th>map_tile</th>\n",
       "        <th>status_change_date_key</th>\n",
       "        <th>created_date_key</th>\n",
       "        <th>last_update_date_key</th>\n",
       "        <th>close_date_key</th>\n",
       "        <th>method_key</th>\n",
       "        <th>location_key</th>\n",
       "    </tr>\n",
       "    <tr>\n",
       "        <td>14-00191823</td>\n",
       "        <td>SBSIDERE</td>\n",
       "        <td>Sidewalk Repair</td>\n",
       "        <td>Public Works</td>\n",
       "        <td>Closed</td>\n",
       "        <td>204 E 33RD ST, AUSTIN, TX</td>\n",
       "        <td>204.0</td>\n",
       "        <td>33RD</td>\n",
       "        <td>AUSTIN</td>\n",
       "        <td>78705</td>\n",
       "        <td>TRAVIS</td>\n",
       "        <td>3116691.0</td>\n",
       "        <td>10081342.0</td>\n",
       "        <td>30.29701967</td>\n",
       "        <td>-97.73449246</td>\n",
       "        <td>(30.29701967, -97.73449246)</td>\n",
       "        <td>9</td>\n",
       "        <td>585B</td>\n",
       "        <td>MJ24</td>\n",
       "        <td>13188</td>\n",
       "        <td>6895</td>\n",
       "        <td>13188</td>\n",
       "        <td>13188</td>\n",
       "        <td>15</td>\n",
       "        <td>63938</td>\n",
       "    </tr>\n",
       "    <tr>\n",
       "        <td>15-00149607</td>\n",
       "        <td>SBPOTREP</td>\n",
       "        <td>Pothole Repair</td>\n",
       "        <td>Public Works</td>\n",
       "        <td>Closed</td>\n",
       "        <td>3800 BALCONES DR, AUSTIN, TX</td>\n",
       "        <td>3800.0</td>\n",
       "        <td>BALCONES</td>\n",
       "        <td>AUSTIN</td>\n",
       "        <td>78731</td>\n",
       "        <td>TRAVIS</td>\n",
       "        <td>3106275.0</td>\n",
       "        <td>10088334.0</td>\n",
       "        <td>30.31690452</td>\n",
       "        <td>-97.76697688</td>\n",
       "        <td>(30.31690452, -97.76697688)</td>\n",
       "        <td>10</td>\n",
       "        <td>554L</td>\n",
       "        <td>MH26</td>\n",
       "        <td>749</td>\n",
       "        <td>1503</td>\n",
       "        <td>749</td>\n",
       "        <td>749</td>\n",
       "        <td>15</td>\n",
       "        <td>100147</td>\n",
       "    </tr>\n",
       "    <tr>\n",
       "        <td>15-00193118</td>\n",
       "        <td>SBPOTREP</td>\n",
       "        <td>Pothole Repair</td>\n",
       "        <td>Public Works</td>\n",
       "        <td>Closed</td>\n",
       "        <td>6510 LAIRD DR, AUSTIN, TX</td>\n",
       "        <td>6510.0</td>\n",
       "        <td>LAIRD</td>\n",
       "        <td>AUSTIN</td>\n",
       "        <td>78757</td>\n",
       "        <td>TRAVIS</td>\n",
       "        <td>3115439.0</td>\n",
       "        <td>10097074.0</td>\n",
       "        <td>30.34034494</td>\n",
       "        <td>-97.73729527</td>\n",
       "        <td>(30.34034494, -97.73729527)</td>\n",
       "        <td>7</td>\n",
       "        <td>525T</td>\n",
       "        <td>MJ28</td>\n",
       "        <td>26842</td>\n",
       "        <td>20098</td>\n",
       "        <td>26842</td>\n",
       "        <td>26842</td>\n",
       "        <td>15</td>\n",
       "        <td>148583</td>\n",
       "    </tr>\n",
       "    <tr>\n",
       "        <td>15-00156133</td>\n",
       "        <td>CODECOMP</td>\n",
       "        <td>Austin Code - Request Code Officer</td>\n",
       "        <td>Austin Code Department</td>\n",
       "        <td>Closed</td>\n",
       "        <td>8900 TINA CT, AUSTIN, TX</td>\n",
       "        <td>8900.0</td>\n",
       "        <td>TINA</td>\n",
       "        <td>AUSTIN</td>\n",
       "        <td>78758</td>\n",
       "        <td>TRAVIS</td>\n",
       "        <td>3126060.5479102</td>\n",
       "        <td>10104367.132942</td>\n",
       "        <td>30.35970664</td>\n",
       "        <td>-97.7030874</td>\n",
       "        <td>(30.35970664, -97.7030874)</td>\n",
       "        <td>4</td>\n",
       "        <td>526E</td>\n",
       "        <td>ML30</td>\n",
       "        <td>10670</td>\n",
       "        <td>22359</td>\n",
       "        <td>10670</td>\n",
       "        <td>10670</td>\n",
       "        <td>15</td>\n",
       "        <td>182972</td>\n",
       "    </tr>\n",
       "    <tr>\n",
       "        <td>15-00151017</td>\n",
       "        <td>ARRBRUBU</td>\n",
       "        <td>ARR Brush and Bulk</td>\n",
       "        <td>Austin Resource Recovery</td>\n",
       "        <td>Closed</td>\n",
       "        <td>2114 OXFORD AVE, AUSTIN, TX</td>\n",
       "        <td>2114.0</td>\n",
       "        <td>OXFORD</td>\n",
       "        <td>AUSTIN</td>\n",
       "        <td>78704</td>\n",
       "        <td>TRAVIS</td>\n",
       "        <td>3105342.75</td>\n",
       "        <td>10063557.0</td>\n",
       "        <td>30.24885503</td>\n",
       "        <td>-97.77173871</td>\n",
       "        <td>(30.24885503, -97.77173871)</td>\n",
       "        <td>5</td>\n",
       "        <td>614K</td>\n",
       "        <td>MG20</td>\n",
       "        <td>17765</td>\n",
       "        <td>20410</td>\n",
       "        <td>17765</td>\n",
       "        <td>17765</td>\n",
       "        <td>15</td>\n",
       "        <td>67057</td>\n",
       "    </tr>\n",
       "</table>"
      ],
      "text/plain": [
       "[('14-00191823', 'SBSIDERE', 'Sidewalk Repair', 'Public Works', 'Closed', '204 E 33RD ST, AUSTIN, TX', '204.0', '33RD', 'AUSTIN', 78705, 'TRAVIS', '3116691.0', '10081342.0', Decimal('30.29701967'), Decimal('-97.73449246'), '(30.29701967, -97.73449246)', 9, '585B', 'MJ24', 13188, 6895, 13188, 13188, 15, 63938),\n",
       " ('15-00149607', 'SBPOTREP', 'Pothole Repair', 'Public Works', 'Closed', '3800 BALCONES DR, AUSTIN, TX', '3800.0', 'BALCONES', 'AUSTIN', 78731, 'TRAVIS', '3106275.0', '10088334.0', Decimal('30.31690452'), Decimal('-97.76697688'), '(30.31690452, -97.76697688)', 10, '554L', 'MH26', 749, 1503, 749, 749, 15, 100147),\n",
       " ('15-00193118', 'SBPOTREP', 'Pothole Repair', 'Public Works', 'Closed', '6510 LAIRD DR, AUSTIN, TX', '6510.0', 'LAIRD', 'AUSTIN', 78757, 'TRAVIS', '3115439.0', '10097074.0', Decimal('30.34034494'), Decimal('-97.73729527'), '(30.34034494, -97.73729527)', 7, '525T', 'MJ28', 26842, 20098, 26842, 26842, 15, 148583),\n",
       " ('15-00156133', 'CODECOMP', 'Austin Code - Request Code Officer', 'Austin Code Department', 'Closed', '8900 TINA CT, AUSTIN, TX', '8900.0', 'TINA', 'AUSTIN', 78758, 'TRAVIS', '3126060.5479102', '10104367.132942', Decimal('30.35970664'), Decimal('-97.7030874'), '(30.35970664, -97.7030874)', 4, '526E', 'ML30', 10670, 22359, 10670, 10670, 15, 182972),\n",
       " ('15-00151017', 'ARRBRUBU', 'ARR Brush and Bulk', 'Austin Resource Recovery', 'Closed', '2114 OXFORD AVE, AUSTIN, TX', '2114.0', 'OXFORD', 'AUSTIN', 78704, 'TRAVIS', '3105342.75', '10063557.0', Decimal('30.24885503'), Decimal('-97.77173871'), '(30.24885503, -97.77173871)', 5, '614K', 'MG20', 17765, 20410, 17765, 17765, 15, 67057)]"
      ]
     },
     "execution_count": 45,
     "metadata": {},
     "output_type": "execute_result"
    }
   ],
   "source": [
    "%%sql\n",
    "SELECT *\n",
    "FROM facts\n",
    "LIMIT 5;"
   ]
  },
  {
   "cell_type": "markdown",
   "metadata": {},
   "source": [
    "Drop redundant columns."
   ]
  },
  {
   "cell_type": "code",
   "execution_count": 46,
   "metadata": {},
   "outputs": [
    {
     "name": "stdout",
     "output_type": "stream",
     "text": [
      "Done.\n"
     ]
    },
    {
     "data": {
      "text/plain": [
       "[]"
      ]
     },
     "execution_count": 46,
     "metadata": {},
     "output_type": "execute_result"
    }
   ],
   "source": [
    "%%sql\n",
    "ALTER TABLE facts\n",
    "DROP COLUMN SR_Location,\n",
    "DROP COLUMN Street_Number,\n",
    "DROP COLUMN Street_Name,\n",
    "DROP COLUMN City,\n",
    "DROP COLUMN Zip_Code,\n",
    "DROP COLUMN County,\n",
    "DROP COLUMN State_Plane_X_Coordinate,\n",
    "DROP COLUMN State_Plane_Y_Coordinate,\n",
    "DROP COLUMN latitude_coordinate,\n",
    "DROP COLUMN longitude_coordinate,\n",
    "DROP COLUMN latitude_longitude,\n",
    "DROP COLUMN council_district,\n",
    "DROP COLUMN map_page,\n",
    "DROP COLUMN map_tile;"
   ]
  },
  {
   "cell_type": "code",
   "execution_count": 47,
   "metadata": {},
   "outputs": [
    {
     "name": "stdout",
     "output_type": "stream",
     "text": [
      "5 rows affected.\n"
     ]
    },
    {
     "data": {
      "text/html": [
       "<table>\n",
       "    <tr>\n",
       "        <th>sr_number</th>\n",
       "        <th>sr_type_code</th>\n",
       "        <th>sr_description</th>\n",
       "        <th>owning_department</th>\n",
       "        <th>sr_status</th>\n",
       "        <th>status_change_date_key</th>\n",
       "        <th>created_date_key</th>\n",
       "        <th>last_update_date_key</th>\n",
       "        <th>close_date_key</th>\n",
       "        <th>method_key</th>\n",
       "        <th>location_key</th>\n",
       "    </tr>\n",
       "    <tr>\n",
       "        <td>15-00156133</td>\n",
       "        <td>CODECOMP</td>\n",
       "        <td>Austin Code - Request Code Officer</td>\n",
       "        <td>Austin Code Department</td>\n",
       "        <td>Closed</td>\n",
       "        <td>10670</td>\n",
       "        <td>22359</td>\n",
       "        <td>10670</td>\n",
       "        <td>10670</td>\n",
       "        <td>15</td>\n",
       "        <td>182972</td>\n",
       "    </tr>\n",
       "    <tr>\n",
       "        <td>15-00151017</td>\n",
       "        <td>ARRBRUBU</td>\n",
       "        <td>ARR Brush and Bulk</td>\n",
       "        <td>Austin Resource Recovery</td>\n",
       "        <td>Closed</td>\n",
       "        <td>17765</td>\n",
       "        <td>20410</td>\n",
       "        <td>17765</td>\n",
       "        <td>17765</td>\n",
       "        <td>15</td>\n",
       "        <td>67057</td>\n",
       "    </tr>\n",
       "    <tr>\n",
       "        <td>15-00164213</td>\n",
       "        <td>SBPOTREP</td>\n",
       "        <td>Pothole Repair</td>\n",
       "        <td>Public Works</td>\n",
       "        <td>Closed</td>\n",
       "        <td>15184</td>\n",
       "        <td>26409</td>\n",
       "        <td>15184</td>\n",
       "        <td>15184</td>\n",
       "        <td>4</td>\n",
       "        <td>2664</td>\n",
       "    </tr>\n",
       "    <tr>\n",
       "        <td>15-00197316</td>\n",
       "        <td>SBDEBROW</td>\n",
       "        <td>Debris in Street</td>\n",
       "        <td>Public Works</td>\n",
       "        <td>Closed</td>\n",
       "        <td>18080</td>\n",
       "        <td>23995</td>\n",
       "        <td>18080</td>\n",
       "        <td>18080</td>\n",
       "        <td>15</td>\n",
       "        <td>28732</td>\n",
       "    </tr>\n",
       "    <tr>\n",
       "        <td>16-00002457</td>\n",
       "        <td>PWBICYCL</td>\n",
       "        <td>Bicycle Issues</td>\n",
       "        <td>Transportation</td>\n",
       "        <td>Closed</td>\n",
       "        <td>5368</td>\n",
       "        <td>15236</td>\n",
       "        <td>5368</td>\n",
       "        <td>5368</td>\n",
       "        <td>15</td>\n",
       "        <td>70406</td>\n",
       "    </tr>\n",
       "</table>"
      ],
      "text/plain": [
       "[('15-00156133', 'CODECOMP', 'Austin Code - Request Code Officer', 'Austin Code Department', 'Closed', 10670, 22359, 10670, 10670, 15, 182972),\n",
       " ('15-00151017', 'ARRBRUBU', 'ARR Brush and Bulk', 'Austin Resource Recovery', 'Closed', 17765, 20410, 17765, 17765, 15, 67057),\n",
       " ('15-00164213', 'SBPOTREP', 'Pothole Repair', 'Public Works', 'Closed', 15184, 26409, 15184, 15184, 4, 2664),\n",
       " ('15-00197316', 'SBDEBROW', 'Debris in Street', 'Public Works', 'Closed', 18080, 23995, 18080, 18080, 15, 28732),\n",
       " ('16-00002457', 'PWBICYCL', 'Bicycle Issues', 'Transportation', 'Closed', 5368, 15236, 5368, 5368, 15, 70406)]"
      ]
     },
     "execution_count": 47,
     "metadata": {},
     "output_type": "execute_result"
    }
   ],
   "source": [
    "%%sql\n",
    "SELECT *\n",
    "FROM facts\n",
    "LIMIT 5;"
   ]
  },
  {
   "cell_type": "markdown",
   "metadata": {},
   "source": [
    "Create 'Service_type' table"
   ]
  },
  {
   "cell_type": "code",
   "execution_count": 48,
   "metadata": {},
   "outputs": [
    {
     "name": "stdout",
     "output_type": "stream",
     "text": [
      "Done.\n",
      "146 rows affected.\n"
     ]
    },
    {
     "data": {
      "text/plain": [
       "[]"
      ]
     },
     "execution_count": 48,
     "metadata": {},
     "output_type": "execute_result"
    }
   ],
   "source": [
    "%%sql\n",
    "DROP TABLE  IF EXISTS Service_type;\n",
    "\n",
    "SELECT Distinct\n",
    "sr_type_code,\n",
    "sr_description,\n",
    "owning_department\n",
    "INTO Service_type\n",
    "FROM facts;"
   ]
  },
  {
   "cell_type": "code",
   "execution_count": 49,
   "metadata": {},
   "outputs": [
    {
     "name": "stdout",
     "output_type": "stream",
     "text": [
      "Done.\n"
     ]
    },
    {
     "data": {
      "text/plain": [
       "[]"
      ]
     },
     "execution_count": 49,
     "metadata": {},
     "output_type": "execute_result"
    }
   ],
   "source": [
    "%%sql\n",
    "ALTER TABLE Service_type\n",
    "ADD COLUMN Service_type_key SERIAL PRIMARY KEY;"
   ]
  },
  {
   "cell_type": "code",
   "execution_count": 50,
   "metadata": {},
   "outputs": [
    {
     "name": "stdout",
     "output_type": "stream",
     "text": [
      "Done.\n"
     ]
    },
    {
     "data": {
      "text/plain": [
       "[]"
      ]
     },
     "execution_count": 50,
     "metadata": {},
     "output_type": "execute_result"
    }
   ],
   "source": [
    "%%sql\n",
    "ALTER TABLE facts\n",
    "ADD COLUMN Service_type_key INTEGER,\n",
    "ADD CONSTRAINT fk_Service_type_key\n",
    "    FOREIGN KEY (Service_type_key)\n",
    "    REFERENCES Service_type (Service_type_key);"
   ]
  },
  {
   "cell_type": "markdown",
   "metadata": {},
   "source": [
    "Update Service_type_key into fact table."
   ]
  },
  {
   "cell_type": "code",
   "execution_count": 51,
   "metadata": {},
   "outputs": [
    {
     "name": "stdout",
     "output_type": "stream",
     "text": [
      "1 rows affected.\n"
     ]
    },
    {
     "data": {
      "text/html": [
       "<table>\n",
       "    <tr>\n",
       "        <th>count</th>\n",
       "    </tr>\n",
       "    <tr>\n",
       "        <td>344794</td>\n",
       "    </tr>\n",
       "</table>"
      ],
      "text/plain": [
       "[(344794,)]"
      ]
     },
     "execution_count": 51,
     "metadata": {},
     "output_type": "execute_result"
    }
   ],
   "source": [
    "%%sql\n",
    "Select count(*)\n",
    "FROM Service_type as s,facts as f\n",
    "WHERE\n",
    "s.sr_type_code = f.sr_type_code AND\n",
    "s.sr_description = f.sr_description AND\n",
    "s.owning_department = f.owning_department;"
   ]
  },
  {
   "cell_type": "code",
   "execution_count": 52,
   "metadata": {},
   "outputs": [
    {
     "name": "stdout",
     "output_type": "stream",
     "text": [
      "344794 rows affected.\n"
     ]
    },
    {
     "data": {
      "text/plain": [
       "[]"
      ]
     },
     "execution_count": 52,
     "metadata": {},
     "output_type": "execute_result"
    }
   ],
   "source": [
    "%%sql\n",
    "UPDATE facts as f\n",
    "SET Service_type_key = s.Service_type_key\n",
    "FROM Service_type as s\n",
    "WHERE \n",
    "s.sr_type_code = f.sr_type_code AND\n",
    "s.sr_description = f.sr_description AND\n",
    "s.owning_department = f.owning_department;"
   ]
  },
  {
   "cell_type": "code",
   "execution_count": 53,
   "metadata": {},
   "outputs": [
    {
     "name": "stdout",
     "output_type": "stream",
     "text": [
      "5 rows affected.\n"
     ]
    },
    {
     "data": {
      "text/html": [
       "<table>\n",
       "    <tr>\n",
       "        <th>sr_number</th>\n",
       "        <th>sr_type_code</th>\n",
       "        <th>sr_description</th>\n",
       "        <th>owning_department</th>\n",
       "        <th>sr_status</th>\n",
       "        <th>status_change_date_key</th>\n",
       "        <th>created_date_key</th>\n",
       "        <th>last_update_date_key</th>\n",
       "        <th>close_date_key</th>\n",
       "        <th>method_key</th>\n",
       "        <th>location_key</th>\n",
       "        <th>service_type_key</th>\n",
       "    </tr>\n",
       "    <tr>\n",
       "        <td>16-00002457</td>\n",
       "        <td>PWBICYCL</td>\n",
       "        <td>Bicycle Issues</td>\n",
       "        <td>Transportation</td>\n",
       "        <td>Closed</td>\n",
       "        <td>5368</td>\n",
       "        <td>15236</td>\n",
       "        <td>5368</td>\n",
       "        <td>5368</td>\n",
       "        <td>15</td>\n",
       "        <td>70406</td>\n",
       "        <td>88</td>\n",
       "    </tr>\n",
       "    <tr>\n",
       "        <td>15-00303997</td>\n",
       "        <td>SBPOTREP</td>\n",
       "        <td>Pothole Repair</td>\n",
       "        <td>Public Works</td>\n",
       "        <td>Resolved</td>\n",
       "        <td>21920</td>\n",
       "        <td>3836</td>\n",
       "        <td>21789</td>\n",
       "        <td>21920</td>\n",
       "        <td>15</td>\n",
       "        <td>192585</td>\n",
       "        <td>105</td>\n",
       "    </tr>\n",
       "    <tr>\n",
       "        <td>15-00288634</td>\n",
       "        <td>SIGNNEWT</td>\n",
       "        <td>Sign - New</td>\n",
       "        <td>Transportation</td>\n",
       "        <td>Closed</td>\n",
       "        <td>25255</td>\n",
       "        <td>21416</td>\n",
       "        <td>25255</td>\n",
       "        <td>25255</td>\n",
       "        <td>15</td>\n",
       "        <td>15481</td>\n",
       "        <td>117</td>\n",
       "    </tr>\n",
       "    <tr>\n",
       "        <td>16-00073334</td>\n",
       "        <td>SBPOTREP</td>\n",
       "        <td>Pothole Repair</td>\n",
       "        <td>Public Works</td>\n",
       "        <td>Closed</td>\n",
       "        <td>13847</td>\n",
       "        <td>11807</td>\n",
       "        <td>9829</td>\n",
       "        <td>13847</td>\n",
       "        <td>4</td>\n",
       "        <td>85122</td>\n",
       "        <td>105</td>\n",
       "    </tr>\n",
       "    <tr>\n",
       "        <td>17-00023691</td>\n",
       "        <td>SBSIDERE</td>\n",
       "        <td>Sidewalk Repair</td>\n",
       "        <td>Public Works</td>\n",
       "        <td>Closed</td>\n",
       "        <td>25348</td>\n",
       "        <td>6722</td>\n",
       "        <td>25348</td>\n",
       "        <td>25348</td>\n",
       "        <td>4</td>\n",
       "        <td>176379</td>\n",
       "        <td>108</td>\n",
       "    </tr>\n",
       "</table>"
      ],
      "text/plain": [
       "[('16-00002457', 'PWBICYCL', 'Bicycle Issues', 'Transportation', 'Closed', 5368, 15236, 5368, 5368, 15, 70406, 88),\n",
       " ('15-00303997', 'SBPOTREP', 'Pothole Repair', 'Public Works', 'Resolved', 21920, 3836, 21789, 21920, 15, 192585, 105),\n",
       " ('15-00288634', 'SIGNNEWT', 'Sign - New', 'Transportation', 'Closed', 25255, 21416, 25255, 25255, 15, 15481, 117),\n",
       " ('16-00073334', 'SBPOTREP', 'Pothole Repair', 'Public Works', 'Closed', 13847, 11807, 9829, 13847, 4, 85122, 105),\n",
       " ('17-00023691', 'SBSIDERE', 'Sidewalk Repair', 'Public Works', 'Closed', 25348, 6722, 25348, 25348, 4, 176379, 108)]"
      ]
     },
     "execution_count": 53,
     "metadata": {},
     "output_type": "execute_result"
    }
   ],
   "source": [
    "%%sql\n",
    "SELECT *\n",
    "FROM facts\n",
    "LIMIT 5;"
   ]
  },
  {
   "cell_type": "code",
   "execution_count": 54,
   "metadata": {},
   "outputs": [
    {
     "name": "stdout",
     "output_type": "stream",
     "text": [
      "Done.\n"
     ]
    },
    {
     "data": {
      "text/plain": [
       "[]"
      ]
     },
     "execution_count": 54,
     "metadata": {},
     "output_type": "execute_result"
    }
   ],
   "source": [
    "%%sql\n",
    "ALTER TABLE facts\n",
    "DROP COLUMN sr_type_code,\n",
    "DROP COLUMN sr_description,\n",
    "DROP COLUMN owning_department;"
   ]
  },
  {
   "cell_type": "markdown",
   "metadata": {},
   "source": [
    "We finished the star schema."
   ]
  },
  {
   "cell_type": "code",
   "execution_count": 55,
   "metadata": {},
   "outputs": [
    {
     "data": {
      "text/html": [
       "<img src=\"https://s3.amazonaws.com/leiwen/dmfa/star_schema.jpg\"/>"
      ],
      "text/plain": [
       "<IPython.core.display.Image object>"
      ]
     },
     "execution_count": 55,
     "metadata": {},
     "output_type": "execute_result"
    }
   ],
   "source": [
    "from IPython.display import Image\n",
    "url = \"https://s3.amazonaws.com/leiwen/dmfa/star_schema.jpg\"\n",
    "Image(url=url)"
   ]
  },
  {
   "cell_type": "markdown",
   "metadata": {},
   "source": [
    "Verification of Star Schema"
   ]
  },
  {
   "cell_type": "code",
   "execution_count": 56,
   "metadata": {},
   "outputs": [
    {
     "name": "stdout",
     "output_type": "stream",
     "text": [
      "5 rows affected.\n"
     ]
    },
    {
     "data": {
      "text/html": [
       "<table>\n",
       "    <tr>\n",
       "        <th>sr_number</th>\n",
       "        <th>sr_status</th>\n",
       "        <th>status_change_date_key</th>\n",
       "        <th>created_date_key</th>\n",
       "        <th>last_update_date_key</th>\n",
       "        <th>close_date_key</th>\n",
       "        <th>method_key</th>\n",
       "        <th>location_key</th>\n",
       "        <th>service_type_key</th>\n",
       "    </tr>\n",
       "    <tr>\n",
       "        <td>17-00023691</td>\n",
       "        <td>Closed</td>\n",
       "        <td>25348</td>\n",
       "        <td>6722</td>\n",
       "        <td>25348</td>\n",
       "        <td>25348</td>\n",
       "        <td>4</td>\n",
       "        <td>176379</td>\n",
       "        <td>108</td>\n",
       "    </tr>\n",
       "    <tr>\n",
       "        <td>16-00266732</td>\n",
       "        <td>Closed</td>\n",
       "        <td>14777</td>\n",
       "        <td>15035</td>\n",
       "        <td>14777</td>\n",
       "        <td>14777</td>\n",
       "        <td>15</td>\n",
       "        <td>120691</td>\n",
       "        <td>105</td>\n",
       "    </tr>\n",
       "    <tr>\n",
       "        <td>14-00004887</td>\n",
       "        <td>Closed</td>\n",
       "        <td>3955</td>\n",
       "        <td>28106</td>\n",
       "        <td>3955</td>\n",
       "        <td>3955</td>\n",
       "        <td>15</td>\n",
       "        <td>42444</td>\n",
       "        <td>104</td>\n",
       "    </tr>\n",
       "    <tr>\n",
       "        <td>14-00005410</td>\n",
       "        <td>Closed</td>\n",
       "        <td>15755</td>\n",
       "        <td>25131</td>\n",
       "        <td>15755</td>\n",
       "        <td>15755</td>\n",
       "        <td>15</td>\n",
       "        <td>62503</td>\n",
       "        <td>105</td>\n",
       "    </tr>\n",
       "    <tr>\n",
       "        <td>14-00007749</td>\n",
       "        <td>Closed</td>\n",
       "        <td>4629</td>\n",
       "        <td>16669</td>\n",
       "        <td>16042</td>\n",
       "        <td>4629</td>\n",
       "        <td>15</td>\n",
       "        <td>172096</td>\n",
       "        <td>104</td>\n",
       "    </tr>\n",
       "</table>"
      ],
      "text/plain": [
       "[('17-00023691', 'Closed', 25348, 6722, 25348, 25348, 4, 176379, 108),\n",
       " ('16-00266732', 'Closed', 14777, 15035, 14777, 14777, 15, 120691, 105),\n",
       " ('14-00004887', 'Closed', 3955, 28106, 3955, 3955, 15, 42444, 104),\n",
       " ('14-00005410', 'Closed', 15755, 25131, 15755, 15755, 15, 62503, 105),\n",
       " ('14-00007749', 'Closed', 4629, 16669, 16042, 4629, 15, 172096, 104)]"
      ]
     },
     "execution_count": 56,
     "metadata": {},
     "output_type": "execute_result"
    }
   ],
   "source": [
    "%%sql\n",
    "SELECT *\n",
    "FROM facts\n",
    "LIMIT 5;"
   ]
  },
  {
   "cell_type": "code",
   "execution_count": 57,
   "metadata": {},
   "outputs": [
    {
     "name": "stdout",
     "output_type": "stream",
     "text": [
      "5 rows affected.\n"
     ]
    },
    {
     "data": {
      "text/html": [
       "<table>\n",
       "    <tr>\n",
       "        <th>hour_key</th>\n",
       "        <th>hour</th>\n",
       "        <th>day</th>\n",
       "        <th>year</th>\n",
       "        <th>month_of_year_str</th>\n",
       "        <th>month_of_year</th>\n",
       "        <th>day_of_month</th>\n",
       "        <th>day_of_week_str</th>\n",
       "        <th>day_of_week</th>\n",
       "        <th>is_weekend</th>\n",
       "        <th>is_weekday</th>\n",
       "        <th>hour_of_day</th>\n",
       "        <th>quarter_of_year</th>\n",
       "    </tr>\n",
       "    <tr>\n",
       "        <td>1</td>\n",
       "        <td>2015-10-16 06:00:00</td>\n",
       "        <td>2015-10-16</td>\n",
       "        <td>2015</td>\n",
       "        <td>October  </td>\n",
       "        <td>10</td>\n",
       "        <td>16</td>\n",
       "        <td>Friday   </td>\n",
       "        <td>6</td>\n",
       "        <td>False</td>\n",
       "        <td>True</td>\n",
       "        <td>6</td>\n",
       "        <td>4</td>\n",
       "    </tr>\n",
       "    <tr>\n",
       "        <td>2</td>\n",
       "        <td>2017-09-22 00:00:00</td>\n",
       "        <td>2017-09-22</td>\n",
       "        <td>2017</td>\n",
       "        <td>September</td>\n",
       "        <td>9</td>\n",
       "        <td>22</td>\n",
       "        <td>Friday   </td>\n",
       "        <td>6</td>\n",
       "        <td>False</td>\n",
       "        <td>True</td>\n",
       "        <td>0</td>\n",
       "        <td>3</td>\n",
       "    </tr>\n",
       "    <tr>\n",
       "        <td>3</td>\n",
       "        <td>2014-01-26 16:00:00</td>\n",
       "        <td>2014-01-26</td>\n",
       "        <td>2014</td>\n",
       "        <td>January  </td>\n",
       "        <td>1</td>\n",
       "        <td>26</td>\n",
       "        <td>Sunday   </td>\n",
       "        <td>1</td>\n",
       "        <td>True</td>\n",
       "        <td>False</td>\n",
       "        <td>16</td>\n",
       "        <td>1</td>\n",
       "    </tr>\n",
       "    <tr>\n",
       "        <td>4</td>\n",
       "        <td>2015-09-24 16:00:00</td>\n",
       "        <td>2015-09-24</td>\n",
       "        <td>2015</td>\n",
       "        <td>September</td>\n",
       "        <td>9</td>\n",
       "        <td>24</td>\n",
       "        <td>Thursday </td>\n",
       "        <td>5</td>\n",
       "        <td>False</td>\n",
       "        <td>True</td>\n",
       "        <td>16</td>\n",
       "        <td>3</td>\n",
       "    </tr>\n",
       "    <tr>\n",
       "        <td>5</td>\n",
       "        <td>2017-03-15 08:00:00</td>\n",
       "        <td>2017-03-15</td>\n",
       "        <td>2017</td>\n",
       "        <td>March    </td>\n",
       "        <td>3</td>\n",
       "        <td>15</td>\n",
       "        <td>Wednesday</td>\n",
       "        <td>4</td>\n",
       "        <td>False</td>\n",
       "        <td>True</td>\n",
       "        <td>8</td>\n",
       "        <td>1</td>\n",
       "    </tr>\n",
       "</table>"
      ],
      "text/plain": [
       "[(1, '2015-10-16 06:00:00', '2015-10-16', 2015, 'October  ', 10, 16, 'Friday   ', 6, False, True, 6, 4),\n",
       " (2, '2017-09-22 00:00:00', '2017-09-22', 2017, 'September', 9, 22, 'Friday   ', 6, False, True, 0, 3),\n",
       " (3, '2014-01-26 16:00:00', '2014-01-26', 2014, 'January  ', 1, 26, 'Sunday   ', 1, True, False, 16, 1),\n",
       " (4, '2015-09-24 16:00:00', '2015-09-24', 2015, 'September', 9, 24, 'Thursday ', 5, False, True, 16, 3),\n",
       " (5, '2017-03-15 08:00:00', '2017-03-15', 2017, 'March    ', 3, 15, 'Wednesday', 4, False, True, 8, 1)]"
      ]
     },
     "execution_count": 57,
     "metadata": {},
     "output_type": "execute_result"
    }
   ],
   "source": [
    "%%sql\n",
    "SELECT *\n",
    "FROM hour\n",
    "LIMIT 5;"
   ]
  },
  {
   "cell_type": "code",
   "execution_count": 58,
   "metadata": {},
   "outputs": [
    {
     "name": "stdout",
     "output_type": "stream",
     "text": [
      "5 rows affected.\n"
     ]
    },
    {
     "data": {
      "text/html": [
       "<table>\n",
       "    <tr>\n",
       "        <th>method_key</th>\n",
       "        <th>method</th>\n",
       "    </tr>\n",
       "    <tr>\n",
       "        <td>1</td>\n",
       "        <td>Mobile Devi</td>\n",
       "    </tr>\n",
       "    <tr>\n",
       "        <td>2</td>\n",
       "        <td>Mass Entry</td>\n",
       "    </tr>\n",
       "    <tr>\n",
       "        <td>3</td>\n",
       "        <td>CSR - Follow On SR</td>\n",
       "    </tr>\n",
       "    <tr>\n",
       "        <td>4</td>\n",
       "        <td>Web</td>\n",
       "    </tr>\n",
       "    <tr>\n",
       "        <td>5</td>\n",
       "        <td>Social Media</td>\n",
       "    </tr>\n",
       "</table>"
      ],
      "text/plain": [
       "[(1, 'Mobile Devi'),\n",
       " (2, 'Mass Entry'),\n",
       " (3, 'CSR - Follow On SR'),\n",
       " (4, 'Web'),\n",
       " (5, 'Social Media')]"
      ]
     },
     "execution_count": 58,
     "metadata": {},
     "output_type": "execute_result"
    }
   ],
   "source": [
    "%%sql\n",
    "SELECT *\n",
    "FROM Method\n",
    "LIMIT 5;"
   ]
  },
  {
   "cell_type": "code",
   "execution_count": 59,
   "metadata": {},
   "outputs": [
    {
     "name": "stdout",
     "output_type": "stream",
     "text": [
      "5 rows affected.\n"
     ]
    },
    {
     "data": {
      "text/html": [
       "<table>\n",
       "    <tr>\n",
       "        <th>sr_location</th>\n",
       "        <th>street_number</th>\n",
       "        <th>street_name</th>\n",
       "        <th>city</th>\n",
       "        <th>zip_code</th>\n",
       "        <th>county</th>\n",
       "        <th>state_plane_x_coordinate</th>\n",
       "        <th>state_plane_y_coordinate</th>\n",
       "        <th>latitude_coordinate</th>\n",
       "        <th>longitude_coordinate</th>\n",
       "        <th>council_district</th>\n",
       "        <th>map_page</th>\n",
       "        <th>map_tile</th>\n",
       "        <th>location_key</th>\n",
       "    </tr>\n",
       "    <tr>\n",
       "        <td>0 BASTROP HWY NB, AUSTIN, TX</td>\n",
       "        <td>0.0</td>\n",
       "        <td>BASTROP HWY</td>\n",
       "        <td>AUSTIN</td>\n",
       "        <td>78725</td>\n",
       "        <td>TRAVIS</td>\n",
       "        <td>3131078.8046126</td>\n",
       "        <td>10062985.5990243</td>\n",
       "        <td>30.24562909</td>\n",
       "        <td>-97.69029776</td>\n",
       "        <td>3</td>\n",
       "        <td>616K</td>\n",
       "        <td>ML20</td>\n",
       "        <td>1</td>\n",
       "    </tr>\n",
       "    <tr>\n",
       "        <td>0 E US 290 HWY EB, AUSTIN, TX</td>\n",
       "        <td>0.0</td>\n",
       "        <td>290</td>\n",
       "        <td>AUSTIN</td>\n",
       "        <td>78724</td>\n",
       "        <td>TRAVIS</td>\n",
       "        <td>3136294.85582263</td>\n",
       "        <td>10092147.3753045</td>\n",
       "        <td>30.32544739</td>\n",
       "        <td>-97.67157404</td>\n",
       "        <td>1</td>\n",
       "        <td>558A</td>\n",
       "        <td>MQ27</td>\n",
       "        <td>2</td>\n",
       "    </tr>\n",
       "    <tr>\n",
       "        <td>0 E US 290 HWY EB, AUSTIN, TX</td>\n",
       "        <td>0.0</td>\n",
       "        <td>290</td>\n",
       "        <td>AUSTIN</td>\n",
       "        <td>78724</td>\n",
       "        <td>TRAVIS</td>\n",
       "        <td>3136294.856</td>\n",
       "        <td>10092147.38</td>\n",
       "        <td>30.32544739</td>\n",
       "        <td>-97.67157404</td>\n",
       "        <td>1</td>\n",
       "        <td>558A</td>\n",
       "        <td>MQ27</td>\n",
       "        <td>3</td>\n",
       "    </tr>\n",
       "    <tr>\n",
       "        <td>0 N SH 130 NB, AUSTIN, TX</td>\n",
       "        <td>0.0</td>\n",
       "        <td>130</td>\n",
       "        <td>AUSTIN</td>\n",
       "        <td>78653</td>\n",
       "        <td>TRAVIS</td>\n",
       "        <td>3168463.31273532</td>\n",
       "        <td>10087069.4062448</td>\n",
       "        <td>30.30933259</td>\n",
       "        <td>-97.57004581</td>\n",
       "        <td>1</td>\n",
       "        <td>559P</td>\n",
       "        <td>MS26</td>\n",
       "        <td>4</td>\n",
       "    </tr>\n",
       "    <tr>\n",
       "        <td>0 RESEARCH BLVD SVRD NB, AUSTIN, TX 78758</td>\n",
       "        <td>0.0</td>\n",
       "        <td>RESEARCH BLVD SVRD</td>\n",
       "        <td>AUSTIN</td>\n",
       "        <td>78758</td>\n",
       "        <td>TRAVIS</td>\n",
       "        <td>3118828.582</td>\n",
       "        <td>10109080.93</td>\n",
       "        <td>30.37313223</td>\n",
       "        <td>-97.72566097</td>\n",
       "        <td>7</td>\n",
       "        <td>495Y</td>\n",
       "        <td>MK31</td>\n",
       "        <td>5</td>\n",
       "    </tr>\n",
       "</table>"
      ],
      "text/plain": [
       "[('0 BASTROP HWY NB, AUSTIN, TX', '0.0', 'BASTROP HWY', 'AUSTIN', 78725, 'TRAVIS', '3131078.8046126', '10062985.5990243', Decimal('30.24562909'), Decimal('-97.69029776'), 3, '616K', 'ML20', 1),\n",
       " ('0 E US 290 HWY EB, AUSTIN, TX', '0.0', '290', 'AUSTIN', 78724, 'TRAVIS', '3136294.85582263', '10092147.3753045', Decimal('30.32544739'), Decimal('-97.67157404'), 1, '558A', 'MQ27', 2),\n",
       " ('0 E US 290 HWY EB, AUSTIN, TX', '0.0', '290', 'AUSTIN', 78724, 'TRAVIS', '3136294.856', '10092147.38', Decimal('30.32544739'), Decimal('-97.67157404'), 1, '558A', 'MQ27', 3),\n",
       " ('0 N SH 130 NB, AUSTIN, TX', '0.0', '130', 'AUSTIN', 78653, 'TRAVIS', '3168463.31273532', '10087069.4062448', Decimal('30.30933259'), Decimal('-97.57004581'), 1, '559P', 'MS26', 4),\n",
       " ('0 RESEARCH BLVD SVRD NB, AUSTIN, TX 78758', '0.0', 'RESEARCH BLVD SVRD', 'AUSTIN', 78758, 'TRAVIS', '3118828.582', '10109080.93', Decimal('30.37313223'), Decimal('-97.72566097'), 7, '495Y', 'MK31', 5)]"
      ]
     },
     "execution_count": 59,
     "metadata": {},
     "output_type": "execute_result"
    }
   ],
   "source": [
    "%%sql\n",
    "SELECT *\n",
    "FROM Location\n",
    "LIMIT 5;"
   ]
  },
  {
   "cell_type": "code",
   "execution_count": 60,
   "metadata": {},
   "outputs": [
    {
     "name": "stdout",
     "output_type": "stream",
     "text": [
      "5 rows affected.\n"
     ]
    },
    {
     "data": {
      "text/html": [
       "<table>\n",
       "    <tr>\n",
       "        <th>sr_type_code</th>\n",
       "        <th>sr_description</th>\n",
       "        <th>owning_department</th>\n",
       "        <th>service_type_key</th>\n",
       "    </tr>\n",
       "    <tr>\n",
       "        <td>ACBITE2</td>\n",
       "        <td>Animal Bite</td>\n",
       "        <td>Animal Services Office</td>\n",
       "        <td>1</td>\n",
       "    </tr>\n",
       "    <tr>\n",
       "        <td>ACCOYTE</td>\n",
       "        <td>Coyote Complaints</td>\n",
       "        <td>Animal Services Office</td>\n",
       "        <td>2</td>\n",
       "    </tr>\n",
       "    <tr>\n",
       "        <td>ACFOUND</td>\n",
       "        <td>Found Animal - Pick Up</td>\n",
       "        <td>Animal Services Office</td>\n",
       "        <td>3</td>\n",
       "    </tr>\n",
       "    <tr>\n",
       "        <td>ACINFORM</td>\n",
       "        <td>Animal Control - Assistance Request</td>\n",
       "        <td>Animal Services Office</td>\n",
       "        <td>4</td>\n",
       "    </tr>\n",
       "    <tr>\n",
       "        <td>ACLOANIM</td>\n",
       "        <td>Loose Animal (not dog)</td>\n",
       "        <td>Animal Services Office</td>\n",
       "        <td>5</td>\n",
       "    </tr>\n",
       "</table>"
      ],
      "text/plain": [
       "[('ACBITE2', 'Animal Bite', 'Animal Services Office', 1),\n",
       " ('ACCOYTE', 'Coyote Complaints', 'Animal Services Office', 2),\n",
       " ('ACFOUND', 'Found Animal - Pick Up', 'Animal Services Office', 3),\n",
       " ('ACINFORM', 'Animal Control - Assistance Request', 'Animal Services Office', 4),\n",
       " ('ACLOANIM', 'Loose Animal (not dog)', 'Animal Services Office', 5)]"
      ]
     },
     "execution_count": 60,
     "metadata": {},
     "output_type": "execute_result"
    }
   ],
   "source": [
    "%%sql\n",
    "SELECT *\n",
    "FROM Service_type\n",
    "LIMIT 5;"
   ]
  },
  {
   "cell_type": "markdown",
   "metadata": {},
   "source": [
    "## Analysis "
   ]
  },
  {
   "cell_type": "markdown",
   "metadata": {},
   "source": [
    "**We use plotly to do visulization. To use plotly, please install it in the EC2's terminal by input \"pip install plotly --user\".\n",
    "<br>\n",
    "Since the figure of plotly won't save when we close this file, here's a clarification, we have run all codes, but the figure won't show. Please run following codes, or review figures that we saved in our submitted folder.**"
   ]
  },
  {
   "cell_type": "code",
   "execution_count": 61,
   "metadata": {},
   "outputs": [
    {
     "data": {
      "text/html": [
       "<script>requirejs.config({paths: { 'plotly': ['https://cdn.plot.ly/plotly-latest.min']},});if(!window.Plotly) {{require(['plotly'],function(plotly) {window.Plotly=plotly;});}}</script>"
      ],
      "text/vnd.plotly.v1+html": [
       "<script>requirejs.config({paths: { 'plotly': ['https://cdn.plot.ly/plotly-latest.min']},});if(!window.Plotly) {{require(['plotly'],function(plotly) {window.Plotly=plotly;});}}</script>"
      ]
     },
     "metadata": {},
     "output_type": "display_data"
    }
   ],
   "source": [
    "#plotly.offline doesn't push your charts to the clouds\n",
    "import plotly.offline as pyo\n",
    "#allows us to create the Data and Figure objects\n",
    "from plotly.graph_objs import *\n",
    "#plotly.plotly pushes your charts to the cloud  \n",
    "import plotly.plotly as py\n",
    "from plotly.offline import download_plotlyjs, init_notebook_mode, plot, iplot\n",
    "init_notebook_mode(connected=True)\n",
    "#pandas is a data analysis library\n",
    "import pandas as pd\n",
    "from pandas import DataFrame"
   ]
  },
  {
   "cell_type": "code",
   "execution_count": 62,
   "metadata": {
    "collapsed": true
   },
   "outputs": [],
   "source": [
    "import pandas.io.sql as pdsql\n",
    "import psycopg2"
   ]
  },
  {
   "cell_type": "code",
   "execution_count": 63,
   "metadata": {
    "collapsed": true
   },
   "outputs": [],
   "source": [
    "conn = psycopg2.connect(\"dbname='project4' user='student' host='localhost' password=''\")"
   ]
  },
  {
   "cell_type": "markdown",
   "metadata": {},
   "source": [
    "### 1. Number of cases for different service type"
   ]
  },
  {
   "cell_type": "code",
   "execution_count": 64,
   "metadata": {},
   "outputs": [
    {
     "name": "stdout",
     "output_type": "stream",
     "text": [
      "10 rows affected.\n"
     ]
    },
    {
     "data": {
      "text/html": [
       "<table>\n",
       "    <tr>\n",
       "        <th>sr_description</th>\n",
       "        <th>count</th>\n",
       "    </tr>\n",
       "    <tr>\n",
       "        <td>Austin Code - Request Code Officer</td>\n",
       "        <td>75968</td>\n",
       "    </tr>\n",
       "    <tr>\n",
       "        <td>ARR Dead Animal Collection</td>\n",
       "        <td>19227</td>\n",
       "    </tr>\n",
       "    <tr>\n",
       "        <td>ARR Missed Recycling</td>\n",
       "        <td>19082</td>\n",
       "    </tr>\n",
       "    <tr>\n",
       "        <td>Loose Dog</td>\n",
       "        <td>17915</td>\n",
       "    </tr>\n",
       "    <tr>\n",
       "        <td>Animal Control - Assistance Request</td>\n",
       "        <td>16163</td>\n",
       "    </tr>\n",
       "    <tr>\n",
       "        <td>Street Light Issue- Address</td>\n",
       "        <td>13865</td>\n",
       "    </tr>\n",
       "    <tr>\n",
       "        <td>ARR Missed Yard Trimmings /Organics</td>\n",
       "        <td>12749</td>\n",
       "    </tr>\n",
       "    <tr>\n",
       "        <td>Graffiti Abatement</td>\n",
       "        <td>11883</td>\n",
       "    </tr>\n",
       "    <tr>\n",
       "        <td>Water Waste Report</td>\n",
       "        <td>11847</td>\n",
       "    </tr>\n",
       "    <tr>\n",
       "        <td>Injured / Sick Animal</td>\n",
       "        <td>10888</td>\n",
       "    </tr>\n",
       "</table>"
      ],
      "text/plain": [
       "[('Austin Code - Request Code Officer', 75968),\n",
       " ('ARR Dead Animal Collection', 19227),\n",
       " ('ARR Missed Recycling', 19082),\n",
       " ('Loose Dog', 17915),\n",
       " ('Animal Control - Assistance Request', 16163),\n",
       " ('Street Light Issue- Address', 13865),\n",
       " ('ARR Missed Yard Trimmings /Organics', 12749),\n",
       " ('Graffiti Abatement', 11883),\n",
       " ('Water Waste Report', 11847),\n",
       " ('Injured / Sick Animal', 10888)]"
      ]
     },
     "execution_count": 64,
     "metadata": {},
     "output_type": "execute_result"
    }
   ],
   "source": [
    "%%sql\n",
    "SELECT  Service_type.sr_description, COUNT(*) AS count \n",
    "FROM facts \n",
    "JOIN Service_type ON facts.Service_type_key = Service_type.Service_type_key \n",
    "GROUP BY 1 \n",
    "ORDER BY count DESC \n",
    "LIMIT 10;"
   ]
  },
  {
   "cell_type": "code",
   "execution_count": 65,
   "metadata": {
    "collapsed": true
   },
   "outputs": [],
   "source": [
    "temp = pdsql.read_sql('''SELECT Service_type.sr_type_code, Service_type.sr_description, COUNT(*) AS count \n",
    "FROM facts\n",
    "JOIN Service_type ON facts.Service_type_key = Service_type.Service_type_key \n",
    "GROUP BY 1,2 \n",
    "ORDER BY count DESC \n",
    "LIMIT 10;\n",
    "               ''',conn)"
   ]
  },
  {
   "cell_type": "code",
   "execution_count": 66,
   "metadata": {},
   "outputs": [
    {
     "name": "stdout",
     "output_type": "stream",
     "text": [
      "5 rows affected.\n"
     ]
    },
    {
     "data": {
      "text/html": [
       "<table>\n",
       "    <tr>\n",
       "        <th>year</th>\n",
       "    </tr>\n",
       "    <tr>\n",
       "        <td>2013</td>\n",
       "    </tr>\n",
       "    <tr>\n",
       "        <td>2014</td>\n",
       "    </tr>\n",
       "    <tr>\n",
       "        <td>2015</td>\n",
       "    </tr>\n",
       "    <tr>\n",
       "        <td>2016</td>\n",
       "    </tr>\n",
       "    <tr>\n",
       "        <td>2017</td>\n",
       "    </tr>\n",
       "</table>"
      ],
      "text/plain": [
       "[(2013,), (2014,), (2015,), (2016,), (2017,)]"
      ]
     },
     "execution_count": 66,
     "metadata": {},
     "output_type": "execute_result"
    }
   ],
   "source": [
    "%%sql \n",
    "Select Distinct year\n",
    "From hour\n",
    "ORDER BY year;"
   ]
  },
  {
   "cell_type": "code",
   "execution_count": 67,
   "metadata": {},
   "outputs": [
    {
     "data": {
      "application/vnd.plotly.v1+json": {
       "data": [
        {
         "marker": {
          "color": "lightblue",
          "line": {
           "color": "#333",
           "width": 2
          }
         },
         "opacity": 0.5,
         "type": "bar",
         "x": [
          "Austin Code - Request Code Officer",
          "ARR Dead Animal Collection",
          "ARR Missed Recycling",
          "Loose Dog",
          "Animal Control - Assistance Request",
          "Street Light Issue- Address",
          "ARR Missed Yard Trimmings /Organics",
          "Graffiti Abatement",
          "Water Waste Report",
          "Injured / Sick Animal"
         ],
         "y": [
          75968,
          19227,
          19082,
          17915,
          16163,
          13865,
          12749,
          11883,
          11847,
          10888
         ]
        }
       ],
       "layout": {
        "title": "Service Types in Total (From 2014-2017)",
        "xaxis": {
         "title": "Service Types"
        },
        "yaxis": {
         "title": "Number of cases"
        }
       }
      },
      "text/html": [
       "<div id=\"0051b411-b216-4328-a013-724aa22f5431\" style=\"height: 525px; width: 100%;\" class=\"plotly-graph-div\"></div><script type=\"text/javascript\">require([\"plotly\"], function(Plotly) { window.PLOTLYENV=window.PLOTLYENV || {};window.PLOTLYENV.BASE_URL=\"https://plot.ly\";Plotly.newPlot(\"0051b411-b216-4328-a013-724aa22f5431\", [{\"type\": \"bar\", \"x\": [\"Austin Code - Request Code Officer\", \"ARR Dead Animal Collection\", \"ARR Missed Recycling\", \"Loose Dog\", \"Animal Control - Assistance Request\", \"Street Light Issue- Address\", \"ARR Missed Yard Trimmings /Organics\", \"Graffiti Abatement\", \"Water Waste Report\", \"Injured / Sick Animal\"], \"opacity\": 0.5, \"y\": [75968, 19227, 19082, 17915, 16163, 13865, 12749, 11883, 11847, 10888], \"marker\": {\"color\": \"lightblue\", \"line\": {\"width\": 2, \"color\": \"#333\"}}}], {\"xaxis\": {\"title\": \"Service Types\"}, \"title\": \"Service Types in Total (From 2014-2017)\", \"yaxis\": {\"title\": \"Number of cases\"}}, {\"showLink\": true, \"linkText\": \"Export to plot.ly\"})});</script>"
      ],
      "text/vnd.plotly.v1+html": [
       "<div id=\"0051b411-b216-4328-a013-724aa22f5431\" style=\"height: 525px; width: 100%;\" class=\"plotly-graph-div\"></div><script type=\"text/javascript\">require([\"plotly\"], function(Plotly) { window.PLOTLYENV=window.PLOTLYENV || {};window.PLOTLYENV.BASE_URL=\"https://plot.ly\";Plotly.newPlot(\"0051b411-b216-4328-a013-724aa22f5431\", [{\"type\": \"bar\", \"x\": [\"Austin Code - Request Code Officer\", \"ARR Dead Animal Collection\", \"ARR Missed Recycling\", \"Loose Dog\", \"Animal Control - Assistance Request\", \"Street Light Issue- Address\", \"ARR Missed Yard Trimmings /Organics\", \"Graffiti Abatement\", \"Water Waste Report\", \"Injured / Sick Animal\"], \"opacity\": 0.5, \"y\": [75968, 19227, 19082, 17915, 16163, 13865, 12749, 11883, 11847, 10888], \"marker\": {\"color\": \"lightblue\", \"line\": {\"width\": 2, \"color\": \"#333\"}}}], {\"xaxis\": {\"title\": \"Service Types\"}, \"title\": \"Service Types in Total (From 2014-2017)\", \"yaxis\": {\"title\": \"Number of cases\"}}, {\"showLink\": true, \"linkText\": \"Export to plot.ly\"})});</script>"
      ]
     },
     "metadata": {},
     "output_type": "display_data"
    }
   ],
   "source": [
    "number= {'type' : 'bar',\n",
    "                     'x' : temp.sr_description,\n",
    "                     'y' : temp[\"count\"],\n",
    "                     'marker' : {'color' : 'lightblue',\n",
    "                                'line' : {'color' : '#333',\n",
    "                                          'width' : 2}},\n",
    "                     'opacity' : 0.5,}\n",
    "                     \n",
    "\n",
    "layout = {'title' : \"Service Types in Total (From 2014-2017)\",\n",
    "         'xaxis' : {'title' : 'Service Types'},\n",
    "         'yaxis' : {'title' : 'Number of cases'},\n",
    "         }\n",
    "fig = {'data' : [number],\n",
    "      'layout' : layout}\n",
    "pyo.iplot(fig)"
   ]
  },
  {
   "cell_type": "markdown",
   "metadata": {},
   "source": [
    "** According to the graph above, we find that \"Austin Code\" is the most common service with far higher records than other service types. Also, four service types among the top 10 most common service types are related to animals.**"
   ]
  },
  {
   "cell_type": "markdown",
   "metadata": {},
   "source": [
    "### 2. Number of cases over months"
   ]
  },
  {
   "cell_type": "code",
   "execution_count": 68,
   "metadata": {
    "collapsed": true
   },
   "outputs": [],
   "source": [
    "temp = pdsql.read_sql('''\n",
    "SELECT hour.month_of_year_str, COUNT(*) AS count\n",
    "FROM facts\n",
    "JOIN hour ON facts.created_date_key = hour.hour_key\n",
    "GROUP BY 1,hour.month_of_year\n",
    "Order By hour.month_of_year;''',conn)"
   ]
  },
  {
   "cell_type": "code",
   "execution_count": 69,
   "metadata": {},
   "outputs": [
    {
     "data": {
      "application/vnd.plotly.v1+json": {
       "data": [
        {
         "marker": {
          "color": "pink",
          "line": {
           "color": "#333",
           "width": 2
          }
         },
         "opacity": 0.5,
         "type": "bar",
         "x": [
          "January  ",
          "February ",
          "March    ",
          "April    ",
          "May      ",
          "June     ",
          "July     ",
          "August   ",
          "September",
          "October  ",
          "November ",
          "December "
         ],
         "y": [
          22012,
          19648,
          28449,
          30530,
          34615,
          36253,
          34005,
          34951,
          32991,
          30748,
          22443,
          18149
         ]
        }
       ],
       "layout": {
        "title": "Number of Case among different months ",
        "xaxis": {
         "title": "Month"
        },
        "yaxis": {
         "title": "Number of cases"
        }
       }
      },
      "text/html": [
       "<div id=\"37cea238-4bfd-4e60-8f60-e4f883d6b540\" style=\"height: 525px; width: 100%;\" class=\"plotly-graph-div\"></div><script type=\"text/javascript\">require([\"plotly\"], function(Plotly) { window.PLOTLYENV=window.PLOTLYENV || {};window.PLOTLYENV.BASE_URL=\"https://plot.ly\";Plotly.newPlot(\"37cea238-4bfd-4e60-8f60-e4f883d6b540\", [{\"type\": \"bar\", \"x\": [\"January  \", \"February \", \"March    \", \"April    \", \"May      \", \"June     \", \"July     \", \"August   \", \"September\", \"October  \", \"November \", \"December \"], \"opacity\": 0.5, \"y\": [22012, 19648, 28449, 30530, 34615, 36253, 34005, 34951, 32991, 30748, 22443, 18149], \"marker\": {\"color\": \"pink\", \"line\": {\"width\": 2, \"color\": \"#333\"}}}], {\"xaxis\": {\"title\": \"Month\"}, \"title\": \"Number of Case among different months \", \"yaxis\": {\"title\": \"Number of cases\"}}, {\"showLink\": true, \"linkText\": \"Export to plot.ly\"})});</script>"
      ],
      "text/vnd.plotly.v1+html": [
       "<div id=\"37cea238-4bfd-4e60-8f60-e4f883d6b540\" style=\"height: 525px; width: 100%;\" class=\"plotly-graph-div\"></div><script type=\"text/javascript\">require([\"plotly\"], function(Plotly) { window.PLOTLYENV=window.PLOTLYENV || {};window.PLOTLYENV.BASE_URL=\"https://plot.ly\";Plotly.newPlot(\"37cea238-4bfd-4e60-8f60-e4f883d6b540\", [{\"type\": \"bar\", \"x\": [\"January  \", \"February \", \"March    \", \"April    \", \"May      \", \"June     \", \"July     \", \"August   \", \"September\", \"October  \", \"November \", \"December \"], \"opacity\": 0.5, \"y\": [22012, 19648, 28449, 30530, 34615, 36253, 34005, 34951, 32991, 30748, 22443, 18149], \"marker\": {\"color\": \"pink\", \"line\": {\"width\": 2, \"color\": \"#333\"}}}], {\"xaxis\": {\"title\": \"Month\"}, \"title\": \"Number of Case among different months \", \"yaxis\": {\"title\": \"Number of cases\"}}, {\"showLink\": true, \"linkText\": \"Export to plot.ly\"})});</script>"
      ]
     },
     "metadata": {},
     "output_type": "display_data"
    }
   ],
   "source": [
    "number= {'type' : 'bar',\n",
    "                     'x' : temp.month_of_year_str,\n",
    "                     'y' : temp[\"count\"],\n",
    "                     'marker' : {'color' : 'pink',\n",
    "                                'line' : {'color' : '#333',\n",
    "                                          'width' : 2}},\n",
    "                     'opacity' : 0.5,}\n",
    "                     \n",
    "\n",
    "layout = {'title' : \"Number of Case among different months \",\n",
    "         'xaxis' : {'title' : 'Month'},\n",
    "         'yaxis' : {'title' : 'Number of cases'},\n",
    "         }\n",
    "fig = {'data' : [number],\n",
    "      'layout' : layout}\n",
    "pyo.iplot(fig)"
   ]
  },
  {
   "cell_type": "markdown",
   "metadata": {},
   "source": [
    "**According to the graph above, we found out that there's a seasonal pattern for the number of cases. In summer, the case number reaches to the highest while in winter, it downs to the lowest.**"
   ]
  },
  {
   "cell_type": "markdown",
   "metadata": {},
   "source": [
    "### 3. Top 5 popular departments among different months"
   ]
  },
  {
   "cell_type": "code",
   "execution_count": 70,
   "metadata": {},
   "outputs": [
    {
     "name": "stdout",
     "output_type": "stream",
     "text": [
      "Done.\n",
      "1382 rows affected.\n"
     ]
    },
    {
     "data": {
      "text/plain": [
       "[]"
      ]
     },
     "execution_count": 70,
     "metadata": {},
     "output_type": "execute_result"
    }
   ],
   "source": [
    "%%sql\n",
    "DROP TABLE IF EXISTS temp;\n",
    "SELECT hour.month_of_year,hour.month_of_year_str AS month, Service_type.sr_description, COUNT(*) AS count\n",
    "INTO temp\n",
    "FROM facts\n",
    "JOIN hour ON facts.created_date_key = hour.hour_key\n",
    "JOIN Service_type ON facts.Service_type_key = Service_type.Service_type_key\n",
    "GROUP BY hour.month_of_year,hour.month_of_year_str,Service_type.sr_description"
   ]
  },
  {
   "cell_type": "code",
   "execution_count": 71,
   "metadata": {},
   "outputs": [
    {
     "name": "stdout",
     "output_type": "stream",
     "text": [
      "1382 rows affected.\n"
     ]
    },
    {
     "data": {
      "text/plain": [
       "[]"
      ]
     },
     "execution_count": 71,
     "metadata": {},
     "output_type": "execute_result"
    }
   ],
   "source": [
    "%%sql\n",
    "SELECT month_of_year,month,sr_description,count , RANK() OVER (PARTITION BY month ORDER BY count DESC) AS rk\n",
    "INTO temp2\n",
    "FROM temp\n",
    ";"
   ]
  },
  {
   "cell_type": "code",
   "execution_count": 72,
   "metadata": {},
   "outputs": [
    {
     "name": "stdout",
     "output_type": "stream",
     "text": [
      "60 rows affected.\n"
     ]
    },
    {
     "data": {
      "text/html": [
       "<table>\n",
       "    <tr>\n",
       "        <th>month</th>\n",
       "        <th>sr_description</th>\n",
       "        <th>count</th>\n",
       "        <th>rk</th>\n",
       "    </tr>\n",
       "    <tr>\n",
       "        <td>January  </td>\n",
       "        <td>Austin Code - Request Code Officer</td>\n",
       "        <td>4105</td>\n",
       "        <td>1</td>\n",
       "    </tr>\n",
       "    <tr>\n",
       "        <td>January  </td>\n",
       "        <td>ARR Missed Recycling</td>\n",
       "        <td>1662</td>\n",
       "        <td>2</td>\n",
       "    </tr>\n",
       "    <tr>\n",
       "        <td>January  </td>\n",
       "        <td>Loose Dog</td>\n",
       "        <td>1218</td>\n",
       "        <td>3</td>\n",
       "    </tr>\n",
       "    <tr>\n",
       "        <td>January  </td>\n",
       "        <td>Graffiti Abatement</td>\n",
       "        <td>1208</td>\n",
       "        <td>4</td>\n",
       "    </tr>\n",
       "    <tr>\n",
       "        <td>January  </td>\n",
       "        <td>ARR Dead Animal Collection</td>\n",
       "        <td>1125</td>\n",
       "        <td>5</td>\n",
       "    </tr>\n",
       "    <tr>\n",
       "        <td>February </td>\n",
       "        <td>Austin Code - Request Code Officer</td>\n",
       "        <td>3805</td>\n",
       "        <td>1</td>\n",
       "    </tr>\n",
       "    <tr>\n",
       "        <td>February </td>\n",
       "        <td>Loose Dog</td>\n",
       "        <td>1237</td>\n",
       "        <td>2</td>\n",
       "    </tr>\n",
       "    <tr>\n",
       "        <td>February </td>\n",
       "        <td>ARR Missed Recycling</td>\n",
       "        <td>1164</td>\n",
       "        <td>3</td>\n",
       "    </tr>\n",
       "    <tr>\n",
       "        <td>February </td>\n",
       "        <td>Loud Music</td>\n",
       "        <td>1031</td>\n",
       "        <td>4</td>\n",
       "    </tr>\n",
       "    <tr>\n",
       "        <td>February </td>\n",
       "        <td>ARR Dead Animal Collection</td>\n",
       "        <td>1028</td>\n",
       "        <td>5</td>\n",
       "    </tr>\n",
       "    <tr>\n",
       "        <td>March    </td>\n",
       "        <td>Austin Code - Request Code Officer</td>\n",
       "        <td>5849</td>\n",
       "        <td>1</td>\n",
       "    </tr>\n",
       "    <tr>\n",
       "        <td>March    </td>\n",
       "        <td>ARR Missed Yard Trimmings /Organics</td>\n",
       "        <td>1633</td>\n",
       "        <td>2</td>\n",
       "    </tr>\n",
       "    <tr>\n",
       "        <td>March    </td>\n",
       "        <td>Loose Dog</td>\n",
       "        <td>1576</td>\n",
       "        <td>3</td>\n",
       "    </tr>\n",
       "    <tr>\n",
       "        <td>March    </td>\n",
       "        <td>ARR Dead Animal Collection</td>\n",
       "        <td>1519</td>\n",
       "        <td>4</td>\n",
       "    </tr>\n",
       "    <tr>\n",
       "        <td>March    </td>\n",
       "        <td>ARR Missed Recycling</td>\n",
       "        <td>1510</td>\n",
       "        <td>5</td>\n",
       "    </tr>\n",
       "    <tr>\n",
       "        <td>April    </td>\n",
       "        <td>Austin Code - Request Code Officer</td>\n",
       "        <td>7115</td>\n",
       "        <td>1</td>\n",
       "    </tr>\n",
       "    <tr>\n",
       "        <td>April    </td>\n",
       "        <td>Loose Dog</td>\n",
       "        <td>1606</td>\n",
       "        <td>2</td>\n",
       "    </tr>\n",
       "    <tr>\n",
       "        <td>April    </td>\n",
       "        <td>Animal Control - Assistance Request</td>\n",
       "        <td>1565</td>\n",
       "        <td>3</td>\n",
       "    </tr>\n",
       "    <tr>\n",
       "        <td>April    </td>\n",
       "        <td>ARR Missed Recycling</td>\n",
       "        <td>1540</td>\n",
       "        <td>4</td>\n",
       "    </tr>\n",
       "    <tr>\n",
       "        <td>April    </td>\n",
       "        <td>ARR Dead Animal Collection</td>\n",
       "        <td>1516</td>\n",
       "        <td>5</td>\n",
       "    </tr>\n",
       "    <tr>\n",
       "        <td>May      </td>\n",
       "        <td>Austin Code - Request Code Officer</td>\n",
       "        <td>7865</td>\n",
       "        <td>1</td>\n",
       "    </tr>\n",
       "    <tr>\n",
       "        <td>May      </td>\n",
       "        <td>ARR Dead Animal Collection</td>\n",
       "        <td>1924</td>\n",
       "        <td>2</td>\n",
       "    </tr>\n",
       "    <tr>\n",
       "        <td>May      </td>\n",
       "        <td>Loose Dog</td>\n",
       "        <td>1793</td>\n",
       "        <td>3</td>\n",
       "    </tr>\n",
       "    <tr>\n",
       "        <td>May      </td>\n",
       "        <td>Animal Control - Assistance Request</td>\n",
       "        <td>1655</td>\n",
       "        <td>4</td>\n",
       "    </tr>\n",
       "    <tr>\n",
       "        <td>May      </td>\n",
       "        <td>ARR Missed Recycling</td>\n",
       "        <td>1653</td>\n",
       "        <td>5</td>\n",
       "    </tr>\n",
       "    <tr>\n",
       "        <td>June     </td>\n",
       "        <td>Austin Code - Request Code Officer</td>\n",
       "        <td>9002</td>\n",
       "        <td>1</td>\n",
       "    </tr>\n",
       "    <tr>\n",
       "        <td>June     </td>\n",
       "        <td>ARR Dead Animal Collection</td>\n",
       "        <td>1913</td>\n",
       "        <td>2</td>\n",
       "    </tr>\n",
       "    <tr>\n",
       "        <td>June     </td>\n",
       "        <td>ARR Missed Yard Trimmings /Organics</td>\n",
       "        <td>1583</td>\n",
       "        <td>3</td>\n",
       "    </tr>\n",
       "    <tr>\n",
       "        <td>June     </td>\n",
       "        <td>ARR Missed Recycling</td>\n",
       "        <td>1551</td>\n",
       "        <td>4</td>\n",
       "    </tr>\n",
       "    <tr>\n",
       "        <td>June     </td>\n",
       "        <td>Animal Control - Assistance Request</td>\n",
       "        <td>1512</td>\n",
       "        <td>5</td>\n",
       "    </tr>\n",
       "    <tr>\n",
       "        <td>July     </td>\n",
       "        <td>Austin Code - Request Code Officer</td>\n",
       "        <td>7909</td>\n",
       "        <td>1</td>\n",
       "    </tr>\n",
       "    <tr>\n",
       "        <td>July     </td>\n",
       "        <td>ARR Dead Animal Collection</td>\n",
       "        <td>1806</td>\n",
       "        <td>2</td>\n",
       "    </tr>\n",
       "    <tr>\n",
       "        <td>July     </td>\n",
       "        <td>Water Waste Report</td>\n",
       "        <td>1764</td>\n",
       "        <td>3</td>\n",
       "    </tr>\n",
       "    <tr>\n",
       "        <td>July     </td>\n",
       "        <td>ARR Missed Recycling</td>\n",
       "        <td>1686</td>\n",
       "        <td>4</td>\n",
       "    </tr>\n",
       "    <tr>\n",
       "        <td>July     </td>\n",
       "        <td>ARR Missed Yard Trimmings /Organics</td>\n",
       "        <td>1577</td>\n",
       "        <td>5</td>\n",
       "    </tr>\n",
       "    <tr>\n",
       "        <td>August   </td>\n",
       "        <td>Austin Code - Request Code Officer</td>\n",
       "        <td>7878</td>\n",
       "        <td>1</td>\n",
       "    </tr>\n",
       "    <tr>\n",
       "        <td>August   </td>\n",
       "        <td>Water Waste Report</td>\n",
       "        <td>2628</td>\n",
       "        <td>2</td>\n",
       "    </tr>\n",
       "    <tr>\n",
       "        <td>August   </td>\n",
       "        <td>ARR Dead Animal Collection</td>\n",
       "        <td>1728</td>\n",
       "        <td>3</td>\n",
       "    </tr>\n",
       "    <tr>\n",
       "        <td>August   </td>\n",
       "        <td>ARR Missed Recycling</td>\n",
       "        <td>1700</td>\n",
       "        <td>4</td>\n",
       "    </tr>\n",
       "    <tr>\n",
       "        <td>August   </td>\n",
       "        <td>Loose Dog</td>\n",
       "        <td>1572</td>\n",
       "        <td>5</td>\n",
       "    </tr>\n",
       "    <tr>\n",
       "        <td>September</td>\n",
       "        <td>Austin Code - Request Code Officer</td>\n",
       "        <td>7735</td>\n",
       "        <td>1</td>\n",
       "    </tr>\n",
       "    <tr>\n",
       "        <td>September</td>\n",
       "        <td>Loose Dog</td>\n",
       "        <td>1816</td>\n",
       "        <td>2</td>\n",
       "    </tr>\n",
       "    <tr>\n",
       "        <td>September</td>\n",
       "        <td>ARR Missed Recycling</td>\n",
       "        <td>1705</td>\n",
       "        <td>3</td>\n",
       "    </tr>\n",
       "    <tr>\n",
       "        <td>September</td>\n",
       "        <td>ARR Dead Animal Collection</td>\n",
       "        <td>1684</td>\n",
       "        <td>4</td>\n",
       "    </tr>\n",
       "    <tr>\n",
       "        <td>September</td>\n",
       "        <td>Water Waste Report</td>\n",
       "        <td>1640</td>\n",
       "        <td>5</td>\n",
       "    </tr>\n",
       "    <tr>\n",
       "        <td>October  </td>\n",
       "        <td>Austin Code - Request Code Officer</td>\n",
       "        <td>6840</td>\n",
       "        <td>1</td>\n",
       "    </tr>\n",
       "    <tr>\n",
       "        <td>October  </td>\n",
       "        <td>ARR Dead Animal Collection</td>\n",
       "        <td>2114</td>\n",
       "        <td>2</td>\n",
       "    </tr>\n",
       "    <tr>\n",
       "        <td>October  </td>\n",
       "        <td>Loose Dog</td>\n",
       "        <td>1812</td>\n",
       "        <td>3</td>\n",
       "    </tr>\n",
       "    <tr>\n",
       "        <td>October  </td>\n",
       "        <td>ARR Missed Recycling</td>\n",
       "        <td>1542</td>\n",
       "        <td>4</td>\n",
       "    </tr>\n",
       "    <tr>\n",
       "        <td>October  </td>\n",
       "        <td>Street Light Issue- Address</td>\n",
       "        <td>1378</td>\n",
       "        <td>5</td>\n",
       "    </tr>\n",
       "    <tr>\n",
       "        <td>November </td>\n",
       "        <td>Austin Code - Request Code Officer</td>\n",
       "        <td>4322</td>\n",
       "        <td>1</td>\n",
       "    </tr>\n",
       "    <tr>\n",
       "        <td>November </td>\n",
       "        <td>ARR Dead Animal Collection</td>\n",
       "        <td>1660</td>\n",
       "        <td>2</td>\n",
       "    </tr>\n",
       "    <tr>\n",
       "        <td>November </td>\n",
       "        <td>ARR Missed Recycling</td>\n",
       "        <td>1535</td>\n",
       "        <td>3</td>\n",
       "    </tr>\n",
       "    <tr>\n",
       "        <td>November </td>\n",
       "        <td>Loose Dog</td>\n",
       "        <td>1532</td>\n",
       "        <td>4</td>\n",
       "    </tr>\n",
       "    <tr>\n",
       "        <td>November </td>\n",
       "        <td>Street Light Issue- Address</td>\n",
       "        <td>1253</td>\n",
       "        <td>5</td>\n",
       "    </tr>\n",
       "    <tr>\n",
       "        <td>December </td>\n",
       "        <td>Austin Code - Request Code Officer</td>\n",
       "        <td>3543</td>\n",
       "        <td>1</td>\n",
       "    </tr>\n",
       "    <tr>\n",
       "        <td>December </td>\n",
       "        <td>ARR Missed Recycling</td>\n",
       "        <td>1834</td>\n",
       "        <td>2</td>\n",
       "    </tr>\n",
       "    <tr>\n",
       "        <td>December </td>\n",
       "        <td>ARR Dead Animal Collection</td>\n",
       "        <td>1210</td>\n",
       "        <td>3</td>\n",
       "    </tr>\n",
       "    <tr>\n",
       "        <td>December </td>\n",
       "        <td>Loose Dog</td>\n",
       "        <td>968</td>\n",
       "        <td>4</td>\n",
       "    </tr>\n",
       "    <tr>\n",
       "        <td>December </td>\n",
       "        <td>Animal Control - Assistance Request</td>\n",
       "        <td>955</td>\n",
       "        <td>5</td>\n",
       "    </tr>\n",
       "</table>"
      ],
      "text/plain": [
       "[('January  ', 'Austin Code - Request Code Officer', 4105, 1),\n",
       " ('January  ', 'ARR Missed Recycling', 1662, 2),\n",
       " ('January  ', 'Loose Dog', 1218, 3),\n",
       " ('January  ', 'Graffiti Abatement', 1208, 4),\n",
       " ('January  ', 'ARR Dead Animal Collection', 1125, 5),\n",
       " ('February ', 'Austin Code - Request Code Officer', 3805, 1),\n",
       " ('February ', 'Loose Dog', 1237, 2),\n",
       " ('February ', 'ARR Missed Recycling', 1164, 3),\n",
       " ('February ', 'Loud Music', 1031, 4),\n",
       " ('February ', 'ARR Dead Animal Collection', 1028, 5),\n",
       " ('March    ', 'Austin Code - Request Code Officer', 5849, 1),\n",
       " ('March    ', 'ARR Missed Yard Trimmings /Organics', 1633, 2),\n",
       " ('March    ', 'Loose Dog', 1576, 3),\n",
       " ('March    ', 'ARR Dead Animal Collection', 1519, 4),\n",
       " ('March    ', 'ARR Missed Recycling', 1510, 5),\n",
       " ('April    ', 'Austin Code - Request Code Officer', 7115, 1),\n",
       " ('April    ', 'Loose Dog', 1606, 2),\n",
       " ('April    ', 'Animal Control - Assistance Request', 1565, 3),\n",
       " ('April    ', 'ARR Missed Recycling', 1540, 4),\n",
       " ('April    ', 'ARR Dead Animal Collection', 1516, 5),\n",
       " ('May      ', 'Austin Code - Request Code Officer', 7865, 1),\n",
       " ('May      ', 'ARR Dead Animal Collection', 1924, 2),\n",
       " ('May      ', 'Loose Dog', 1793, 3),\n",
       " ('May      ', 'Animal Control - Assistance Request', 1655, 4),\n",
       " ('May      ', 'ARR Missed Recycling', 1653, 5),\n",
       " ('June     ', 'Austin Code - Request Code Officer', 9002, 1),\n",
       " ('June     ', 'ARR Dead Animal Collection', 1913, 2),\n",
       " ('June     ', 'ARR Missed Yard Trimmings /Organics', 1583, 3),\n",
       " ('June     ', 'ARR Missed Recycling', 1551, 4),\n",
       " ('June     ', 'Animal Control - Assistance Request', 1512, 5),\n",
       " ('July     ', 'Austin Code - Request Code Officer', 7909, 1),\n",
       " ('July     ', 'ARR Dead Animal Collection', 1806, 2),\n",
       " ('July     ', 'Water Waste Report', 1764, 3),\n",
       " ('July     ', 'ARR Missed Recycling', 1686, 4),\n",
       " ('July     ', 'ARR Missed Yard Trimmings /Organics', 1577, 5),\n",
       " ('August   ', 'Austin Code - Request Code Officer', 7878, 1),\n",
       " ('August   ', 'Water Waste Report', 2628, 2),\n",
       " ('August   ', 'ARR Dead Animal Collection', 1728, 3),\n",
       " ('August   ', 'ARR Missed Recycling', 1700, 4),\n",
       " ('August   ', 'Loose Dog', 1572, 5),\n",
       " ('September', 'Austin Code - Request Code Officer', 7735, 1),\n",
       " ('September', 'Loose Dog', 1816, 2),\n",
       " ('September', 'ARR Missed Recycling', 1705, 3),\n",
       " ('September', 'ARR Dead Animal Collection', 1684, 4),\n",
       " ('September', 'Water Waste Report', 1640, 5),\n",
       " ('October  ', 'Austin Code - Request Code Officer', 6840, 1),\n",
       " ('October  ', 'ARR Dead Animal Collection', 2114, 2),\n",
       " ('October  ', 'Loose Dog', 1812, 3),\n",
       " ('October  ', 'ARR Missed Recycling', 1542, 4),\n",
       " ('October  ', 'Street Light Issue- Address', 1378, 5),\n",
       " ('November ', 'Austin Code - Request Code Officer', 4322, 1),\n",
       " ('November ', 'ARR Dead Animal Collection', 1660, 2),\n",
       " ('November ', 'ARR Missed Recycling', 1535, 3),\n",
       " ('November ', 'Loose Dog', 1532, 4),\n",
       " ('November ', 'Street Light Issue- Address', 1253, 5),\n",
       " ('December ', 'Austin Code - Request Code Officer', 3543, 1),\n",
       " ('December ', 'ARR Missed Recycling', 1834, 2),\n",
       " ('December ', 'ARR Dead Animal Collection', 1210, 3),\n",
       " ('December ', 'Loose Dog', 968, 4),\n",
       " ('December ', 'Animal Control - Assistance Request', 955, 5)]"
      ]
     },
     "execution_count": 72,
     "metadata": {},
     "output_type": "execute_result"
    }
   ],
   "source": [
    "%%sql\n",
    "SELECT month,sr_description,count ,rk\n",
    "from temp2\n",
    "where rk<=5\n",
    "Order by month_of_year, rk;"
   ]
  },
  {
   "cell_type": "markdown",
   "metadata": {},
   "source": [
    "**The table above is the top 5 departments among different months**"
   ]
  },
  {
   "cell_type": "code",
   "execution_count": 73,
   "metadata": {},
   "outputs": [
    {
     "name": "stdout",
     "output_type": "stream",
     "text": [
      "Done.\n"
     ]
    },
    {
     "data": {
      "text/plain": [
       "[]"
      ]
     },
     "execution_count": 73,
     "metadata": {},
     "output_type": "execute_result"
    }
   ],
   "source": [
    "%%sql \n",
    "DROP TABLE IF EXISTS temp,temp2;"
   ]
  },
  {
   "cell_type": "markdown",
   "metadata": {},
   "source": [
    "### 4. Top 5 numbers of cases by owning department"
   ]
  },
  {
   "cell_type": "code",
   "execution_count": 74,
   "metadata": {},
   "outputs": [
    {
     "name": "stdout",
     "output_type": "stream",
     "text": [
      "17 rows affected.\n"
     ]
    },
    {
     "data": {
      "text/html": [
       "<table>\n",
       "    <tr>\n",
       "        <th>owning_department</th>\n",
       "        <th>count</th>\n",
       "    </tr>\n",
       "    <tr>\n",
       "        <td>Austin Code Department</td>\n",
       "        <td>79084</td>\n",
       "    </tr>\n",
       "    <tr>\n",
       "        <td>Animal Services Office</td>\n",
       "        <td>67013</td>\n",
       "    </tr>\n",
       "    <tr>\n",
       "        <td>Austin Resource Recovery</td>\n",
       "        <td>61277</td>\n",
       "    </tr>\n",
       "    <tr>\n",
       "        <td>Transportation</td>\n",
       "        <td>31007</td>\n",
       "    </tr>\n",
       "    <tr>\n",
       "        <td>Public Works</td>\n",
       "        <td>29849</td>\n",
       "    </tr>\n",
       "    <tr>\n",
       "        <td>Parks &amp; Recreation Department</td>\n",
       "        <td>15265</td>\n",
       "    </tr>\n",
       "    <tr>\n",
       "        <td>Austin Energy Department</td>\n",
       "        <td>14516</td>\n",
       "    </tr>\n",
       "    <tr>\n",
       "        <td>Health &amp; Human Services</td>\n",
       "        <td>11890</td>\n",
       "    </tr>\n",
       "    <tr>\n",
       "        <td>Economic Development Department</td>\n",
       "        <td>11248</td>\n",
       "    </tr>\n",
       "    <tr>\n",
       "        <td>Austin Water Utility</td>\n",
       "        <td>10947</td>\n",
       "    </tr>\n",
       "    <tr>\n",
       "        <td>Watershed Protection</td>\n",
       "        <td>8174</td>\n",
       "    </tr>\n",
       "    <tr>\n",
       "        <td>Public Health</td>\n",
       "        <td>3410</td>\n",
       "    </tr>\n",
       "    <tr>\n",
       "        <td>Austin Water</td>\n",
       "        <td>980</td>\n",
       "    </tr>\n",
       "    <tr>\n",
       "        <td>Neighborhood Housing &amp; Community Development</td>\n",
       "        <td>62</td>\n",
       "    </tr>\n",
       "    <tr>\n",
       "        <td>Austin Fire Department</td>\n",
       "        <td>51</td>\n",
       "    </tr>\n",
       "    <tr>\n",
       "        <td>Neighborhood Housing &amp; Community</td>\n",
       "        <td>20</td>\n",
       "    </tr>\n",
       "    <tr>\n",
       "        <td>Office of Emergency Management</td>\n",
       "        <td>1</td>\n",
       "    </tr>\n",
       "</table>"
      ],
      "text/plain": [
       "[('Austin Code Department', 79084),\n",
       " ('Animal Services Office', 67013),\n",
       " ('Austin Resource Recovery', 61277),\n",
       " ('Transportation', 31007),\n",
       " ('Public Works', 29849),\n",
       " ('Parks & Recreation Department', 15265),\n",
       " ('Austin Energy Department', 14516),\n",
       " ('Health & Human Services', 11890),\n",
       " ('Economic Development Department', 11248),\n",
       " ('Austin Water Utility', 10947),\n",
       " ('Watershed Protection', 8174),\n",
       " ('Public Health', 3410),\n",
       " ('Austin Water', 980),\n",
       " ('Neighborhood Housing & Community Development', 62),\n",
       " ('Austin Fire Department', 51),\n",
       " ('Neighborhood Housing & Community', 20),\n",
       " ('Office of Emergency Management', 1)]"
      ]
     },
     "execution_count": 74,
     "metadata": {},
     "output_type": "execute_result"
    }
   ],
   "source": [
    "%%sql\n",
    "SELECT Service_type.owning_department, COUNT(*) AS count\n",
    "FROM facts \n",
    "JOIN Service_type ON facts.Service_type_key = Service_type.Service_type_key\n",
    "GROUP BY owning_department\n",
    "ORDER BY count DESC"
   ]
  },
  {
   "cell_type": "code",
   "execution_count": 75,
   "metadata": {
    "collapsed": true
   },
   "outputs": [],
   "source": [
    "temp = pdsql.read_sql('''\n",
    "SELECT Service_type.owning_department, COUNT(*) AS count\n",
    "FROM facts \n",
    "JOIN Service_type ON facts.Service_type_key = Service_type.Service_type_key\n",
    "GROUP BY owning_department\n",
    "ORDER BY count DESC\n",
    "limit 5;''',conn)"
   ]
  },
  {
   "cell_type": "code",
   "execution_count": 76,
   "metadata": {},
   "outputs": [
    {
     "data": {
      "text/html": [
       "<div>\n",
       "<style>\n",
       "    .dataframe thead tr:only-child th {\n",
       "        text-align: right;\n",
       "    }\n",
       "\n",
       "    .dataframe thead th {\n",
       "        text-align: left;\n",
       "    }\n",
       "\n",
       "    .dataframe tbody tr th {\n",
       "        vertical-align: top;\n",
       "    }\n",
       "</style>\n",
       "<table border=\"1\" class=\"dataframe\">\n",
       "  <thead>\n",
       "    <tr style=\"text-align: right;\">\n",
       "      <th></th>\n",
       "      <th>owning_department</th>\n",
       "      <th>count</th>\n",
       "    </tr>\n",
       "  </thead>\n",
       "  <tbody>\n",
       "    <tr>\n",
       "      <th>0</th>\n",
       "      <td>Austin Code Department</td>\n",
       "      <td>79084</td>\n",
       "    </tr>\n",
       "    <tr>\n",
       "      <th>1</th>\n",
       "      <td>Animal Services Office</td>\n",
       "      <td>67013</td>\n",
       "    </tr>\n",
       "    <tr>\n",
       "      <th>2</th>\n",
       "      <td>Austin Resource Recovery</td>\n",
       "      <td>61277</td>\n",
       "    </tr>\n",
       "    <tr>\n",
       "      <th>3</th>\n",
       "      <td>Transportation</td>\n",
       "      <td>31007</td>\n",
       "    </tr>\n",
       "    <tr>\n",
       "      <th>4</th>\n",
       "      <td>Public Works</td>\n",
       "      <td>29849</td>\n",
       "    </tr>\n",
       "  </tbody>\n",
       "</table>\n",
       "</div>"
      ],
      "text/plain": [
       "          owning_department  count\n",
       "0    Austin Code Department  79084\n",
       "1    Animal Services Office  67013\n",
       "2  Austin Resource Recovery  61277\n",
       "3            Transportation  31007\n",
       "4              Public Works  29849"
      ]
     },
     "execution_count": 76,
     "metadata": {},
     "output_type": "execute_result"
    }
   ],
   "source": [
    "temp"
   ]
  },
  {
   "cell_type": "code",
   "execution_count": 77,
   "metadata": {},
   "outputs": [
    {
     "data": {
      "application/vnd.plotly.v1+json": {
       "data": [
        {
         "marker": {
          "color": "blue",
          "line": {
           "color": "#333",
           "width": 2
          }
         },
         "opacity": 0.5,
         "type": "bar",
         "x": [
          "Austin Code Department",
          "Animal Services Office",
          "Austin Resource Recovery",
          "Transportation",
          "Public Works"
         ],
         "y": [
          79084,
          67013,
          61277,
          31007,
          29849
         ]
        }
       ],
       "layout": {
        "title": "Number of Case of its owning_department top5 ",
        "xaxis": {
         "title": "deparment types"
        },
        "yaxis": {
         "title": "Number of cases"
        }
       }
      },
      "text/html": [
       "<div id=\"0435f08d-80b3-49e7-a507-efc8e41fea0e\" style=\"height: 525px; width: 100%;\" class=\"plotly-graph-div\"></div><script type=\"text/javascript\">require([\"plotly\"], function(Plotly) { window.PLOTLYENV=window.PLOTLYENV || {};window.PLOTLYENV.BASE_URL=\"https://plot.ly\";Plotly.newPlot(\"0435f08d-80b3-49e7-a507-efc8e41fea0e\", [{\"type\": \"bar\", \"x\": [\"Austin Code Department\", \"Animal Services Office\", \"Austin Resource Recovery\", \"Transportation\", \"Public Works\"], \"opacity\": 0.5, \"y\": [79084, 67013, 61277, 31007, 29849], \"marker\": {\"color\": \"blue\", \"line\": {\"width\": 2, \"color\": \"#333\"}}}], {\"xaxis\": {\"title\": \"deparment types\"}, \"title\": \"Number of Case of its owning_department top5 \", \"yaxis\": {\"title\": \"Number of cases\"}}, {\"showLink\": true, \"linkText\": \"Export to plot.ly\"})});</script>"
      ],
      "text/vnd.plotly.v1+html": [
       "<div id=\"0435f08d-80b3-49e7-a507-efc8e41fea0e\" style=\"height: 525px; width: 100%;\" class=\"plotly-graph-div\"></div><script type=\"text/javascript\">require([\"plotly\"], function(Plotly) { window.PLOTLYENV=window.PLOTLYENV || {};window.PLOTLYENV.BASE_URL=\"https://plot.ly\";Plotly.newPlot(\"0435f08d-80b3-49e7-a507-efc8e41fea0e\", [{\"type\": \"bar\", \"x\": [\"Austin Code Department\", \"Animal Services Office\", \"Austin Resource Recovery\", \"Transportation\", \"Public Works\"], \"opacity\": 0.5, \"y\": [79084, 67013, 61277, 31007, 29849], \"marker\": {\"color\": \"blue\", \"line\": {\"width\": 2, \"color\": \"#333\"}}}], {\"xaxis\": {\"title\": \"deparment types\"}, \"title\": \"Number of Case of its owning_department top5 \", \"yaxis\": {\"title\": \"Number of cases\"}}, {\"showLink\": true, \"linkText\": \"Export to plot.ly\"})});</script>"
      ]
     },
     "metadata": {},
     "output_type": "display_data"
    }
   ],
   "source": [
    "number= {'type' : 'bar',\n",
    "                     'x' : temp.owning_department,\n",
    "                     'y' : temp[\"count\"],\n",
    "                     'marker' : {'color' : 'blue',\n",
    "                                'line' : {'color' : '#333',\n",
    "                                          'width' : 2}},\n",
    "                     'opacity' : 0.5,}\n",
    "                     \n",
    "\n",
    "layout = {'title' : \"Number of Case of its owning_department top5 \",\n",
    "         'xaxis' : {'title' : 'deparment types'},\n",
    "         'yaxis' : {'title' : 'Number of cases'},\n",
    "         }\n",
    "fig = {'data' : [number],\n",
    "      'layout' : layout}\n",
    "pyo.iplot(fig)"
   ]
  },
  {
   "cell_type": "markdown",
   "metadata": {},
   "source": [
    "**As showed in the bar chart above, Austin Code Department is the department, which has the most number of cases. This result can also verify the result that Austin Code Request is the service type that has the most number of cases.**"
   ]
  },
  {
   "cell_type": "markdown",
   "metadata": {},
   "source": [
    "### 5. Number of cases of the top 5 popular departments changing overtime"
   ]
  },
  {
   "cell_type": "code",
   "execution_count": 78,
   "metadata": {},
   "outputs": [
    {
     "name": "stdout",
     "output_type": "stream",
     "text": [
      "235 rows affected.\n"
     ]
    },
    {
     "data": {
      "text/html": [
       "<table>\n",
       "    <tr>\n",
       "        <th>year</th>\n",
       "        <th>month_of_year</th>\n",
       "        <th>owning_department</th>\n",
       "        <th>count</th>\n",
       "    </tr>\n",
       "    <tr>\n",
       "        <td>2014</td>\n",
       "        <td>1</td>\n",
       "        <td>Austin Resource Recovery</td>\n",
       "        <td>2214</td>\n",
       "    </tr>\n",
       "    <tr>\n",
       "        <td>2014</td>\n",
       "        <td>1</td>\n",
       "        <td>Animal Services Office</td>\n",
       "        <td>1589</td>\n",
       "    </tr>\n",
       "    <tr>\n",
       "        <td>2014</td>\n",
       "        <td>1</td>\n",
       "        <td>Transportation</td>\n",
       "        <td>570</td>\n",
       "    </tr>\n",
       "    <tr>\n",
       "        <td>2014</td>\n",
       "        <td>1</td>\n",
       "        <td>Public Works</td>\n",
       "        <td>376</td>\n",
       "    </tr>\n",
       "    <tr>\n",
       "        <td>2014</td>\n",
       "        <td>1</td>\n",
       "        <td>Austin Code Department</td>\n",
       "        <td>1</td>\n",
       "    </tr>\n",
       "    <tr>\n",
       "        <td>2014</td>\n",
       "        <td>2</td>\n",
       "        <td>Austin Resource Recovery</td>\n",
       "        <td>1623</td>\n",
       "    </tr>\n",
       "    <tr>\n",
       "        <td>2014</td>\n",
       "        <td>2</td>\n",
       "        <td>Animal Services Office</td>\n",
       "        <td>1400</td>\n",
       "    </tr>\n",
       "    <tr>\n",
       "        <td>2014</td>\n",
       "        <td>2</td>\n",
       "        <td>Transportation</td>\n",
       "        <td>670</td>\n",
       "    </tr>\n",
       "    <tr>\n",
       "        <td>2014</td>\n",
       "        <td>2</td>\n",
       "        <td>Austin Code Department</td>\n",
       "        <td>395</td>\n",
       "    </tr>\n",
       "    <tr>\n",
       "        <td>2014</td>\n",
       "        <td>2</td>\n",
       "        <td>Public Works</td>\n",
       "        <td>281</td>\n",
       "    </tr>\n",
       "    <tr>\n",
       "        <td>2014</td>\n",
       "        <td>3</td>\n",
       "        <td>Animal Services Office</td>\n",
       "        <td>1809</td>\n",
       "    </tr>\n",
       "    <tr>\n",
       "        <td>2014</td>\n",
       "        <td>3</td>\n",
       "        <td>Austin Code Department</td>\n",
       "        <td>1434</td>\n",
       "    </tr>\n",
       "    <tr>\n",
       "        <td>2014</td>\n",
       "        <td>3</td>\n",
       "        <td>Austin Resource Recovery</td>\n",
       "        <td>1085</td>\n",
       "    </tr>\n",
       "    <tr>\n",
       "        <td>2014</td>\n",
       "        <td>3</td>\n",
       "        <td>Transportation</td>\n",
       "        <td>740</td>\n",
       "    </tr>\n",
       "    <tr>\n",
       "        <td>2014</td>\n",
       "        <td>3</td>\n",
       "        <td>Public Works</td>\n",
       "        <td>327</td>\n",
       "    </tr>\n",
       "    <tr>\n",
       "        <td>2014</td>\n",
       "        <td>4</td>\n",
       "        <td>Austin Code Department</td>\n",
       "        <td>1855</td>\n",
       "    </tr>\n",
       "    <tr>\n",
       "        <td>2014</td>\n",
       "        <td>4</td>\n",
       "        <td>Animal Services Office</td>\n",
       "        <td>1690</td>\n",
       "    </tr>\n",
       "    <tr>\n",
       "        <td>2014</td>\n",
       "        <td>4</td>\n",
       "        <td>Austin Resource Recovery</td>\n",
       "        <td>1392</td>\n",
       "    </tr>\n",
       "    <tr>\n",
       "        <td>2014</td>\n",
       "        <td>4</td>\n",
       "        <td>Transportation</td>\n",
       "        <td>773</td>\n",
       "    </tr>\n",
       "    <tr>\n",
       "        <td>2014</td>\n",
       "        <td>4</td>\n",
       "        <td>Public Works</td>\n",
       "        <td>442</td>\n",
       "    </tr>\n",
       "    <tr>\n",
       "        <td>2014</td>\n",
       "        <td>5</td>\n",
       "        <td>Austin Code Department</td>\n",
       "        <td>1753</td>\n",
       "    </tr>\n",
       "    <tr>\n",
       "        <td>2014</td>\n",
       "        <td>5</td>\n",
       "        <td>Animal Services Office</td>\n",
       "        <td>1723</td>\n",
       "    </tr>\n",
       "    <tr>\n",
       "        <td>2014</td>\n",
       "        <td>5</td>\n",
       "        <td>Austin Resource Recovery</td>\n",
       "        <td>1242</td>\n",
       "    </tr>\n",
       "    <tr>\n",
       "        <td>2014</td>\n",
       "        <td>5</td>\n",
       "        <td>Transportation</td>\n",
       "        <td>585</td>\n",
       "    </tr>\n",
       "    <tr>\n",
       "        <td>2014</td>\n",
       "        <td>5</td>\n",
       "        <td>Public Works</td>\n",
       "        <td>380</td>\n",
       "    </tr>\n",
       "    <tr>\n",
       "        <td>2014</td>\n",
       "        <td>6</td>\n",
       "        <td>Austin Code Department</td>\n",
       "        <td>2310</td>\n",
       "    </tr>\n",
       "    <tr>\n",
       "        <td>2014</td>\n",
       "        <td>6</td>\n",
       "        <td>Animal Services Office</td>\n",
       "        <td>1626</td>\n",
       "    </tr>\n",
       "    <tr>\n",
       "        <td>2014</td>\n",
       "        <td>6</td>\n",
       "        <td>Austin Resource Recovery</td>\n",
       "        <td>1437</td>\n",
       "    </tr>\n",
       "    <tr>\n",
       "        <td>2014</td>\n",
       "        <td>6</td>\n",
       "        <td>Transportation</td>\n",
       "        <td>611</td>\n",
       "    </tr>\n",
       "    <tr>\n",
       "        <td>2014</td>\n",
       "        <td>6</td>\n",
       "        <td>Public Works</td>\n",
       "        <td>551</td>\n",
       "    </tr>\n",
       "    <tr>\n",
       "        <td>2014</td>\n",
       "        <td>7</td>\n",
       "        <td>Austin Code Department</td>\n",
       "        <td>2273</td>\n",
       "    </tr>\n",
       "    <tr>\n",
       "        <td>2014</td>\n",
       "        <td>7</td>\n",
       "        <td>Animal Services Office</td>\n",
       "        <td>1672</td>\n",
       "    </tr>\n",
       "    <tr>\n",
       "        <td>2014</td>\n",
       "        <td>7</td>\n",
       "        <td>Austin Resource Recovery</td>\n",
       "        <td>1369</td>\n",
       "    </tr>\n",
       "    <tr>\n",
       "        <td>2014</td>\n",
       "        <td>7</td>\n",
       "        <td>Transportation</td>\n",
       "        <td>717</td>\n",
       "    </tr>\n",
       "    <tr>\n",
       "        <td>2014</td>\n",
       "        <td>7</td>\n",
       "        <td>Public Works</td>\n",
       "        <td>566</td>\n",
       "    </tr>\n",
       "    <tr>\n",
       "        <td>2014</td>\n",
       "        <td>8</td>\n",
       "        <td>Austin Code Department</td>\n",
       "        <td>1946</td>\n",
       "    </tr>\n",
       "    <tr>\n",
       "        <td>2014</td>\n",
       "        <td>8</td>\n",
       "        <td>Animal Services Office</td>\n",
       "        <td>1575</td>\n",
       "    </tr>\n",
       "    <tr>\n",
       "        <td>2014</td>\n",
       "        <td>8</td>\n",
       "        <td>Austin Resource Recovery</td>\n",
       "        <td>1297</td>\n",
       "    </tr>\n",
       "    <tr>\n",
       "        <td>2014</td>\n",
       "        <td>8</td>\n",
       "        <td>Transportation</td>\n",
       "        <td>973</td>\n",
       "    </tr>\n",
       "    <tr>\n",
       "        <td>2014</td>\n",
       "        <td>8</td>\n",
       "        <td>Public Works</td>\n",
       "        <td>660</td>\n",
       "    </tr>\n",
       "    <tr>\n",
       "        <td>2014</td>\n",
       "        <td>9</td>\n",
       "        <td>Austin Code Department</td>\n",
       "        <td>1797</td>\n",
       "    </tr>\n",
       "    <tr>\n",
       "        <td>2014</td>\n",
       "        <td>9</td>\n",
       "        <td>Animal Services Office</td>\n",
       "        <td>1783</td>\n",
       "    </tr>\n",
       "    <tr>\n",
       "        <td>2014</td>\n",
       "        <td>9</td>\n",
       "        <td>Austin Resource Recovery</td>\n",
       "        <td>1105</td>\n",
       "    </tr>\n",
       "    <tr>\n",
       "        <td>2014</td>\n",
       "        <td>9</td>\n",
       "        <td>Transportation</td>\n",
       "        <td>1045</td>\n",
       "    </tr>\n",
       "    <tr>\n",
       "        <td>2014</td>\n",
       "        <td>9</td>\n",
       "        <td>Public Works</td>\n",
       "        <td>569</td>\n",
       "    </tr>\n",
       "    <tr>\n",
       "        <td>2014</td>\n",
       "        <td>10</td>\n",
       "        <td>Animal Services Office</td>\n",
       "        <td>1825</td>\n",
       "    </tr>\n",
       "    <tr>\n",
       "        <td>2014</td>\n",
       "        <td>10</td>\n",
       "        <td>Austin Code Department</td>\n",
       "        <td>1758</td>\n",
       "    </tr>\n",
       "    <tr>\n",
       "        <td>2014</td>\n",
       "        <td>10</td>\n",
       "        <td>Austin Resource Recovery</td>\n",
       "        <td>1289</td>\n",
       "    </tr>\n",
       "    <tr>\n",
       "        <td>2014</td>\n",
       "        <td>10</td>\n",
       "        <td>Transportation</td>\n",
       "        <td>933</td>\n",
       "    </tr>\n",
       "    <tr>\n",
       "        <td>2014</td>\n",
       "        <td>10</td>\n",
       "        <td>Public Works</td>\n",
       "        <td>555</td>\n",
       "    </tr>\n",
       "    <tr>\n",
       "        <td>2014</td>\n",
       "        <td>11</td>\n",
       "        <td>Animal Services Office</td>\n",
       "        <td>1594</td>\n",
       "    </tr>\n",
       "    <tr>\n",
       "        <td>2014</td>\n",
       "        <td>11</td>\n",
       "        <td>Austin Code Department</td>\n",
       "        <td>1065</td>\n",
       "    </tr>\n",
       "    <tr>\n",
       "        <td>2014</td>\n",
       "        <td>11</td>\n",
       "        <td>Austin Resource Recovery</td>\n",
       "        <td>1021</td>\n",
       "    </tr>\n",
       "    <tr>\n",
       "        <td>2014</td>\n",
       "        <td>11</td>\n",
       "        <td>Transportation</td>\n",
       "        <td>728</td>\n",
       "    </tr>\n",
       "    <tr>\n",
       "        <td>2014</td>\n",
       "        <td>11</td>\n",
       "        <td>Public Works</td>\n",
       "        <td>404</td>\n",
       "    </tr>\n",
       "    <tr>\n",
       "        <td>2014</td>\n",
       "        <td>12</td>\n",
       "        <td>Animal Services Office</td>\n",
       "        <td>1498</td>\n",
       "    </tr>\n",
       "    <tr>\n",
       "        <td>2014</td>\n",
       "        <td>12</td>\n",
       "        <td>Austin Resource Recovery</td>\n",
       "        <td>1313</td>\n",
       "    </tr>\n",
       "    <tr>\n",
       "        <td>2014</td>\n",
       "        <td>12</td>\n",
       "        <td>Austin Code Department</td>\n",
       "        <td>1247</td>\n",
       "    </tr>\n",
       "    <tr>\n",
       "        <td>2014</td>\n",
       "        <td>12</td>\n",
       "        <td>Transportation</td>\n",
       "        <td>670</td>\n",
       "    </tr>\n",
       "    <tr>\n",
       "        <td>2014</td>\n",
       "        <td>12</td>\n",
       "        <td>Public Works</td>\n",
       "        <td>368</td>\n",
       "    </tr>\n",
       "    <tr>\n",
       "        <td>2015</td>\n",
       "        <td>1</td>\n",
       "        <td>Animal Services Office</td>\n",
       "        <td>1463</td>\n",
       "    </tr>\n",
       "    <tr>\n",
       "        <td>2015</td>\n",
       "        <td>1</td>\n",
       "        <td>Austin Code Department</td>\n",
       "        <td>1257</td>\n",
       "    </tr>\n",
       "    <tr>\n",
       "        <td>2015</td>\n",
       "        <td>1</td>\n",
       "        <td>Austin Resource Recovery</td>\n",
       "        <td>1182</td>\n",
       "    </tr>\n",
       "    <tr>\n",
       "        <td>2015</td>\n",
       "        <td>1</td>\n",
       "        <td>Transportation</td>\n",
       "        <td>774</td>\n",
       "    </tr>\n",
       "    <tr>\n",
       "        <td>2015</td>\n",
       "        <td>1</td>\n",
       "        <td>Public Works</td>\n",
       "        <td>480</td>\n",
       "    </tr>\n",
       "    <tr>\n",
       "        <td>2015</td>\n",
       "        <td>2</td>\n",
       "        <td>Austin Code Department</td>\n",
       "        <td>1339</td>\n",
       "    </tr>\n",
       "    <tr>\n",
       "        <td>2015</td>\n",
       "        <td>2</td>\n",
       "        <td>Animal Services Office</td>\n",
       "        <td>1324</td>\n",
       "    </tr>\n",
       "    <tr>\n",
       "        <td>2015</td>\n",
       "        <td>2</td>\n",
       "        <td>Austin Resource Recovery</td>\n",
       "        <td>957</td>\n",
       "    </tr>\n",
       "    <tr>\n",
       "        <td>2015</td>\n",
       "        <td>2</td>\n",
       "        <td>Transportation</td>\n",
       "        <td>630</td>\n",
       "    </tr>\n",
       "    <tr>\n",
       "        <td>2015</td>\n",
       "        <td>2</td>\n",
       "        <td>Public Works</td>\n",
       "        <td>499</td>\n",
       "    </tr>\n",
       "    <tr>\n",
       "        <td>2015</td>\n",
       "        <td>3</td>\n",
       "        <td>Austin Code Department</td>\n",
       "        <td>1645</td>\n",
       "    </tr>\n",
       "    <tr>\n",
       "        <td>2015</td>\n",
       "        <td>3</td>\n",
       "        <td>Animal Services Office</td>\n",
       "        <td>1589</td>\n",
       "    </tr>\n",
       "    <tr>\n",
       "        <td>2015</td>\n",
       "        <td>3</td>\n",
       "        <td>Austin Resource Recovery</td>\n",
       "        <td>1583</td>\n",
       "    </tr>\n",
       "    <tr>\n",
       "        <td>2015</td>\n",
       "        <td>3</td>\n",
       "        <td>Transportation</td>\n",
       "        <td>873</td>\n",
       "    </tr>\n",
       "    <tr>\n",
       "        <td>2015</td>\n",
       "        <td>3</td>\n",
       "        <td>Public Works</td>\n",
       "        <td>719</td>\n",
       "    </tr>\n",
       "    <tr>\n",
       "        <td>2015</td>\n",
       "        <td>4</td>\n",
       "        <td>Austin Code Department</td>\n",
       "        <td>2168</td>\n",
       "    </tr>\n",
       "    <tr>\n",
       "        <td>2015</td>\n",
       "        <td>4</td>\n",
       "        <td>Austin Resource Recovery</td>\n",
       "        <td>1659</td>\n",
       "    </tr>\n",
       "    <tr>\n",
       "        <td>2015</td>\n",
       "        <td>4</td>\n",
       "        <td>Animal Services Office</td>\n",
       "        <td>1651</td>\n",
       "    </tr>\n",
       "    <tr>\n",
       "        <td>2015</td>\n",
       "        <td>4</td>\n",
       "        <td>Public Works</td>\n",
       "        <td>892</td>\n",
       "    </tr>\n",
       "    <tr>\n",
       "        <td>2015</td>\n",
       "        <td>4</td>\n",
       "        <td>Transportation</td>\n",
       "        <td>887</td>\n",
       "    </tr>\n",
       "    <tr>\n",
       "        <td>2015</td>\n",
       "        <td>5</td>\n",
       "        <td>Austin Code Department</td>\n",
       "        <td>2291</td>\n",
       "    </tr>\n",
       "    <tr>\n",
       "        <td>2015</td>\n",
       "        <td>5</td>\n",
       "        <td>Animal Services Office</td>\n",
       "        <td>1812</td>\n",
       "    </tr>\n",
       "    <tr>\n",
       "        <td>2015</td>\n",
       "        <td>5</td>\n",
       "        <td>Austin Resource Recovery</td>\n",
       "        <td>1629</td>\n",
       "    </tr>\n",
       "    <tr>\n",
       "        <td>2015</td>\n",
       "        <td>5</td>\n",
       "        <td>Public Works</td>\n",
       "        <td>1516</td>\n",
       "    </tr>\n",
       "    <tr>\n",
       "        <td>2015</td>\n",
       "        <td>5</td>\n",
       "        <td>Transportation</td>\n",
       "        <td>925</td>\n",
       "    </tr>\n",
       "    <tr>\n",
       "        <td>2015</td>\n",
       "        <td>6</td>\n",
       "        <td>Austin Code Department</td>\n",
       "        <td>2825</td>\n",
       "    </tr>\n",
       "    <tr>\n",
       "        <td>2015</td>\n",
       "        <td>6</td>\n",
       "        <td>Austin Resource Recovery</td>\n",
       "        <td>2060</td>\n",
       "    </tr>\n",
       "    <tr>\n",
       "        <td>2015</td>\n",
       "        <td>6</td>\n",
       "        <td>Animal Services Office</td>\n",
       "        <td>1620</td>\n",
       "    </tr>\n",
       "    <tr>\n",
       "        <td>2015</td>\n",
       "        <td>6</td>\n",
       "        <td>Public Works</td>\n",
       "        <td>1588</td>\n",
       "    </tr>\n",
       "    <tr>\n",
       "        <td>2015</td>\n",
       "        <td>6</td>\n",
       "        <td>Transportation</td>\n",
       "        <td>1018</td>\n",
       "    </tr>\n",
       "    <tr>\n",
       "        <td>2015</td>\n",
       "        <td>7</td>\n",
       "        <td>Austin Code Department</td>\n",
       "        <td>2611</td>\n",
       "    </tr>\n",
       "    <tr>\n",
       "        <td>2015</td>\n",
       "        <td>7</td>\n",
       "        <td>Austin Resource Recovery</td>\n",
       "        <td>2317</td>\n",
       "    </tr>\n",
       "    <tr>\n",
       "        <td>2015</td>\n",
       "        <td>7</td>\n",
       "        <td>Animal Services Office</td>\n",
       "        <td>1759</td>\n",
       "    </tr>\n",
       "    <tr>\n",
       "        <td>2015</td>\n",
       "        <td>7</td>\n",
       "        <td>Public Works</td>\n",
       "        <td>1162</td>\n",
       "    </tr>\n",
       "    <tr>\n",
       "        <td>2015</td>\n",
       "        <td>7</td>\n",
       "        <td>Transportation</td>\n",
       "        <td>914</td>\n",
       "    </tr>\n",
       "    <tr>\n",
       "        <td>2015</td>\n",
       "        <td>8</td>\n",
       "        <td>Austin Code Department</td>\n",
       "        <td>2183</td>\n",
       "    </tr>\n",
       "    <tr>\n",
       "        <td>2015</td>\n",
       "        <td>8</td>\n",
       "        <td>Animal Services Office</td>\n",
       "        <td>1742</td>\n",
       "    </tr>\n",
       "    <tr>\n",
       "        <td>2015</td>\n",
       "        <td>8</td>\n",
       "        <td>Austin Resource Recovery</td>\n",
       "        <td>1566</td>\n",
       "    </tr>\n",
       "    <tr>\n",
       "        <td>2015</td>\n",
       "        <td>8</td>\n",
       "        <td>Transportation</td>\n",
       "        <td>982</td>\n",
       "    </tr>\n",
       "    <tr>\n",
       "        <td>2015</td>\n",
       "        <td>8</td>\n",
       "        <td>Public Works</td>\n",
       "        <td>808</td>\n",
       "    </tr>\n",
       "    <tr>\n",
       "        <td>2015</td>\n",
       "        <td>9</td>\n",
       "        <td>Austin Code Department</td>\n",
       "        <td>1913</td>\n",
       "    </tr>\n",
       "    <tr>\n",
       "        <td>2015</td>\n",
       "        <td>9</td>\n",
       "        <td>Animal Services Office</td>\n",
       "        <td>1620</td>\n",
       "    </tr>\n",
       "    <tr>\n",
       "        <td>2015</td>\n",
       "        <td>9</td>\n",
       "        <td>Austin Resource Recovery</td>\n",
       "        <td>1544</td>\n",
       "    </tr>\n",
       "    <tr>\n",
       "        <td>2015</td>\n",
       "        <td>9</td>\n",
       "        <td>Transportation</td>\n",
       "        <td>931</td>\n",
       "    </tr>\n",
       "    <tr>\n",
       "        <td>2015</td>\n",
       "        <td>9</td>\n",
       "        <td>Public Works</td>\n",
       "        <td>730</td>\n",
       "    </tr>\n",
       "    <tr>\n",
       "        <td>2015</td>\n",
       "        <td>10</td>\n",
       "        <td>Austin Code Department</td>\n",
       "        <td>1840</td>\n",
       "    </tr>\n",
       "    <tr>\n",
       "        <td>2015</td>\n",
       "        <td>10</td>\n",
       "        <td>Animal Services Office</td>\n",
       "        <td>1795</td>\n",
       "    </tr>\n",
       "    <tr>\n",
       "        <td>2015</td>\n",
       "        <td>10</td>\n",
       "        <td>Austin Resource Recovery</td>\n",
       "        <td>1497</td>\n",
       "    </tr>\n",
       "    <tr>\n",
       "        <td>2015</td>\n",
       "        <td>10</td>\n",
       "        <td>Transportation</td>\n",
       "        <td>955</td>\n",
       "    </tr>\n",
       "    <tr>\n",
       "        <td>2015</td>\n",
       "        <td>10</td>\n",
       "        <td>Public Works</td>\n",
       "        <td>940</td>\n",
       "    </tr>\n",
       "    <tr>\n",
       "        <td>2015</td>\n",
       "        <td>11</td>\n",
       "        <td>Austin Code Department</td>\n",
       "        <td>1454</td>\n",
       "    </tr>\n",
       "    <tr>\n",
       "        <td>2015</td>\n",
       "        <td>11</td>\n",
       "        <td>Austin Resource Recovery</td>\n",
       "        <td>1361</td>\n",
       "    </tr>\n",
       "    <tr>\n",
       "        <td>2015</td>\n",
       "        <td>11</td>\n",
       "        <td>Animal Services Office</td>\n",
       "        <td>1229</td>\n",
       "    </tr>\n",
       "    <tr>\n",
       "        <td>2015</td>\n",
       "        <td>11</td>\n",
       "        <td>Transportation</td>\n",
       "        <td>720</td>\n",
       "    </tr>\n",
       "    <tr>\n",
       "        <td>2015</td>\n",
       "        <td>11</td>\n",
       "        <td>Public Works</td>\n",
       "        <td>630</td>\n",
       "    </tr>\n",
       "    <tr>\n",
       "        <td>2015</td>\n",
       "        <td>12</td>\n",
       "        <td>Austin Resource Recovery</td>\n",
       "        <td>1476</td>\n",
       "    </tr>\n",
       "    <tr>\n",
       "        <td>2015</td>\n",
       "        <td>12</td>\n",
       "        <td>Austin Code Department</td>\n",
       "        <td>1364</td>\n",
       "    </tr>\n",
       "    <tr>\n",
       "        <td>2015</td>\n",
       "        <td>12</td>\n",
       "        <td>Transportation</td>\n",
       "        <td>644</td>\n",
       "    </tr>\n",
       "    <tr>\n",
       "        <td>2015</td>\n",
       "        <td>12</td>\n",
       "        <td>Animal Services Office</td>\n",
       "        <td>491</td>\n",
       "    </tr>\n",
       "    <tr>\n",
       "        <td>2015</td>\n",
       "        <td>12</td>\n",
       "        <td>Public Works</td>\n",
       "        <td>386</td>\n",
       "    </tr>\n",
       "    <tr>\n",
       "        <td>2016</td>\n",
       "        <td>1</td>\n",
       "        <td>Austin Code Department</td>\n",
       "        <td>1600</td>\n",
       "    </tr>\n",
       "    <tr>\n",
       "        <td>2016</td>\n",
       "        <td>1</td>\n",
       "        <td>Austin Resource Recovery</td>\n",
       "        <td>1446</td>\n",
       "    </tr>\n",
       "    <tr>\n",
       "        <td>2016</td>\n",
       "        <td>1</td>\n",
       "        <td>Transportation</td>\n",
       "        <td>736</td>\n",
       "    </tr>\n",
       "    <tr>\n",
       "        <td>2016</td>\n",
       "        <td>1</td>\n",
       "        <td>Animal Services Office</td>\n",
       "        <td>510</td>\n",
       "    </tr>\n",
       "    <tr>\n",
       "        <td>2016</td>\n",
       "        <td>1</td>\n",
       "        <td>Public Works</td>\n",
       "        <td>432</td>\n",
       "    </tr>\n",
       "    <tr>\n",
       "        <td>2016</td>\n",
       "        <td>2</td>\n",
       "        <td>Austin Code Department</td>\n",
       "        <td>1368</td>\n",
       "    </tr>\n",
       "    <tr>\n",
       "        <td>2016</td>\n",
       "        <td>2</td>\n",
       "        <td>Animal Services Office</td>\n",
       "        <td>1316</td>\n",
       "    </tr>\n",
       "    <tr>\n",
       "        <td>2016</td>\n",
       "        <td>2</td>\n",
       "        <td>Austin Resource Recovery</td>\n",
       "        <td>1255</td>\n",
       "    </tr>\n",
       "    <tr>\n",
       "        <td>2016</td>\n",
       "        <td>2</td>\n",
       "        <td>Transportation</td>\n",
       "        <td>635</td>\n",
       "    </tr>\n",
       "    <tr>\n",
       "        <td>2016</td>\n",
       "        <td>2</td>\n",
       "        <td>Public Works</td>\n",
       "        <td>498</td>\n",
       "    </tr>\n",
       "    <tr>\n",
       "        <td>2016</td>\n",
       "        <td>3</td>\n",
       "        <td>Animal Services Office</td>\n",
       "        <td>1726</td>\n",
       "    </tr>\n",
       "    <tr>\n",
       "        <td>2016</td>\n",
       "        <td>3</td>\n",
       "        <td>Austin Code Department</td>\n",
       "        <td>1640</td>\n",
       "    </tr>\n",
       "    <tr>\n",
       "        <td>2016</td>\n",
       "        <td>3</td>\n",
       "        <td>Austin Resource Recovery</td>\n",
       "        <td>1276</td>\n",
       "    </tr>\n",
       "    <tr>\n",
       "        <td>2016</td>\n",
       "        <td>3</td>\n",
       "        <td>Public Works</td>\n",
       "        <td>645</td>\n",
       "    </tr>\n",
       "    <tr>\n",
       "        <td>2016</td>\n",
       "        <td>3</td>\n",
       "        <td>Transportation</td>\n",
       "        <td>585</td>\n",
       "    </tr>\n",
       "    <tr>\n",
       "        <td>2016</td>\n",
       "        <td>4</td>\n",
       "        <td>Austin Code Department</td>\n",
       "        <td>1961</td>\n",
       "    </tr>\n",
       "    <tr>\n",
       "        <td>2016</td>\n",
       "        <td>4</td>\n",
       "        <td>Animal Services Office</td>\n",
       "        <td>1940</td>\n",
       "    </tr>\n",
       "    <tr>\n",
       "        <td>2016</td>\n",
       "        <td>4</td>\n",
       "        <td>Austin Resource Recovery</td>\n",
       "        <td>1402</td>\n",
       "    </tr>\n",
       "    <tr>\n",
       "        <td>2016</td>\n",
       "        <td>4</td>\n",
       "        <td>Public Works</td>\n",
       "        <td>960</td>\n",
       "    </tr>\n",
       "    <tr>\n",
       "        <td>2016</td>\n",
       "        <td>4</td>\n",
       "        <td>Transportation</td>\n",
       "        <td>635</td>\n",
       "    </tr>\n",
       "    <tr>\n",
       "        <td>2016</td>\n",
       "        <td>5</td>\n",
       "        <td>Animal Services Office</td>\n",
       "        <td>2167</td>\n",
       "    </tr>\n",
       "    <tr>\n",
       "        <td>2016</td>\n",
       "        <td>5</td>\n",
       "        <td>Austin Code Department</td>\n",
       "        <td>2142</td>\n",
       "    </tr>\n",
       "    <tr>\n",
       "        <td>2016</td>\n",
       "        <td>5</td>\n",
       "        <td>Austin Resource Recovery</td>\n",
       "        <td>1422</td>\n",
       "    </tr>\n",
       "    <tr>\n",
       "        <td>2016</td>\n",
       "        <td>5</td>\n",
       "        <td>Public Works</td>\n",
       "        <td>962</td>\n",
       "    </tr>\n",
       "    <tr>\n",
       "        <td>2016</td>\n",
       "        <td>5</td>\n",
       "        <td>Transportation</td>\n",
       "        <td>724</td>\n",
       "    </tr>\n",
       "    <tr>\n",
       "        <td>2016</td>\n",
       "        <td>6</td>\n",
       "        <td>Austin Code Department</td>\n",
       "        <td>1982</td>\n",
       "    </tr>\n",
       "    <tr>\n",
       "        <td>2016</td>\n",
       "        <td>6</td>\n",
       "        <td>Animal Services Office</td>\n",
       "        <td>1463</td>\n",
       "    </tr>\n",
       "    <tr>\n",
       "        <td>2016</td>\n",
       "        <td>6</td>\n",
       "        <td>Austin Resource Recovery</td>\n",
       "        <td>1169</td>\n",
       "    </tr>\n",
       "    <tr>\n",
       "        <td>2016</td>\n",
       "        <td>6</td>\n",
       "        <td>Public Works</td>\n",
       "        <td>890</td>\n",
       "    </tr>\n",
       "    <tr>\n",
       "        <td>2016</td>\n",
       "        <td>6</td>\n",
       "        <td>Transportation</td>\n",
       "        <td>420</td>\n",
       "    </tr>\n",
       "    <tr>\n",
       "        <td>2016</td>\n",
       "        <td>7</td>\n",
       "        <td>Austin Code Department</td>\n",
       "        <td>1561</td>\n",
       "    </tr>\n",
       "    <tr>\n",
       "        <td>2016</td>\n",
       "        <td>7</td>\n",
       "        <td>Animal Services Office</td>\n",
       "        <td>1314</td>\n",
       "    </tr>\n",
       "    <tr>\n",
       "        <td>2016</td>\n",
       "        <td>7</td>\n",
       "        <td>Austin Resource Recovery</td>\n",
       "        <td>1141</td>\n",
       "    </tr>\n",
       "    <tr>\n",
       "        <td>2016</td>\n",
       "        <td>7</td>\n",
       "        <td>Public Works</td>\n",
       "        <td>777</td>\n",
       "    </tr>\n",
       "    <tr>\n",
       "        <td>2016</td>\n",
       "        <td>7</td>\n",
       "        <td>Transportation</td>\n",
       "        <td>501</td>\n",
       "    </tr>\n",
       "    <tr>\n",
       "        <td>2016</td>\n",
       "        <td>8</td>\n",
       "        <td>Austin Code Department</td>\n",
       "        <td>2325</td>\n",
       "    </tr>\n",
       "    <tr>\n",
       "        <td>2016</td>\n",
       "        <td>8</td>\n",
       "        <td>Animal Services Office</td>\n",
       "        <td>1720</td>\n",
       "    </tr>\n",
       "    <tr>\n",
       "        <td>2016</td>\n",
       "        <td>8</td>\n",
       "        <td>Austin Resource Recovery</td>\n",
       "        <td>1421</td>\n",
       "    </tr>\n",
       "    <tr>\n",
       "        <td>2016</td>\n",
       "        <td>8</td>\n",
       "        <td>Public Works</td>\n",
       "        <td>902</td>\n",
       "    </tr>\n",
       "    <tr>\n",
       "        <td>2016</td>\n",
       "        <td>8</td>\n",
       "        <td>Transportation</td>\n",
       "        <td>614</td>\n",
       "    </tr>\n",
       "    <tr>\n",
       "        <td>2016</td>\n",
       "        <td>9</td>\n",
       "        <td>Austin Code Department</td>\n",
       "        <td>2548</td>\n",
       "    </tr>\n",
       "    <tr>\n",
       "        <td>2016</td>\n",
       "        <td>9</td>\n",
       "        <td>Animal Services Office</td>\n",
       "        <td>1614</td>\n",
       "    </tr>\n",
       "    <tr>\n",
       "        <td>2016</td>\n",
       "        <td>9</td>\n",
       "        <td>Austin Resource Recovery</td>\n",
       "        <td>1604</td>\n",
       "    </tr>\n",
       "    <tr>\n",
       "        <td>2016</td>\n",
       "        <td>9</td>\n",
       "        <td>Public Works</td>\n",
       "        <td>923</td>\n",
       "    </tr>\n",
       "    <tr>\n",
       "        <td>2016</td>\n",
       "        <td>9</td>\n",
       "        <td>Transportation</td>\n",
       "        <td>671</td>\n",
       "    </tr>\n",
       "    <tr>\n",
       "        <td>2016</td>\n",
       "        <td>10</td>\n",
       "        <td>Austin Code Department</td>\n",
       "        <td>1970</td>\n",
       "    </tr>\n",
       "    <tr>\n",
       "        <td>2016</td>\n",
       "        <td>10</td>\n",
       "        <td>Animal Services Office</td>\n",
       "        <td>1539</td>\n",
       "    </tr>\n",
       "    <tr>\n",
       "        <td>2016</td>\n",
       "        <td>10</td>\n",
       "        <td>Austin Resource Recovery</td>\n",
       "        <td>1537</td>\n",
       "    </tr>\n",
       "    <tr>\n",
       "        <td>2016</td>\n",
       "        <td>10</td>\n",
       "        <td>Public Works</td>\n",
       "        <td>667</td>\n",
       "    </tr>\n",
       "    <tr>\n",
       "        <td>2016</td>\n",
       "        <td>10</td>\n",
       "        <td>Transportation</td>\n",
       "        <td>601</td>\n",
       "    </tr>\n",
       "    <tr>\n",
       "        <td>2016</td>\n",
       "        <td>11</td>\n",
       "        <td>Austin Resource Recovery</td>\n",
       "        <td>1572</td>\n",
       "    </tr>\n",
       "    <tr>\n",
       "        <td>2016</td>\n",
       "        <td>11</td>\n",
       "        <td>Austin Code Department</td>\n",
       "        <td>1393</td>\n",
       "    </tr>\n",
       "    <tr>\n",
       "        <td>2016</td>\n",
       "        <td>11</td>\n",
       "        <td>Animal Services Office</td>\n",
       "        <td>1391</td>\n",
       "    </tr>\n",
       "    <tr>\n",
       "        <td>2016</td>\n",
       "        <td>11</td>\n",
       "        <td>Public Works</td>\n",
       "        <td>504</td>\n",
       "    </tr>\n",
       "    <tr>\n",
       "        <td>2016</td>\n",
       "        <td>11</td>\n",
       "        <td>Transportation</td>\n",
       "        <td>494</td>\n",
       "    </tr>\n",
       "    <tr>\n",
       "        <td>2016</td>\n",
       "        <td>12</td>\n",
       "        <td>Austin Resource Recovery</td>\n",
       "        <td>1584</td>\n",
       "    </tr>\n",
       "    <tr>\n",
       "        <td>2016</td>\n",
       "        <td>12</td>\n",
       "        <td>Animal Services Office</td>\n",
       "        <td>1384</td>\n",
       "    </tr>\n",
       "    <tr>\n",
       "        <td>2016</td>\n",
       "        <td>12</td>\n",
       "        <td>Austin Code Department</td>\n",
       "        <td>1187</td>\n",
       "    </tr>\n",
       "    <tr>\n",
       "        <td>2016</td>\n",
       "        <td>12</td>\n",
       "        <td>Transportation</td>\n",
       "        <td>461</td>\n",
       "    </tr>\n",
       "    <tr>\n",
       "        <td>2016</td>\n",
       "        <td>12</td>\n",
       "        <td>Public Works</td>\n",
       "        <td>318</td>\n",
       "    </tr>\n",
       "    <tr>\n",
       "        <td>2017</td>\n",
       "        <td>1</td>\n",
       "        <td>Austin Code Department</td>\n",
       "        <td>628</td>\n",
       "    </tr>\n",
       "    <tr>\n",
       "        <td>2017</td>\n",
       "        <td>1</td>\n",
       "        <td>Austin Resource Recovery</td>\n",
       "        <td>606</td>\n",
       "    </tr>\n",
       "    <tr>\n",
       "        <td>2017</td>\n",
       "        <td>1</td>\n",
       "        <td>Public Works</td>\n",
       "        <td>572</td>\n",
       "    </tr>\n",
       "    <tr>\n",
       "        <td>2017</td>\n",
       "        <td>1</td>\n",
       "        <td>Animal Services Office</td>\n",
       "        <td>510</td>\n",
       "    </tr>\n",
       "    <tr>\n",
       "        <td>2017</td>\n",
       "        <td>1</td>\n",
       "        <td>Transportation</td>\n",
       "        <td>168</td>\n",
       "    </tr>\n",
       "    <tr>\n",
       "        <td>2017</td>\n",
       "        <td>2</td>\n",
       "        <td>Public Works</td>\n",
       "        <td>544</td>\n",
       "    </tr>\n",
       "    <tr>\n",
       "        <td>2017</td>\n",
       "        <td>2</td>\n",
       "        <td>Austin Code Department</td>\n",
       "        <td>396</td>\n",
       "    </tr>\n",
       "    <tr>\n",
       "        <td>2017</td>\n",
       "        <td>2</td>\n",
       "        <td>Transportation</td>\n",
       "        <td>165</td>\n",
       "    </tr>\n",
       "    <tr>\n",
       "        <td>2017</td>\n",
       "        <td>2</td>\n",
       "        <td>Animal Services Office</td>\n",
       "        <td>45</td>\n",
       "    </tr>\n",
       "    <tr>\n",
       "        <td>2017</td>\n",
       "        <td>2</td>\n",
       "        <td>Austin Resource Recovery</td>\n",
       "        <td>24</td>\n",
       "    </tr>\n",
       "    <tr>\n",
       "        <td>2017</td>\n",
       "        <td>3</td>\n",
       "        <td>Austin Code Department</td>\n",
       "        <td>1587</td>\n",
       "    </tr>\n",
       "    <tr>\n",
       "        <td>2017</td>\n",
       "        <td>3</td>\n",
       "        <td>Animal Services Office</td>\n",
       "        <td>1244</td>\n",
       "    </tr>\n",
       "    <tr>\n",
       "        <td>2017</td>\n",
       "        <td>3</td>\n",
       "        <td>Austin Resource Recovery</td>\n",
       "        <td>1111</td>\n",
       "    </tr>\n",
       "    <tr>\n",
       "        <td>2017</td>\n",
       "        <td>3</td>\n",
       "        <td>Public Works</td>\n",
       "        <td>606</td>\n",
       "    </tr>\n",
       "    <tr>\n",
       "        <td>2017</td>\n",
       "        <td>3</td>\n",
       "        <td>Transportation</td>\n",
       "        <td>492</td>\n",
       "    </tr>\n",
       "    <tr>\n",
       "        <td>2017</td>\n",
       "        <td>4</td>\n",
       "        <td>Austin Code Department</td>\n",
       "        <td>1500</td>\n",
       "    </tr>\n",
       "    <tr>\n",
       "        <td>2017</td>\n",
       "        <td>4</td>\n",
       "        <td>Animal Services Office</td>\n",
       "        <td>856</td>\n",
       "    </tr>\n",
       "    <tr>\n",
       "        <td>2017</td>\n",
       "        <td>4</td>\n",
       "        <td>Public Works</td>\n",
       "        <td>741</td>\n",
       "    </tr>\n",
       "    <tr>\n",
       "        <td>2017</td>\n",
       "        <td>4</td>\n",
       "        <td>Austin Resource Recovery</td>\n",
       "        <td>478</td>\n",
       "    </tr>\n",
       "    <tr>\n",
       "        <td>2017</td>\n",
       "        <td>4</td>\n",
       "        <td>Transportation</td>\n",
       "        <td>390</td>\n",
       "    </tr>\n",
       "    <tr>\n",
       "        <td>2017</td>\n",
       "        <td>5</td>\n",
       "        <td>Austin Code Department</td>\n",
       "        <td>2090</td>\n",
       "    </tr>\n",
       "    <tr>\n",
       "        <td>2017</td>\n",
       "        <td>5</td>\n",
       "        <td>Animal Services Office</td>\n",
       "        <td>1507</td>\n",
       "    </tr>\n",
       "    <tr>\n",
       "        <td>2017</td>\n",
       "        <td>5</td>\n",
       "        <td>Austin Resource Recovery</td>\n",
       "        <td>1196</td>\n",
       "    </tr>\n",
       "    <tr>\n",
       "        <td>2017</td>\n",
       "        <td>5</td>\n",
       "        <td>Transportation</td>\n",
       "        <td>602</td>\n",
       "    </tr>\n",
       "    <tr>\n",
       "        <td>2017</td>\n",
       "        <td>5</td>\n",
       "        <td>Public Works</td>\n",
       "        <td>536</td>\n",
       "    </tr>\n",
       "    <tr>\n",
       "        <td>2017</td>\n",
       "        <td>6</td>\n",
       "        <td>Austin Code Department</td>\n",
       "        <td>2241</td>\n",
       "    </tr>\n",
       "    <tr>\n",
       "        <td>2017</td>\n",
       "        <td>6</td>\n",
       "        <td>Animal Services Office</td>\n",
       "        <td>1435</td>\n",
       "    </tr>\n",
       "    <tr>\n",
       "        <td>2017</td>\n",
       "        <td>6</td>\n",
       "        <td>Austin Resource Recovery</td>\n",
       "        <td>1154</td>\n",
       "    </tr>\n",
       "    <tr>\n",
       "        <td>2017</td>\n",
       "        <td>6</td>\n",
       "        <td>Transportation</td>\n",
       "        <td>599</td>\n",
       "    </tr>\n",
       "    <tr>\n",
       "        <td>2017</td>\n",
       "        <td>6</td>\n",
       "        <td>Public Works</td>\n",
       "        <td>515</td>\n",
       "    </tr>\n",
       "    <tr>\n",
       "        <td>2017</td>\n",
       "        <td>7</td>\n",
       "        <td>Austin Code Department</td>\n",
       "        <td>1916</td>\n",
       "    </tr>\n",
       "    <tr>\n",
       "        <td>2017</td>\n",
       "        <td>7</td>\n",
       "        <td>Animal Services Office</td>\n",
       "        <td>1513</td>\n",
       "    </tr>\n",
       "    <tr>\n",
       "        <td>2017</td>\n",
       "        <td>7</td>\n",
       "        <td>Austin Resource Recovery</td>\n",
       "        <td>1072</td>\n",
       "    </tr>\n",
       "    <tr>\n",
       "        <td>2017</td>\n",
       "        <td>7</td>\n",
       "        <td>Transportation</td>\n",
       "        <td>530</td>\n",
       "    </tr>\n",
       "    <tr>\n",
       "        <td>2017</td>\n",
       "        <td>7</td>\n",
       "        <td>Public Works</td>\n",
       "        <td>468</td>\n",
       "    </tr>\n",
       "    <tr>\n",
       "        <td>2017</td>\n",
       "        <td>8</td>\n",
       "        <td>Austin Code Department</td>\n",
       "        <td>1837</td>\n",
       "    </tr>\n",
       "    <tr>\n",
       "        <td>2017</td>\n",
       "        <td>8</td>\n",
       "        <td>Animal Services Office</td>\n",
       "        <td>1375</td>\n",
       "    </tr>\n",
       "    <tr>\n",
       "        <td>2017</td>\n",
       "        <td>8</td>\n",
       "        <td>Austin Resource Recovery</td>\n",
       "        <td>1068</td>\n",
       "    </tr>\n",
       "    <tr>\n",
       "        <td>2017</td>\n",
       "        <td>8</td>\n",
       "        <td>Public Works</td>\n",
       "        <td>822</td>\n",
       "    </tr>\n",
       "    <tr>\n",
       "        <td>2017</td>\n",
       "        <td>8</td>\n",
       "        <td>Transportation</td>\n",
       "        <td>691</td>\n",
       "    </tr>\n",
       "    <tr>\n",
       "        <td>2017</td>\n",
       "        <td>9</td>\n",
       "        <td>Austin Code Department</td>\n",
       "        <td>1938</td>\n",
       "    </tr>\n",
       "    <tr>\n",
       "        <td>2017</td>\n",
       "        <td>9</td>\n",
       "        <td>Animal Services Office</td>\n",
       "        <td>1279</td>\n",
       "    </tr>\n",
       "    <tr>\n",
       "        <td>2017</td>\n",
       "        <td>9</td>\n",
       "        <td>Austin Resource Recovery</td>\n",
       "        <td>956</td>\n",
       "    </tr>\n",
       "    <tr>\n",
       "        <td>2017</td>\n",
       "        <td>9</td>\n",
       "        <td>Transportation</td>\n",
       "        <td>546</td>\n",
       "    </tr>\n",
       "    <tr>\n",
       "        <td>2017</td>\n",
       "        <td>9</td>\n",
       "        <td>Public Works</td>\n",
       "        <td>417</td>\n",
       "    </tr>\n",
       "    <tr>\n",
       "        <td>2017</td>\n",
       "        <td>10</td>\n",
       "        <td>Austin Code Department</td>\n",
       "        <td>1742</td>\n",
       "    </tr>\n",
       "    <tr>\n",
       "        <td>2017</td>\n",
       "        <td>10</td>\n",
       "        <td>Austin Resource Recovery</td>\n",
       "        <td>1059</td>\n",
       "    </tr>\n",
       "    <tr>\n",
       "        <td>2017</td>\n",
       "        <td>10</td>\n",
       "        <td>Animal Services Office</td>\n",
       "        <td>671</td>\n",
       "    </tr>\n",
       "    <tr>\n",
       "        <td>2017</td>\n",
       "        <td>10</td>\n",
       "        <td>Transportation</td>\n",
       "        <td>362</td>\n",
       "    </tr>\n",
       "    <tr>\n",
       "        <td>2017</td>\n",
       "        <td>10</td>\n",
       "        <td>Public Works</td>\n",
       "        <td>313</td>\n",
       "    </tr>\n",
       "    <tr>\n",
       "        <td>2017</td>\n",
       "        <td>11</td>\n",
       "        <td>Austin Code Department</td>\n",
       "        <td>808</td>\n",
       "    </tr>\n",
       "    <tr>\n",
       "        <td>2017</td>\n",
       "        <td>11</td>\n",
       "        <td>Animal Services Office</td>\n",
       "        <td>615</td>\n",
       "    </tr>\n",
       "    <tr>\n",
       "        <td>2017</td>\n",
       "        <td>11</td>\n",
       "        <td>Austin Resource Recovery</td>\n",
       "        <td>506</td>\n",
       "    </tr>\n",
       "    <tr>\n",
       "        <td>2017</td>\n",
       "        <td>11</td>\n",
       "        <td>Transportation</td>\n",
       "        <td>117</td>\n",
       "    </tr>\n",
       "    <tr>\n",
       "        <td>2017</td>\n",
       "        <td>11</td>\n",
       "        <td>Public Works</td>\n",
       "        <td>8</td>\n",
       "    </tr>\n",
       "</table>"
      ],
      "text/plain": [
       "[(2014, 1, 'Austin Resource Recovery', 2214),\n",
       " (2014, 1, 'Animal Services Office', 1589),\n",
       " (2014, 1, 'Transportation', 570),\n",
       " (2014, 1, 'Public Works', 376),\n",
       " (2014, 1, 'Austin Code Department', 1),\n",
       " (2014, 2, 'Austin Resource Recovery', 1623),\n",
       " (2014, 2, 'Animal Services Office', 1400),\n",
       " (2014, 2, 'Transportation', 670),\n",
       " (2014, 2, 'Austin Code Department', 395),\n",
       " (2014, 2, 'Public Works', 281),\n",
       " (2014, 3, 'Animal Services Office', 1809),\n",
       " (2014, 3, 'Austin Code Department', 1434),\n",
       " (2014, 3, 'Austin Resource Recovery', 1085),\n",
       " (2014, 3, 'Transportation', 740),\n",
       " (2014, 3, 'Public Works', 327),\n",
       " (2014, 4, 'Austin Code Department', 1855),\n",
       " (2014, 4, 'Animal Services Office', 1690),\n",
       " (2014, 4, 'Austin Resource Recovery', 1392),\n",
       " (2014, 4, 'Transportation', 773),\n",
       " (2014, 4, 'Public Works', 442),\n",
       " (2014, 5, 'Austin Code Department', 1753),\n",
       " (2014, 5, 'Animal Services Office', 1723),\n",
       " (2014, 5, 'Austin Resource Recovery', 1242),\n",
       " (2014, 5, 'Transportation', 585),\n",
       " (2014, 5, 'Public Works', 380),\n",
       " (2014, 6, 'Austin Code Department', 2310),\n",
       " (2014, 6, 'Animal Services Office', 1626),\n",
       " (2014, 6, 'Austin Resource Recovery', 1437),\n",
       " (2014, 6, 'Transportation', 611),\n",
       " (2014, 6, 'Public Works', 551),\n",
       " (2014, 7, 'Austin Code Department', 2273),\n",
       " (2014, 7, 'Animal Services Office', 1672),\n",
       " (2014, 7, 'Austin Resource Recovery', 1369),\n",
       " (2014, 7, 'Transportation', 717),\n",
       " (2014, 7, 'Public Works', 566),\n",
       " (2014, 8, 'Austin Code Department', 1946),\n",
       " (2014, 8, 'Animal Services Office', 1575),\n",
       " (2014, 8, 'Austin Resource Recovery', 1297),\n",
       " (2014, 8, 'Transportation', 973),\n",
       " (2014, 8, 'Public Works', 660),\n",
       " (2014, 9, 'Austin Code Department', 1797),\n",
       " (2014, 9, 'Animal Services Office', 1783),\n",
       " (2014, 9, 'Austin Resource Recovery', 1105),\n",
       " (2014, 9, 'Transportation', 1045),\n",
       " (2014, 9, 'Public Works', 569),\n",
       " (2014, 10, 'Animal Services Office', 1825),\n",
       " (2014, 10, 'Austin Code Department', 1758),\n",
       " (2014, 10, 'Austin Resource Recovery', 1289),\n",
       " (2014, 10, 'Transportation', 933),\n",
       " (2014, 10, 'Public Works', 555),\n",
       " (2014, 11, 'Animal Services Office', 1594),\n",
       " (2014, 11, 'Austin Code Department', 1065),\n",
       " (2014, 11, 'Austin Resource Recovery', 1021),\n",
       " (2014, 11, 'Transportation', 728),\n",
       " (2014, 11, 'Public Works', 404),\n",
       " (2014, 12, 'Animal Services Office', 1498),\n",
       " (2014, 12, 'Austin Resource Recovery', 1313),\n",
       " (2014, 12, 'Austin Code Department', 1247),\n",
       " (2014, 12, 'Transportation', 670),\n",
       " (2014, 12, 'Public Works', 368),\n",
       " (2015, 1, 'Animal Services Office', 1463),\n",
       " (2015, 1, 'Austin Code Department', 1257),\n",
       " (2015, 1, 'Austin Resource Recovery', 1182),\n",
       " (2015, 1, 'Transportation', 774),\n",
       " (2015, 1, 'Public Works', 480),\n",
       " (2015, 2, 'Austin Code Department', 1339),\n",
       " (2015, 2, 'Animal Services Office', 1324),\n",
       " (2015, 2, 'Austin Resource Recovery', 957),\n",
       " (2015, 2, 'Transportation', 630),\n",
       " (2015, 2, 'Public Works', 499),\n",
       " (2015, 3, 'Austin Code Department', 1645),\n",
       " (2015, 3, 'Animal Services Office', 1589),\n",
       " (2015, 3, 'Austin Resource Recovery', 1583),\n",
       " (2015, 3, 'Transportation', 873),\n",
       " (2015, 3, 'Public Works', 719),\n",
       " (2015, 4, 'Austin Code Department', 2168),\n",
       " (2015, 4, 'Austin Resource Recovery', 1659),\n",
       " (2015, 4, 'Animal Services Office', 1651),\n",
       " (2015, 4, 'Public Works', 892),\n",
       " (2015, 4, 'Transportation', 887),\n",
       " (2015, 5, 'Austin Code Department', 2291),\n",
       " (2015, 5, 'Animal Services Office', 1812),\n",
       " (2015, 5, 'Austin Resource Recovery', 1629),\n",
       " (2015, 5, 'Public Works', 1516),\n",
       " (2015, 5, 'Transportation', 925),\n",
       " (2015, 6, 'Austin Code Department', 2825),\n",
       " (2015, 6, 'Austin Resource Recovery', 2060),\n",
       " (2015, 6, 'Animal Services Office', 1620),\n",
       " (2015, 6, 'Public Works', 1588),\n",
       " (2015, 6, 'Transportation', 1018),\n",
       " (2015, 7, 'Austin Code Department', 2611),\n",
       " (2015, 7, 'Austin Resource Recovery', 2317),\n",
       " (2015, 7, 'Animal Services Office', 1759),\n",
       " (2015, 7, 'Public Works', 1162),\n",
       " (2015, 7, 'Transportation', 914),\n",
       " (2015, 8, 'Austin Code Department', 2183),\n",
       " (2015, 8, 'Animal Services Office', 1742),\n",
       " (2015, 8, 'Austin Resource Recovery', 1566),\n",
       " (2015, 8, 'Transportation', 982),\n",
       " (2015, 8, 'Public Works', 808),\n",
       " (2015, 9, 'Austin Code Department', 1913),\n",
       " (2015, 9, 'Animal Services Office', 1620),\n",
       " (2015, 9, 'Austin Resource Recovery', 1544),\n",
       " (2015, 9, 'Transportation', 931),\n",
       " (2015, 9, 'Public Works', 730),\n",
       " (2015, 10, 'Austin Code Department', 1840),\n",
       " (2015, 10, 'Animal Services Office', 1795),\n",
       " (2015, 10, 'Austin Resource Recovery', 1497),\n",
       " (2015, 10, 'Transportation', 955),\n",
       " (2015, 10, 'Public Works', 940),\n",
       " (2015, 11, 'Austin Code Department', 1454),\n",
       " (2015, 11, 'Austin Resource Recovery', 1361),\n",
       " (2015, 11, 'Animal Services Office', 1229),\n",
       " (2015, 11, 'Transportation', 720),\n",
       " (2015, 11, 'Public Works', 630),\n",
       " (2015, 12, 'Austin Resource Recovery', 1476),\n",
       " (2015, 12, 'Austin Code Department', 1364),\n",
       " (2015, 12, 'Transportation', 644),\n",
       " (2015, 12, 'Animal Services Office', 491),\n",
       " (2015, 12, 'Public Works', 386),\n",
       " (2016, 1, 'Austin Code Department', 1600),\n",
       " (2016, 1, 'Austin Resource Recovery', 1446),\n",
       " (2016, 1, 'Transportation', 736),\n",
       " (2016, 1, 'Animal Services Office', 510),\n",
       " (2016, 1, 'Public Works', 432),\n",
       " (2016, 2, 'Austin Code Department', 1368),\n",
       " (2016, 2, 'Animal Services Office', 1316),\n",
       " (2016, 2, 'Austin Resource Recovery', 1255),\n",
       " (2016, 2, 'Transportation', 635),\n",
       " (2016, 2, 'Public Works', 498),\n",
       " (2016, 3, 'Animal Services Office', 1726),\n",
       " (2016, 3, 'Austin Code Department', 1640),\n",
       " (2016, 3, 'Austin Resource Recovery', 1276),\n",
       " (2016, 3, 'Public Works', 645),\n",
       " (2016, 3, 'Transportation', 585),\n",
       " (2016, 4, 'Austin Code Department', 1961),\n",
       " (2016, 4, 'Animal Services Office', 1940),\n",
       " (2016, 4, 'Austin Resource Recovery', 1402),\n",
       " (2016, 4, 'Public Works', 960),\n",
       " (2016, 4, 'Transportation', 635),\n",
       " (2016, 5, 'Animal Services Office', 2167),\n",
       " (2016, 5, 'Austin Code Department', 2142),\n",
       " (2016, 5, 'Austin Resource Recovery', 1422),\n",
       " (2016, 5, 'Public Works', 962),\n",
       " (2016, 5, 'Transportation', 724),\n",
       " (2016, 6, 'Austin Code Department', 1982),\n",
       " (2016, 6, 'Animal Services Office', 1463),\n",
       " (2016, 6, 'Austin Resource Recovery', 1169),\n",
       " (2016, 6, 'Public Works', 890),\n",
       " (2016, 6, 'Transportation', 420),\n",
       " (2016, 7, 'Austin Code Department', 1561),\n",
       " (2016, 7, 'Animal Services Office', 1314),\n",
       " (2016, 7, 'Austin Resource Recovery', 1141),\n",
       " (2016, 7, 'Public Works', 777),\n",
       " (2016, 7, 'Transportation', 501),\n",
       " (2016, 8, 'Austin Code Department', 2325),\n",
       " (2016, 8, 'Animal Services Office', 1720),\n",
       " (2016, 8, 'Austin Resource Recovery', 1421),\n",
       " (2016, 8, 'Public Works', 902),\n",
       " (2016, 8, 'Transportation', 614),\n",
       " (2016, 9, 'Austin Code Department', 2548),\n",
       " (2016, 9, 'Animal Services Office', 1614),\n",
       " (2016, 9, 'Austin Resource Recovery', 1604),\n",
       " (2016, 9, 'Public Works', 923),\n",
       " (2016, 9, 'Transportation', 671),\n",
       " (2016, 10, 'Austin Code Department', 1970),\n",
       " (2016, 10, 'Animal Services Office', 1539),\n",
       " (2016, 10, 'Austin Resource Recovery', 1537),\n",
       " (2016, 10, 'Public Works', 667),\n",
       " (2016, 10, 'Transportation', 601),\n",
       " (2016, 11, 'Austin Resource Recovery', 1572),\n",
       " (2016, 11, 'Austin Code Department', 1393),\n",
       " (2016, 11, 'Animal Services Office', 1391),\n",
       " (2016, 11, 'Public Works', 504),\n",
       " (2016, 11, 'Transportation', 494),\n",
       " (2016, 12, 'Austin Resource Recovery', 1584),\n",
       " (2016, 12, 'Animal Services Office', 1384),\n",
       " (2016, 12, 'Austin Code Department', 1187),\n",
       " (2016, 12, 'Transportation', 461),\n",
       " (2016, 12, 'Public Works', 318),\n",
       " (2017, 1, 'Austin Code Department', 628),\n",
       " (2017, 1, 'Austin Resource Recovery', 606),\n",
       " (2017, 1, 'Public Works', 572),\n",
       " (2017, 1, 'Animal Services Office', 510),\n",
       " (2017, 1, 'Transportation', 168),\n",
       " (2017, 2, 'Public Works', 544),\n",
       " (2017, 2, 'Austin Code Department', 396),\n",
       " (2017, 2, 'Transportation', 165),\n",
       " (2017, 2, 'Animal Services Office', 45),\n",
       " (2017, 2, 'Austin Resource Recovery', 24),\n",
       " (2017, 3, 'Austin Code Department', 1587),\n",
       " (2017, 3, 'Animal Services Office', 1244),\n",
       " (2017, 3, 'Austin Resource Recovery', 1111),\n",
       " (2017, 3, 'Public Works', 606),\n",
       " (2017, 3, 'Transportation', 492),\n",
       " (2017, 4, 'Austin Code Department', 1500),\n",
       " (2017, 4, 'Animal Services Office', 856),\n",
       " (2017, 4, 'Public Works', 741),\n",
       " (2017, 4, 'Austin Resource Recovery', 478),\n",
       " (2017, 4, 'Transportation', 390),\n",
       " (2017, 5, 'Austin Code Department', 2090),\n",
       " (2017, 5, 'Animal Services Office', 1507),\n",
       " (2017, 5, 'Austin Resource Recovery', 1196),\n",
       " (2017, 5, 'Transportation', 602),\n",
       " (2017, 5, 'Public Works', 536),\n",
       " (2017, 6, 'Austin Code Department', 2241),\n",
       " (2017, 6, 'Animal Services Office', 1435),\n",
       " (2017, 6, 'Austin Resource Recovery', 1154),\n",
       " (2017, 6, 'Transportation', 599),\n",
       " (2017, 6, 'Public Works', 515),\n",
       " (2017, 7, 'Austin Code Department', 1916),\n",
       " (2017, 7, 'Animal Services Office', 1513),\n",
       " (2017, 7, 'Austin Resource Recovery', 1072),\n",
       " (2017, 7, 'Transportation', 530),\n",
       " (2017, 7, 'Public Works', 468),\n",
       " (2017, 8, 'Austin Code Department', 1837),\n",
       " (2017, 8, 'Animal Services Office', 1375),\n",
       " (2017, 8, 'Austin Resource Recovery', 1068),\n",
       " (2017, 8, 'Public Works', 822),\n",
       " (2017, 8, 'Transportation', 691),\n",
       " (2017, 9, 'Austin Code Department', 1938),\n",
       " (2017, 9, 'Animal Services Office', 1279),\n",
       " (2017, 9, 'Austin Resource Recovery', 956),\n",
       " (2017, 9, 'Transportation', 546),\n",
       " (2017, 9, 'Public Works', 417),\n",
       " (2017, 10, 'Austin Code Department', 1742),\n",
       " (2017, 10, 'Austin Resource Recovery', 1059),\n",
       " (2017, 10, 'Animal Services Office', 671),\n",
       " (2017, 10, 'Transportation', 362),\n",
       " (2017, 10, 'Public Works', 313),\n",
       " (2017, 11, 'Austin Code Department', 808),\n",
       " (2017, 11, 'Animal Services Office', 615),\n",
       " (2017, 11, 'Austin Resource Recovery', 506),\n",
       " (2017, 11, 'Transportation', 117),\n",
       " (2017, 11, 'Public Works', 8)]"
      ]
     },
     "execution_count": 78,
     "metadata": {},
     "output_type": "execute_result"
    }
   ],
   "source": [
    "%%sql\n",
    "SELECT hour.year, hour.month_of_year,  Service_type.owning_department, COUNT(owning_department) AS count\n",
    "FROM facts \n",
    "JOIN Service_type ON facts.Service_type_key = Service_type.Service_type_key\n",
    "JOIN hour ON facts.created_date_key = hour.hour_key\n",
    "Where Service_type.owning_department = 'Austin Code Department'\n",
    "OR Service_type.owning_department = 'Animal Services Office'\n",
    "OR Service_type.owning_department ='Austin Resource Recovery'\n",
    "OR Service_type.owning_department ='Transportation'\n",
    "OR Service_type.owning_department ='Public Works'\n",
    "GROUP BY 1,2, owning_department\n",
    "ORDER BY 1,2, count DESC;"
   ]
  },
  {
   "cell_type": "code",
   "execution_count": 79,
   "metadata": {
    "collapsed": true
   },
   "outputs": [],
   "source": [
    "temp = pdsql.read_sql('''\n",
    "SELECT hour.year, hour.month_of_year,  Service_type.owning_department, COUNT(owning_department) AS count\n",
    "FROM facts \n",
    "JOIN Service_type ON facts.Service_type_key = Service_type.Service_type_key\n",
    "JOIN hour ON facts.created_date_key = hour.hour_key\n",
    "Where Service_type.owning_department = 'Austin Code Department'\n",
    "OR Service_type.owning_department = 'Animal Services Office'\n",
    "OR Service_type.owning_department ='Austin Resource Recovery'\n",
    "OR Service_type.owning_department ='Transportation'\n",
    "OR Service_type.owning_department ='Public Works'\n",
    "GROUP BY 1,2, owning_department\n",
    "ORDER BY 1,2, count DESC;''',conn)"
   ]
  },
  {
   "cell_type": "code",
   "execution_count": 80,
   "metadata": {
    "collapsed": true
   },
   "outputs": [],
   "source": [
    "temp = temp.rename(columns={\"month_of_year\":\"month\"})"
   ]
  },
  {
   "cell_type": "code",
   "execution_count": 81,
   "metadata": {
    "collapsed": true
   },
   "outputs": [],
   "source": [
    "temp[\"time\"]=temp.year.apply(lambda x: str(x)+ \"-\") +temp.month.apply(lambda x: str(x))"
   ]
  },
  {
   "cell_type": "code",
   "execution_count": 82,
   "metadata": {
    "collapsed": true
   },
   "outputs": [],
   "source": [
    "temp[\"time\"] = pd.to_datetime(temp[\"time\"])"
   ]
  },
  {
   "cell_type": "code",
   "execution_count": 83,
   "metadata": {},
   "outputs": [
    {
     "data": {
      "text/html": [
       "<div>\n",
       "<style>\n",
       "    .dataframe thead tr:only-child th {\n",
       "        text-align: right;\n",
       "    }\n",
       "\n",
       "    .dataframe thead th {\n",
       "        text-align: left;\n",
       "    }\n",
       "\n",
       "    .dataframe tbody tr th {\n",
       "        vertical-align: top;\n",
       "    }\n",
       "</style>\n",
       "<table border=\"1\" class=\"dataframe\">\n",
       "  <thead>\n",
       "    <tr style=\"text-align: right;\">\n",
       "      <th></th>\n",
       "      <th>year</th>\n",
       "      <th>month</th>\n",
       "      <th>owning_department</th>\n",
       "      <th>count</th>\n",
       "      <th>time</th>\n",
       "    </tr>\n",
       "  </thead>\n",
       "  <tbody>\n",
       "    <tr>\n",
       "      <th>0</th>\n",
       "      <td>2014</td>\n",
       "      <td>1</td>\n",
       "      <td>Austin Resource Recovery</td>\n",
       "      <td>2214</td>\n",
       "      <td>2014-01-01</td>\n",
       "    </tr>\n",
       "    <tr>\n",
       "      <th>1</th>\n",
       "      <td>2014</td>\n",
       "      <td>1</td>\n",
       "      <td>Animal Services Office</td>\n",
       "      <td>1589</td>\n",
       "      <td>2014-01-01</td>\n",
       "    </tr>\n",
       "    <tr>\n",
       "      <th>2</th>\n",
       "      <td>2014</td>\n",
       "      <td>1</td>\n",
       "      <td>Transportation</td>\n",
       "      <td>570</td>\n",
       "      <td>2014-01-01</td>\n",
       "    </tr>\n",
       "    <tr>\n",
       "      <th>3</th>\n",
       "      <td>2014</td>\n",
       "      <td>1</td>\n",
       "      <td>Public Works</td>\n",
       "      <td>376</td>\n",
       "      <td>2014-01-01</td>\n",
       "    </tr>\n",
       "    <tr>\n",
       "      <th>4</th>\n",
       "      <td>2014</td>\n",
       "      <td>1</td>\n",
       "      <td>Austin Code Department</td>\n",
       "      <td>1</td>\n",
       "      <td>2014-01-01</td>\n",
       "    </tr>\n",
       "  </tbody>\n",
       "</table>\n",
       "</div>"
      ],
      "text/plain": [
       "   year  month         owning_department  count       time\n",
       "0  2014      1  Austin Resource Recovery   2214 2014-01-01\n",
       "1  2014      1    Animal Services Office   1589 2014-01-01\n",
       "2  2014      1            Transportation    570 2014-01-01\n",
       "3  2014      1              Public Works    376 2014-01-01\n",
       "4  2014      1    Austin Code Department      1 2014-01-01"
      ]
     },
     "execution_count": 83,
     "metadata": {},
     "output_type": "execute_result"
    }
   ],
   "source": [
    "temp.head()"
   ]
  },
  {
   "cell_type": "code",
   "execution_count": 84,
   "metadata": {
    "collapsed": true
   },
   "outputs": [],
   "source": [
    "temp = temp.drop([\"year\",\"month\"],axis =1)"
   ]
  },
  {
   "cell_type": "code",
   "execution_count": 85,
   "metadata": {},
   "outputs": [
    {
     "data": {
      "text/html": [
       "<div>\n",
       "<style>\n",
       "    .dataframe thead tr:only-child th {\n",
       "        text-align: right;\n",
       "    }\n",
       "\n",
       "    .dataframe thead th {\n",
       "        text-align: left;\n",
       "    }\n",
       "\n",
       "    .dataframe tbody tr th {\n",
       "        vertical-align: top;\n",
       "    }\n",
       "</style>\n",
       "<table border=\"1\" class=\"dataframe\">\n",
       "  <thead>\n",
       "    <tr style=\"text-align: right;\">\n",
       "      <th></th>\n",
       "      <th>owning_department</th>\n",
       "      <th>count</th>\n",
       "      <th>time</th>\n",
       "    </tr>\n",
       "  </thead>\n",
       "  <tbody>\n",
       "    <tr>\n",
       "      <th>0</th>\n",
       "      <td>Austin Resource Recovery</td>\n",
       "      <td>2214</td>\n",
       "      <td>2014-01-01</td>\n",
       "    </tr>\n",
       "    <tr>\n",
       "      <th>1</th>\n",
       "      <td>Animal Services Office</td>\n",
       "      <td>1589</td>\n",
       "      <td>2014-01-01</td>\n",
       "    </tr>\n",
       "    <tr>\n",
       "      <th>2</th>\n",
       "      <td>Transportation</td>\n",
       "      <td>570</td>\n",
       "      <td>2014-01-01</td>\n",
       "    </tr>\n",
       "    <tr>\n",
       "      <th>3</th>\n",
       "      <td>Public Works</td>\n",
       "      <td>376</td>\n",
       "      <td>2014-01-01</td>\n",
       "    </tr>\n",
       "    <tr>\n",
       "      <th>4</th>\n",
       "      <td>Austin Code Department</td>\n",
       "      <td>1</td>\n",
       "      <td>2014-01-01</td>\n",
       "    </tr>\n",
       "  </tbody>\n",
       "</table>\n",
       "</div>"
      ],
      "text/plain": [
       "          owning_department  count       time\n",
       "0  Austin Resource Recovery   2214 2014-01-01\n",
       "1    Animal Services Office   1589 2014-01-01\n",
       "2            Transportation    570 2014-01-01\n",
       "3              Public Works    376 2014-01-01\n",
       "4    Austin Code Department      1 2014-01-01"
      ]
     },
     "execution_count": 85,
     "metadata": {},
     "output_type": "execute_result"
    }
   ],
   "source": [
    "temp.head()"
   ]
  },
  {
   "cell_type": "code",
   "execution_count": 86,
   "metadata": {
    "collapsed": true
   },
   "outputs": [],
   "source": [
    "temp = temp.pivot(index = \"time\",columns = \"owning_department\",values = \"count\")"
   ]
  },
  {
   "cell_type": "code",
   "execution_count": 87,
   "metadata": {
    "collapsed": true
   },
   "outputs": [],
   "source": [
    "temp = temp.reset_index()"
   ]
  },
  {
   "cell_type": "code",
   "execution_count": 88,
   "metadata": {},
   "outputs": [
    {
     "data": {
      "text/plain": [
       "Index(['time', 'Animal Services Office', 'Austin Code Department',\n",
       "       'Austin Resource Recovery', 'Public Works', 'Transportation'],\n",
       "      dtype='object', name='owning_department')"
      ]
     },
     "execution_count": 88,
     "metadata": {},
     "output_type": "execute_result"
    }
   ],
   "source": [
    "temp.columns"
   ]
  },
  {
   "cell_type": "code",
   "execution_count": 89,
   "metadata": {
    "scrolled": true
   },
   "outputs": [
    {
     "data": {
      "application/vnd.plotly.v1+json": {
       "data": [
        {
         "fill": "tonexty",
         "hoverinfo": "text+x",
         "mode": "lines",
         "name": "Animal Services ",
         "text": [
          "<b>Animal Services </b><br>Proportion of number of cases: 33%",
          "<b>Animal Services </b><br>Proportion of number of cases: 32%",
          "<b>Animal Services </b><br>Proportion of number of cases: 34%",
          "<b>Animal Services </b><br>Proportion of number of cases: 27%",
          "<b>Animal Services </b><br>Proportion of number of cases: 30%",
          "<b>Animal Services </b><br>Proportion of number of cases: 25%",
          "<b>Animal Services </b><br>Proportion of number of cases: 25%",
          "<b>Animal Services </b><br>Proportion of number of cases: 24%",
          "<b>Animal Services </b><br>Proportion of number of cases: 28%",
          "<b>Animal Services </b><br>Proportion of number of cases: 29%",
          "<b>Animal Services </b><br>Proportion of number of cases: 33%",
          "<b>Animal Services </b><br>Proportion of number of cases: 29%",
          "<b>Animal Services </b><br>Proportion of number of cases: 28%",
          "<b>Animal Services </b><br>Proportion of number of cases: 28%",
          "<b>Animal Services </b><br>Proportion of number of cases: 25%",
          "<b>Animal Services </b><br>Proportion of number of cases: 23%",
          "<b>Animal Services </b><br>Proportion of number of cases: 22%",
          "<b>Animal Services </b><br>Proportion of number of cases: 18%",
          "<b>Animal Services </b><br>Proportion of number of cases: 20%",
          "<b>Animal Services </b><br>Proportion of number of cases: 24%",
          "<b>Animal Services </b><br>Proportion of number of cases: 24%",
          "<b>Animal Services </b><br>Proportion of number of cases: 26%",
          "<b>Animal Services </b><br>Proportion of number of cases: 23%",
          "<b>Animal Services </b><br>Proportion of number of cases: 11%",
          "<b>Animal Services </b><br>Proportion of number of cases: 11%",
          "<b>Animal Services </b><br>Proportion of number of cases: 26%",
          "<b>Animal Services </b><br>Proportion of number of cases: 29%",
          "<b>Animal Services </b><br>Proportion of number of cases: 28%",
          "<b>Animal Services </b><br>Proportion of number of cases: 29%",
          "<b>Animal Services </b><br>Proportion of number of cases: 25%",
          "<b>Animal Services </b><br>Proportion of number of cases: 25%",
          "<b>Animal Services </b><br>Proportion of number of cases: 25%",
          "<b>Animal Services </b><br>Proportion of number of cases: 22%",
          "<b>Animal Services </b><br>Proportion of number of cases: 24%",
          "<b>Animal Services </b><br>Proportion of number of cases: 26%",
          "<b>Animal Services </b><br>Proportion of number of cases: 28%",
          "<b>Animal Services </b><br>Proportion of number of cases: 21%",
          "<b>Animal Services </b><br>Proportion of number of cases: 4%",
          "<b>Animal Services </b><br>Proportion of number of cases: 25%",
          "<b>Animal Services </b><br>Proportion of number of cases: 22%",
          "<b>Animal Services </b><br>Proportion of number of cases: 25%",
          "<b>Animal Services </b><br>Proportion of number of cases: 24%",
          "<b>Animal Services </b><br>Proportion of number of cases: 28%",
          "<b>Animal Services </b><br>Proportion of number of cases: 24%",
          "<b>Animal Services </b><br>Proportion of number of cases: 25%",
          "<b>Animal Services </b><br>Proportion of number of cases: 16%",
          "<b>Animal Services </b><br>Proportion of number of cases: 30%"
         ],
         "type": "scatter",
         "x": [
          "2014-01-01",
          "2014-02-01",
          "2014-03-01",
          "2014-04-01",
          "2014-05-01",
          "2014-06-01",
          "2014-07-01",
          "2014-08-01",
          "2014-09-01",
          "2014-10-01",
          "2014-11-01",
          "2014-12-01",
          "2015-01-01",
          "2015-02-01",
          "2015-03-01",
          "2015-04-01",
          "2015-05-01",
          "2015-06-01",
          "2015-07-01",
          "2015-08-01",
          "2015-09-01",
          "2015-10-01",
          "2015-11-01",
          "2015-12-01",
          "2016-01-01",
          "2016-02-01",
          "2016-03-01",
          "2016-04-01",
          "2016-05-01",
          "2016-06-01",
          "2016-07-01",
          "2016-08-01",
          "2016-09-01",
          "2016-10-01",
          "2016-11-01",
          "2016-12-01",
          "2017-01-01",
          "2017-02-01",
          "2017-03-01",
          "2017-04-01",
          "2017-05-01",
          "2017-06-01",
          "2017-07-01",
          "2017-08-01",
          "2017-09-01",
          "2017-10-01",
          "2017-11-01"
         ],
         "y": [
          0.33452631578947367,
          0.3204394598306249,
          0.33531047265987024,
          0.2747074122236671,
          0.30318493753299314,
          0.248814078041316,
          0.2534485372138851,
          0.24414819407843746,
          0.2830608033021114,
          0.2869496855345912,
          0.3312551953449709,
          0.29395604395604397,
          0.2837470907680372,
          0.2787955359022952,
          0.24793259478857857,
          0.22750447843461485,
          0.22170561605285696,
          0.17780704642739545,
          0.20073034348967247,
          0.2392528498832578,
          0.2404274265360641,
          0.25544329016650064,
          0.2278457545420838,
          0.11258885576702592,
          0.10795935647756139,
          0.25946372239747634,
          0.2939373297002725,
          0.28124093940272543,
          0.2921666441957665,
          0.24696151249155976,
          0.24820551567812618,
          0.24634775136064166,
          0.21929347826086956,
          0.24374406081723154,
          0.2598057527082555,
          0.2805026347790839,
          0.20531400966183574,
          0.03833049403747871,
          0.24682539682539684,
          0.2158890290037831,
          0.2540886865621312,
          0.2414199192462988,
          0.2751409347154028,
          0.23735542896599343,
          0.24902647975077882,
          0.16180371352785147,
          0.2994157740993184
         ]
        },
        {
         "fill": "tonexty",
         "hoverinfo": "text+x",
         "mode": "lines",
         "name": "Austin Code Depa",
         "text": [
          "<b>Austin Code Depa</b><br>Proportion of number of cases: 0%",
          "<b>Austin Code Depa</b><br>Proportion of number of cases: 9%",
          "<b>Austin Code Depa</b><br>Proportion of number of cases: 27%",
          "<b>Austin Code Depa</b><br>Proportion of number of cases: 30%",
          "<b>Austin Code Depa</b><br>Proportion of number of cases: 31%",
          "<b>Austin Code Depa</b><br>Proportion of number of cases: 35%",
          "<b>Austin Code Depa</b><br>Proportion of number of cases: 34%",
          "<b>Austin Code Depa</b><br>Proportion of number of cases: 30%",
          "<b>Austin Code Depa</b><br>Proportion of number of cases: 29%",
          "<b>Austin Code Depa</b><br>Proportion of number of cases: 28%",
          "<b>Austin Code Depa</b><br>Proportion of number of cases: 22%",
          "<b>Austin Code Depa</b><br>Proportion of number of cases: 24%",
          "<b>Austin Code Depa</b><br>Proportion of number of cases: 24%",
          "<b>Austin Code Depa</b><br>Proportion of number of cases: 28%",
          "<b>Austin Code Depa</b><br>Proportion of number of cases: 26%",
          "<b>Austin Code Depa</b><br>Proportion of number of cases: 30%",
          "<b>Austin Code Depa</b><br>Proportion of number of cases: 28%",
          "<b>Austin Code Depa</b><br>Proportion of number of cases: 31%",
          "<b>Austin Code Depa</b><br>Proportion of number of cases: 30%",
          "<b>Austin Code Depa</b><br>Proportion of number of cases: 30%",
          "<b>Austin Code Depa</b><br>Proportion of number of cases: 28%",
          "<b>Austin Code Depa</b><br>Proportion of number of cases: 26%",
          "<b>Austin Code Depa</b><br>Proportion of number of cases: 27%",
          "<b>Austin Code Depa</b><br>Proportion of number of cases: 31%",
          "<b>Austin Code Depa</b><br>Proportion of number of cases: 34%",
          "<b>Austin Code Depa</b><br>Proportion of number of cases: 27%",
          "<b>Austin Code Depa</b><br>Proportion of number of cases: 28%",
          "<b>Austin Code Depa</b><br>Proportion of number of cases: 28%",
          "<b>Austin Code Depa</b><br>Proportion of number of cases: 29%",
          "<b>Austin Code Depa</b><br>Proportion of number of cases: 33%",
          "<b>Austin Code Depa</b><br>Proportion of number of cases: 29%",
          "<b>Austin Code Depa</b><br>Proportion of number of cases: 33%",
          "<b>Austin Code Depa</b><br>Proportion of number of cases: 35%",
          "<b>Austin Code Depa</b><br>Proportion of number of cases: 31%",
          "<b>Austin Code Depa</b><br>Proportion of number of cases: 26%",
          "<b>Austin Code Depa</b><br>Proportion of number of cases: 24%",
          "<b>Austin Code Depa</b><br>Proportion of number of cases: 25%",
          "<b>Austin Code Depa</b><br>Proportion of number of cases: 34%",
          "<b>Austin Code Depa</b><br>Proportion of number of cases: 31%",
          "<b>Austin Code Depa</b><br>Proportion of number of cases: 38%",
          "<b>Austin Code Depa</b><br>Proportion of number of cases: 35%",
          "<b>Austin Code Depa</b><br>Proportion of number of cases: 38%",
          "<b>Austin Code Depa</b><br>Proportion of number of cases: 35%",
          "<b>Austin Code Depa</b><br>Proportion of number of cases: 32%",
          "<b>Austin Code Depa</b><br>Proportion of number of cases: 38%",
          "<b>Austin Code Depa</b><br>Proportion of number of cases: 42%",
          "<b>Austin Code Depa</b><br>Proportion of number of cases: 39%"
         ],
         "type": "scatter",
         "x": [
          "2014-01-01",
          "2014-02-01",
          "2014-03-01",
          "2014-04-01",
          "2014-05-01",
          "2014-06-01",
          "2014-07-01",
          "2014-08-01",
          "2014-09-01",
          "2014-10-01",
          "2014-11-01",
          "2014-12-01",
          "2015-01-01",
          "2015-02-01",
          "2015-03-01",
          "2015-04-01",
          "2015-05-01",
          "2015-06-01",
          "2015-07-01",
          "2015-08-01",
          "2015-09-01",
          "2015-10-01",
          "2015-11-01",
          "2015-12-01",
          "2016-01-01",
          "2016-02-01",
          "2016-03-01",
          "2016-04-01",
          "2016-05-01",
          "2016-06-01",
          "2016-07-01",
          "2016-08-01",
          "2016-09-01",
          "2016-10-01",
          "2016-11-01",
          "2016-12-01",
          "2017-01-01",
          "2017-02-01",
          "2017-03-01",
          "2017-04-01",
          "2017-05-01",
          "2017-06-01",
          "2017-07-01",
          "2017-08-01",
          "2017-09-01",
          "2017-10-01",
          "2017-11-01"
         ],
         "y": [
          0.33473684210526317,
          0.4108491645685512,
          0.601112140871177,
          0.5762353706111834,
          0.6116487770543727,
          0.6022953328232594,
          0.5979990904956798,
          0.5458068516509069,
          0.5683441816161295,
          0.5633647798742139,
          0.5525768911055694,
          0.5386577708006279,
          0.5275407292474786,
          0.5607496315013687,
          0.5046029021688251,
          0.5262505167424556,
          0.5020188425302826,
          0.4878718033146746,
          0.4986876640419947,
          0.5390743029803599,
          0.5243395666369842,
          0.5172904511171197,
          0.49740452354467923,
          0.42536115569823435,
          0.4466553767993226,
          0.5291798107255521,
          0.5732288828337875,
          0.5655262394897071,
          0.5809626533638937,
          0.5815327481431465,
          0.5430676237249716,
          0.5793468920080206,
          0.5654891304347827,
          0.5557491289198606,
          0.5199850579006351,
          0.5210782326712606,
          0.45813204508856686,
          0.3756388415672913,
          0.5617063492063492,
          0.5941992433795713,
          0.6064744562468387,
          0.6184387617765814,
          0.6235679214402619,
          0.5544622820645606,
          0.6263629283489096,
          0.5818664094526164,
          0.6927945472249271
         ]
        },
        {
         "fill": "tonexty",
         "hoverinfo": "text+x",
         "mode": "lines",
         "name": "Austin Resource Re",
         "text": [
          "<b>Austin Resource Re</b><br>Proportion of number of cases: 47%",
          "<b>Austin Resource Re</b><br>Proportion of number of cases: 37%",
          "<b>Austin Resource Re</b><br>Proportion of number of cases: 20%",
          "<b>Austin Resource Re</b><br>Proportion of number of cases: 23%",
          "<b>Austin Resource Re</b><br>Proportion of number of cases: 22%",
          "<b>Austin Resource Re</b><br>Proportion of number of cases: 22%",
          "<b>Austin Resource Re</b><br>Proportion of number of cases: 21%",
          "<b>Austin Resource Re</b><br>Proportion of number of cases: 20%",
          "<b>Austin Resource Re</b><br>Proportion of number of cases: 18%",
          "<b>Austin Resource Re</b><br>Proportion of number of cases: 20%",
          "<b>Austin Resource Re</b><br>Proportion of number of cases: 21%",
          "<b>Austin Resource Re</b><br>Proportion of number of cases: 26%",
          "<b>Austin Resource Re</b><br>Proportion of number of cases: 23%",
          "<b>Austin Resource Re</b><br>Proportion of number of cases: 20%",
          "<b>Austin Resource Re</b><br>Proportion of number of cases: 25%",
          "<b>Austin Resource Re</b><br>Proportion of number of cases: 23%",
          "<b>Austin Resource Re</b><br>Proportion of number of cases: 20%",
          "<b>Austin Resource Re</b><br>Proportion of number of cases: 23%",
          "<b>Austin Resource Re</b><br>Proportion of number of cases: 26%",
          "<b>Austin Resource Re</b><br>Proportion of number of cases: 22%",
          "<b>Austin Resource Re</b><br>Proportion of number of cases: 23%",
          "<b>Austin Resource Re</b><br>Proportion of number of cases: 21%",
          "<b>Austin Resource Re</b><br>Proportion of number of cases: 25%",
          "<b>Austin Resource Re</b><br>Proportion of number of cases: 34%",
          "<b>Austin Resource Re</b><br>Proportion of number of cases: 31%",
          "<b>Austin Resource Re</b><br>Proportion of number of cases: 25%",
          "<b>Austin Resource Re</b><br>Proportion of number of cases: 22%",
          "<b>Austin Resource Re</b><br>Proportion of number of cases: 20%",
          "<b>Austin Resource Re</b><br>Proportion of number of cases: 19%",
          "<b>Austin Resource Re</b><br>Proportion of number of cases: 20%",
          "<b>Austin Resource Re</b><br>Proportion of number of cases: 22%",
          "<b>Austin Resource Re</b><br>Proportion of number of cases: 20%",
          "<b>Austin Resource Re</b><br>Proportion of number of cases: 22%",
          "<b>Austin Resource Re</b><br>Proportion of number of cases: 24%",
          "<b>Austin Resource Re</b><br>Proportion of number of cases: 29%",
          "<b>Austin Resource Re</b><br>Proportion of number of cases: 32%",
          "<b>Austin Resource Re</b><br>Proportion of number of cases: 24%",
          "<b>Austin Resource Re</b><br>Proportion of number of cases: 2%",
          "<b>Austin Resource Re</b><br>Proportion of number of cases: 22%",
          "<b>Austin Resource Re</b><br>Proportion of number of cases: 12%",
          "<b>Austin Resource Re</b><br>Proportion of number of cases: 20%",
          "<b>Austin Resource Re</b><br>Proportion of number of cases: 19%",
          "<b>Austin Resource Re</b><br>Proportion of number of cases: 19%",
          "<b>Austin Resource Re</b><br>Proportion of number of cases: 18%",
          "<b>Austin Resource Re</b><br>Proportion of number of cases: 19%",
          "<b>Austin Resource Re</b><br>Proportion of number of cases: 26%",
          "<b>Austin Resource Re</b><br>Proportion of number of cases: 25%"
         ],
         "type": "scatter",
         "x": [
          "2014-01-01",
          "2014-02-01",
          "2014-03-01",
          "2014-04-01",
          "2014-05-01",
          "2014-06-01",
          "2014-07-01",
          "2014-08-01",
          "2014-09-01",
          "2014-10-01",
          "2014-11-01",
          "2014-12-01",
          "2015-01-01",
          "2015-02-01",
          "2015-03-01",
          "2015-04-01",
          "2015-05-01",
          "2015-06-01",
          "2015-07-01",
          "2015-08-01",
          "2015-09-01",
          "2015-10-01",
          "2015-11-01",
          "2015-12-01",
          "2016-01-01",
          "2016-02-01",
          "2016-03-01",
          "2016-04-01",
          "2016-05-01",
          "2016-06-01",
          "2016-07-01",
          "2016-08-01",
          "2016-09-01",
          "2016-10-01",
          "2016-11-01",
          "2016-12-01",
          "2017-01-01",
          "2017-02-01",
          "2017-03-01",
          "2017-04-01",
          "2017-05-01",
          "2017-06-01",
          "2017-07-01",
          "2017-08-01",
          "2017-09-01",
          "2017-10-01",
          "2017-11-01"
         ],
         "y": [
          0.8008421052631579,
          0.7823300526436257,
          0.802224281742354,
          0.8025032509752925,
          0.8301953193735703,
          0.8221882172915074,
          0.8055176595422161,
          0.7468609517904201,
          0.7437688521987618,
          0.7660377358490567,
          0.7647547797173733,
          0.7963108320251178,
          0.756788207913111,
          0.7622657401558223,
          0.7515993134654393,
          0.7548573790822655,
          0.701333659610914,
          0.7139721216112392,
          0.7630948305374872,
          0.754154649086664,
          0.7534876818046898,
          0.7303258858687918,
          0.7497219132369299,
          0.7638156386149966,
          0.7527519051651144,
          0.7766167192429022,
          0.7905313351498637,
          0.7687735575529139,
          0.7726843737360118,
          0.7788656313301823,
          0.758594635436343,
          0.7828702377542252,
          0.7834239130434784,
          0.7991764333227748,
          0.8135973104221144,
          0.8421159302796919,
          0.7020933977455717,
          0.3960817717206133,
          0.7821428571428571,
          0.7147540983606558,
          0.808126791434834,
          0.8125841184387618,
          0.8185124568103291,
          0.7388227170723286,
          0.8125,
          0.8372317337834579,
          0.9391431353456671
         ]
        },
        {
         "fill": "tonexty",
         "hoverinfo": "text+x",
         "mode": "lines",
         "name": "Public",
         "text": [
          "<b>Public</b><br>Proportion of number of cases: 8%",
          "<b>Public</b><br>Proportion of number of cases: 6%",
          "<b>Public</b><br>Proportion of number of cases: 6%",
          "<b>Public</b><br>Proportion of number of cases: 7%",
          "<b>Public</b><br>Proportion of number of cases: 7%",
          "<b>Public</b><br>Proportion of number of cases: 8%",
          "<b>Public</b><br>Proportion of number of cases: 9%",
          "<b>Public</b><br>Proportion of number of cases: 10%",
          "<b>Public</b><br>Proportion of number of cases: 9%",
          "<b>Public</b><br>Proportion of number of cases: 9%",
          "<b>Public</b><br>Proportion of number of cases: 8%",
          "<b>Public</b><br>Proportion of number of cases: 7%",
          "<b>Public</b><br>Proportion of number of cases: 9%",
          "<b>Public</b><br>Proportion of number of cases: 11%",
          "<b>Public</b><br>Proportion of number of cases: 11%",
          "<b>Public</b><br>Proportion of number of cases: 12%",
          "<b>Public</b><br>Proportion of number of cases: 19%",
          "<b>Public</b><br>Proportion of number of cases: 17%",
          "<b>Public</b><br>Proportion of number of cases: 13%",
          "<b>Public</b><br>Proportion of number of cases: 11%",
          "<b>Public</b><br>Proportion of number of cases: 11%",
          "<b>Public</b><br>Proportion of number of cases: 13%",
          "<b>Public</b><br>Proportion of number of cases: 12%",
          "<b>Public</b><br>Proportion of number of cases: 9%",
          "<b>Public</b><br>Proportion of number of cases: 9%",
          "<b>Public</b><br>Proportion of number of cases: 10%",
          "<b>Public</b><br>Proportion of number of cases: 11%",
          "<b>Public</b><br>Proportion of number of cases: 14%",
          "<b>Public</b><br>Proportion of number of cases: 13%",
          "<b>Public</b><br>Proportion of number of cases: 15%",
          "<b>Public</b><br>Proportion of number of cases: 15%",
          "<b>Public</b><br>Proportion of number of cases: 13%",
          "<b>Public</b><br>Proportion of number of cases: 13%",
          "<b>Public</b><br>Proportion of number of cases: 11%",
          "<b>Public</b><br>Proportion of number of cases: 9%",
          "<b>Public</b><br>Proportion of number of cases: 6%",
          "<b>Public</b><br>Proportion of number of cases: 23%",
          "<b>Public</b><br>Proportion of number of cases: 46%",
          "<b>Public</b><br>Proportion of number of cases: 12%",
          "<b>Public</b><br>Proportion of number of cases: 19%",
          "<b>Public</b><br>Proportion of number of cases: 9%",
          "<b>Public</b><br>Proportion of number of cases: 9%",
          "<b>Public</b><br>Proportion of number of cases: 9%",
          "<b>Public</b><br>Proportion of number of cases: 14%",
          "<b>Public</b><br>Proportion of number of cases: 8%",
          "<b>Public</b><br>Proportion of number of cases: 8%",
          "<b>Public</b><br>Proportion of number of cases: 0%"
         ],
         "type": "scatter",
         "x": [
          "2014-01-01",
          "2014-02-01",
          "2014-03-01",
          "2014-04-01",
          "2014-05-01",
          "2014-06-01",
          "2014-07-01",
          "2014-08-01",
          "2014-09-01",
          "2014-10-01",
          "2014-11-01",
          "2014-12-01",
          "2015-01-01",
          "2015-02-01",
          "2015-03-01",
          "2015-04-01",
          "2015-05-01",
          "2015-06-01",
          "2015-07-01",
          "2015-08-01",
          "2015-09-01",
          "2015-10-01",
          "2015-11-01",
          "2015-12-01",
          "2016-01-01",
          "2016-02-01",
          "2016-03-01",
          "2016-04-01",
          "2016-05-01",
          "2016-06-01",
          "2016-07-01",
          "2016-08-01",
          "2016-09-01",
          "2016-10-01",
          "2016-11-01",
          "2016-12-01",
          "2017-01-01",
          "2017-02-01",
          "2017-03-01",
          "2017-04-01",
          "2017-05-01",
          "2017-06-01",
          "2017-07-01",
          "2017-08-01",
          "2017-09-01",
          "2017-10-01",
          "2017-11-01"
         ],
         "y": [
          0.88,
          0.8466468299382011,
          0.8628359592215014,
          0.8743498049414824,
          0.8970614112264649,
          0.906503442999235,
          0.8913142337426102,
          0.8491706712137653,
          0.8341006508969678,
          0.8533018867924529,
          0.8487115544472154,
          0.8685243328100472,
          0.8498836307214895,
          0.8673404927353127,
          0.8637853019191762,
          0.8777731845115062,
          0.8868224642114279,
          0.8882669300845133,
          0.895697820381148,
          0.8651284164263151,
          0.8618284357376076,
          0.8640956311370428,
          0.8665183537263627,
          0.8523274478330658,
          0.8441998306519899,
          0.8748028391167193,
          0.900374659400545,
          0.907944331690345,
          0.9023864095995685,
          0.9291019581363943,
          0.90536456365697,
          0.9120595817817244,
          0.9088315217391305,
          0.9048146974976243,
          0.9077325364213673,
          0.9065666801783543,
          0.9323671497584541,
          0.8594548551959115,
          0.9023809523809524,
          0.9016393442622952,
          0.8984994098802901,
          0.8992261103633916,
          0.9036188397890526,
          0.8807181080614535,
          0.8936915887850467,
          0.912707981673499,
          0.9430379746835443
         ]
        },
        {
         "fill": "tonexty",
         "hoverinfo": "text+x",
         "mode": "lines",
         "name": "Transpor",
         "text": [
          "<b>Transpor</b><br>Proportion of number of cases: 12%",
          "<b>Transpor</b><br>Proportion of number of cases: 15%",
          "<b>Transpor</b><br>Proportion of number of cases: 14%",
          "<b>Transpor</b><br>Proportion of number of cases: 13%",
          "<b>Transpor</b><br>Proportion of number of cases: 10%",
          "<b>Transpor</b><br>Proportion of number of cases: 9%",
          "<b>Transpor</b><br>Proportion of number of cases: 11%",
          "<b>Transpor</b><br>Proportion of number of cases: 15%",
          "<b>Transpor</b><br>Proportion of number of cases: 17%",
          "<b>Transpor</b><br>Proportion of number of cases: 15%",
          "<b>Transpor</b><br>Proportion of number of cases: 15%",
          "<b>Transpor</b><br>Proportion of number of cases: 13%",
          "<b>Transpor</b><br>Proportion of number of cases: 15%",
          "<b>Transpor</b><br>Proportion of number of cases: 13%",
          "<b>Transpor</b><br>Proportion of number of cases: 14%",
          "<b>Transpor</b><br>Proportion of number of cases: 12%",
          "<b>Transpor</b><br>Proportion of number of cases: 11%",
          "<b>Transpor</b><br>Proportion of number of cases: 11%",
          "<b>Transpor</b><br>Proportion of number of cases: 10%",
          "<b>Transpor</b><br>Proportion of number of cases: 13%",
          "<b>Transpor</b><br>Proportion of number of cases: 14%",
          "<b>Transpor</b><br>Proportion of number of cases: 14%",
          "<b>Transpor</b><br>Proportion of number of cases: 13%",
          "<b>Transpor</b><br>Proportion of number of cases: 15%",
          "<b>Transpor</b><br>Proportion of number of cases: 16%",
          "<b>Transpor</b><br>Proportion of number of cases: 13%",
          "<b>Transpor</b><br>Proportion of number of cases: 10%",
          "<b>Transpor</b><br>Proportion of number of cases: 9%",
          "<b>Transpor</b><br>Proportion of number of cases: 10%",
          "<b>Transpor</b><br>Proportion of number of cases: 7%",
          "<b>Transpor</b><br>Proportion of number of cases: 9%",
          "<b>Transpor</b><br>Proportion of number of cases: 9%",
          "<b>Transpor</b><br>Proportion of number of cases: 9%",
          "<b>Transpor</b><br>Proportion of number of cases: 10%",
          "<b>Transpor</b><br>Proportion of number of cases: 9%",
          "<b>Transpor</b><br>Proportion of number of cases: 9%",
          "<b>Transpor</b><br>Proportion of number of cases: 7%",
          "<b>Transpor</b><br>Proportion of number of cases: 14%",
          "<b>Transpor</b><br>Proportion of number of cases: 10%",
          "<b>Transpor</b><br>Proportion of number of cases: 10%",
          "<b>Transpor</b><br>Proportion of number of cases: 10%",
          "<b>Transpor</b><br>Proportion of number of cases: 10%",
          "<b>Transpor</b><br>Proportion of number of cases: 10%",
          "<b>Transpor</b><br>Proportion of number of cases: 12%",
          "<b>Transpor</b><br>Proportion of number of cases: 11%",
          "<b>Transpor</b><br>Proportion of number of cases: 9%",
          "<b>Transpor</b><br>Proportion of number of cases: 6%"
         ],
         "type": "scatter",
         "x": [
          "2014-01-01",
          "2014-02-01",
          "2014-03-01",
          "2014-04-01",
          "2014-05-01",
          "2014-06-01",
          "2014-07-01",
          "2014-08-01",
          "2014-09-01",
          "2014-10-01",
          "2014-11-01",
          "2014-12-01",
          "2015-01-01",
          "2015-02-01",
          "2015-03-01",
          "2015-04-01",
          "2015-05-01",
          "2015-06-01",
          "2015-07-01",
          "2015-08-01",
          "2015-09-01",
          "2015-10-01",
          "2015-11-01",
          "2015-12-01",
          "2016-01-01",
          "2016-02-01",
          "2016-03-01",
          "2016-04-01",
          "2016-05-01",
          "2016-06-01",
          "2016-07-01",
          "2016-08-01",
          "2016-09-01",
          "2016-10-01",
          "2016-11-01",
          "2016-12-01",
          "2017-01-01",
          "2017-02-01",
          "2017-03-01",
          "2017-04-01",
          "2017-05-01",
          "2017-06-01",
          "2017-07-01",
          "2017-08-01",
          "2017-09-01",
          "2017-10-01",
          "2017-11-01"
         ],
         "y": [
          1,
          1,
          1,
          1,
          1,
          1.0000000000000002,
          0.9999999999999999,
          1,
          1,
          1,
          1,
          1,
          1,
          1,
          1,
          1,
          1,
          1,
          1,
          1,
          1,
          1,
          1,
          1,
          1,
          1,
          1,
          1,
          1,
          1,
          0.9999999999999999,
          1,
          1,
          1,
          1,
          1,
          1,
          1,
          1,
          1,
          1,
          1,
          1,
          1,
          1,
          1,
          1
         ]
        }
       ],
       "layout": {
        "hovermode": "closest",
        "title": "Proportion of number of cases, 2014-2017",
        "xaxis": {
         "title": "time"
        },
        "yaxis": {
         "tickformat": "%",
         "title": "Proportion of number of cases"
        }
       }
      },
      "text/html": [
       "<div id=\"99af94a4-13d9-4c09-a7a6-439387af8f9a\" style=\"height: 525px; width: 100%;\" class=\"plotly-graph-div\"></div><script type=\"text/javascript\">require([\"plotly\"], function(Plotly) { window.PLOTLYENV=window.PLOTLYENV || {};window.PLOTLYENV.BASE_URL=\"https://plot.ly\";Plotly.newPlot(\"99af94a4-13d9-4c09-a7a6-439387af8f9a\", [{\"name\": \"Animal Services \", \"fill\": \"tonexty\", \"hoverinfo\": \"text+x\", \"type\": \"scatter\", \"x\": [\"2014-01-01\", \"2014-02-01\", \"2014-03-01\", \"2014-04-01\", \"2014-05-01\", \"2014-06-01\", \"2014-07-01\", \"2014-08-01\", \"2014-09-01\", \"2014-10-01\", \"2014-11-01\", \"2014-12-01\", \"2015-01-01\", \"2015-02-01\", \"2015-03-01\", \"2015-04-01\", \"2015-05-01\", \"2015-06-01\", \"2015-07-01\", \"2015-08-01\", \"2015-09-01\", \"2015-10-01\", \"2015-11-01\", \"2015-12-01\", \"2016-01-01\", \"2016-02-01\", \"2016-03-01\", \"2016-04-01\", \"2016-05-01\", \"2016-06-01\", \"2016-07-01\", \"2016-08-01\", \"2016-09-01\", \"2016-10-01\", \"2016-11-01\", \"2016-12-01\", \"2017-01-01\", \"2017-02-01\", \"2017-03-01\", \"2017-04-01\", \"2017-05-01\", \"2017-06-01\", \"2017-07-01\", \"2017-08-01\", \"2017-09-01\", \"2017-10-01\", \"2017-11-01\"], \"mode\": \"lines\", \"text\": [\"<b>Animal Services </b><br>Proportion of number of cases: 33%\", \"<b>Animal Services </b><br>Proportion of number of cases: 32%\", \"<b>Animal Services </b><br>Proportion of number of cases: 34%\", \"<b>Animal Services </b><br>Proportion of number of cases: 27%\", \"<b>Animal Services </b><br>Proportion of number of cases: 30%\", \"<b>Animal Services </b><br>Proportion of number of cases: 25%\", \"<b>Animal Services </b><br>Proportion of number of cases: 25%\", \"<b>Animal Services </b><br>Proportion of number of cases: 24%\", \"<b>Animal Services </b><br>Proportion of number of cases: 28%\", \"<b>Animal Services </b><br>Proportion of number of cases: 29%\", \"<b>Animal Services </b><br>Proportion of number of cases: 33%\", \"<b>Animal Services </b><br>Proportion of number of cases: 29%\", \"<b>Animal Services </b><br>Proportion of number of cases: 28%\", \"<b>Animal Services </b><br>Proportion of number of cases: 28%\", \"<b>Animal Services </b><br>Proportion of number of cases: 25%\", \"<b>Animal Services </b><br>Proportion of number of cases: 23%\", \"<b>Animal Services </b><br>Proportion of number of cases: 22%\", \"<b>Animal Services </b><br>Proportion of number of cases: 18%\", \"<b>Animal Services </b><br>Proportion of number of cases: 20%\", \"<b>Animal Services </b><br>Proportion of number of cases: 24%\", \"<b>Animal Services </b><br>Proportion of number of cases: 24%\", \"<b>Animal Services </b><br>Proportion of number of cases: 26%\", \"<b>Animal Services </b><br>Proportion of number of cases: 23%\", \"<b>Animal Services </b><br>Proportion of number of cases: 11%\", \"<b>Animal Services </b><br>Proportion of number of cases: 11%\", \"<b>Animal Services </b><br>Proportion of number of cases: 26%\", \"<b>Animal Services </b><br>Proportion of number of cases: 29%\", \"<b>Animal Services </b><br>Proportion of number of cases: 28%\", \"<b>Animal Services </b><br>Proportion of number of cases: 29%\", \"<b>Animal Services </b><br>Proportion of number of cases: 25%\", \"<b>Animal Services </b><br>Proportion of number of cases: 25%\", \"<b>Animal Services </b><br>Proportion of number of cases: 25%\", \"<b>Animal Services </b><br>Proportion of number of cases: 22%\", \"<b>Animal Services </b><br>Proportion of number of cases: 24%\", \"<b>Animal Services </b><br>Proportion of number of cases: 26%\", \"<b>Animal Services </b><br>Proportion of number of cases: 28%\", \"<b>Animal Services </b><br>Proportion of number of cases: 21%\", \"<b>Animal Services </b><br>Proportion of number of cases: 4%\", \"<b>Animal Services </b><br>Proportion of number of cases: 25%\", \"<b>Animal Services </b><br>Proportion of number of cases: 22%\", \"<b>Animal Services </b><br>Proportion of number of cases: 25%\", \"<b>Animal Services </b><br>Proportion of number of cases: 24%\", \"<b>Animal Services </b><br>Proportion of number of cases: 28%\", \"<b>Animal Services </b><br>Proportion of number of cases: 24%\", \"<b>Animal Services </b><br>Proportion of number of cases: 25%\", \"<b>Animal Services </b><br>Proportion of number of cases: 16%\", \"<b>Animal Services </b><br>Proportion of number of cases: 30%\"], \"y\": [0.33452631578947367, 0.3204394598306249, 0.33531047265987024, 0.2747074122236671, 0.30318493753299314, 0.248814078041316, 0.2534485372138851, 0.24414819407843746, 0.2830608033021114, 0.2869496855345912, 0.3312551953449709, 0.29395604395604397, 0.2837470907680372, 0.2787955359022952, 0.24793259478857857, 0.22750447843461485, 0.22170561605285696, 0.17780704642739545, 0.20073034348967247, 0.2392528498832578, 0.2404274265360641, 0.25544329016650064, 0.2278457545420838, 0.11258885576702592, 0.10795935647756139, 0.25946372239747634, 0.2939373297002725, 0.28124093940272543, 0.2921666441957665, 0.24696151249155976, 0.24820551567812618, 0.24634775136064166, 0.21929347826086956, 0.24374406081723154, 0.2598057527082555, 0.2805026347790839, 0.20531400966183574, 0.03833049403747871, 0.24682539682539684, 0.2158890290037831, 0.2540886865621312, 0.2414199192462988, 0.2751409347154028, 0.23735542896599343, 0.24902647975077882, 0.16180371352785147, 0.2994157740993184]}, {\"name\": \"Austin Code Depa\", \"fill\": \"tonexty\", \"hoverinfo\": \"text+x\", \"type\": \"scatter\", \"x\": [\"2014-01-01\", \"2014-02-01\", \"2014-03-01\", \"2014-04-01\", \"2014-05-01\", \"2014-06-01\", \"2014-07-01\", \"2014-08-01\", \"2014-09-01\", \"2014-10-01\", \"2014-11-01\", \"2014-12-01\", \"2015-01-01\", \"2015-02-01\", \"2015-03-01\", \"2015-04-01\", \"2015-05-01\", \"2015-06-01\", \"2015-07-01\", \"2015-08-01\", \"2015-09-01\", \"2015-10-01\", \"2015-11-01\", \"2015-12-01\", \"2016-01-01\", \"2016-02-01\", \"2016-03-01\", \"2016-04-01\", \"2016-05-01\", \"2016-06-01\", \"2016-07-01\", \"2016-08-01\", \"2016-09-01\", \"2016-10-01\", \"2016-11-01\", \"2016-12-01\", \"2017-01-01\", \"2017-02-01\", \"2017-03-01\", \"2017-04-01\", \"2017-05-01\", \"2017-06-01\", \"2017-07-01\", \"2017-08-01\", \"2017-09-01\", \"2017-10-01\", \"2017-11-01\"], \"mode\": \"lines\", \"text\": [\"<b>Austin Code Depa</b><br>Proportion of number of cases: 0%\", \"<b>Austin Code Depa</b><br>Proportion of number of cases: 9%\", \"<b>Austin Code Depa</b><br>Proportion of number of cases: 27%\", \"<b>Austin Code Depa</b><br>Proportion of number of cases: 30%\", \"<b>Austin Code Depa</b><br>Proportion of number of cases: 31%\", \"<b>Austin Code Depa</b><br>Proportion of number of cases: 35%\", \"<b>Austin Code Depa</b><br>Proportion of number of cases: 34%\", \"<b>Austin Code Depa</b><br>Proportion of number of cases: 30%\", \"<b>Austin Code Depa</b><br>Proportion of number of cases: 29%\", \"<b>Austin Code Depa</b><br>Proportion of number of cases: 28%\", \"<b>Austin Code Depa</b><br>Proportion of number of cases: 22%\", \"<b>Austin Code Depa</b><br>Proportion of number of cases: 24%\", \"<b>Austin Code Depa</b><br>Proportion of number of cases: 24%\", \"<b>Austin Code Depa</b><br>Proportion of number of cases: 28%\", \"<b>Austin Code Depa</b><br>Proportion of number of cases: 26%\", \"<b>Austin Code Depa</b><br>Proportion of number of cases: 30%\", \"<b>Austin Code Depa</b><br>Proportion of number of cases: 28%\", \"<b>Austin Code Depa</b><br>Proportion of number of cases: 31%\", \"<b>Austin Code Depa</b><br>Proportion of number of cases: 30%\", \"<b>Austin Code Depa</b><br>Proportion of number of cases: 30%\", \"<b>Austin Code Depa</b><br>Proportion of number of cases: 28%\", \"<b>Austin Code Depa</b><br>Proportion of number of cases: 26%\", \"<b>Austin Code Depa</b><br>Proportion of number of cases: 27%\", \"<b>Austin Code Depa</b><br>Proportion of number of cases: 31%\", \"<b>Austin Code Depa</b><br>Proportion of number of cases: 34%\", \"<b>Austin Code Depa</b><br>Proportion of number of cases: 27%\", \"<b>Austin Code Depa</b><br>Proportion of number of cases: 28%\", \"<b>Austin Code Depa</b><br>Proportion of number of cases: 28%\", \"<b>Austin Code Depa</b><br>Proportion of number of cases: 29%\", \"<b>Austin Code Depa</b><br>Proportion of number of cases: 33%\", \"<b>Austin Code Depa</b><br>Proportion of number of cases: 29%\", \"<b>Austin Code Depa</b><br>Proportion of number of cases: 33%\", \"<b>Austin Code Depa</b><br>Proportion of number of cases: 35%\", \"<b>Austin Code Depa</b><br>Proportion of number of cases: 31%\", \"<b>Austin Code Depa</b><br>Proportion of number of cases: 26%\", \"<b>Austin Code Depa</b><br>Proportion of number of cases: 24%\", \"<b>Austin Code Depa</b><br>Proportion of number of cases: 25%\", \"<b>Austin Code Depa</b><br>Proportion of number of cases: 34%\", \"<b>Austin Code Depa</b><br>Proportion of number of cases: 31%\", \"<b>Austin Code Depa</b><br>Proportion of number of cases: 38%\", \"<b>Austin Code Depa</b><br>Proportion of number of cases: 35%\", \"<b>Austin Code Depa</b><br>Proportion of number of cases: 38%\", \"<b>Austin Code Depa</b><br>Proportion of number of cases: 35%\", \"<b>Austin Code Depa</b><br>Proportion of number of cases: 32%\", \"<b>Austin Code Depa</b><br>Proportion of number of cases: 38%\", \"<b>Austin Code Depa</b><br>Proportion of number of cases: 42%\", \"<b>Austin Code Depa</b><br>Proportion of number of cases: 39%\"], \"y\": [0.33473684210526317, 0.4108491645685512, 0.601112140871177, 0.5762353706111834, 0.6116487770543727, 0.6022953328232594, 0.5979990904956798, 0.5458068516509069, 0.5683441816161295, 0.5633647798742139, 0.5525768911055694, 0.5386577708006279, 0.5275407292474786, 0.5607496315013687, 0.5046029021688251, 0.5262505167424556, 0.5020188425302826, 0.4878718033146746, 0.4986876640419947, 0.5390743029803599, 0.5243395666369842, 0.5172904511171197, 0.49740452354467923, 0.42536115569823435, 0.4466553767993226, 0.5291798107255521, 0.5732288828337875, 0.5655262394897071, 0.5809626533638937, 0.5815327481431465, 0.5430676237249716, 0.5793468920080206, 0.5654891304347827, 0.5557491289198606, 0.5199850579006351, 0.5210782326712606, 0.45813204508856686, 0.3756388415672913, 0.5617063492063492, 0.5941992433795713, 0.6064744562468387, 0.6184387617765814, 0.6235679214402619, 0.5544622820645606, 0.6263629283489096, 0.5818664094526164, 0.6927945472249271]}, {\"name\": \"Austin Resource Re\", \"fill\": \"tonexty\", \"hoverinfo\": \"text+x\", \"type\": \"scatter\", \"x\": [\"2014-01-01\", \"2014-02-01\", \"2014-03-01\", \"2014-04-01\", \"2014-05-01\", \"2014-06-01\", \"2014-07-01\", \"2014-08-01\", \"2014-09-01\", \"2014-10-01\", \"2014-11-01\", \"2014-12-01\", \"2015-01-01\", \"2015-02-01\", \"2015-03-01\", \"2015-04-01\", \"2015-05-01\", \"2015-06-01\", \"2015-07-01\", \"2015-08-01\", \"2015-09-01\", \"2015-10-01\", \"2015-11-01\", \"2015-12-01\", \"2016-01-01\", \"2016-02-01\", \"2016-03-01\", \"2016-04-01\", \"2016-05-01\", \"2016-06-01\", \"2016-07-01\", \"2016-08-01\", \"2016-09-01\", \"2016-10-01\", \"2016-11-01\", \"2016-12-01\", \"2017-01-01\", \"2017-02-01\", \"2017-03-01\", \"2017-04-01\", \"2017-05-01\", \"2017-06-01\", \"2017-07-01\", \"2017-08-01\", \"2017-09-01\", \"2017-10-01\", \"2017-11-01\"], \"mode\": \"lines\", \"text\": [\"<b>Austin Resource Re</b><br>Proportion of number of cases: 47%\", \"<b>Austin Resource Re</b><br>Proportion of number of cases: 37%\", \"<b>Austin Resource Re</b><br>Proportion of number of cases: 20%\", \"<b>Austin Resource Re</b><br>Proportion of number of cases: 23%\", \"<b>Austin Resource Re</b><br>Proportion of number of cases: 22%\", \"<b>Austin Resource Re</b><br>Proportion of number of cases: 22%\", \"<b>Austin Resource Re</b><br>Proportion of number of cases: 21%\", \"<b>Austin Resource Re</b><br>Proportion of number of cases: 20%\", \"<b>Austin Resource Re</b><br>Proportion of number of cases: 18%\", \"<b>Austin Resource Re</b><br>Proportion of number of cases: 20%\", \"<b>Austin Resource Re</b><br>Proportion of number of cases: 21%\", \"<b>Austin Resource Re</b><br>Proportion of number of cases: 26%\", \"<b>Austin Resource Re</b><br>Proportion of number of cases: 23%\", \"<b>Austin Resource Re</b><br>Proportion of number of cases: 20%\", \"<b>Austin Resource Re</b><br>Proportion of number of cases: 25%\", \"<b>Austin Resource Re</b><br>Proportion of number of cases: 23%\", \"<b>Austin Resource Re</b><br>Proportion of number of cases: 20%\", \"<b>Austin Resource Re</b><br>Proportion of number of cases: 23%\", \"<b>Austin Resource Re</b><br>Proportion of number of cases: 26%\", \"<b>Austin Resource Re</b><br>Proportion of number of cases: 22%\", \"<b>Austin Resource Re</b><br>Proportion of number of cases: 23%\", \"<b>Austin Resource Re</b><br>Proportion of number of cases: 21%\", \"<b>Austin Resource Re</b><br>Proportion of number of cases: 25%\", \"<b>Austin Resource Re</b><br>Proportion of number of cases: 34%\", \"<b>Austin Resource Re</b><br>Proportion of number of cases: 31%\", \"<b>Austin Resource Re</b><br>Proportion of number of cases: 25%\", \"<b>Austin Resource Re</b><br>Proportion of number of cases: 22%\", \"<b>Austin Resource Re</b><br>Proportion of number of cases: 20%\", \"<b>Austin Resource Re</b><br>Proportion of number of cases: 19%\", \"<b>Austin Resource Re</b><br>Proportion of number of cases: 20%\", \"<b>Austin Resource Re</b><br>Proportion of number of cases: 22%\", \"<b>Austin Resource Re</b><br>Proportion of number of cases: 20%\", \"<b>Austin Resource Re</b><br>Proportion of number of cases: 22%\", \"<b>Austin Resource Re</b><br>Proportion of number of cases: 24%\", \"<b>Austin Resource Re</b><br>Proportion of number of cases: 29%\", \"<b>Austin Resource Re</b><br>Proportion of number of cases: 32%\", \"<b>Austin Resource Re</b><br>Proportion of number of cases: 24%\", \"<b>Austin Resource Re</b><br>Proportion of number of cases: 2%\", \"<b>Austin Resource Re</b><br>Proportion of number of cases: 22%\", \"<b>Austin Resource Re</b><br>Proportion of number of cases: 12%\", \"<b>Austin Resource Re</b><br>Proportion of number of cases: 20%\", \"<b>Austin Resource Re</b><br>Proportion of number of cases: 19%\", \"<b>Austin Resource Re</b><br>Proportion of number of cases: 19%\", \"<b>Austin Resource Re</b><br>Proportion of number of cases: 18%\", \"<b>Austin Resource Re</b><br>Proportion of number of cases: 19%\", \"<b>Austin Resource Re</b><br>Proportion of number of cases: 26%\", \"<b>Austin Resource Re</b><br>Proportion of number of cases: 25%\"], \"y\": [0.8008421052631579, 0.7823300526436257, 0.802224281742354, 0.8025032509752925, 0.8301953193735703, 0.8221882172915074, 0.8055176595422161, 0.7468609517904201, 0.7437688521987618, 0.7660377358490567, 0.7647547797173733, 0.7963108320251178, 0.756788207913111, 0.7622657401558223, 0.7515993134654393, 0.7548573790822655, 0.701333659610914, 0.7139721216112392, 0.7630948305374872, 0.754154649086664, 0.7534876818046898, 0.7303258858687918, 0.7497219132369299, 0.7638156386149966, 0.7527519051651144, 0.7766167192429022, 0.7905313351498637, 0.7687735575529139, 0.7726843737360118, 0.7788656313301823, 0.758594635436343, 0.7828702377542252, 0.7834239130434784, 0.7991764333227748, 0.8135973104221144, 0.8421159302796919, 0.7020933977455717, 0.3960817717206133, 0.7821428571428571, 0.7147540983606558, 0.808126791434834, 0.8125841184387618, 0.8185124568103291, 0.7388227170723286, 0.8125, 0.8372317337834579, 0.9391431353456671]}, {\"name\": \"Public\", \"fill\": \"tonexty\", \"hoverinfo\": \"text+x\", \"type\": \"scatter\", \"x\": [\"2014-01-01\", \"2014-02-01\", \"2014-03-01\", \"2014-04-01\", \"2014-05-01\", \"2014-06-01\", \"2014-07-01\", \"2014-08-01\", \"2014-09-01\", \"2014-10-01\", \"2014-11-01\", \"2014-12-01\", \"2015-01-01\", \"2015-02-01\", \"2015-03-01\", \"2015-04-01\", \"2015-05-01\", \"2015-06-01\", \"2015-07-01\", \"2015-08-01\", \"2015-09-01\", \"2015-10-01\", \"2015-11-01\", \"2015-12-01\", \"2016-01-01\", \"2016-02-01\", \"2016-03-01\", \"2016-04-01\", \"2016-05-01\", \"2016-06-01\", \"2016-07-01\", \"2016-08-01\", \"2016-09-01\", \"2016-10-01\", \"2016-11-01\", \"2016-12-01\", \"2017-01-01\", \"2017-02-01\", \"2017-03-01\", \"2017-04-01\", \"2017-05-01\", \"2017-06-01\", \"2017-07-01\", \"2017-08-01\", \"2017-09-01\", \"2017-10-01\", \"2017-11-01\"], \"mode\": \"lines\", \"text\": [\"<b>Public</b><br>Proportion of number of cases: 8%\", \"<b>Public</b><br>Proportion of number of cases: 6%\", \"<b>Public</b><br>Proportion of number of cases: 6%\", \"<b>Public</b><br>Proportion of number of cases: 7%\", \"<b>Public</b><br>Proportion of number of cases: 7%\", \"<b>Public</b><br>Proportion of number of cases: 8%\", \"<b>Public</b><br>Proportion of number of cases: 9%\", \"<b>Public</b><br>Proportion of number of cases: 10%\", \"<b>Public</b><br>Proportion of number of cases: 9%\", \"<b>Public</b><br>Proportion of number of cases: 9%\", \"<b>Public</b><br>Proportion of number of cases: 8%\", \"<b>Public</b><br>Proportion of number of cases: 7%\", \"<b>Public</b><br>Proportion of number of cases: 9%\", \"<b>Public</b><br>Proportion of number of cases: 11%\", \"<b>Public</b><br>Proportion of number of cases: 11%\", \"<b>Public</b><br>Proportion of number of cases: 12%\", \"<b>Public</b><br>Proportion of number of cases: 19%\", \"<b>Public</b><br>Proportion of number of cases: 17%\", \"<b>Public</b><br>Proportion of number of cases: 13%\", \"<b>Public</b><br>Proportion of number of cases: 11%\", \"<b>Public</b><br>Proportion of number of cases: 11%\", \"<b>Public</b><br>Proportion of number of cases: 13%\", \"<b>Public</b><br>Proportion of number of cases: 12%\", \"<b>Public</b><br>Proportion of number of cases: 9%\", \"<b>Public</b><br>Proportion of number of cases: 9%\", \"<b>Public</b><br>Proportion of number of cases: 10%\", \"<b>Public</b><br>Proportion of number of cases: 11%\", \"<b>Public</b><br>Proportion of number of cases: 14%\", \"<b>Public</b><br>Proportion of number of cases: 13%\", \"<b>Public</b><br>Proportion of number of cases: 15%\", \"<b>Public</b><br>Proportion of number of cases: 15%\", \"<b>Public</b><br>Proportion of number of cases: 13%\", \"<b>Public</b><br>Proportion of number of cases: 13%\", \"<b>Public</b><br>Proportion of number of cases: 11%\", \"<b>Public</b><br>Proportion of number of cases: 9%\", \"<b>Public</b><br>Proportion of number of cases: 6%\", \"<b>Public</b><br>Proportion of number of cases: 23%\", \"<b>Public</b><br>Proportion of number of cases: 46%\", \"<b>Public</b><br>Proportion of number of cases: 12%\", \"<b>Public</b><br>Proportion of number of cases: 19%\", \"<b>Public</b><br>Proportion of number of cases: 9%\", \"<b>Public</b><br>Proportion of number of cases: 9%\", \"<b>Public</b><br>Proportion of number of cases: 9%\", \"<b>Public</b><br>Proportion of number of cases: 14%\", \"<b>Public</b><br>Proportion of number of cases: 8%\", \"<b>Public</b><br>Proportion of number of cases: 8%\", \"<b>Public</b><br>Proportion of number of cases: 0%\"], \"y\": [0.88, 0.8466468299382011, 0.8628359592215014, 0.8743498049414824, 0.8970614112264649, 0.906503442999235, 0.8913142337426102, 0.8491706712137653, 0.8341006508969678, 0.8533018867924529, 0.8487115544472154, 0.8685243328100472, 0.8498836307214895, 0.8673404927353127, 0.8637853019191762, 0.8777731845115062, 0.8868224642114279, 0.8882669300845133, 0.895697820381148, 0.8651284164263151, 0.8618284357376076, 0.8640956311370428, 0.8665183537263627, 0.8523274478330658, 0.8441998306519899, 0.8748028391167193, 0.900374659400545, 0.907944331690345, 0.9023864095995685, 0.9291019581363943, 0.90536456365697, 0.9120595817817244, 0.9088315217391305, 0.9048146974976243, 0.9077325364213673, 0.9065666801783543, 0.9323671497584541, 0.8594548551959115, 0.9023809523809524, 0.9016393442622952, 0.8984994098802901, 0.8992261103633916, 0.9036188397890526, 0.8807181080614535, 0.8936915887850467, 0.912707981673499, 0.9430379746835443]}, {\"name\": \"Transpor\", \"fill\": \"tonexty\", \"hoverinfo\": \"text+x\", \"type\": \"scatter\", \"x\": [\"2014-01-01\", \"2014-02-01\", \"2014-03-01\", \"2014-04-01\", \"2014-05-01\", \"2014-06-01\", \"2014-07-01\", \"2014-08-01\", \"2014-09-01\", \"2014-10-01\", \"2014-11-01\", \"2014-12-01\", \"2015-01-01\", \"2015-02-01\", \"2015-03-01\", \"2015-04-01\", \"2015-05-01\", \"2015-06-01\", \"2015-07-01\", \"2015-08-01\", \"2015-09-01\", \"2015-10-01\", \"2015-11-01\", \"2015-12-01\", \"2016-01-01\", \"2016-02-01\", \"2016-03-01\", \"2016-04-01\", \"2016-05-01\", \"2016-06-01\", \"2016-07-01\", \"2016-08-01\", \"2016-09-01\", \"2016-10-01\", \"2016-11-01\", \"2016-12-01\", \"2017-01-01\", \"2017-02-01\", \"2017-03-01\", \"2017-04-01\", \"2017-05-01\", \"2017-06-01\", \"2017-07-01\", \"2017-08-01\", \"2017-09-01\", \"2017-10-01\", \"2017-11-01\"], \"mode\": \"lines\", \"text\": [\"<b>Transpor</b><br>Proportion of number of cases: 12%\", \"<b>Transpor</b><br>Proportion of number of cases: 15%\", \"<b>Transpor</b><br>Proportion of number of cases: 14%\", \"<b>Transpor</b><br>Proportion of number of cases: 13%\", \"<b>Transpor</b><br>Proportion of number of cases: 10%\", \"<b>Transpor</b><br>Proportion of number of cases: 9%\", \"<b>Transpor</b><br>Proportion of number of cases: 11%\", \"<b>Transpor</b><br>Proportion of number of cases: 15%\", \"<b>Transpor</b><br>Proportion of number of cases: 17%\", \"<b>Transpor</b><br>Proportion of number of cases: 15%\", \"<b>Transpor</b><br>Proportion of number of cases: 15%\", \"<b>Transpor</b><br>Proportion of number of cases: 13%\", \"<b>Transpor</b><br>Proportion of number of cases: 15%\", \"<b>Transpor</b><br>Proportion of number of cases: 13%\", \"<b>Transpor</b><br>Proportion of number of cases: 14%\", \"<b>Transpor</b><br>Proportion of number of cases: 12%\", \"<b>Transpor</b><br>Proportion of number of cases: 11%\", \"<b>Transpor</b><br>Proportion of number of cases: 11%\", \"<b>Transpor</b><br>Proportion of number of cases: 10%\", \"<b>Transpor</b><br>Proportion of number of cases: 13%\", \"<b>Transpor</b><br>Proportion of number of cases: 14%\", \"<b>Transpor</b><br>Proportion of number of cases: 14%\", \"<b>Transpor</b><br>Proportion of number of cases: 13%\", \"<b>Transpor</b><br>Proportion of number of cases: 15%\", \"<b>Transpor</b><br>Proportion of number of cases: 16%\", \"<b>Transpor</b><br>Proportion of number of cases: 13%\", \"<b>Transpor</b><br>Proportion of number of cases: 10%\", \"<b>Transpor</b><br>Proportion of number of cases: 9%\", \"<b>Transpor</b><br>Proportion of number of cases: 10%\", \"<b>Transpor</b><br>Proportion of number of cases: 7%\", \"<b>Transpor</b><br>Proportion of number of cases: 9%\", \"<b>Transpor</b><br>Proportion of number of cases: 9%\", \"<b>Transpor</b><br>Proportion of number of cases: 9%\", \"<b>Transpor</b><br>Proportion of number of cases: 10%\", \"<b>Transpor</b><br>Proportion of number of cases: 9%\", \"<b>Transpor</b><br>Proportion of number of cases: 9%\", \"<b>Transpor</b><br>Proportion of number of cases: 7%\", \"<b>Transpor</b><br>Proportion of number of cases: 14%\", \"<b>Transpor</b><br>Proportion of number of cases: 10%\", \"<b>Transpor</b><br>Proportion of number of cases: 10%\", \"<b>Transpor</b><br>Proportion of number of cases: 10%\", \"<b>Transpor</b><br>Proportion of number of cases: 10%\", \"<b>Transpor</b><br>Proportion of number of cases: 10%\", \"<b>Transpor</b><br>Proportion of number of cases: 12%\", \"<b>Transpor</b><br>Proportion of number of cases: 11%\", \"<b>Transpor</b><br>Proportion of number of cases: 9%\", \"<b>Transpor</b><br>Proportion of number of cases: 6%\"], \"y\": [1.0, 1.0, 1.0, 1.0, 1.0, 1.0000000000000002, 0.9999999999999999, 1.0, 1.0, 1.0, 1.0, 1.0, 1.0, 1.0, 1.0, 1.0, 1.0, 1.0, 1.0, 1.0, 1.0, 1.0, 1.0, 1.0, 1.0, 1.0, 1.0, 1.0, 1.0, 1.0, 0.9999999999999999, 1.0, 1.0, 1.0, 1.0, 1.0, 1.0, 1.0, 1.0, 1.0, 1.0, 1.0, 1.0, 1.0, 1.0, 1.0, 1.0]}], {\"xaxis\": {\"title\": \"time\"}, \"hovermode\": \"closest\", \"title\": \"Proportion of number of cases, 2014-2017\", \"yaxis\": {\"tickformat\": \"%\", \"title\": \"Proportion of number of cases\"}}, {\"showLink\": true, \"linkText\": \"Export to plot.ly\"})});</script>"
      ],
      "text/vnd.plotly.v1+html": [
       "<div id=\"99af94a4-13d9-4c09-a7a6-439387af8f9a\" style=\"height: 525px; width: 100%;\" class=\"plotly-graph-div\"></div><script type=\"text/javascript\">require([\"plotly\"], function(Plotly) { window.PLOTLYENV=window.PLOTLYENV || {};window.PLOTLYENV.BASE_URL=\"https://plot.ly\";Plotly.newPlot(\"99af94a4-13d9-4c09-a7a6-439387af8f9a\", [{\"name\": \"Animal Services \", \"fill\": \"tonexty\", \"hoverinfo\": \"text+x\", \"type\": \"scatter\", \"x\": [\"2014-01-01\", \"2014-02-01\", \"2014-03-01\", \"2014-04-01\", \"2014-05-01\", \"2014-06-01\", \"2014-07-01\", \"2014-08-01\", \"2014-09-01\", \"2014-10-01\", \"2014-11-01\", \"2014-12-01\", \"2015-01-01\", \"2015-02-01\", \"2015-03-01\", \"2015-04-01\", \"2015-05-01\", \"2015-06-01\", \"2015-07-01\", \"2015-08-01\", \"2015-09-01\", \"2015-10-01\", \"2015-11-01\", \"2015-12-01\", \"2016-01-01\", \"2016-02-01\", \"2016-03-01\", \"2016-04-01\", \"2016-05-01\", \"2016-06-01\", \"2016-07-01\", \"2016-08-01\", \"2016-09-01\", \"2016-10-01\", \"2016-11-01\", \"2016-12-01\", \"2017-01-01\", \"2017-02-01\", \"2017-03-01\", \"2017-04-01\", \"2017-05-01\", \"2017-06-01\", \"2017-07-01\", \"2017-08-01\", \"2017-09-01\", \"2017-10-01\", \"2017-11-01\"], \"mode\": \"lines\", \"text\": [\"<b>Animal Services </b><br>Proportion of number of cases: 33%\", \"<b>Animal Services </b><br>Proportion of number of cases: 32%\", \"<b>Animal Services </b><br>Proportion of number of cases: 34%\", \"<b>Animal Services </b><br>Proportion of number of cases: 27%\", \"<b>Animal Services </b><br>Proportion of number of cases: 30%\", \"<b>Animal Services </b><br>Proportion of number of cases: 25%\", \"<b>Animal Services </b><br>Proportion of number of cases: 25%\", \"<b>Animal Services </b><br>Proportion of number of cases: 24%\", \"<b>Animal Services </b><br>Proportion of number of cases: 28%\", \"<b>Animal Services </b><br>Proportion of number of cases: 29%\", \"<b>Animal Services </b><br>Proportion of number of cases: 33%\", \"<b>Animal Services </b><br>Proportion of number of cases: 29%\", \"<b>Animal Services </b><br>Proportion of number of cases: 28%\", \"<b>Animal Services </b><br>Proportion of number of cases: 28%\", \"<b>Animal Services </b><br>Proportion of number of cases: 25%\", \"<b>Animal Services </b><br>Proportion of number of cases: 23%\", \"<b>Animal Services </b><br>Proportion of number of cases: 22%\", \"<b>Animal Services </b><br>Proportion of number of cases: 18%\", \"<b>Animal Services </b><br>Proportion of number of cases: 20%\", \"<b>Animal Services </b><br>Proportion of number of cases: 24%\", \"<b>Animal Services </b><br>Proportion of number of cases: 24%\", \"<b>Animal Services </b><br>Proportion of number of cases: 26%\", \"<b>Animal Services </b><br>Proportion of number of cases: 23%\", \"<b>Animal Services </b><br>Proportion of number of cases: 11%\", \"<b>Animal Services </b><br>Proportion of number of cases: 11%\", \"<b>Animal Services </b><br>Proportion of number of cases: 26%\", \"<b>Animal Services </b><br>Proportion of number of cases: 29%\", \"<b>Animal Services </b><br>Proportion of number of cases: 28%\", \"<b>Animal Services </b><br>Proportion of number of cases: 29%\", \"<b>Animal Services </b><br>Proportion of number of cases: 25%\", \"<b>Animal Services </b><br>Proportion of number of cases: 25%\", \"<b>Animal Services </b><br>Proportion of number of cases: 25%\", \"<b>Animal Services </b><br>Proportion of number of cases: 22%\", \"<b>Animal Services </b><br>Proportion of number of cases: 24%\", \"<b>Animal Services </b><br>Proportion of number of cases: 26%\", \"<b>Animal Services </b><br>Proportion of number of cases: 28%\", \"<b>Animal Services </b><br>Proportion of number of cases: 21%\", \"<b>Animal Services </b><br>Proportion of number of cases: 4%\", \"<b>Animal Services </b><br>Proportion of number of cases: 25%\", \"<b>Animal Services </b><br>Proportion of number of cases: 22%\", \"<b>Animal Services </b><br>Proportion of number of cases: 25%\", \"<b>Animal Services </b><br>Proportion of number of cases: 24%\", \"<b>Animal Services </b><br>Proportion of number of cases: 28%\", \"<b>Animal Services </b><br>Proportion of number of cases: 24%\", \"<b>Animal Services </b><br>Proportion of number of cases: 25%\", \"<b>Animal Services </b><br>Proportion of number of cases: 16%\", \"<b>Animal Services </b><br>Proportion of number of cases: 30%\"], \"y\": [0.33452631578947367, 0.3204394598306249, 0.33531047265987024, 0.2747074122236671, 0.30318493753299314, 0.248814078041316, 0.2534485372138851, 0.24414819407843746, 0.2830608033021114, 0.2869496855345912, 0.3312551953449709, 0.29395604395604397, 0.2837470907680372, 0.2787955359022952, 0.24793259478857857, 0.22750447843461485, 0.22170561605285696, 0.17780704642739545, 0.20073034348967247, 0.2392528498832578, 0.2404274265360641, 0.25544329016650064, 0.2278457545420838, 0.11258885576702592, 0.10795935647756139, 0.25946372239747634, 0.2939373297002725, 0.28124093940272543, 0.2921666441957665, 0.24696151249155976, 0.24820551567812618, 0.24634775136064166, 0.21929347826086956, 0.24374406081723154, 0.2598057527082555, 0.2805026347790839, 0.20531400966183574, 0.03833049403747871, 0.24682539682539684, 0.2158890290037831, 0.2540886865621312, 0.2414199192462988, 0.2751409347154028, 0.23735542896599343, 0.24902647975077882, 0.16180371352785147, 0.2994157740993184]}, {\"name\": \"Austin Code Depa\", \"fill\": \"tonexty\", \"hoverinfo\": \"text+x\", \"type\": \"scatter\", \"x\": [\"2014-01-01\", \"2014-02-01\", \"2014-03-01\", \"2014-04-01\", \"2014-05-01\", \"2014-06-01\", \"2014-07-01\", \"2014-08-01\", \"2014-09-01\", \"2014-10-01\", \"2014-11-01\", \"2014-12-01\", \"2015-01-01\", \"2015-02-01\", \"2015-03-01\", \"2015-04-01\", \"2015-05-01\", \"2015-06-01\", \"2015-07-01\", \"2015-08-01\", \"2015-09-01\", \"2015-10-01\", \"2015-11-01\", \"2015-12-01\", \"2016-01-01\", \"2016-02-01\", \"2016-03-01\", \"2016-04-01\", \"2016-05-01\", \"2016-06-01\", \"2016-07-01\", \"2016-08-01\", \"2016-09-01\", \"2016-10-01\", \"2016-11-01\", \"2016-12-01\", \"2017-01-01\", \"2017-02-01\", \"2017-03-01\", \"2017-04-01\", \"2017-05-01\", \"2017-06-01\", \"2017-07-01\", \"2017-08-01\", \"2017-09-01\", \"2017-10-01\", \"2017-11-01\"], \"mode\": \"lines\", \"text\": [\"<b>Austin Code Depa</b><br>Proportion of number of cases: 0%\", \"<b>Austin Code Depa</b><br>Proportion of number of cases: 9%\", \"<b>Austin Code Depa</b><br>Proportion of number of cases: 27%\", \"<b>Austin Code Depa</b><br>Proportion of number of cases: 30%\", \"<b>Austin Code Depa</b><br>Proportion of number of cases: 31%\", \"<b>Austin Code Depa</b><br>Proportion of number of cases: 35%\", \"<b>Austin Code Depa</b><br>Proportion of number of cases: 34%\", \"<b>Austin Code Depa</b><br>Proportion of number of cases: 30%\", \"<b>Austin Code Depa</b><br>Proportion of number of cases: 29%\", \"<b>Austin Code Depa</b><br>Proportion of number of cases: 28%\", \"<b>Austin Code Depa</b><br>Proportion of number of cases: 22%\", \"<b>Austin Code Depa</b><br>Proportion of number of cases: 24%\", \"<b>Austin Code Depa</b><br>Proportion of number of cases: 24%\", \"<b>Austin Code Depa</b><br>Proportion of number of cases: 28%\", \"<b>Austin Code Depa</b><br>Proportion of number of cases: 26%\", \"<b>Austin Code Depa</b><br>Proportion of number of cases: 30%\", \"<b>Austin Code Depa</b><br>Proportion of number of cases: 28%\", \"<b>Austin Code Depa</b><br>Proportion of number of cases: 31%\", \"<b>Austin Code Depa</b><br>Proportion of number of cases: 30%\", \"<b>Austin Code Depa</b><br>Proportion of number of cases: 30%\", \"<b>Austin Code Depa</b><br>Proportion of number of cases: 28%\", \"<b>Austin Code Depa</b><br>Proportion of number of cases: 26%\", \"<b>Austin Code Depa</b><br>Proportion of number of cases: 27%\", \"<b>Austin Code Depa</b><br>Proportion of number of cases: 31%\", \"<b>Austin Code Depa</b><br>Proportion of number of cases: 34%\", \"<b>Austin Code Depa</b><br>Proportion of number of cases: 27%\", \"<b>Austin Code Depa</b><br>Proportion of number of cases: 28%\", \"<b>Austin Code Depa</b><br>Proportion of number of cases: 28%\", \"<b>Austin Code Depa</b><br>Proportion of number of cases: 29%\", \"<b>Austin Code Depa</b><br>Proportion of number of cases: 33%\", \"<b>Austin Code Depa</b><br>Proportion of number of cases: 29%\", \"<b>Austin Code Depa</b><br>Proportion of number of cases: 33%\", \"<b>Austin Code Depa</b><br>Proportion of number of cases: 35%\", \"<b>Austin Code Depa</b><br>Proportion of number of cases: 31%\", \"<b>Austin Code Depa</b><br>Proportion of number of cases: 26%\", \"<b>Austin Code Depa</b><br>Proportion of number of cases: 24%\", \"<b>Austin Code Depa</b><br>Proportion of number of cases: 25%\", \"<b>Austin Code Depa</b><br>Proportion of number of cases: 34%\", \"<b>Austin Code Depa</b><br>Proportion of number of cases: 31%\", \"<b>Austin Code Depa</b><br>Proportion of number of cases: 38%\", \"<b>Austin Code Depa</b><br>Proportion of number of cases: 35%\", \"<b>Austin Code Depa</b><br>Proportion of number of cases: 38%\", \"<b>Austin Code Depa</b><br>Proportion of number of cases: 35%\", \"<b>Austin Code Depa</b><br>Proportion of number of cases: 32%\", \"<b>Austin Code Depa</b><br>Proportion of number of cases: 38%\", \"<b>Austin Code Depa</b><br>Proportion of number of cases: 42%\", \"<b>Austin Code Depa</b><br>Proportion of number of cases: 39%\"], \"y\": [0.33473684210526317, 0.4108491645685512, 0.601112140871177, 0.5762353706111834, 0.6116487770543727, 0.6022953328232594, 0.5979990904956798, 0.5458068516509069, 0.5683441816161295, 0.5633647798742139, 0.5525768911055694, 0.5386577708006279, 0.5275407292474786, 0.5607496315013687, 0.5046029021688251, 0.5262505167424556, 0.5020188425302826, 0.4878718033146746, 0.4986876640419947, 0.5390743029803599, 0.5243395666369842, 0.5172904511171197, 0.49740452354467923, 0.42536115569823435, 0.4466553767993226, 0.5291798107255521, 0.5732288828337875, 0.5655262394897071, 0.5809626533638937, 0.5815327481431465, 0.5430676237249716, 0.5793468920080206, 0.5654891304347827, 0.5557491289198606, 0.5199850579006351, 0.5210782326712606, 0.45813204508856686, 0.3756388415672913, 0.5617063492063492, 0.5941992433795713, 0.6064744562468387, 0.6184387617765814, 0.6235679214402619, 0.5544622820645606, 0.6263629283489096, 0.5818664094526164, 0.6927945472249271]}, {\"name\": \"Austin Resource Re\", \"fill\": \"tonexty\", \"hoverinfo\": \"text+x\", \"type\": \"scatter\", \"x\": [\"2014-01-01\", \"2014-02-01\", \"2014-03-01\", \"2014-04-01\", \"2014-05-01\", \"2014-06-01\", \"2014-07-01\", \"2014-08-01\", \"2014-09-01\", \"2014-10-01\", \"2014-11-01\", \"2014-12-01\", \"2015-01-01\", \"2015-02-01\", \"2015-03-01\", \"2015-04-01\", \"2015-05-01\", \"2015-06-01\", \"2015-07-01\", \"2015-08-01\", \"2015-09-01\", \"2015-10-01\", \"2015-11-01\", \"2015-12-01\", \"2016-01-01\", \"2016-02-01\", \"2016-03-01\", \"2016-04-01\", \"2016-05-01\", \"2016-06-01\", \"2016-07-01\", \"2016-08-01\", \"2016-09-01\", \"2016-10-01\", \"2016-11-01\", \"2016-12-01\", \"2017-01-01\", \"2017-02-01\", \"2017-03-01\", \"2017-04-01\", \"2017-05-01\", \"2017-06-01\", \"2017-07-01\", \"2017-08-01\", \"2017-09-01\", \"2017-10-01\", \"2017-11-01\"], \"mode\": \"lines\", \"text\": [\"<b>Austin Resource Re</b><br>Proportion of number of cases: 47%\", \"<b>Austin Resource Re</b><br>Proportion of number of cases: 37%\", \"<b>Austin Resource Re</b><br>Proportion of number of cases: 20%\", \"<b>Austin Resource Re</b><br>Proportion of number of cases: 23%\", \"<b>Austin Resource Re</b><br>Proportion of number of cases: 22%\", \"<b>Austin Resource Re</b><br>Proportion of number of cases: 22%\", \"<b>Austin Resource Re</b><br>Proportion of number of cases: 21%\", \"<b>Austin Resource Re</b><br>Proportion of number of cases: 20%\", \"<b>Austin Resource Re</b><br>Proportion of number of cases: 18%\", \"<b>Austin Resource Re</b><br>Proportion of number of cases: 20%\", \"<b>Austin Resource Re</b><br>Proportion of number of cases: 21%\", \"<b>Austin Resource Re</b><br>Proportion of number of cases: 26%\", \"<b>Austin Resource Re</b><br>Proportion of number of cases: 23%\", \"<b>Austin Resource Re</b><br>Proportion of number of cases: 20%\", \"<b>Austin Resource Re</b><br>Proportion of number of cases: 25%\", \"<b>Austin Resource Re</b><br>Proportion of number of cases: 23%\", \"<b>Austin Resource Re</b><br>Proportion of number of cases: 20%\", \"<b>Austin Resource Re</b><br>Proportion of number of cases: 23%\", \"<b>Austin Resource Re</b><br>Proportion of number of cases: 26%\", \"<b>Austin Resource Re</b><br>Proportion of number of cases: 22%\", \"<b>Austin Resource Re</b><br>Proportion of number of cases: 23%\", \"<b>Austin Resource Re</b><br>Proportion of number of cases: 21%\", \"<b>Austin Resource Re</b><br>Proportion of number of cases: 25%\", \"<b>Austin Resource Re</b><br>Proportion of number of cases: 34%\", \"<b>Austin Resource Re</b><br>Proportion of number of cases: 31%\", \"<b>Austin Resource Re</b><br>Proportion of number of cases: 25%\", \"<b>Austin Resource Re</b><br>Proportion of number of cases: 22%\", \"<b>Austin Resource Re</b><br>Proportion of number of cases: 20%\", \"<b>Austin Resource Re</b><br>Proportion of number of cases: 19%\", \"<b>Austin Resource Re</b><br>Proportion of number of cases: 20%\", \"<b>Austin Resource Re</b><br>Proportion of number of cases: 22%\", \"<b>Austin Resource Re</b><br>Proportion of number of cases: 20%\", \"<b>Austin Resource Re</b><br>Proportion of number of cases: 22%\", \"<b>Austin Resource Re</b><br>Proportion of number of cases: 24%\", \"<b>Austin Resource Re</b><br>Proportion of number of cases: 29%\", \"<b>Austin Resource Re</b><br>Proportion of number of cases: 32%\", \"<b>Austin Resource Re</b><br>Proportion of number of cases: 24%\", \"<b>Austin Resource Re</b><br>Proportion of number of cases: 2%\", \"<b>Austin Resource Re</b><br>Proportion of number of cases: 22%\", \"<b>Austin Resource Re</b><br>Proportion of number of cases: 12%\", \"<b>Austin Resource Re</b><br>Proportion of number of cases: 20%\", \"<b>Austin Resource Re</b><br>Proportion of number of cases: 19%\", \"<b>Austin Resource Re</b><br>Proportion of number of cases: 19%\", \"<b>Austin Resource Re</b><br>Proportion of number of cases: 18%\", \"<b>Austin Resource Re</b><br>Proportion of number of cases: 19%\", \"<b>Austin Resource Re</b><br>Proportion of number of cases: 26%\", \"<b>Austin Resource Re</b><br>Proportion of number of cases: 25%\"], \"y\": [0.8008421052631579, 0.7823300526436257, 0.802224281742354, 0.8025032509752925, 0.8301953193735703, 0.8221882172915074, 0.8055176595422161, 0.7468609517904201, 0.7437688521987618, 0.7660377358490567, 0.7647547797173733, 0.7963108320251178, 0.756788207913111, 0.7622657401558223, 0.7515993134654393, 0.7548573790822655, 0.701333659610914, 0.7139721216112392, 0.7630948305374872, 0.754154649086664, 0.7534876818046898, 0.7303258858687918, 0.7497219132369299, 0.7638156386149966, 0.7527519051651144, 0.7766167192429022, 0.7905313351498637, 0.7687735575529139, 0.7726843737360118, 0.7788656313301823, 0.758594635436343, 0.7828702377542252, 0.7834239130434784, 0.7991764333227748, 0.8135973104221144, 0.8421159302796919, 0.7020933977455717, 0.3960817717206133, 0.7821428571428571, 0.7147540983606558, 0.808126791434834, 0.8125841184387618, 0.8185124568103291, 0.7388227170723286, 0.8125, 0.8372317337834579, 0.9391431353456671]}, {\"name\": \"Public\", \"fill\": \"tonexty\", \"hoverinfo\": \"text+x\", \"type\": \"scatter\", \"x\": [\"2014-01-01\", \"2014-02-01\", \"2014-03-01\", \"2014-04-01\", \"2014-05-01\", \"2014-06-01\", \"2014-07-01\", \"2014-08-01\", \"2014-09-01\", \"2014-10-01\", \"2014-11-01\", \"2014-12-01\", \"2015-01-01\", \"2015-02-01\", \"2015-03-01\", \"2015-04-01\", \"2015-05-01\", \"2015-06-01\", \"2015-07-01\", \"2015-08-01\", \"2015-09-01\", \"2015-10-01\", \"2015-11-01\", \"2015-12-01\", \"2016-01-01\", \"2016-02-01\", \"2016-03-01\", \"2016-04-01\", \"2016-05-01\", \"2016-06-01\", \"2016-07-01\", \"2016-08-01\", \"2016-09-01\", \"2016-10-01\", \"2016-11-01\", \"2016-12-01\", \"2017-01-01\", \"2017-02-01\", \"2017-03-01\", \"2017-04-01\", \"2017-05-01\", \"2017-06-01\", \"2017-07-01\", \"2017-08-01\", \"2017-09-01\", \"2017-10-01\", \"2017-11-01\"], \"mode\": \"lines\", \"text\": [\"<b>Public</b><br>Proportion of number of cases: 8%\", \"<b>Public</b><br>Proportion of number of cases: 6%\", \"<b>Public</b><br>Proportion of number of cases: 6%\", \"<b>Public</b><br>Proportion of number of cases: 7%\", \"<b>Public</b><br>Proportion of number of cases: 7%\", \"<b>Public</b><br>Proportion of number of cases: 8%\", \"<b>Public</b><br>Proportion of number of cases: 9%\", \"<b>Public</b><br>Proportion of number of cases: 10%\", \"<b>Public</b><br>Proportion of number of cases: 9%\", \"<b>Public</b><br>Proportion of number of cases: 9%\", \"<b>Public</b><br>Proportion of number of cases: 8%\", \"<b>Public</b><br>Proportion of number of cases: 7%\", \"<b>Public</b><br>Proportion of number of cases: 9%\", \"<b>Public</b><br>Proportion of number of cases: 11%\", \"<b>Public</b><br>Proportion of number of cases: 11%\", \"<b>Public</b><br>Proportion of number of cases: 12%\", \"<b>Public</b><br>Proportion of number of cases: 19%\", \"<b>Public</b><br>Proportion of number of cases: 17%\", \"<b>Public</b><br>Proportion of number of cases: 13%\", \"<b>Public</b><br>Proportion of number of cases: 11%\", \"<b>Public</b><br>Proportion of number of cases: 11%\", \"<b>Public</b><br>Proportion of number of cases: 13%\", \"<b>Public</b><br>Proportion of number of cases: 12%\", \"<b>Public</b><br>Proportion of number of cases: 9%\", \"<b>Public</b><br>Proportion of number of cases: 9%\", \"<b>Public</b><br>Proportion of number of cases: 10%\", \"<b>Public</b><br>Proportion of number of cases: 11%\", \"<b>Public</b><br>Proportion of number of cases: 14%\", \"<b>Public</b><br>Proportion of number of cases: 13%\", \"<b>Public</b><br>Proportion of number of cases: 15%\", \"<b>Public</b><br>Proportion of number of cases: 15%\", \"<b>Public</b><br>Proportion of number of cases: 13%\", \"<b>Public</b><br>Proportion of number of cases: 13%\", \"<b>Public</b><br>Proportion of number of cases: 11%\", \"<b>Public</b><br>Proportion of number of cases: 9%\", \"<b>Public</b><br>Proportion of number of cases: 6%\", \"<b>Public</b><br>Proportion of number of cases: 23%\", \"<b>Public</b><br>Proportion of number of cases: 46%\", \"<b>Public</b><br>Proportion of number of cases: 12%\", \"<b>Public</b><br>Proportion of number of cases: 19%\", \"<b>Public</b><br>Proportion of number of cases: 9%\", \"<b>Public</b><br>Proportion of number of cases: 9%\", \"<b>Public</b><br>Proportion of number of cases: 9%\", \"<b>Public</b><br>Proportion of number of cases: 14%\", \"<b>Public</b><br>Proportion of number of cases: 8%\", \"<b>Public</b><br>Proportion of number of cases: 8%\", \"<b>Public</b><br>Proportion of number of cases: 0%\"], \"y\": [0.88, 0.8466468299382011, 0.8628359592215014, 0.8743498049414824, 0.8970614112264649, 0.906503442999235, 0.8913142337426102, 0.8491706712137653, 0.8341006508969678, 0.8533018867924529, 0.8487115544472154, 0.8685243328100472, 0.8498836307214895, 0.8673404927353127, 0.8637853019191762, 0.8777731845115062, 0.8868224642114279, 0.8882669300845133, 0.895697820381148, 0.8651284164263151, 0.8618284357376076, 0.8640956311370428, 0.8665183537263627, 0.8523274478330658, 0.8441998306519899, 0.8748028391167193, 0.900374659400545, 0.907944331690345, 0.9023864095995685, 0.9291019581363943, 0.90536456365697, 0.9120595817817244, 0.9088315217391305, 0.9048146974976243, 0.9077325364213673, 0.9065666801783543, 0.9323671497584541, 0.8594548551959115, 0.9023809523809524, 0.9016393442622952, 0.8984994098802901, 0.8992261103633916, 0.9036188397890526, 0.8807181080614535, 0.8936915887850467, 0.912707981673499, 0.9430379746835443]}, {\"name\": \"Transpor\", \"fill\": \"tonexty\", \"hoverinfo\": \"text+x\", \"type\": \"scatter\", \"x\": [\"2014-01-01\", \"2014-02-01\", \"2014-03-01\", \"2014-04-01\", \"2014-05-01\", \"2014-06-01\", \"2014-07-01\", \"2014-08-01\", \"2014-09-01\", \"2014-10-01\", \"2014-11-01\", \"2014-12-01\", \"2015-01-01\", \"2015-02-01\", \"2015-03-01\", \"2015-04-01\", \"2015-05-01\", \"2015-06-01\", \"2015-07-01\", \"2015-08-01\", \"2015-09-01\", \"2015-10-01\", \"2015-11-01\", \"2015-12-01\", \"2016-01-01\", \"2016-02-01\", \"2016-03-01\", \"2016-04-01\", \"2016-05-01\", \"2016-06-01\", \"2016-07-01\", \"2016-08-01\", \"2016-09-01\", \"2016-10-01\", \"2016-11-01\", \"2016-12-01\", \"2017-01-01\", \"2017-02-01\", \"2017-03-01\", \"2017-04-01\", \"2017-05-01\", \"2017-06-01\", \"2017-07-01\", \"2017-08-01\", \"2017-09-01\", \"2017-10-01\", \"2017-11-01\"], \"mode\": \"lines\", \"text\": [\"<b>Transpor</b><br>Proportion of number of cases: 12%\", \"<b>Transpor</b><br>Proportion of number of cases: 15%\", \"<b>Transpor</b><br>Proportion of number of cases: 14%\", \"<b>Transpor</b><br>Proportion of number of cases: 13%\", \"<b>Transpor</b><br>Proportion of number of cases: 10%\", \"<b>Transpor</b><br>Proportion of number of cases: 9%\", \"<b>Transpor</b><br>Proportion of number of cases: 11%\", \"<b>Transpor</b><br>Proportion of number of cases: 15%\", \"<b>Transpor</b><br>Proportion of number of cases: 17%\", \"<b>Transpor</b><br>Proportion of number of cases: 15%\", \"<b>Transpor</b><br>Proportion of number of cases: 15%\", \"<b>Transpor</b><br>Proportion of number of cases: 13%\", \"<b>Transpor</b><br>Proportion of number of cases: 15%\", \"<b>Transpor</b><br>Proportion of number of cases: 13%\", \"<b>Transpor</b><br>Proportion of number of cases: 14%\", \"<b>Transpor</b><br>Proportion of number of cases: 12%\", \"<b>Transpor</b><br>Proportion of number of cases: 11%\", \"<b>Transpor</b><br>Proportion of number of cases: 11%\", \"<b>Transpor</b><br>Proportion of number of cases: 10%\", \"<b>Transpor</b><br>Proportion of number of cases: 13%\", \"<b>Transpor</b><br>Proportion of number of cases: 14%\", \"<b>Transpor</b><br>Proportion of number of cases: 14%\", \"<b>Transpor</b><br>Proportion of number of cases: 13%\", \"<b>Transpor</b><br>Proportion of number of cases: 15%\", \"<b>Transpor</b><br>Proportion of number of cases: 16%\", \"<b>Transpor</b><br>Proportion of number of cases: 13%\", \"<b>Transpor</b><br>Proportion of number of cases: 10%\", \"<b>Transpor</b><br>Proportion of number of cases: 9%\", \"<b>Transpor</b><br>Proportion of number of cases: 10%\", \"<b>Transpor</b><br>Proportion of number of cases: 7%\", \"<b>Transpor</b><br>Proportion of number of cases: 9%\", \"<b>Transpor</b><br>Proportion of number of cases: 9%\", \"<b>Transpor</b><br>Proportion of number of cases: 9%\", \"<b>Transpor</b><br>Proportion of number of cases: 10%\", \"<b>Transpor</b><br>Proportion of number of cases: 9%\", \"<b>Transpor</b><br>Proportion of number of cases: 9%\", \"<b>Transpor</b><br>Proportion of number of cases: 7%\", \"<b>Transpor</b><br>Proportion of number of cases: 14%\", \"<b>Transpor</b><br>Proportion of number of cases: 10%\", \"<b>Transpor</b><br>Proportion of number of cases: 10%\", \"<b>Transpor</b><br>Proportion of number of cases: 10%\", \"<b>Transpor</b><br>Proportion of number of cases: 10%\", \"<b>Transpor</b><br>Proportion of number of cases: 10%\", \"<b>Transpor</b><br>Proportion of number of cases: 12%\", \"<b>Transpor</b><br>Proportion of number of cases: 11%\", \"<b>Transpor</b><br>Proportion of number of cases: 9%\", \"<b>Transpor</b><br>Proportion of number of cases: 6%\"], \"y\": [1.0, 1.0, 1.0, 1.0, 1.0, 1.0000000000000002, 0.9999999999999999, 1.0, 1.0, 1.0, 1.0, 1.0, 1.0, 1.0, 1.0, 1.0, 1.0, 1.0, 1.0, 1.0, 1.0, 1.0, 1.0, 1.0, 1.0, 1.0, 1.0, 1.0, 1.0, 1.0, 0.9999999999999999, 1.0, 1.0, 1.0, 1.0, 1.0, 1.0, 1.0, 1.0, 1.0, 1.0, 1.0, 1.0, 1.0, 1.0, 1.0, 1.0]}], {\"xaxis\": {\"title\": \"time\"}, \"hovermode\": \"closest\", \"title\": \"Proportion of number of cases, 2014-2017\", \"yaxis\": {\"tickformat\": \"%\", \"title\": \"Proportion of number of cases\"}}, {\"showLink\": true, \"linkText\": \"Export to plot.ly\"})});</script>"
      ]
     },
     "metadata": {},
     "output_type": "display_data"
    }
   ],
   "source": [
    "def createStackedPropArea(df, time, cols, hover, title, yaxisTitle): \n",
    "    PCcols = []\n",
    "    traces = []\n",
    "    \n",
    "    stackedAreaDF = df.loc[:, ([time] + cols)]\n",
    "    stackedAreaDF.fillna(0, inplace=True)\n",
    "        \n",
    "    stackedAreaDF['Total'] = stackedAreaDF[cols].sum(axis =1)\n",
    "    \n",
    "    for col in cols:\n",
    "        stackedAreaDF[\"pc_\"+str(col)] = stackedAreaDF[col] / stackedAreaDF['Total']\n",
    "        PCcols.append(\"pc_\"+str(col))\n",
    "        \n",
    "    stackedPCAreaDF = stackedAreaDF[PCcols].cumsum(axis=1)\n",
    "    stackedAreaData = stackedAreaDF[PCcols + [time]].merge(stackedPCAreaDF[PCcols], \n",
    "                                        left_index = True,\n",
    "                                         right_index = True,\n",
    "                                        suffixes = ('_o','_c'))\n",
    "\n",
    "    for col in PCcols:       \n",
    "        stackedAreaData[col + '_t'] = \"<b>\" + str(col)[3:-6]  + \"</b><br>\" + str(hover) + stackedAreaData[col + \"_o\"].apply(lambda x:\n",
    "            \"{:.0%}\".format(x))\n",
    "        \n",
    "        \n",
    "        traces.append({'type' : 'scatter',\n",
    "                      'x' : stackedAreaData[time],\n",
    "                      'y' : stackedAreaData[col + \"_c\"],\n",
    "                       'text' : stackedAreaData[col + \"_t\"],\n",
    "                       'hoverinfo' : 'text+x',\n",
    "                      'name' : col[3:-6],\n",
    "                      'mode' : 'lines',\n",
    "                      'fill' : 'tonexty'})\n",
    "    \n",
    "    data = Data(traces)\n",
    "    layout = {'title' : title,\n",
    "             'xaxis' : {'title' : time},\n",
    "             'yaxis' : {'title' : yaxisTitle,\n",
    "                       'tickformat' : '%'},\n",
    "              'hovermode' : 'closest'}\n",
    "    fig = Figure(data = data, layout = layout)\n",
    "    pyo.iplot(fig)\n",
    "\n",
    "    return stackedAreaData,fig\n",
    "    \n",
    "    \n",
    "C02Prop = createStackedPropArea(temp, 'time', ['Animal Services Office', 'Austin Code Department',\n",
    "       'Austin Resource Recovery', 'Public Works', 'Transportation'], 'Proportion of number of cases: ',\n",
    "                            \"Proportion of number of cases, 2014-2017\", 'Proportion of number of cases')"
   ]
  },
  {
   "cell_type": "markdown",
   "metadata": {},
   "source": [
    "**As showed in the figure above, we can see different department's number of cases with time changing. One noticeable thing is the big change happened in January 2017.**"
   ]
  },
  {
   "cell_type": "markdown",
   "metadata": {
    "collapsed": true
   },
   "source": [
    "### 6. Explore The Methods"
   ]
  },
  {
   "cell_type": "markdown",
   "metadata": {},
   "source": [
    "##### i. Number of cases received through each method."
   ]
  },
  {
   "cell_type": "code",
   "execution_count": 90,
   "metadata": {
    "collapsed": true
   },
   "outputs": [],
   "source": [
    "table = pdsql.read_sql('''\n",
    "Select method.method, count(*) as count \n",
    "From facts join method \n",
    "On facts.method_key=method.method_key\n",
    "Group by method \n",
    "Order by count desc;\n",
    "''',conn)"
   ]
  },
  {
   "cell_type": "code",
   "execution_count": 91,
   "metadata": {},
   "outputs": [
    {
     "data": {
      "text/html": [
       "<div>\n",
       "<style>\n",
       "    .dataframe thead tr:only-child th {\n",
       "        text-align: right;\n",
       "    }\n",
       "\n",
       "    .dataframe thead th {\n",
       "        text-align: left;\n",
       "    }\n",
       "\n",
       "    .dataframe tbody tr th {\n",
       "        vertical-align: top;\n",
       "    }\n",
       "</style>\n",
       "<table border=\"1\" class=\"dataframe\">\n",
       "  <thead>\n",
       "    <tr style=\"text-align: right;\">\n",
       "      <th></th>\n",
       "      <th>method</th>\n",
       "      <th>count</th>\n",
       "    </tr>\n",
       "  </thead>\n",
       "  <tbody>\n",
       "    <tr>\n",
       "      <th>0</th>\n",
       "      <td>Phone</td>\n",
       "      <td>286356</td>\n",
       "    </tr>\n",
       "    <tr>\n",
       "      <th>1</th>\n",
       "      <td>Spot311 Interface</td>\n",
       "      <td>28955</td>\n",
       "    </tr>\n",
       "    <tr>\n",
       "      <th>2</th>\n",
       "      <td>Web</td>\n",
       "      <td>20585</td>\n",
       "    </tr>\n",
       "    <tr>\n",
       "      <th>3</th>\n",
       "      <td>Mass Entry</td>\n",
       "      <td>6436</td>\n",
       "    </tr>\n",
       "    <tr>\n",
       "      <th>4</th>\n",
       "      <td>Field Request</td>\n",
       "      <td>2035</td>\n",
       "    </tr>\n",
       "    <tr>\n",
       "      <th>5</th>\n",
       "      <td>Open311</td>\n",
       "      <td>185</td>\n",
       "    </tr>\n",
       "    <tr>\n",
       "      <th>6</th>\n",
       "      <td>E-Mail</td>\n",
       "      <td>156</td>\n",
       "    </tr>\n",
       "    <tr>\n",
       "      <th>7</th>\n",
       "      <td>CSR - Follow On SR</td>\n",
       "      <td>33</td>\n",
       "    </tr>\n",
       "    <tr>\n",
       "      <th>8</th>\n",
       "      <td>Field Reque</td>\n",
       "      <td>31</td>\n",
       "    </tr>\n",
       "    <tr>\n",
       "      <th>9</th>\n",
       "      <td>Other</td>\n",
       "      <td>9</td>\n",
       "    </tr>\n",
       "    <tr>\n",
       "      <th>10</th>\n",
       "      <td>Interface</td>\n",
       "      <td>4</td>\n",
       "    </tr>\n",
       "    <tr>\n",
       "      <th>11</th>\n",
       "      <td>Mail</td>\n",
       "      <td>3</td>\n",
       "    </tr>\n",
       "    <tr>\n",
       "      <th>12</th>\n",
       "      <td>Walk In</td>\n",
       "      <td>2</td>\n",
       "    </tr>\n",
       "    <tr>\n",
       "      <th>13</th>\n",
       "      <td>Mobile Devi</td>\n",
       "      <td>1</td>\n",
       "    </tr>\n",
       "    <tr>\n",
       "      <th>14</th>\n",
       "      <td>CSR - Follo</td>\n",
       "      <td>1</td>\n",
       "    </tr>\n",
       "    <tr>\n",
       "      <th>15</th>\n",
       "      <td>Radio</td>\n",
       "      <td>1</td>\n",
       "    </tr>\n",
       "    <tr>\n",
       "      <th>16</th>\n",
       "      <td>Social Media</td>\n",
       "      <td>1</td>\n",
       "    </tr>\n",
       "  </tbody>\n",
       "</table>\n",
       "</div>"
      ],
      "text/plain": [
       "                method   count\n",
       "0                Phone  286356\n",
       "1    Spot311 Interface   28955\n",
       "2                  Web   20585\n",
       "3           Mass Entry    6436\n",
       "4        Field Request    2035\n",
       "5              Open311     185\n",
       "6               E-Mail     156\n",
       "7   CSR - Follow On SR      33\n",
       "8          Field Reque      31\n",
       "9                Other       9\n",
       "10           Interface       4\n",
       "11                Mail       3\n",
       "12             Walk In       2\n",
       "13         Mobile Devi       1\n",
       "14         CSR - Follo       1\n",
       "15               Radio       1\n",
       "16        Social Media       1"
      ]
     },
     "execution_count": 91,
     "metadata": {},
     "output_type": "execute_result"
    }
   ],
   "source": [
    "table"
   ]
  },
  {
   "cell_type": "code",
   "execution_count": 92,
   "metadata": {},
   "outputs": [
    {
     "data": {
      "application/vnd.plotly.v1+json": {
       "data": [
        {
         "marker": {
          "color": "red",
          "line": {
           "color": "#333",
           "width": 2
          }
         },
         "name": "Number of Cases ",
         "opacity": 0.5,
         "type": "bar",
         "x": [
          "Phone",
          "Spot311 Interface",
          "Web",
          "Mass Entry",
          "Field Request",
          "Open311",
          "E-Mail",
          "CSR - Follow On SR",
          "Field Reque",
          "Other",
          "Interface",
          "Mail",
          "Walk In",
          "Mobile Devi",
          "CSR - Follo",
          "Radio",
          "Social Media"
         ],
         "y": [
          286356,
          28955,
          20585,
          6436,
          2035,
          185,
          156,
          33,
          31,
          9,
          4,
          3,
          2,
          1,
          1,
          1,
          1
         ]
        }
       ],
       "layout": {
        "title": "Number of Case of its owning_department top5 ",
        "xaxis": {
         "title": "deparment types"
        },
        "yaxis": {
         "title": "Number of cases"
        }
       }
      },
      "text/html": [
       "<div id=\"95a4f2ab-97ae-4f36-a834-b00a68d78cd5\" style=\"height: 525px; width: 100%;\" class=\"plotly-graph-div\"></div><script type=\"text/javascript\">require([\"plotly\"], function(Plotly) { window.PLOTLYENV=window.PLOTLYENV || {};window.PLOTLYENV.BASE_URL=\"https://plot.ly\";Plotly.newPlot(\"95a4f2ab-97ae-4f36-a834-b00a68d78cd5\", [{\"name\": \"Number of Cases \", \"type\": \"bar\", \"y\": [286356, 28955, 20585, 6436, 2035, 185, 156, 33, 31, 9, 4, 3, 2, 1, 1, 1, 1], \"x\": [\"Phone\", \"Spot311 Interface\", \"Web\", \"Mass Entry\", \"Field Request\", \"Open311\", \"E-Mail\", \"CSR - Follow On SR\", \"Field Reque\", \"Other\", \"Interface\", \"Mail\", \"Walk In\", \"Mobile Devi\", \"CSR - Follo\", \"Radio\", \"Social Media\"], \"opacity\": 0.5, \"marker\": {\"color\": \"red\", \"line\": {\"width\": 2, \"color\": \"#333\"}}}], {\"xaxis\": {\"title\": \"deparment types\"}, \"title\": \"Number of Case of its owning_department top5 \", \"yaxis\": {\"title\": \"Number of cases\"}}, {\"showLink\": true, \"linkText\": \"Export to plot.ly\"})});</script>"
      ],
      "text/vnd.plotly.v1+html": [
       "<div id=\"95a4f2ab-97ae-4f36-a834-b00a68d78cd5\" style=\"height: 525px; width: 100%;\" class=\"plotly-graph-div\"></div><script type=\"text/javascript\">require([\"plotly\"], function(Plotly) { window.PLOTLYENV=window.PLOTLYENV || {};window.PLOTLYENV.BASE_URL=\"https://plot.ly\";Plotly.newPlot(\"95a4f2ab-97ae-4f36-a834-b00a68d78cd5\", [{\"name\": \"Number of Cases \", \"type\": \"bar\", \"y\": [286356, 28955, 20585, 6436, 2035, 185, 156, 33, 31, 9, 4, 3, 2, 1, 1, 1, 1], \"x\": [\"Phone\", \"Spot311 Interface\", \"Web\", \"Mass Entry\", \"Field Request\", \"Open311\", \"E-Mail\", \"CSR - Follow On SR\", \"Field Reque\", \"Other\", \"Interface\", \"Mail\", \"Walk In\", \"Mobile Devi\", \"CSR - Follo\", \"Radio\", \"Social Media\"], \"opacity\": 0.5, \"marker\": {\"color\": \"red\", \"line\": {\"width\": 2, \"color\": \"#333\"}}}], {\"xaxis\": {\"title\": \"deparment types\"}, \"title\": \"Number of Case of its owning_department top5 \", \"yaxis\": {\"title\": \"Number of cases\"}}, {\"showLink\": true, \"linkText\": \"Export to plot.ly\"})});</script>"
      ]
     },
     "metadata": {},
     "output_type": "display_data"
    }
   ],
   "source": [
    "number= {'type' : 'bar',\n",
    "         \"name\":\"Number of Cases \",\n",
    "                     'x' : table[\"method\"],\n",
    "                     'y' : table[\"count\"],\n",
    "                     'marker' : {'color' : 'red',\n",
    "                                'line' : {'color' : '#333',\n",
    "                                          'width' : 2}},\n",
    "                     'opacity' : 0.5,}\n",
    "\n",
    "fig = {'data' : [number],\n",
    "      'layout' : layout}\n",
    "pyo.iplot(fig)"
   ]
  },
  {
   "cell_type": "markdown",
   "metadata": {},
   "source": [
    "##### ii. The number of cases received through each method over years."
   ]
  },
  {
   "cell_type": "code",
   "execution_count": 93,
   "metadata": {
    "collapsed": true
   },
   "outputs": [],
   "source": [
    "table = pdsql.read_sql('''\n",
    "SELECT Method,year\n",
    "FROM Method \n",
    "JOIN facts\n",
    "ON Method.method_key=facts.method_key\n",
    "JOIN hour\n",
    "ON facts.created_date_key=hour.hour_key;\n",
    "''',conn)"
   ]
  },
  {
   "cell_type": "code",
   "execution_count": 94,
   "metadata": {
    "collapsed": true
   },
   "outputs": [],
   "source": [
    "import matplotlib.pyplot as mplt\n",
    "mlist=table.method.unique()"
   ]
  },
  {
   "cell_type": "code",
   "execution_count": 95,
   "metadata": {},
   "outputs": [
    {
     "data": {
      "text/html": [
       "<div>\n",
       "<style>\n",
       "    .dataframe thead tr:only-child th {\n",
       "        text-align: right;\n",
       "    }\n",
       "\n",
       "    .dataframe thead th {\n",
       "        text-align: left;\n",
       "    }\n",
       "\n",
       "    .dataframe tbody tr th {\n",
       "        vertical-align: top;\n",
       "    }\n",
       "</style>\n",
       "<table border=\"1\" class=\"dataframe\">\n",
       "  <thead>\n",
       "    <tr style=\"text-align: right;\">\n",
       "      <th></th>\n",
       "      <th>method</th>\n",
       "      <th>year</th>\n",
       "    </tr>\n",
       "  </thead>\n",
       "  <tbody>\n",
       "    <tr>\n",
       "      <th>0</th>\n",
       "      <td>Phone</td>\n",
       "      <td>2014</td>\n",
       "    </tr>\n",
       "    <tr>\n",
       "      <th>1</th>\n",
       "      <td>Phone</td>\n",
       "      <td>2014</td>\n",
       "    </tr>\n",
       "    <tr>\n",
       "      <th>2</th>\n",
       "      <td>Phone</td>\n",
       "      <td>2014</td>\n",
       "    </tr>\n",
       "    <tr>\n",
       "      <th>3</th>\n",
       "      <td>Phone</td>\n",
       "      <td>2014</td>\n",
       "    </tr>\n",
       "    <tr>\n",
       "      <th>4</th>\n",
       "      <td>Phone</td>\n",
       "      <td>2014</td>\n",
       "    </tr>\n",
       "    <tr>\n",
       "      <th>5</th>\n",
       "      <td>Phone</td>\n",
       "      <td>2014</td>\n",
       "    </tr>\n",
       "    <tr>\n",
       "      <th>6</th>\n",
       "      <td>Phone</td>\n",
       "      <td>2014</td>\n",
       "    </tr>\n",
       "    <tr>\n",
       "      <th>7</th>\n",
       "      <td>Phone</td>\n",
       "      <td>2014</td>\n",
       "    </tr>\n",
       "    <tr>\n",
       "      <th>8</th>\n",
       "      <td>Phone</td>\n",
       "      <td>2014</td>\n",
       "    </tr>\n",
       "    <tr>\n",
       "      <th>9</th>\n",
       "      <td>Phone</td>\n",
       "      <td>2014</td>\n",
       "    </tr>\n",
       "    <tr>\n",
       "      <th>10</th>\n",
       "      <td>Phone</td>\n",
       "      <td>2014</td>\n",
       "    </tr>\n",
       "    <tr>\n",
       "      <th>11</th>\n",
       "      <td>Phone</td>\n",
       "      <td>2014</td>\n",
       "    </tr>\n",
       "    <tr>\n",
       "      <th>12</th>\n",
       "      <td>Phone</td>\n",
       "      <td>2014</td>\n",
       "    </tr>\n",
       "    <tr>\n",
       "      <th>13</th>\n",
       "      <td>Phone</td>\n",
       "      <td>2014</td>\n",
       "    </tr>\n",
       "    <tr>\n",
       "      <th>14</th>\n",
       "      <td>Mass Entry</td>\n",
       "      <td>2013</td>\n",
       "    </tr>\n",
       "    <tr>\n",
       "      <th>15</th>\n",
       "      <td>Mass Entry</td>\n",
       "      <td>2013</td>\n",
       "    </tr>\n",
       "    <tr>\n",
       "      <th>16</th>\n",
       "      <td>Mass Entry</td>\n",
       "      <td>2013</td>\n",
       "    </tr>\n",
       "    <tr>\n",
       "      <th>17</th>\n",
       "      <td>Mass Entry</td>\n",
       "      <td>2013</td>\n",
       "    </tr>\n",
       "    <tr>\n",
       "      <th>18</th>\n",
       "      <td>Mass Entry</td>\n",
       "      <td>2013</td>\n",
       "    </tr>\n",
       "    <tr>\n",
       "      <th>19</th>\n",
       "      <td>Phone</td>\n",
       "      <td>2014</td>\n",
       "    </tr>\n",
       "    <tr>\n",
       "      <th>20</th>\n",
       "      <td>Web</td>\n",
       "      <td>2014</td>\n",
       "    </tr>\n",
       "    <tr>\n",
       "      <th>21</th>\n",
       "      <td>Phone</td>\n",
       "      <td>2014</td>\n",
       "    </tr>\n",
       "    <tr>\n",
       "      <th>22</th>\n",
       "      <td>Phone</td>\n",
       "      <td>2014</td>\n",
       "    </tr>\n",
       "    <tr>\n",
       "      <th>23</th>\n",
       "      <td>Phone</td>\n",
       "      <td>2014</td>\n",
       "    </tr>\n",
       "    <tr>\n",
       "      <th>24</th>\n",
       "      <td>Phone</td>\n",
       "      <td>2014</td>\n",
       "    </tr>\n",
       "    <tr>\n",
       "      <th>25</th>\n",
       "      <td>Phone</td>\n",
       "      <td>2014</td>\n",
       "    </tr>\n",
       "    <tr>\n",
       "      <th>26</th>\n",
       "      <td>Phone</td>\n",
       "      <td>2014</td>\n",
       "    </tr>\n",
       "    <tr>\n",
       "      <th>27</th>\n",
       "      <td>Phone</td>\n",
       "      <td>2014</td>\n",
       "    </tr>\n",
       "    <tr>\n",
       "      <th>28</th>\n",
       "      <td>Phone</td>\n",
       "      <td>2014</td>\n",
       "    </tr>\n",
       "    <tr>\n",
       "      <th>29</th>\n",
       "      <td>Phone</td>\n",
       "      <td>2014</td>\n",
       "    </tr>\n",
       "    <tr>\n",
       "      <th>...</th>\n",
       "      <td>...</td>\n",
       "      <td>...</td>\n",
       "    </tr>\n",
       "    <tr>\n",
       "      <th>344764</th>\n",
       "      <td>Spot311 Interface</td>\n",
       "      <td>2014</td>\n",
       "    </tr>\n",
       "    <tr>\n",
       "      <th>344765</th>\n",
       "      <td>Spot311 Interface</td>\n",
       "      <td>2015</td>\n",
       "    </tr>\n",
       "    <tr>\n",
       "      <th>344766</th>\n",
       "      <td>Spot311 Interface</td>\n",
       "      <td>2015</td>\n",
       "    </tr>\n",
       "    <tr>\n",
       "      <th>344767</th>\n",
       "      <td>Spot311 Interface</td>\n",
       "      <td>2015</td>\n",
       "    </tr>\n",
       "    <tr>\n",
       "      <th>344768</th>\n",
       "      <td>Web</td>\n",
       "      <td>2016</td>\n",
       "    </tr>\n",
       "    <tr>\n",
       "      <th>344769</th>\n",
       "      <td>Spot311 Interface</td>\n",
       "      <td>2015</td>\n",
       "    </tr>\n",
       "    <tr>\n",
       "      <th>344770</th>\n",
       "      <td>Spot311 Interface</td>\n",
       "      <td>2015</td>\n",
       "    </tr>\n",
       "    <tr>\n",
       "      <th>344771</th>\n",
       "      <td>Spot311 Interface</td>\n",
       "      <td>2015</td>\n",
       "    </tr>\n",
       "    <tr>\n",
       "      <th>344772</th>\n",
       "      <td>Spot311 Interface</td>\n",
       "      <td>2015</td>\n",
       "    </tr>\n",
       "    <tr>\n",
       "      <th>344773</th>\n",
       "      <td>Spot311 Interface</td>\n",
       "      <td>2014</td>\n",
       "    </tr>\n",
       "    <tr>\n",
       "      <th>344774</th>\n",
       "      <td>Spot311 Interface</td>\n",
       "      <td>2015</td>\n",
       "    </tr>\n",
       "    <tr>\n",
       "      <th>344775</th>\n",
       "      <td>Open311</td>\n",
       "      <td>2015</td>\n",
       "    </tr>\n",
       "    <tr>\n",
       "      <th>344776</th>\n",
       "      <td>Phone</td>\n",
       "      <td>2016</td>\n",
       "    </tr>\n",
       "    <tr>\n",
       "      <th>344777</th>\n",
       "      <td>Phone</td>\n",
       "      <td>2015</td>\n",
       "    </tr>\n",
       "    <tr>\n",
       "      <th>344778</th>\n",
       "      <td>Web</td>\n",
       "      <td>2014</td>\n",
       "    </tr>\n",
       "    <tr>\n",
       "      <th>344779</th>\n",
       "      <td>Phone</td>\n",
       "      <td>2014</td>\n",
       "    </tr>\n",
       "    <tr>\n",
       "      <th>344780</th>\n",
       "      <td>Phone</td>\n",
       "      <td>2014</td>\n",
       "    </tr>\n",
       "    <tr>\n",
       "      <th>344781</th>\n",
       "      <td>Phone</td>\n",
       "      <td>2015</td>\n",
       "    </tr>\n",
       "    <tr>\n",
       "      <th>344782</th>\n",
       "      <td>Phone</td>\n",
       "      <td>2015</td>\n",
       "    </tr>\n",
       "    <tr>\n",
       "      <th>344783</th>\n",
       "      <td>Phone</td>\n",
       "      <td>2015</td>\n",
       "    </tr>\n",
       "    <tr>\n",
       "      <th>344784</th>\n",
       "      <td>Phone</td>\n",
       "      <td>2015</td>\n",
       "    </tr>\n",
       "    <tr>\n",
       "      <th>344785</th>\n",
       "      <td>Web</td>\n",
       "      <td>2015</td>\n",
       "    </tr>\n",
       "    <tr>\n",
       "      <th>344786</th>\n",
       "      <td>Phone</td>\n",
       "      <td>2015</td>\n",
       "    </tr>\n",
       "    <tr>\n",
       "      <th>344787</th>\n",
       "      <td>Phone</td>\n",
       "      <td>2016</td>\n",
       "    </tr>\n",
       "    <tr>\n",
       "      <th>344788</th>\n",
       "      <td>Phone</td>\n",
       "      <td>2015</td>\n",
       "    </tr>\n",
       "    <tr>\n",
       "      <th>344789</th>\n",
       "      <td>Phone</td>\n",
       "      <td>2015</td>\n",
       "    </tr>\n",
       "    <tr>\n",
       "      <th>344790</th>\n",
       "      <td>Web</td>\n",
       "      <td>2016</td>\n",
       "    </tr>\n",
       "    <tr>\n",
       "      <th>344791</th>\n",
       "      <td>Web</td>\n",
       "      <td>2017</td>\n",
       "    </tr>\n",
       "    <tr>\n",
       "      <th>344792</th>\n",
       "      <td>Phone</td>\n",
       "      <td>2016</td>\n",
       "    </tr>\n",
       "    <tr>\n",
       "      <th>344793</th>\n",
       "      <td>Phone</td>\n",
       "      <td>2014</td>\n",
       "    </tr>\n",
       "  </tbody>\n",
       "</table>\n",
       "<p>344794 rows × 2 columns</p>\n",
       "</div>"
      ],
      "text/plain": [
       "                   method  year\n",
       "0                   Phone  2014\n",
       "1                   Phone  2014\n",
       "2                   Phone  2014\n",
       "3                   Phone  2014\n",
       "4                   Phone  2014\n",
       "5                   Phone  2014\n",
       "6                   Phone  2014\n",
       "7                   Phone  2014\n",
       "8                   Phone  2014\n",
       "9                   Phone  2014\n",
       "10                  Phone  2014\n",
       "11                  Phone  2014\n",
       "12                  Phone  2014\n",
       "13                  Phone  2014\n",
       "14             Mass Entry  2013\n",
       "15             Mass Entry  2013\n",
       "16             Mass Entry  2013\n",
       "17             Mass Entry  2013\n",
       "18             Mass Entry  2013\n",
       "19                  Phone  2014\n",
       "20                    Web  2014\n",
       "21                  Phone  2014\n",
       "22                  Phone  2014\n",
       "23                  Phone  2014\n",
       "24                  Phone  2014\n",
       "25                  Phone  2014\n",
       "26                  Phone  2014\n",
       "27                  Phone  2014\n",
       "28                  Phone  2014\n",
       "29                  Phone  2014\n",
       "...                   ...   ...\n",
       "344764  Spot311 Interface  2014\n",
       "344765  Spot311 Interface  2015\n",
       "344766  Spot311 Interface  2015\n",
       "344767  Spot311 Interface  2015\n",
       "344768                Web  2016\n",
       "344769  Spot311 Interface  2015\n",
       "344770  Spot311 Interface  2015\n",
       "344771  Spot311 Interface  2015\n",
       "344772  Spot311 Interface  2015\n",
       "344773  Spot311 Interface  2014\n",
       "344774  Spot311 Interface  2015\n",
       "344775            Open311  2015\n",
       "344776              Phone  2016\n",
       "344777              Phone  2015\n",
       "344778                Web  2014\n",
       "344779              Phone  2014\n",
       "344780              Phone  2014\n",
       "344781              Phone  2015\n",
       "344782              Phone  2015\n",
       "344783              Phone  2015\n",
       "344784              Phone  2015\n",
       "344785                Web  2015\n",
       "344786              Phone  2015\n",
       "344787              Phone  2016\n",
       "344788              Phone  2015\n",
       "344789              Phone  2015\n",
       "344790                Web  2016\n",
       "344791                Web  2017\n",
       "344792              Phone  2016\n",
       "344793              Phone  2014\n",
       "\n",
       "[344794 rows x 2 columns]"
      ]
     },
     "execution_count": 95,
     "metadata": {},
     "output_type": "execute_result"
    }
   ],
   "source": [
    "table"
   ]
  },
  {
   "cell_type": "code",
   "execution_count": 96,
   "metadata": {
    "collapsed": true
   },
   "outputs": [],
   "source": [
    "dataframe_collection={}"
   ]
  },
  {
   "cell_type": "code",
   "execution_count": 97,
   "metadata": {},
   "outputs": [
    {
     "name": "stdout",
     "output_type": "stream",
     "text": [
      "Phone\n"
     ]
    },
    {
     "data": {
      "image/png": "[encoded data removed]",
      "text/plain": [
       "<matplotlib.figure.Figure at 0x7f4fc2d99320>"
      ]
     },
     "metadata": {},
     "output_type": "display_data"
    },
    {
     "name": "stdout",
     "output_type": "stream",
     "text": [
      "\n",
      "\n",
      "Mass Entry\n"
     ]
    },
    {
     "data": {
      "image/png": "[encoded data removed]",
      "text/plain": [
       "<matplotlib.figure.Figure at 0x7f4fc2a69898>"
      ]
     },
     "metadata": {},
     "output_type": "display_data"
    },
    {
     "name": "stdout",
     "output_type": "stream",
     "text": [
      "\n",
      "\n",
      "Web\n"
     ]
    },
    {
     "data": {
      "image/png": "[encoded data removed]",
      "text/plain": [
       "<matplotlib.figure.Figure at 0x7f4fc2465748>"
      ]
     },
     "metadata": {},
     "output_type": "display_data"
    },
    {
     "name": "stdout",
     "output_type": "stream",
     "text": [
      "\n",
      "\n",
      "Spot311 Interface\n"
     ]
    },
    {
     "data": {
      "image/png": "[encoded data removed]",
      "text/plain": [
       "<matplotlib.figure.Figure at 0x7f4fc2528cc0>"
      ]
     },
     "metadata": {},
     "output_type": "display_data"
    },
    {
     "name": "stdout",
     "output_type": "stream",
     "text": [
      "\n",
      "\n",
      "Field Request\n"
     ]
    },
    {
     "data": {
      "image/png": "[encoded data removed]",
      "text/plain": [
       "<matplotlib.figure.Figure at 0x7f4fc27fd710>"
      ]
     },
     "metadata": {},
     "output_type": "display_data"
    },
    {
     "name": "stdout",
     "output_type": "stream",
     "text": [
      "\n",
      "\n",
      "Mobile Devi\n"
     ]
    },
    {
     "data": {
      "image/png": "[encoded data removed]",
      "text/plain": [
       "<matplotlib.figure.Figure at 0x7f4fc340a3c8>"
      ]
     },
     "metadata": {},
     "output_type": "display_data"
    },
    {
     "name": "stdout",
     "output_type": "stream",
     "text": [
      "\n",
      "\n",
      "E-Mail\n"
     ]
    },
    {
     "data": {
      "image/png": "[encoded data removed]",
      "text/plain": [
       "<matplotlib.figure.Figure at 0x7f4fc24aa828>"
      ]
     },
     "metadata": {},
     "output_type": "display_data"
    },
    {
     "name": "stdout",
     "output_type": "stream",
     "text": [
      "\n",
      "\n",
      "Open311\n"
     ]
    },
    {
     "data": {
      "image/png": "[encoded data removed]",
      "text/plain": [
       "<matplotlib.figure.Figure at 0x7f4fc2861940>"
      ]
     },
     "metadata": {},
     "output_type": "display_data"
    },
    {
     "name": "stdout",
     "output_type": "stream",
     "text": [
      "\n",
      "\n",
      "CSR - Follow On SR\n"
     ]
    },
    {
     "data": {
      "image/png": "[encoded data removed]",
      "text/plain": [
       "<matplotlib.figure.Figure at 0x7f4fcbf6ea90>"
      ]
     },
     "metadata": {},
     "output_type": "display_data"
    },
    {
     "name": "stdout",
     "output_type": "stream",
     "text": [
      "\n",
      "\n",
      "Field Reque\n"
     ]
    },
    {
     "data": {
      "image/png": "[encoded data removed]",
      "text/plain": [
       "<matplotlib.figure.Figure at 0x7f4fc328b470>"
      ]
     },
     "metadata": {},
     "output_type": "display_data"
    },
    {
     "name": "stdout",
     "output_type": "stream",
     "text": [
      "\n",
      "\n",
      "Other\n"
     ]
    },
    {
     "data": {
      "image/png": "[encoded data removed]",
      "text/plain": [
       "<matplotlib.figure.Figure at 0x7f4fc23cda58>"
      ]
     },
     "metadata": {},
     "output_type": "display_data"
    },
    {
     "name": "stdout",
     "output_type": "stream",
     "text": [
      "\n",
      "\n",
      "Mail\n"
     ]
    },
    {
     "data": {
      "image/png": "[encoded data removed]",
      "text/plain": [
       "<matplotlib.figure.Figure at 0x7f4fc16459b0>"
      ]
     },
     "metadata": {},
     "output_type": "display_data"
    },
    {
     "name": "stdout",
     "output_type": "stream",
     "text": [
      "\n",
      "\n",
      "Social Media\n"
     ]
    },
    {
     "data": {
      "image/png": "[encoded data removed]",
      "text/plain": [
       "<matplotlib.figure.Figure at 0x7f4fc13ad550>"
      ]
     },
     "metadata": {},
     "output_type": "display_data"
    },
    {
     "name": "stdout",
     "output_type": "stream",
     "text": [
      "\n",
      "\n",
      "Radio\n"
     ]
    },
    {
     "data": {
      "image/png": "[encoded data removed]",
      "text/plain": [
       "<matplotlib.figure.Figure at 0x7f4fc3b0cbe0>"
      ]
     },
     "metadata": {},
     "output_type": "display_data"
    },
    {
     "name": "stdout",
     "output_type": "stream",
     "text": [
      "\n",
      "\n",
      "Walk In\n"
     ]
    },
    {
     "data": {
      "image/png": "[encoded data removed]",
      "text/plain": [
       "<matplotlib.figure.Figure at 0x7f4fc36f0828>"
      ]
     },
     "metadata": {},
     "output_type": "display_data"
    },
    {
     "name": "stdout",
     "output_type": "stream",
     "text": [
      "\n",
      "\n",
      "CSR - Follo\n"
     ]
    },
    {
     "data": {
      "image/png": "[encoded data removed]",
      "text/plain": [
       "<matplotlib.figure.Figure at 0x7f4fc3e428d0>"
      ]
     },
     "metadata": {},
     "output_type": "display_data"
    },
    {
     "name": "stdout",
     "output_type": "stream",
     "text": [
      "\n",
      "\n",
      "Interface\n"
     ]
    },
    {
     "data": {
      "image/png": "[encoded data removed]",
      "text/plain": [
       "<matplotlib.figure.Figure at 0x7f4fc209dc88>"
      ]
     },
     "metadata": {},
     "output_type": "display_data"
    },
    {
     "name": "stdout",
     "output_type": "stream",
     "text": [
      "\n",
      "\n"
     ]
    }
   ],
   "source": [
    "for i in mlist:\n",
    "    print(i)\n",
    "    dataframe_collection[i]=table.loc[table[\"method\"]==i].groupby(table[\"year\"]).count().drop(\"year\",axis=1)\n",
    "    dataframe_collection[i].plot(kind='bar')\n",
    "    mplt.show()\n",
    "    print('\\n')\n",
    "del table"
   ]
  },
  {
   "cell_type": "markdown",
   "metadata": {},
   "source": [
    "** In total, there are 17 methods. Some methods like radio and social media, have almost no case reported through them over 4 years. Austin may consider terminate them and invest resources in popular methods like phone and web.\n",
    "Field Request and E-Mail usage declined dramatically over years, indicating that Austin may graduately decrease the budget for them. **"
   ]
  },
  {
   "cell_type": "markdown",
   "metadata": {},
   "source": [
    "# Argument"
   ]
  },
  {
   "cell_type": "markdown",
   "metadata": {},
   "source": [
    "Here, we want to further explore the seasonal pattern for number of cases. We assume that the pattern is caused by tempreture. So we find the dataset of Austin weather. The dataset collected the weather data from 2013 to 2017. \n",
    "https://www.kaggle.com/grubenm/austin-weather/version/2/data\n"
   ]
  },
  {
   "cell_type": "code",
   "execution_count": 99,
   "metadata": {
    "collapsed": true
   },
   "outputs": [],
   "source": [
    "weather = pd.read_csv(\"https://s3.amazonaws.com/leiwen/dmfa/austin_weather.csv\")"
   ]
  },
  {
   "cell_type": "code",
   "execution_count": 100,
   "metadata": {
    "collapsed": true
   },
   "outputs": [],
   "source": [
    "from pandas.tseries.offsets import *"
   ]
  },
  {
   "cell_type": "code",
   "execution_count": 101,
   "metadata": {
    "collapsed": true
   },
   "outputs": [],
   "source": [
    "weather.Date = pd.to_datetime(weather.Date)+MonthEnd()"
   ]
  },
  {
   "cell_type": "code",
   "execution_count": 102,
   "metadata": {
    "collapsed": true
   },
   "outputs": [],
   "source": [
    "weather.Date = weather.Date.apply(lambda x:x.month)"
   ]
  },
  {
   "cell_type": "code",
   "execution_count": 103,
   "metadata": {
    "collapsed": true
   },
   "outputs": [],
   "source": [
    "weather.Humidity_avg_percent =pd.to_numeric(weather.Humidity_avg_percent,errors = \"coerce\")"
   ]
  },
  {
   "cell_type": "code",
   "execution_count": 104,
   "metadata": {
    "collapsed": true
   },
   "outputs": [],
   "source": [
    "weather = weather.groupby(\"Date\").mean()"
   ]
  },
  {
   "cell_type": "code",
   "execution_count": 105,
   "metadata": {},
   "outputs": [
    {
     "data": {
      "application/vnd.plotly.v1+json": {
       "data": [
        {
         "marker": {
          "color": "red",
          "line": {
           "color": "#333",
           "width": 2
          }
         },
         "name": "Number of Cases ",
         "opacity": 0.5,
         "type": "bar",
         "x": [
          "January  ",
          "February ",
          "March    ",
          "April    ",
          "May      ",
          "June     ",
          "July     ",
          "August   ",
          "September",
          "October  ",
          "November ",
          "December "
         ],
         "y": [
          22012,
          19648,
          28449,
          30530,
          34615,
          36253,
          34005,
          34951,
          32991,
          30748,
          22443,
          18149
         ]
        },
        {
         "line": {
          "smoothing": 1.3
         },
         "marker": {
          "color": "blue",
          "line": {
           "color": "#333",
           "width": 2
          }
         },
         "name": "temperature",
         "opacity": 0.5,
         "type": "scatter",
         "x": [
          "January  ",
          "February ",
          "March    ",
          "April    ",
          "May      ",
          "June     ",
          "July     ",
          "August   ",
          "September",
          "October  ",
          "November ",
          "December "
         ],
         "y": [
          20964.74826113396,
          23547.420684726847,
          25644.291976885434,
          28773.253131337937,
          30415.399091687254,
          33497.27049805672,
          35235.558027408886,
          35135.71495929549,
          33502.902373791956,
          30573.454959095576,
          24969.484259757268,
          22534.501776822628
         ]
        }
       ],
       "layout": {
        "title": "Number of Case among different months ",
        "xaxis": {
         "title": "Month"
        },
        "yaxis": {
         "title": "Number of cases"
        }
       }
      },
      "text/html": [
       "<div id=\"e4fb2f80-2b31-4527-8da7-f883d1c7f739\" style=\"height: 525px; width: 100%;\" class=\"plotly-graph-div\"></div><script type=\"text/javascript\">require([\"plotly\"], function(Plotly) { window.PLOTLYENV=window.PLOTLYENV || {};window.PLOTLYENV.BASE_URL=\"https://plot.ly\";Plotly.newPlot(\"e4fb2f80-2b31-4527-8da7-f883d1c7f739\", [{\"name\": \"Number of Cases \", \"type\": \"bar\", \"y\": [22012, 19648, 28449, 30530, 34615, 36253, 34005, 34951, 32991, 30748, 22443, 18149], \"x\": [\"January  \", \"February \", \"March    \", \"April    \", \"May      \", \"June     \", \"July     \", \"August   \", \"September\", \"October  \", \"November \", \"December \"], \"opacity\": 0.5, \"marker\": {\"color\": \"red\", \"line\": {\"width\": 2, \"color\": \"#333\"}}}, {\"name\": \"temperature\", \"type\": \"scatter\", \"y\": [20964.74826113396, 23547.420684726847, 25644.291976885434, 28773.253131337937, 30415.399091687254, 33497.27049805672, 35235.558027408886, 35135.71495929549, 33502.902373791956, 30573.454959095576, 24969.484259757268, 22534.501776822628], \"marker\": {\"color\": \"blue\", \"line\": {\"width\": 2, \"color\": \"#333\"}}, \"x\": [\"January  \", \"February \", \"March    \", \"April    \", \"May      \", \"June     \", \"July     \", \"August   \", \"September\", \"October  \", \"November \", \"December \"], \"opacity\": 0.5, \"line\": {\"smoothing\": 1.3}}], {\"xaxis\": {\"title\": \"Month\"}, \"title\": \"Number of Case among different months \", \"yaxis\": {\"title\": \"Number of cases\"}}, {\"showLink\": true, \"linkText\": \"Export to plot.ly\"})});</script>"
      ],
      "text/vnd.plotly.v1+html": [
       "<div id=\"e4fb2f80-2b31-4527-8da7-f883d1c7f739\" style=\"height: 525px; width: 100%;\" class=\"plotly-graph-div\"></div><script type=\"text/javascript\">require([\"plotly\"], function(Plotly) { window.PLOTLYENV=window.PLOTLYENV || {};window.PLOTLYENV.BASE_URL=\"https://plot.ly\";Plotly.newPlot(\"e4fb2f80-2b31-4527-8da7-f883d1c7f739\", [{\"name\": \"Number of Cases \", \"type\": \"bar\", \"y\": [22012, 19648, 28449, 30530, 34615, 36253, 34005, 34951, 32991, 30748, 22443, 18149], \"x\": [\"January  \", \"February \", \"March    \", \"April    \", \"May      \", \"June     \", \"July     \", \"August   \", \"September\", \"October  \", \"November \", \"December \"], \"opacity\": 0.5, \"marker\": {\"color\": \"red\", \"line\": {\"width\": 2, \"color\": \"#333\"}}}, {\"name\": \"temperature\", \"type\": \"scatter\", \"y\": [20964.74826113396, 23547.420684726847, 25644.291976885434, 28773.253131337937, 30415.399091687254, 33497.27049805672, 35235.558027408886, 35135.71495929549, 33502.902373791956, 30573.454959095576, 24969.484259757268, 22534.501776822628], \"marker\": {\"color\": \"blue\", \"line\": {\"width\": 2, \"color\": \"#333\"}}, \"x\": [\"January  \", \"February \", \"March    \", \"April    \", \"May      \", \"June     \", \"July     \", \"August   \", \"September\", \"October  \", \"November \", \"December \"], \"opacity\": 0.5, \"line\": {\"smoothing\": 1.3}}], {\"xaxis\": {\"title\": \"Month\"}, \"title\": \"Number of Case among different months \", \"yaxis\": {\"title\": \"Number of cases\"}}, {\"showLink\": true, \"linkText\": \"Export to plot.ly\"})});</script>"
      ]
     },
     "metadata": {},
     "output_type": "display_data"
    }
   ],
   "source": [
    "temp = pdsql.read_sql('''\n",
    "SELECT hour.month_of_year_str, COUNT(*) AS count\n",
    "FROM facts\n",
    "JOIN hour ON facts.created_date_key = hour.hour_key\n",
    "GROUP BY 1,hour.month_of_year\n",
    "Order By hour.month_of_year;''',conn)\n",
    "number= {'type' : 'bar',\n",
    "         \"name\":\"Number of Cases \",\n",
    "                     'x' : temp.month_of_year_str,\n",
    "                     'y' : temp[\"count\"],\n",
    "                     'marker' : {'color' : 'red',\n",
    "                                'line' : {'color' : '#333',\n",
    "                                          'width' : 2}},\n",
    "                     'opacity' : 0.5,}\n",
    "                     \n",
    "\n",
    "layout = {'title' : \"Number of Case among different months \",\n",
    "         'xaxis' : {'title' : 'Month'},\n",
    "         'yaxis' : {'title' : 'Number of cases'},\n",
    "         }\n",
    "fig = {'data' : [number],\n",
    "      'layout' : layout}\n",
    "number2= {'type' : 'scatter',\n",
    "          \"name\":\"temperature\",\n",
    "                     'x' : temp.month_of_year_str,\n",
    "                     'y' : weather[\"Temp_avg_f\"]/weather[\"Temp_avg_f\"].mean()*temp[\"count\"].mean(),\n",
    "                     'marker' : {'color' : 'blue',\n",
    "                                'line' : {'color' : '#333',\n",
    "                                          'width' : 2},},\n",
    "                      \"line\":{\"smoothing\":1.3},\n",
    "                     'opacity' : 0.5,}\n",
    "\n",
    "fig = {'data' : [number,number2],\n",
    "      'layout' : layout}\n",
    "pyo.iplot(fig)"
   ]
  },
  {
   "cell_type": "markdown",
   "metadata": {
    "collapsed": true
   },
   "source": [
    "**From the figure above, we can notice that even though the trend of temperature and number of cases may not exactly matched, but it still has a similar shape. As a result, we believe that the temperature may be one of the reasons that why the number of cases is more in summer, and less in winter.**"
   ]
  }
 ],
 "metadata": {
  "kernelspec": {
   "display_name": "Python 3",
   "language": "python",
   "name": "python3"
  },
  "language_info": {
   "codemirror_mode": {
    "name": "ipython",
    "version": 3
   },
   "file_extension": ".py",
   "mimetype": "text/x-python",
   "name": "python",
   "nbconvert_exporter": "python",
   "pygments_lexer": "ipython3",
   "version": "3.5.3"
  }
 },
 "nbformat": 4,
 "nbformat_minor": 2
}
