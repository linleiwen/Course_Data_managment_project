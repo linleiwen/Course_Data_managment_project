{
 "cells": [
  {
   "cell_type": "code",
   "execution_count": 1,
   "metadata": {},
   "outputs": [
    {
     "name": "stdout",
     "output_type": "stream",
     "text": [
      "File ‘Data.csv’ already there; not retrieving.\r\n",
      "\r\n"
     ]
    }
   ],
   "source": [
    "!wget -nc https://s3.amazonaws.com/leiwen/dmfa/Data.csv"
   ]
  },
  {
   "cell_type": "markdown",
   "metadata": {},
   "source": [
    "# wrangling data"
   ]
  },
  {
   "cell_type": "code",
   "execution_count": 2,
   "metadata": {},
   "outputs": [
    {
     "data": {
      "text/html": [
       "<img src=\"https://s3.amazonaws.com/leiwen/dmfa/too_big.jpg\"/>"
      ],
      "text/plain": [
       "<IPython.core.display.Image object>"
      ]
     },
     "execution_count": 2,
     "metadata": {},
     "output_type": "execute_result"
    }
   ],
   "source": [
    "from IPython.display import Image\n",
    "url = \"https://s3.amazonaws.com/leiwen/dmfa/too_big.jpg\"\n",
    "Image(url=url)"
   ]
  },
  {
   "cell_type": "markdown",
   "metadata": {},
   "source": [
    "Trifacta cannot handle data larger than 100 migabyte, so we use pandas to do it."
   ]
  },
  {
   "cell_type": "code",
   "execution_count": 3,
   "metadata": {
    "collapsed": true
   },
   "outputs": [],
   "source": [
    "import pandas as pd"
   ]
  },
  {
   "cell_type": "code",
   "execution_count": 4,
   "metadata": {
    "collapsed": true
   },
   "outputs": [],
   "source": [
    "data = pd.read_csv(\"Data.csv\")"
   ]
  },
  {
   "cell_type": "code",
   "execution_count": 5,
   "metadata": {},
   "outputs": [
    {
     "data": {
      "text/plain": [
       "Service Request (SR) Number     object\n",
       "SR Type Code                    object\n",
       "SR Description                  object\n",
       "Owning Department               object\n",
       "Method Received                 object\n",
       "SR Status                       object\n",
       "Status Change Date              object\n",
       "Created Date                    object\n",
       "Last Update Date                object\n",
       "Close Date                      object\n",
       "SR Location                     object\n",
       "Street Number                  float64\n",
       "Street Name                     object\n",
       "City                            object\n",
       "Zip Code                         int64\n",
       "County                          object\n",
       "State Plane X Coordinate       float64\n",
       "State Plane Y Coordinate       float64\n",
       "Latitude Coordinate            float64\n",
       "Longitude Coordinate           float64\n",
       "(Latitude.Longitude)            object\n",
       "Council District                 int64\n",
       "Map Page                        object\n",
       "Map Tile                        object\n",
       "dtype: object"
      ]
     },
     "execution_count": 5,
     "metadata": {},
     "output_type": "execute_result"
    }
   ],
   "source": [
    "data.dtypes"
   ]
  },
  {
   "cell_type": "code",
   "execution_count": 6,
   "metadata": {
    "collapsed": true
   },
   "outputs": [],
   "source": [
    "data[\"Zip Code\"] = data[\"Zip Code\"].astype(\"int\")"
   ]
  },
  {
   "cell_type": "code",
   "execution_count": 7,
   "metadata": {
    "collapsed": true
   },
   "outputs": [],
   "source": [
    "data[\"Council District\"] = data[\"Council District\"].astype(\"int\")"
   ]
  },
  {
   "cell_type": "code",
   "execution_count": 8,
   "metadata": {},
   "outputs": [
    {
     "data": {
      "text/plain": [
       "(344794, 24)"
      ]
     },
     "execution_count": 8,
     "metadata": {},
     "output_type": "execute_result"
    }
   ],
   "source": [
    "data.shape"
   ]
  },
  {
   "cell_type": "markdown",
   "metadata": {},
   "source": [
    "drop null values."
   ]
  },
  {
   "cell_type": "code",
   "execution_count": 9,
   "metadata": {},
   "outputs": [
    {
     "data": {
      "text/plain": [
       "(344794, 24)"
      ]
     },
     "execution_count": 9,
     "metadata": {},
     "output_type": "execute_result"
    }
   ],
   "source": [
    "data.dropna(axis = 0).shape"
   ]
  },
  {
   "cell_type": "code",
   "execution_count": 10,
   "metadata": {
    "collapsed": true
   },
   "outputs": [],
   "source": [
    "data = data.dropna(axis = 0)"
   ]
  },
  {
   "cell_type": "code",
   "execution_count": 11,
   "metadata": {
    "collapsed": true
   },
   "outputs": [],
   "source": [
    "data.to_csv(\"Data.csv\",index=False)"
   ]
  },
  {
   "cell_type": "code",
   "execution_count": 12,
   "metadata": {},
   "outputs": [
    {
     "name": "stdout",
     "output_type": "stream",
     "text": [
      "Row count: 344794\r\n"
     ]
    }
   ],
   "source": [
    " !csvstat --count Data.csv"
   ]
  },
  {
   "cell_type": "code",
   "execution_count": 13,
   "metadata": {},
   "outputs": [],
   "source": [
    "%load_ext sql"
   ]
  },
  {
   "cell_type": "code",
   "execution_count": 14,
   "metadata": {},
   "outputs": [],
   "source": [
    "!dropdb --if-exists -U student project4"
   ]
  },
  {
   "cell_type": "markdown",
   "metadata": {},
   "source": [
    "create db 'project4'"
   ]
  },
  {
   "cell_type": "code",
   "execution_count": 15,
   "metadata": {},
   "outputs": [],
   "source": [
    "!createdb -U student project4"
   ]
  },
  {
   "cell_type": "code",
   "execution_count": 16,
   "metadata": {},
   "outputs": [
    {
     "data": {
      "text/plain": [
       "'Connected: student@project4'"
      ]
     },
     "execution_count": 16,
     "metadata": {},
     "output_type": "execute_result"
    }
   ],
   "source": [
    "%sql postgresql://student@/project4"
   ]
  },
  {
   "cell_type": "code",
   "execution_count": 17,
   "metadata": {},
   "outputs": [
    {
     "name": "stdout",
     "output_type": "stream",
     "text": [
      "Done.\n"
     ]
    },
    {
     "data": {
      "text/plain": [
       "[]"
      ]
     },
     "execution_count": 17,
     "metadata": {},
     "output_type": "execute_result"
    }
   ],
   "source": [
    "%%sql\n",
    "DROP TABLE IF EXISTS facts;"
   ]
  },
  {
   "cell_type": "code",
   "execution_count": 18,
   "metadata": {},
   "outputs": [
    {
     "name": "stdout",
     "output_type": "stream",
     "text": [
      "Done.\n"
     ]
    },
    {
     "data": {
      "text/plain": [
       "[]"
      ]
     },
     "execution_count": 18,
     "metadata": {},
     "output_type": "execute_result"
    }
   ],
   "source": [
    "%%sql\n",
    "CREATE TABLE facts (\n",
    "SR_Number VARCHAR(30),\n",
    "SR_Type_Code VARCHAR(30),\n",
    "SR_Description VARCHAR(100),\n",
    "Owning_Department VARCHAR(50),\n",
    "Method_Received VARCHAR(30),\n",
    "SR_Status VARCHAR(30),\n",
    "Status_Change_Date TIMESTAMPTZ,\n",
    "Created_Date TIMESTAMPTZ,\n",
    "Last_Update_Date TIMESTAMPTZ,\n",
    "Close_Date TIMESTAMPTZ,\n",
    "SR_Location VARCHAR(500),\n",
    "Street_Number VARCHAR(500),\n",
    "Street_Name VARCHAR(100),\n",
    "City VARCHAR(100),\n",
    "Zip_Code INTEGER,\n",
    "County VARCHAR(100),\n",
    "State_Plane_X_Coordinate VARCHAR(100),\n",
    "State_Plane_Y_Coordinate VARCHAR(100),\n",
    "Latitude_Coordinate NUMERIC,\n",
    "Longitude_Coordinate NUMERIC,\n",
    "Latitude_Longitude VARCHAR(500),\n",
    "Council_District INTEGER,\n",
    "Map_Page VARCHAR(30),\n",
    "Map_Tile VARCHAR(30)\n",
    ")"
   ]
  },
  {
   "cell_type": "code",
   "execution_count": 19,
   "metadata": {},
   "outputs": [
    {
     "name": "stdout",
     "output_type": "stream",
     "text": [
      "344794 rows affected.\n"
     ]
    },
    {
     "data": {
      "text/plain": [
       "[]"
      ]
     },
     "execution_count": 19,
     "metadata": {},
     "output_type": "execute_result"
    }
   ],
   "source": [
    "%%sql\n",
    "COPY facts FROM '/home/ubuntu/project4/Data.csv'\n",
    "CSV\n",
    "HEADER;"
   ]
  },
  {
   "cell_type": "code",
   "execution_count": 20,
   "metadata": {},
   "outputs": [
    {
     "name": "stdout",
     "output_type": "stream",
     "text": [
      "5 rows affected.\n"
     ]
    },
    {
     "data": {
      "text/html": [
       "<table>\n",
       "    <tr>\n",
       "        <th>sr_number</th>\n",
       "        <th>sr_type_code</th>\n",
       "        <th>sr_description</th>\n",
       "        <th>owning_department</th>\n",
       "        <th>method_received</th>\n",
       "        <th>sr_status</th>\n",
       "        <th>status_change_date</th>\n",
       "        <th>created_date</th>\n",
       "        <th>last_update_date</th>\n",
       "        <th>close_date</th>\n",
       "        <th>sr_location</th>\n",
       "        <th>street_number</th>\n",
       "        <th>street_name</th>\n",
       "        <th>city</th>\n",
       "        <th>zip_code</th>\n",
       "        <th>county</th>\n",
       "        <th>state_plane_x_coordinate</th>\n",
       "        <th>state_plane_y_coordinate</th>\n",
       "        <th>latitude_coordinate</th>\n",
       "        <th>longitude_coordinate</th>\n",
       "        <th>latitude_longitude</th>\n",
       "        <th>council_district</th>\n",
       "        <th>map_page</th>\n",
       "        <th>map_tile</th>\n",
       "    </tr>\n",
       "    <tr>\n",
       "        <td>16-00108244</td>\n",
       "        <td>TRASIGMA</td>\n",
       "        <td>Traffic Signal - Maintenance</td>\n",
       "        <td>Transportation</td>\n",
       "        <td>Phone</td>\n",
       "        <td>Duplicate (closed)</td>\n",
       "        <td>2016-05-06 19:51:27+00:00</td>\n",
       "        <td>2016-05-06 19:51:27+00:00</td>\n",
       "        <td>2016-05-06 19:51:27+00:00</td>\n",
       "        <td>2016-05-06 19:51:27+00:00</td>\n",
       "        <td>6001 MANCHACA RD, AUSTIN, TX 78745</td>\n",
       "        <td>6001.0</td>\n",
       "        <td>MANCHACA</td>\n",
       "        <td>AUSTIN</td>\n",
       "        <td>78745</td>\n",
       "        <td>TRAVIS</td>\n",
       "        <td>3096240.5</td>\n",
       "        <td>10050194.0</td>\n",
       "        <td>30.212694899999995</td>\n",
       "        <td>-97.80152149999999</td>\n",
       "        <td>(30.2126949, -97.8015215)</td>\n",
       "        <td>5</td>\n",
       "        <td>643M</td>\n",
       "        <td>MF17</td>\n",
       "    </tr>\n",
       "    <tr>\n",
       "        <td>16-00108269</td>\n",
       "        <td>TRASIGMA</td>\n",
       "        <td>Traffic Signal - Maintenance</td>\n",
       "        <td>Transportation</td>\n",
       "        <td>Phone</td>\n",
       "        <td>Duplicate (closed)</td>\n",
       "        <td>2016-05-06 20:22:56+00:00</td>\n",
       "        <td>2016-05-06 20:22:56+00:00</td>\n",
       "        <td>2016-05-06 20:22:56+00:00</td>\n",
       "        <td>2016-05-06 20:22:56+00:00</td>\n",
       "        <td>6001 MANCHACA RD, AUSTIN, TX 78745</td>\n",
       "        <td>6001.0</td>\n",
       "        <td>MANCHACA</td>\n",
       "        <td>AUSTIN</td>\n",
       "        <td>78745</td>\n",
       "        <td>TRAVIS</td>\n",
       "        <td>3096240.5</td>\n",
       "        <td>10050194.0</td>\n",
       "        <td>30.212694899999995</td>\n",
       "        <td>-97.80152149999999</td>\n",
       "        <td>(30.2126949, -97.8015215)</td>\n",
       "        <td>5</td>\n",
       "        <td>643M</td>\n",
       "        <td>MF17</td>\n",
       "    </tr>\n",
       "    <tr>\n",
       "        <td>16-00324071</td>\n",
       "        <td>SWSDEADA</td>\n",
       "        <td>ARR Dead Animal Collection</td>\n",
       "        <td>Austin Resource Recovery</td>\n",
       "        <td>Phone</td>\n",
       "        <td>Closed</td>\n",
       "        <td>2016-12-15 09:05:43+00:00</td>\n",
       "        <td>2016-12-15 06:41:40+00:00</td>\n",
       "        <td>2016-12-15 09:05:43+00:00</td>\n",
       "        <td>2016-12-15 09:05:43+00:00</td>\n",
       "        <td>2200 E OLTORF ST, AUSTIN, TX 78741</td>\n",
       "        <td>2200.0</td>\n",
       "        <td>OLTORF</td>\n",
       "        <td>AUSTIN</td>\n",
       "        <td>78741</td>\n",
       "        <td>TRAVIS</td>\n",
       "        <td>3118116.50749136</td>\n",
       "        <td>10057053.9397969</td>\n",
       "        <td>30.23016411</td>\n",
       "        <td>-97.73177647</td>\n",
       "        <td>(30.23016411, -97.73177647)</td>\n",
       "        <td>3</td>\n",
       "        <td>615X</td>\n",
       "        <td>MJ19</td>\n",
       "    </tr>\n",
       "    <tr>\n",
       "        <td>16-00108062</td>\n",
       "        <td>TRASIGMA</td>\n",
       "        <td>Traffic Signal - Maintenance</td>\n",
       "        <td>Transportation</td>\n",
       "        <td>Phone</td>\n",
       "        <td>Duplicate (closed)</td>\n",
       "        <td>2016-05-10 16:56:52+00:00</td>\n",
       "        <td>2016-05-06 17:03:45+00:00</td>\n",
       "        <td>2016-05-10 16:56:52+00:00</td>\n",
       "        <td>2016-05-10 16:56:52+00:00</td>\n",
       "        <td>8401 N CAPITAL OF TEXAS HWY NB, AUSTIN, TX 78759</td>\n",
       "        <td>8401.0</td>\n",
       "        <td>CAPITAL OF TEXAS</td>\n",
       "        <td>AUSTIN</td>\n",
       "        <td>78759</td>\n",
       "        <td>TRAVIS</td>\n",
       "        <td>3105863.35797435</td>\n",
       "        <td>10113092.534133699</td>\n",
       "        <td>30.38498865</td>\n",
       "        <td>-97.76647071</td>\n",
       "        <td>(30.38498865, -97.76647071)</td>\n",
       "        <td>10</td>\n",
       "        <td>494L</td>\n",
       "        <td>MH32</td>\n",
       "    </tr>\n",
       "    <tr>\n",
       "        <td>16-00107654</td>\n",
       "        <td>STREETL2</td>\n",
       "        <td>Street Light Issue- Address</td>\n",
       "        <td>Austin Energy Department</td>\n",
       "        <td>Phone</td>\n",
       "        <td>Closed</td>\n",
       "        <td>2016-05-10 06:58:01+00:00</td>\n",
       "        <td>2016-05-06 10:28:16+00:00</td>\n",
       "        <td>2016-05-10 06:58:01+00:00</td>\n",
       "        <td>2016-05-10 06:58:01+00:00</td>\n",
       "        <td>300 WEST AVE, AUSTIN, TX 78703</td>\n",
       "        <td>300.0</td>\n",
       "        <td>WEST</td>\n",
       "        <td>AUSTIN</td>\n",
       "        <td>78703</td>\n",
       "        <td>TRAVIS</td>\n",
       "        <td>3111493.73999999</td>\n",
       "        <td>10070696.54</td>\n",
       "        <td>30.26808964</td>\n",
       "        <td>-97.75173887</td>\n",
       "        <td>(30.26808964, -97.75173887)</td>\n",
       "        <td>9</td>\n",
       "        <td>584V</td>\n",
       "        <td>MH22</td>\n",
       "    </tr>\n",
       "</table>"
      ],
      "text/plain": [
       "[('16-00108244', 'TRASIGMA', 'Traffic Signal - Maintenance', 'Transportation', 'Phone', 'Duplicate (closed)', datetime.datetime(2016, 5, 6, 19, 51, 27, tzinfo=psycopg2.tz.FixedOffsetTimezone(offset=0, name=None)), datetime.datetime(2016, 5, 6, 19, 51, 27, tzinfo=psycopg2.tz.FixedOffsetTimezone(offset=0, name=None)), datetime.datetime(2016, 5, 6, 19, 51, 27, tzinfo=psycopg2.tz.FixedOffsetTimezone(offset=0, name=None)), datetime.datetime(2016, 5, 6, 19, 51, 27, tzinfo=psycopg2.tz.FixedOffsetTimezone(offset=0, name=None)), '6001 MANCHACA RD, AUSTIN, TX 78745', '6001.0', 'MANCHACA', 'AUSTIN', 78745, 'TRAVIS', '3096240.5', '10050194.0', Decimal('30.212694899999995'), Decimal('-97.80152149999999'), '(30.2126949, -97.8015215)', 5, '643M', 'MF17'),\n",
       " ('16-00108269', 'TRASIGMA', 'Traffic Signal - Maintenance', 'Transportation', 'Phone', 'Duplicate (closed)', datetime.datetime(2016, 5, 6, 20, 22, 56, tzinfo=psycopg2.tz.FixedOffsetTimezone(offset=0, name=None)), datetime.datetime(2016, 5, 6, 20, 22, 56, tzinfo=psycopg2.tz.FixedOffsetTimezone(offset=0, name=None)), datetime.datetime(2016, 5, 6, 20, 22, 56, tzinfo=psycopg2.tz.FixedOffsetTimezone(offset=0, name=None)), datetime.datetime(2016, 5, 6, 20, 22, 56, tzinfo=psycopg2.tz.FixedOffsetTimezone(offset=0, name=None)), '6001 MANCHACA RD, AUSTIN, TX 78745', '6001.0', 'MANCHACA', 'AUSTIN', 78745, 'TRAVIS', '3096240.5', '10050194.0', Decimal('30.212694899999995'), Decimal('-97.80152149999999'), '(30.2126949, -97.8015215)', 5, '643M', 'MF17'),\n",
       " ('16-00324071', 'SWSDEADA', 'ARR Dead Animal Collection', 'Austin Resource Recovery', 'Phone', 'Closed', datetime.datetime(2016, 12, 15, 9, 5, 43, tzinfo=psycopg2.tz.FixedOffsetTimezone(offset=0, name=None)), datetime.datetime(2016, 12, 15, 6, 41, 40, tzinfo=psycopg2.tz.FixedOffsetTimezone(offset=0, name=None)), datetime.datetime(2016, 12, 15, 9, 5, 43, tzinfo=psycopg2.tz.FixedOffsetTimezone(offset=0, name=None)), datetime.datetime(2016, 12, 15, 9, 5, 43, tzinfo=psycopg2.tz.FixedOffsetTimezone(offset=0, name=None)), '2200 E OLTORF ST, AUSTIN, TX 78741', '2200.0', 'OLTORF', 'AUSTIN', 78741, 'TRAVIS', '3118116.50749136', '10057053.9397969', Decimal('30.23016411'), Decimal('-97.73177647'), '(30.23016411, -97.73177647)', 3, '615X', 'MJ19'),\n",
       " ('16-00108062', 'TRASIGMA', 'Traffic Signal - Maintenance', 'Transportation', 'Phone', 'Duplicate (closed)', datetime.datetime(2016, 5, 10, 16, 56, 52, tzinfo=psycopg2.tz.FixedOffsetTimezone(offset=0, name=None)), datetime.datetime(2016, 5, 6, 17, 3, 45, tzinfo=psycopg2.tz.FixedOffsetTimezone(offset=0, name=None)), datetime.datetime(2016, 5, 10, 16, 56, 52, tzinfo=psycopg2.tz.FixedOffsetTimezone(offset=0, name=None)), datetime.datetime(2016, 5, 10, 16, 56, 52, tzinfo=psycopg2.tz.FixedOffsetTimezone(offset=0, name=None)), '8401 N CAPITAL OF TEXAS HWY NB, AUSTIN, TX 78759', '8401.0', 'CAPITAL OF TEXAS', 'AUSTIN', 78759, 'TRAVIS', '3105863.35797435', '10113092.534133699', Decimal('30.38498865'), Decimal('-97.76647071'), '(30.38498865, -97.76647071)', 10, '494L', 'MH32'),\n",
       " ('16-00107654', 'STREETL2', 'Street Light Issue- Address', 'Austin Energy Department', 'Phone', 'Closed', datetime.datetime(2016, 5, 10, 6, 58, 1, tzinfo=psycopg2.tz.FixedOffsetTimezone(offset=0, name=None)), datetime.datetime(2016, 5, 6, 10, 28, 16, tzinfo=psycopg2.tz.FixedOffsetTimezone(offset=0, name=None)), datetime.datetime(2016, 5, 10, 6, 58, 1, tzinfo=psycopg2.tz.FixedOffsetTimezone(offset=0, name=None)), datetime.datetime(2016, 5, 10, 6, 58, 1, tzinfo=psycopg2.tz.FixedOffsetTimezone(offset=0, name=None)), '300 WEST AVE, AUSTIN, TX 78703', '300.0', 'WEST', 'AUSTIN', 78703, 'TRAVIS', '3111493.73999999', '10070696.54', Decimal('30.26808964'), Decimal('-97.75173887'), '(30.26808964, -97.75173887)', 9, '584V', 'MH22')]"
      ]
     },
     "execution_count": 20,
     "metadata": {},
     "output_type": "execute_result"
    }
   ],
   "source": [
    "%%sql\n",
    "SELECT *\n",
    "FROM facts\n",
    "LImit 5;"
   ]
  },
  {
   "cell_type": "markdown",
   "metadata": {},
   "source": [
    "Next, we are going to create the dimension table `Date`. "
   ]
  },
  {
   "cell_type": "code",
   "execution_count": 21,
   "metadata": {},
   "outputs": [
    {
     "name": "stdout",
     "output_type": "stream",
     "text": [
      "Done.\n",
      "Done.\n"
     ]
    },
    {
     "data": {
      "text/plain": [
       "[]"
      ]
     },
     "execution_count": 21,
     "metadata": {},
     "output_type": "execute_result"
    }
   ],
   "source": [
    "%%sql\n",
    "DROP TABLE IF EXISTS hour;\n",
    "\n",
    "CREATE TABLE hour (\n",
    "    hour_key SERIAL PRIMARY KEY,\n",
    "    hour CHAR(19),\n",
    "    day CHAR(10),\n",
    "    year INTEGER,\n",
    "    month_of_year_str VARCHAR(12),\n",
    "    month_of_year INTEGER,\n",
    "    day_of_month INTEGER,\n",
    "    day_of_week_str CHAR(9),\n",
    "    day_of_week INTEGER,\n",
    "    is_weekend BOOLEAN,\n",
    "    is_weekday BOOLEAN,\n",
    "    hour_of_day INTEGER,\n",
    "    quarter_of_year INTEGER\n",
    ");"
   ]
  },
  {
   "cell_type": "code",
   "execution_count": 22,
   "metadata": {},
   "outputs": [
    {
     "name": "stdout",
     "output_type": "stream",
     "text": [
      "30318 rows affected.\n"
     ]
    },
    {
     "data": {
      "text/plain": [
       "[]"
      ]
     },
     "execution_count": 22,
     "metadata": {},
     "output_type": "execute_result"
    }
   ],
   "source": [
    "%%sql\n",
    "INSERT INTO hour (hour, day, year, month_of_year_str, month_of_year, day_of_month, \n",
    "                  day_of_week_str, day_of_week, is_weekend, is_weekday, \n",
    "                  hour_of_day, quarter_of_year)\n",
    "SELECT DISTINCT TO_CHAR(Status_Change_Date, 'YYYY-MM-DD HH24:00:00') AS hour,\n",
    "    TO_CHAR(Status_Change_Date, 'YYYY-MM-DD') AS day, \n",
    "    CAST(TO_CHAR(Status_Change_Date, 'YYYY') AS INTEGER) AS year,\n",
    "    TO_CHAR(Status_Change_Date, 'Month') AS month_of_year_str,\n",
    "    CAST(TO_CHAR(Status_Change_Date, 'MM') AS INTEGER) AS month_of_year,\n",
    "    CAST(TO_CHAR(Status_Change_Date, 'DD') AS INTEGER) AS day_of_month,\n",
    "    TO_CHAR(Status_Change_Date, 'Day') AS day_of_week_str,\n",
    "    CAST(TO_CHAR(Status_Change_Date, 'D') AS INTEGER) AS day_of_week,\n",
    "    CASE WHEN CAST(TO_CHAR(Status_Change_Date, 'D') AS INTEGER) IN (1, 7) \n",
    "        THEN TRUE\n",
    "        ELSE FALSE\n",
    "    END AS is_weekend,\n",
    "    CASE WHEN CAST(TO_CHAR(Status_Change_Date, 'D') AS INTEGER) NOT IN (1, 7) \n",
    "        THEN TRUE\n",
    "        ELSE FALSE\n",
    "    END AS is_weekday,\n",
    "    CAST(TO_CHAR(Status_Change_Date, 'HH24') AS INTEGER) AS hour_of_day,\n",
    "    CAST(TO_CHAR(Status_Change_Date, 'Q') AS INTEGER) AS quarter_of_year\n",
    "FROM facts\n",
    "UNION\n",
    "SELECT DISTINCT TO_CHAR(Created_Date, 'YYYY-MM-DD HH24:00:00') AS hour,\n",
    "    TO_CHAR(Created_Date, 'YYYY-MM-DD') AS day, \n",
    "    CAST(TO_CHAR(Created_Date, 'YYYY') AS INTEGER) AS year,\n",
    "    TO_CHAR(Created_Date, 'Month') AS month_of_year_str,\n",
    "    CAST(TO_CHAR(Created_Date, 'MM') AS INTEGER) AS month_of_year,\n",
    "    CAST(TO_CHAR(Created_Date, 'DD') AS INTEGER) AS day_of_month,\n",
    "    TO_CHAR(Created_Date, 'Day') AS day_of_week_str,\n",
    "    CAST(TO_CHAR(Created_Date, 'D') AS INTEGER) AS day_of_week,\n",
    "    CASE WHEN CAST(TO_CHAR(Created_Date, 'D') AS INTEGER) IN (1, 7) \n",
    "        THEN TRUE\n",
    "        ELSE FALSE\n",
    "    END AS is_weekend,\n",
    "    CASE WHEN CAST(TO_CHAR(Created_Date, 'D') AS INTEGER) NOT IN (1, 7) \n",
    "        THEN TRUE\n",
    "        ELSE FALSE\n",
    "    END AS is_weekday,\n",
    "    CAST(TO_CHAR(Created_Date, 'HH24') AS INTEGER) AS hour_of_day,\n",
    "    CAST(TO_CHAR(Created_Date, 'Q') AS INTEGER) AS quarter_of_year\n",
    "FROM facts\n",
    "UNION\n",
    "SELECT DISTINCT TO_CHAR(Last_Update_Date, 'YYYY-MM-DD HH24:00:00') AS hour,\n",
    "    TO_CHAR(Last_Update_Date, 'YYYY-MM-DD') AS day, \n",
    "    CAST(TO_CHAR(Last_Update_Date, 'YYYY') AS INTEGER) AS year,\n",
    "    TO_CHAR(Last_Update_Date, 'Month') AS month_of_year_str,\n",
    "    CAST(TO_CHAR(Last_Update_Date, 'MM') AS INTEGER) AS month_of_year,\n",
    "    CAST(TO_CHAR(Last_Update_Date, 'DD') AS INTEGER) AS day_of_month,\n",
    "    TO_CHAR(Last_Update_Date, 'Day') AS day_of_week_str,\n",
    "    CAST(TO_CHAR(Last_Update_Date, 'D') AS INTEGER) AS day_of_week,\n",
    "    CASE WHEN CAST(TO_CHAR(Last_Update_Date, 'D') AS INTEGER) IN (1, 7) \n",
    "        THEN TRUE\n",
    "        ELSE FALSE\n",
    "    END AS is_weekend,\n",
    "    CASE WHEN CAST(TO_CHAR(Last_Update_Date, 'D') AS INTEGER) NOT IN (1, 7) \n",
    "        THEN TRUE\n",
    "        ELSE FALSE\n",
    "    END AS is_weekday,\n",
    "    CAST(TO_CHAR(Last_Update_Date, 'HH24') AS INTEGER) AS hour_of_day,\n",
    "    CAST(TO_CHAR(Last_Update_Date, 'Q') AS INTEGER) AS quarter_of_year\n",
    "FROM facts\n",
    "UNION\n",
    "SELECT DISTINCT TO_CHAR(Last_Update_Date, 'YYYY-MM-DD HH24:00:00') AS hour,\n",
    "    TO_CHAR(Last_Update_Date, 'YYYY-MM-DD') AS day, \n",
    "    CAST(TO_CHAR(Last_Update_Date, 'YYYY') AS INTEGER) AS year,\n",
    "    TO_CHAR(Last_Update_Date, 'Month') AS month_of_year_str,\n",
    "    CAST(TO_CHAR(Last_Update_Date, 'MM') AS INTEGER) AS month_of_year,\n",
    "    CAST(TO_CHAR(Last_Update_Date, 'DD') AS INTEGER) AS day_of_month,\n",
    "    TO_CHAR(Last_Update_Date, 'Day') AS day_of_week_str,\n",
    "    CAST(TO_CHAR(Last_Update_Date, 'D') AS INTEGER) AS day_of_week,\n",
    "    CASE WHEN CAST(TO_CHAR(Last_Update_Date, 'D') AS INTEGER) IN (1, 7) \n",
    "        THEN TRUE\n",
    "        ELSE FALSE\n",
    "    END AS is_weekend,\n",
    "    CASE WHEN CAST(TO_CHAR(Last_Update_Date, 'D') AS INTEGER) NOT IN (1, 7) \n",
    "        THEN TRUE\n",
    "        ELSE FALSE\n",
    "    END AS is_weekday,\n",
    "    CAST(TO_CHAR(Last_Update_Date, 'HH24') AS INTEGER) AS hour_of_day,\n",
    "    CAST(TO_CHAR(Last_Update_Date, 'Q') AS INTEGER) AS quarter_of_year\n",
    "FROM facts\n",
    "UNION\n",
    "SELECT DISTINCT TO_CHAR(Close_Date, 'YYYY-MM-DD HH24:00:00') AS hour,\n",
    "    TO_CHAR(Close_Date, 'YYYY-MM-DD') AS day, \n",
    "    CAST(TO_CHAR(Close_Date, 'YYYY') AS INTEGER) AS year,\n",
    "    TO_CHAR(Close_Date, 'Month') AS month_of_year_str,\n",
    "    CAST(TO_CHAR(Close_Date, 'MM') AS INTEGER) AS month_of_year,\n",
    "    CAST(TO_CHAR(Close_Date, 'DD') AS INTEGER) AS day_of_month,\n",
    "    TO_CHAR(Close_Date, 'Day') AS day_of_week_str,\n",
    "    CAST(TO_CHAR(Close_Date, 'D') AS INTEGER) AS day_of_week,\n",
    "    CASE WHEN CAST(TO_CHAR(Close_Date, 'D') AS INTEGER) IN (1, 7) \n",
    "        THEN TRUE\n",
    "        ELSE FALSE\n",
    "    END AS is_weekend,\n",
    "    CASE WHEN CAST(TO_CHAR(Close_Date, 'D') AS INTEGER) NOT IN (1, 7) \n",
    "        THEN TRUE\n",
    "        ELSE FALSE\n",
    "    END AS is_weekday,\n",
    "    CAST(TO_CHAR(Close_Date, 'HH24') AS INTEGER) AS hour_of_day,\n",
    "    CAST(TO_CHAR(Close_Date, 'Q') AS INTEGER) AS quarter_of_year\n",
    "FROM facts;\n",
    "\n"
   ]
  },
  {
   "cell_type": "code",
   "execution_count": 23,
   "metadata": {},
   "outputs": [
    {
     "name": "stdout",
     "output_type": "stream",
     "text": [
      "5 rows affected.\n"
     ]
    },
    {
     "data": {
      "text/html": [
       "<table>\n",
       "    <tr>\n",
       "        <th>hour_key</th>\n",
       "        <th>hour</th>\n",
       "        <th>day</th>\n",
       "        <th>year</th>\n",
       "        <th>month_of_year_str</th>\n",
       "        <th>month_of_year</th>\n",
       "        <th>day_of_month</th>\n",
       "        <th>day_of_week_str</th>\n",
       "        <th>day_of_week</th>\n",
       "        <th>is_weekend</th>\n",
       "        <th>is_weekday</th>\n",
       "        <th>hour_of_day</th>\n",
       "        <th>quarter_of_year</th>\n",
       "    </tr>\n",
       "    <tr>\n",
       "        <td>1</td>\n",
       "        <td>2015-10-16 06:00:00</td>\n",
       "        <td>2015-10-16</td>\n",
       "        <td>2015</td>\n",
       "        <td>October  </td>\n",
       "        <td>10</td>\n",
       "        <td>16</td>\n",
       "        <td>Friday   </td>\n",
       "        <td>6</td>\n",
       "        <td>False</td>\n",
       "        <td>True</td>\n",
       "        <td>6</td>\n",
       "        <td>4</td>\n",
       "    </tr>\n",
       "    <tr>\n",
       "        <td>2</td>\n",
       "        <td>2017-09-22 00:00:00</td>\n",
       "        <td>2017-09-22</td>\n",
       "        <td>2017</td>\n",
       "        <td>September</td>\n",
       "        <td>9</td>\n",
       "        <td>22</td>\n",
       "        <td>Friday   </td>\n",
       "        <td>6</td>\n",
       "        <td>False</td>\n",
       "        <td>True</td>\n",
       "        <td>0</td>\n",
       "        <td>3</td>\n",
       "    </tr>\n",
       "    <tr>\n",
       "        <td>3</td>\n",
       "        <td>2014-01-26 16:00:00</td>\n",
       "        <td>2014-01-26</td>\n",
       "        <td>2014</td>\n",
       "        <td>January  </td>\n",
       "        <td>1</td>\n",
       "        <td>26</td>\n",
       "        <td>Sunday   </td>\n",
       "        <td>1</td>\n",
       "        <td>True</td>\n",
       "        <td>False</td>\n",
       "        <td>16</td>\n",
       "        <td>1</td>\n",
       "    </tr>\n",
       "    <tr>\n",
       "        <td>4</td>\n",
       "        <td>2015-09-24 16:00:00</td>\n",
       "        <td>2015-09-24</td>\n",
       "        <td>2015</td>\n",
       "        <td>September</td>\n",
       "        <td>9</td>\n",
       "        <td>24</td>\n",
       "        <td>Thursday </td>\n",
       "        <td>5</td>\n",
       "        <td>False</td>\n",
       "        <td>True</td>\n",
       "        <td>16</td>\n",
       "        <td>3</td>\n",
       "    </tr>\n",
       "    <tr>\n",
       "        <td>5</td>\n",
       "        <td>2017-03-15 08:00:00</td>\n",
       "        <td>2017-03-15</td>\n",
       "        <td>2017</td>\n",
       "        <td>March    </td>\n",
       "        <td>3</td>\n",
       "        <td>15</td>\n",
       "        <td>Wednesday</td>\n",
       "        <td>4</td>\n",
       "        <td>False</td>\n",
       "        <td>True</td>\n",
       "        <td>8</td>\n",
       "        <td>1</td>\n",
       "    </tr>\n",
       "</table>"
      ],
      "text/plain": [
       "[(1, '2015-10-16 06:00:00', '2015-10-16', 2015, 'October  ', 10, 16, 'Friday   ', 6, False, True, 6, 4),\n",
       " (2, '2017-09-22 00:00:00', '2017-09-22', 2017, 'September', 9, 22, 'Friday   ', 6, False, True, 0, 3),\n",
       " (3, '2014-01-26 16:00:00', '2014-01-26', 2014, 'January  ', 1, 26, 'Sunday   ', 1, True, False, 16, 1),\n",
       " (4, '2015-09-24 16:00:00', '2015-09-24', 2015, 'September', 9, 24, 'Thursday ', 5, False, True, 16, 3),\n",
       " (5, '2017-03-15 08:00:00', '2017-03-15', 2017, 'March    ', 3, 15, 'Wednesday', 4, False, True, 8, 1)]"
      ]
     },
     "execution_count": 23,
     "metadata": {},
     "output_type": "execute_result"
    }
   ],
   "source": [
    "%%sql\n",
    "SELECT * from hour limit 5;"
   ]
  },
  {
   "cell_type": "code",
   "execution_count": 24,
   "metadata": {},
   "outputs": [
    {
     "name": "stdout",
     "output_type": "stream",
     "text": [
      "Done.\n"
     ]
    },
    {
     "data": {
      "text/plain": [
       "[]"
      ]
     },
     "execution_count": 24,
     "metadata": {},
     "output_type": "execute_result"
    }
   ],
   "source": [
    "%%sql\n",
    "ALTER TABLE facts\n",
    "ADD COLUMN Status_Change_Date_key INTEGER,\n",
    "ADD CONSTRAINT fk_Status_Change_Date_key\n",
    "    FOREIGN KEY (Status_Change_Date_key)\n",
    "    REFERENCES hour (hour_key),\n",
    "ADD COLUMN Created_Date_key INTEGER,\n",
    "ADD CONSTRAINT fk_Created_Date_key\n",
    "    FOREIGN KEY (Created_Date_key)\n",
    "    REFERENCES hour (hour_key),\n",
    "ADD COLUMN Last_Update_Date_key INTEGER,\n",
    "ADD CONSTRAINT fk_Last_Update_Date_key\n",
    "    FOREIGN KEY (Last_Update_Date_key)\n",
    "    REFERENCES hour (hour_key), \n",
    "ADD COLUMN Close_Date_key INTEGER,\n",
    "ADD CONSTRAINT fk_Close_Date_key\n",
    "    FOREIGN KEY (Close_Date_key)\n",
    "    REFERENCES hour (hour_key);"
   ]
  },
  {
   "cell_type": "code",
   "execution_count": 25,
   "metadata": {},
   "outputs": [
    {
     "name": "stdout",
     "output_type": "stream",
     "text": [
      "10 rows affected.\n"
     ]
    },
    {
     "data": {
      "text/html": [
       "<table>\n",
       "    <tr>\n",
       "        <th>status_change_date</th>\n",
       "        <th>hour_key</th>\n",
       "    </tr>\n",
       "    <tr>\n",
       "        <td>2016-05-06 19:51:27+00:00</td>\n",
       "        <td>18215</td>\n",
       "    </tr>\n",
       "    <tr>\n",
       "        <td>2016-05-06 20:22:56+00:00</td>\n",
       "        <td>24850</td>\n",
       "    </tr>\n",
       "    <tr>\n",
       "        <td>2016-12-15 09:05:43+00:00</td>\n",
       "        <td>29125</td>\n",
       "    </tr>\n",
       "    <tr>\n",
       "        <td>2016-05-10 16:56:52+00:00</td>\n",
       "        <td>28537</td>\n",
       "    </tr>\n",
       "    <tr>\n",
       "        <td>2016-05-10 06:58:01+00:00</td>\n",
       "        <td>2179</td>\n",
       "    </tr>\n",
       "    <tr>\n",
       "        <td>2016-05-11 16:41:32+00:00</td>\n",
       "        <td>10402</td>\n",
       "    </tr>\n",
       "    <tr>\n",
       "        <td>2016-05-11 16:42:25+00:00</td>\n",
       "        <td>10402</td>\n",
       "    </tr>\n",
       "    <tr>\n",
       "        <td>2016-05-11 16:43:10+00:00</td>\n",
       "        <td>10402</td>\n",
       "    </tr>\n",
       "    <tr>\n",
       "        <td>2016-05-11 16:43:54+00:00</td>\n",
       "        <td>10402</td>\n",
       "    </tr>\n",
       "    <tr>\n",
       "        <td>2016-10-18 09:47:40+00:00</td>\n",
       "        <td>26582</td>\n",
       "    </tr>\n",
       "</table>"
      ],
      "text/plain": [
       "[(datetime.datetime(2016, 5, 6, 19, 51, 27, tzinfo=psycopg2.tz.FixedOffsetTimezone(offset=0, name=None)), 18215),\n",
       " (datetime.datetime(2016, 5, 6, 20, 22, 56, tzinfo=psycopg2.tz.FixedOffsetTimezone(offset=0, name=None)), 24850),\n",
       " (datetime.datetime(2016, 12, 15, 9, 5, 43, tzinfo=psycopg2.tz.FixedOffsetTimezone(offset=0, name=None)), 29125),\n",
       " (datetime.datetime(2016, 5, 10, 16, 56, 52, tzinfo=psycopg2.tz.FixedOffsetTimezone(offset=0, name=None)), 28537),\n",
       " (datetime.datetime(2016, 5, 10, 6, 58, 1, tzinfo=psycopg2.tz.FixedOffsetTimezone(offset=0, name=None)), 2179),\n",
       " (datetime.datetime(2016, 5, 11, 16, 41, 32, tzinfo=psycopg2.tz.FixedOffsetTimezone(offset=0, name=None)), 10402),\n",
       " (datetime.datetime(2016, 5, 11, 16, 42, 25, tzinfo=psycopg2.tz.FixedOffsetTimezone(offset=0, name=None)), 10402),\n",
       " (datetime.datetime(2016, 5, 11, 16, 43, 10, tzinfo=psycopg2.tz.FixedOffsetTimezone(offset=0, name=None)), 10402),\n",
       " (datetime.datetime(2016, 5, 11, 16, 43, 54, tzinfo=psycopg2.tz.FixedOffsetTimezone(offset=0, name=None)), 10402),\n",
       " (datetime.datetime(2016, 10, 18, 9, 47, 40, tzinfo=psycopg2.tz.FixedOffsetTimezone(offset=0, name=None)), 26582)]"
      ]
     },
     "execution_count": 25,
     "metadata": {},
     "output_type": "execute_result"
    }
   ],
   "source": [
    "%%sql\n",
    "Select status_change_date,hour.hour_key\n",
    "FROM facts,hour\n",
    "WHERE TO_CHAR(facts.status_change_date, 'YYYY-MM-DD HH24:00:00') = hour.hour\n",
    "limit 10;"
   ]
  },
  {
   "cell_type": "code",
   "execution_count": 26,
   "metadata": {},
   "outputs": [
    {
     "name": "stdout",
     "output_type": "stream",
     "text": [
      "344794 rows affected.\n"
     ]
    },
    {
     "data": {
      "text/plain": [
       "[]"
      ]
     },
     "execution_count": 26,
     "metadata": {},
     "output_type": "execute_result"
    }
   ],
   "source": [
    "%%sql\n",
    "UPDATE facts\n",
    "SET Status_Change_Date_key = hour.hour_key\n",
    "FROM hour\n",
    "WHERE TO_CHAR(facts.status_change_date, 'YYYY-MM-DD HH24:00:00') = hour.hour;\n"
   ]
  },
  {
   "cell_type": "code",
   "execution_count": 27,
   "metadata": {},
   "outputs": [
    {
     "name": "stdout",
     "output_type": "stream",
     "text": [
      "344794 rows affected.\n"
     ]
    },
    {
     "data": {
      "text/plain": [
       "[]"
      ]
     },
     "execution_count": 27,
     "metadata": {},
     "output_type": "execute_result"
    }
   ],
   "source": [
    "%%sql\n",
    "UPDATE facts\n",
    "SET Created_Date_key = hour.hour_key\n",
    "FROM hour\n",
    "WHERE hour.hour  = TO_CHAR(facts.Created_Date, 'YYYY-MM-DD HH24:00:00')"
   ]
  },
  {
   "cell_type": "code",
   "execution_count": 28,
   "metadata": {},
   "outputs": [
    {
     "name": "stdout",
     "output_type": "stream",
     "text": [
      "344794 rows affected.\n"
     ]
    },
    {
     "data": {
      "text/plain": [
       "[]"
      ]
     },
     "execution_count": 28,
     "metadata": {},
     "output_type": "execute_result"
    }
   ],
   "source": [
    "%%sql\n",
    "UPDATE facts\n",
    "SET Last_Update_Date_key = hour.hour_key\n",
    "FROM hour\n",
    "WHERE hour.hour  = TO_CHAR(facts.Last_Update_Date, 'YYYY-MM-DD HH24:00:00')"
   ]
  },
  {
   "cell_type": "code",
   "execution_count": 29,
   "metadata": {},
   "outputs": [
    {
     "name": "stdout",
     "output_type": "stream",
     "text": [
      "344794 rows affected.\n"
     ]
    },
    {
     "data": {
      "text/plain": [
       "[]"
      ]
     },
     "execution_count": 29,
     "metadata": {},
     "output_type": "execute_result"
    }
   ],
   "source": [
    "%%sql\n",
    "UPDATE facts\n",
    "SET Close_Date_key = hour.hour_key\n",
    "FROM hour\n",
    "WHERE hour.hour  = TO_CHAR(facts.Close_Date, 'YYYY-MM-DD HH24:00:00')"
   ]
  },
  {
   "cell_type": "code",
   "execution_count": 30,
   "metadata": {},
   "outputs": [
    {
     "name": "stdout",
     "output_type": "stream",
     "text": [
      "5 rows affected.\n"
     ]
    },
    {
     "data": {
      "text/html": [
       "<table>\n",
       "    <tr>\n",
       "        <th>sr_number</th>\n",
       "        <th>sr_type_code</th>\n",
       "        <th>sr_description</th>\n",
       "        <th>owning_department</th>\n",
       "        <th>method_received</th>\n",
       "        <th>sr_status</th>\n",
       "        <th>status_change_date</th>\n",
       "        <th>created_date</th>\n",
       "        <th>last_update_date</th>\n",
       "        <th>close_date</th>\n",
       "        <th>sr_location</th>\n",
       "        <th>street_number</th>\n",
       "        <th>street_name</th>\n",
       "        <th>city</th>\n",
       "        <th>zip_code</th>\n",
       "        <th>county</th>\n",
       "        <th>state_plane_x_coordinate</th>\n",
       "        <th>state_plane_y_coordinate</th>\n",
       "        <th>latitude_coordinate</th>\n",
       "        <th>longitude_coordinate</th>\n",
       "        <th>latitude_longitude</th>\n",
       "        <th>council_district</th>\n",
       "        <th>map_page</th>\n",
       "        <th>map_tile</th>\n",
       "        <th>status_change_date_key</th>\n",
       "        <th>created_date_key</th>\n",
       "        <th>last_update_date_key</th>\n",
       "        <th>close_date_key</th>\n",
       "    </tr>\n",
       "    <tr>\n",
       "        <td>16-00124526</td>\n",
       "        <td>SIGNNEWT</td>\n",
       "        <td>Sign - New</td>\n",
       "        <td>Transportation</td>\n",
       "        <td>Phone</td>\n",
       "        <td>Closed</td>\n",
       "        <td>2016-08-22 08:57:31+00:00</td>\n",
       "        <td>2016-05-23 15:57:51+00:00</td>\n",
       "        <td>2016-08-22 08:57:32+00:00</td>\n",
       "        <td>2016-08-22 08:57:31+00:00</td>\n",
       "        <td>2501 ANKEN DR, AUSTIN, TX 78741</td>\n",
       "        <td>2501.0</td>\n",
       "        <td>ANKEN</td>\n",
       "        <td>AUSTIN</td>\n",
       "        <td>78741</td>\n",
       "        <td>TRAVIS</td>\n",
       "        <td>3119406.5</td>\n",
       "        <td>10056791.0</td>\n",
       "        <td>30.22935833</td>\n",
       "        <td>-97.72771244</td>\n",
       "        <td>(30.22935833, -97.72771244)</td>\n",
       "        <td>3</td>\n",
       "        <td>615Y</td>\n",
       "        <td>MK19</td>\n",
       "        <td>3415</td>\n",
       "        <td>3286</td>\n",
       "        <td>3415</td>\n",
       "        <td>3415</td>\n",
       "    </tr>\n",
       "    <tr>\n",
       "        <td>14-00043722</td>\n",
       "        <td>SBPAVEFA</td>\n",
       "        <td>Pavement Failure</td>\n",
       "        <td>Public Works</td>\n",
       "        <td>Phone</td>\n",
       "        <td>Closed</td>\n",
       "        <td>2014-03-14 14:06:14+00:00</td>\n",
       "        <td>2014-03-13 19:51:49+00:00</td>\n",
       "        <td>2014-03-14 14:06:14+00:00</td>\n",
       "        <td>2014-03-14 14:06:14+00:00</td>\n",
       "        <td>7800 BRODIE LN, AUSTIN, TX</td>\n",
       "        <td>7800.0</td>\n",
       "        <td>BRODIE</td>\n",
       "        <td>AUSTIN</td>\n",
       "        <td>78749</td>\n",
       "        <td>TRAVIS</td>\n",
       "        <td>3085236.75</td>\n",
       "        <td>10047209.0</td>\n",
       "        <td>30.20517329</td>\n",
       "        <td>-97.83656101</td>\n",
       "        <td>(30.20517329, -97.83656101)</td>\n",
       "        <td>8</td>\n",
       "        <td>642R</td>\n",
       "        <td>MD17</td>\n",
       "        <td>8491</td>\n",
       "        <td>29646</td>\n",
       "        <td>8491</td>\n",
       "        <td>8491</td>\n",
       "    </tr>\n",
       "    <tr>\n",
       "        <td>14-00132509</td>\n",
       "        <td>SBDEBROW</td>\n",
       "        <td>Debris in Street</td>\n",
       "        <td>Public Works</td>\n",
       "        <td>Phone</td>\n",
       "        <td>Closed</td>\n",
       "        <td>2014-07-02 09:31:38+00:00</td>\n",
       "        <td>2014-07-02 09:16:28+00:00</td>\n",
       "        <td>2014-07-02 09:31:39+00:00</td>\n",
       "        <td>2014-07-02 09:31:38+00:00</td>\n",
       "        <td>1750 W 5TH ST, AUSTIN, TX</td>\n",
       "        <td>1750.0</td>\n",
       "        <td>5TH</td>\n",
       "        <td>AUSTIN</td>\n",
       "        <td>78703</td>\n",
       "        <td>TRAVIS</td>\n",
       "        <td>3107115.37</td>\n",
       "        <td>10073262.92</td>\n",
       "        <td>30.27542286</td>\n",
       "        <td>-97.76541674</td>\n",
       "        <td>(30.27542286, -97.76541674)</td>\n",
       "        <td>9</td>\n",
       "        <td>584Q</td>\n",
       "        <td>MH23</td>\n",
       "        <td>19916</td>\n",
       "        <td>19916</td>\n",
       "        <td>19916</td>\n",
       "        <td>19916</td>\n",
       "    </tr>\n",
       "    <tr>\n",
       "        <td>14-00250083</td>\n",
       "        <td>ACLONAG</td>\n",
       "        <td>Loose Dog</td>\n",
       "        <td>Animal Services Office</td>\n",
       "        <td>Phone</td>\n",
       "        <td>Closed</td>\n",
       "        <td>2014-12-08 15:08:00+00:00</td>\n",
       "        <td>2014-11-19 17:16:00+00:00</td>\n",
       "        <td>2014-12-08 14:10:00+00:00</td>\n",
       "        <td>2014-12-08 15:08:00+00:00</td>\n",
       "        <td>1101 ASH CV, AUSTIN, TX</td>\n",
       "        <td>1101.0</td>\n",
       "        <td>ASH</td>\n",
       "        <td>AUSTIN</td>\n",
       "        <td>78753</td>\n",
       "        <td>TRAVIS</td>\n",
       "        <td>3136512.08</td>\n",
       "        <td>10110023.51</td>\n",
       "        <td>30.37457128</td>\n",
       "        <td>-97.66952909</td>\n",
       "        <td>(30.37457128, -97.66952909)</td>\n",
       "        <td>1</td>\n",
       "        <td>496V</td>\n",
       "        <td>MM31</td>\n",
       "        <td>9400</td>\n",
       "        <td>21091</td>\n",
       "        <td>21529</td>\n",
       "        <td>9400</td>\n",
       "    </tr>\n",
       "    <tr>\n",
       "        <td>15-00044206</td>\n",
       "        <td>SBPAVEFA</td>\n",
       "        <td>Pavement Failure</td>\n",
       "        <td>Public Works</td>\n",
       "        <td>Phone</td>\n",
       "        <td>Closed</td>\n",
       "        <td>2015-03-09 15:21:54+00:00</td>\n",
       "        <td>2015-03-07 13:15:32+00:00</td>\n",
       "        <td>2015-03-09 15:21:54+00:00</td>\n",
       "        <td>2015-03-09 15:21:54+00:00</td>\n",
       "        <td>3007 RAY WOOD DR, AUSTIN, TX</td>\n",
       "        <td>3007.0</td>\n",
       "        <td>RAY WOOD</td>\n",
       "        <td>AUSTIN</td>\n",
       "        <td>78704</td>\n",
       "        <td>TRAVIS</td>\n",
       "        <td>3105933.75</td>\n",
       "        <td>10059411.0</td>\n",
       "        <td>30.23742084</td>\n",
       "        <td>-97.77017001</td>\n",
       "        <td>(30.23742084, -97.77017001)</td>\n",
       "        <td>3</td>\n",
       "        <td>614U</td>\n",
       "        <td>MH19</td>\n",
       "        <td>16093</td>\n",
       "        <td>13511</td>\n",
       "        <td>16093</td>\n",
       "        <td>16093</td>\n",
       "    </tr>\n",
       "</table>"
      ],
      "text/plain": [
       "[('16-00124526', 'SIGNNEWT', 'Sign - New', 'Transportation', 'Phone', 'Closed', datetime.datetime(2016, 8, 22, 8, 57, 31, tzinfo=psycopg2.tz.FixedOffsetTimezone(offset=0, name=None)), datetime.datetime(2016, 5, 23, 15, 57, 51, tzinfo=psycopg2.tz.FixedOffsetTimezone(offset=0, name=None)), datetime.datetime(2016, 8, 22, 8, 57, 32, tzinfo=psycopg2.tz.FixedOffsetTimezone(offset=0, name=None)), datetime.datetime(2016, 8, 22, 8, 57, 31, tzinfo=psycopg2.tz.FixedOffsetTimezone(offset=0, name=None)), '2501 ANKEN DR, AUSTIN, TX 78741', '2501.0', 'ANKEN', 'AUSTIN', 78741, 'TRAVIS', '3119406.5', '10056791.0', Decimal('30.22935833'), Decimal('-97.72771244'), '(30.22935833, -97.72771244)', 3, '615Y', 'MK19', 3415, 3286, 3415, 3415),\n",
       " ('14-00043722', 'SBPAVEFA', 'Pavement Failure', 'Public Works', 'Phone', 'Closed', datetime.datetime(2014, 3, 14, 14, 6, 14, tzinfo=psycopg2.tz.FixedOffsetTimezone(offset=0, name=None)), datetime.datetime(2014, 3, 13, 19, 51, 49, tzinfo=psycopg2.tz.FixedOffsetTimezone(offset=0, name=None)), datetime.datetime(2014, 3, 14, 14, 6, 14, tzinfo=psycopg2.tz.FixedOffsetTimezone(offset=0, name=None)), datetime.datetime(2014, 3, 14, 14, 6, 14, tzinfo=psycopg2.tz.FixedOffsetTimezone(offset=0, name=None)), '7800 BRODIE LN, AUSTIN, TX', '7800.0', 'BRODIE', 'AUSTIN', 78749, 'TRAVIS', '3085236.75', '10047209.0', Decimal('30.20517329'), Decimal('-97.83656101'), '(30.20517329, -97.83656101)', 8, '642R', 'MD17', 8491, 29646, 8491, 8491),\n",
       " ('14-00132509', 'SBDEBROW', 'Debris in Street', 'Public Works', 'Phone', 'Closed', datetime.datetime(2014, 7, 2, 9, 31, 38, tzinfo=psycopg2.tz.FixedOffsetTimezone(offset=0, name=None)), datetime.datetime(2014, 7, 2, 9, 16, 28, tzinfo=psycopg2.tz.FixedOffsetTimezone(offset=0, name=None)), datetime.datetime(2014, 7, 2, 9, 31, 39, tzinfo=psycopg2.tz.FixedOffsetTimezone(offset=0, name=None)), datetime.datetime(2014, 7, 2, 9, 31, 38, tzinfo=psycopg2.tz.FixedOffsetTimezone(offset=0, name=None)), '1750 W 5TH ST, AUSTIN, TX', '1750.0', '5TH', 'AUSTIN', 78703, 'TRAVIS', '3107115.37', '10073262.92', Decimal('30.27542286'), Decimal('-97.76541674'), '(30.27542286, -97.76541674)', 9, '584Q', 'MH23', 19916, 19916, 19916, 19916),\n",
       " ('14-00250083', 'ACLONAG', 'Loose Dog', 'Animal Services Office', 'Phone', 'Closed', datetime.datetime(2014, 12, 8, 15, 8, tzinfo=psycopg2.tz.FixedOffsetTimezone(offset=0, name=None)), datetime.datetime(2014, 11, 19, 17, 16, tzinfo=psycopg2.tz.FixedOffsetTimezone(offset=0, name=None)), datetime.datetime(2014, 12, 8, 14, 10, tzinfo=psycopg2.tz.FixedOffsetTimezone(offset=0, name=None)), datetime.datetime(2014, 12, 8, 15, 8, tzinfo=psycopg2.tz.FixedOffsetTimezone(offset=0, name=None)), '1101 ASH CV, AUSTIN, TX', '1101.0', 'ASH', 'AUSTIN', 78753, 'TRAVIS', '3136512.08', '10110023.51', Decimal('30.37457128'), Decimal('-97.66952909'), '(30.37457128, -97.66952909)', 1, '496V', 'MM31', 9400, 21091, 21529, 9400),\n",
       " ('15-00044206', 'SBPAVEFA', 'Pavement Failure', 'Public Works', 'Phone', 'Closed', datetime.datetime(2015, 3, 9, 15, 21, 54, tzinfo=psycopg2.tz.FixedOffsetTimezone(offset=0, name=None)), datetime.datetime(2015, 3, 7, 13, 15, 32, tzinfo=psycopg2.tz.FixedOffsetTimezone(offset=0, name=None)), datetime.datetime(2015, 3, 9, 15, 21, 54, tzinfo=psycopg2.tz.FixedOffsetTimezone(offset=0, name=None)), datetime.datetime(2015, 3, 9, 15, 21, 54, tzinfo=psycopg2.tz.FixedOffsetTimezone(offset=0, name=None)), '3007 RAY WOOD DR, AUSTIN, TX', '3007.0', 'RAY WOOD', 'AUSTIN', 78704, 'TRAVIS', '3105933.75', '10059411.0', Decimal('30.23742084'), Decimal('-97.77017001'), '(30.23742084, -97.77017001)', 3, '614U', 'MH19', 16093, 13511, 16093, 16093)]"
      ]
     },
     "execution_count": 30,
     "metadata": {},
     "output_type": "execute_result"
    }
   ],
   "source": [
    "%%sql\n",
    "SELECT * from facts limit 5;"
   ]
  },
  {
   "cell_type": "markdown",
   "metadata": {
    "collapsed": true
   },
   "source": [
    "We can now remove some columns in `facts` that are not facts nor foreign keys of dimension tables."
   ]
  },
  {
   "cell_type": "code",
   "execution_count": 31,
   "metadata": {},
   "outputs": [
    {
     "name": "stdout",
     "output_type": "stream",
     "text": [
      "Done.\n"
     ]
    },
    {
     "data": {
      "text/plain": [
       "[]"
      ]
     },
     "execution_count": 31,
     "metadata": {},
     "output_type": "execute_result"
    }
   ],
   "source": [
    "%%sql\n",
    "ALTER TABLE facts\n",
    "DROP COLUMN status_change_date,\n",
    "DROP COLUMN created_date,\n",
    "DROP COLUMN close_date,\n",
    "DROP COLUMN last_update_date;"
   ]
  },
  {
   "cell_type": "markdown",
   "metadata": {},
   "source": [
    "Then create 'method' table."
   ]
  },
  {
   "cell_type": "code",
   "execution_count": 32,
   "metadata": {},
   "outputs": [
    {
     "name": "stdout",
     "output_type": "stream",
     "text": [
      "Done.\n",
      "Done.\n"
     ]
    },
    {
     "data": {
      "text/plain": [
       "[]"
      ]
     },
     "execution_count": 32,
     "metadata": {},
     "output_type": "execute_result"
    }
   ],
   "source": [
    "%%sql\n",
    "DROP TABLE IF EXISTS method;\n",
    "\n",
    "CREATE TABLE method (\n",
    "    Method_key SERIAL PRIMARY KEY,\n",
    "    Method VARCHAR(64)\n",
    ");"
   ]
  },
  {
   "cell_type": "code",
   "execution_count": 33,
   "metadata": {},
   "outputs": [
    {
     "name": "stdout",
     "output_type": "stream",
     "text": [
      "17 rows affected.\n"
     ]
    },
    {
     "data": {
      "text/html": [
       "<table>\n",
       "    <tr>\n",
       "        <th>method_received</th>\n",
       "        <th>count</th>\n",
       "    </tr>\n",
       "    <tr>\n",
       "        <td>Mobile Devi</td>\n",
       "        <td>1</td>\n",
       "    </tr>\n",
       "    <tr>\n",
       "        <td>Mass Entry</td>\n",
       "        <td>6436</td>\n",
       "    </tr>\n",
       "    <tr>\n",
       "        <td>CSR - Follow On SR</td>\n",
       "        <td>33</td>\n",
       "    </tr>\n",
       "    <tr>\n",
       "        <td>Web</td>\n",
       "        <td>20585</td>\n",
       "    </tr>\n",
       "    <tr>\n",
       "        <td>Social Media</td>\n",
       "        <td>1</td>\n",
       "    </tr>\n",
       "    <tr>\n",
       "        <td>Open311</td>\n",
       "        <td>185</td>\n",
       "    </tr>\n",
       "    <tr>\n",
       "        <td>CSR - Follo</td>\n",
       "        <td>1</td>\n",
       "    </tr>\n",
       "    <tr>\n",
       "        <td>E-Mail</td>\n",
       "        <td>156</td>\n",
       "    </tr>\n",
       "    <tr>\n",
       "        <td>Interface</td>\n",
       "        <td>4</td>\n",
       "    </tr>\n",
       "    <tr>\n",
       "        <td>Field Reque</td>\n",
       "        <td>31</td>\n",
       "    </tr>\n",
       "    <tr>\n",
       "        <td>Spot311 Interface</td>\n",
       "        <td>28955</td>\n",
       "    </tr>\n",
       "    <tr>\n",
       "        <td>Other</td>\n",
       "        <td>9</td>\n",
       "    </tr>\n",
       "    <tr>\n",
       "        <td>Walk In</td>\n",
       "        <td>2</td>\n",
       "    </tr>\n",
       "    <tr>\n",
       "        <td>Mail</td>\n",
       "        <td>3</td>\n",
       "    </tr>\n",
       "    <tr>\n",
       "        <td>Phone</td>\n",
       "        <td>286356</td>\n",
       "    </tr>\n",
       "    <tr>\n",
       "        <td>Radio</td>\n",
       "        <td>1</td>\n",
       "    </tr>\n",
       "    <tr>\n",
       "        <td>Field Request</td>\n",
       "        <td>2035</td>\n",
       "    </tr>\n",
       "</table>"
      ],
      "text/plain": [
       "[('Mobile Devi', 1),\n",
       " ('Mass Entry', 6436),\n",
       " ('CSR - Follow On SR', 33),\n",
       " ('Web', 20585),\n",
       " ('Social Media', 1),\n",
       " ('Open311', 185),\n",
       " ('CSR - Follo', 1),\n",
       " ('E-Mail', 156),\n",
       " ('Interface', 4),\n",
       " ('Field Reque', 31),\n",
       " ('Spot311 Interface', 28955),\n",
       " ('Other', 9),\n",
       " ('Walk In', 2),\n",
       " ('Mail', 3),\n",
       " ('Phone', 286356),\n",
       " ('Radio', 1),\n",
       " ('Field Request', 2035)]"
      ]
     },
     "execution_count": 33,
     "metadata": {},
     "output_type": "execute_result"
    }
   ],
   "source": [
    "%%sql\n",
    "SELECT Method_Received,count(Method_Received)\n",
    "FROM facts \n",
    "GROUP BY 1;"
   ]
  },
  {
   "cell_type": "code",
   "execution_count": 34,
   "metadata": {},
   "outputs": [
    {
     "name": "stdout",
     "output_type": "stream",
     "text": [
      "17 rows affected.\n"
     ]
    },
    {
     "data": {
      "text/plain": [
       "[]"
      ]
     },
     "execution_count": 34,
     "metadata": {},
     "output_type": "execute_result"
    }
   ],
   "source": [
    "%%sql\n",
    "INSERT INTO method (Method)\n",
    "SELECT DISTINCT Method_Received as method\n",
    "FROM facts;"
   ]
  },
  {
   "cell_type": "code",
   "execution_count": 35,
   "metadata": {},
   "outputs": [
    {
     "name": "stdout",
     "output_type": "stream",
     "text": [
      "Done.\n"
     ]
    },
    {
     "data": {
      "text/plain": [
       "[]"
      ]
     },
     "execution_count": 35,
     "metadata": {},
     "output_type": "execute_result"
    }
   ],
   "source": [
    "%%sql\n",
    "ALTER TABLE facts\n",
    "ADD COLUMN Method_key INTEGER,\n",
    "ADD CONSTRAINT fk_Method_key\n",
    "    FOREIGN KEY (Method_key)\n",
    "    REFERENCES method (Method_key);"
   ]
  },
  {
   "cell_type": "code",
   "execution_count": 36,
   "metadata": {},
   "outputs": [
    {
     "name": "stdout",
     "output_type": "stream",
     "text": [
      "344794 rows affected.\n"
     ]
    },
    {
     "data": {
      "text/plain": [
       "[]"
      ]
     },
     "execution_count": 36,
     "metadata": {},
     "output_type": "execute_result"
    }
   ],
   "source": [
    "%%sql\n",
    "UPDATE facts\n",
    "SET Method_key = method.method_key\n",
    "FROM method\n",
    "WHERE facts.Method_Received = method.Method;"
   ]
  },
  {
   "cell_type": "code",
   "execution_count": 37,
   "metadata": {},
   "outputs": [
    {
     "name": "stdout",
     "output_type": "stream",
     "text": [
      "Done.\n"
     ]
    },
    {
     "data": {
      "text/plain": [
       "[]"
      ]
     },
     "execution_count": 37,
     "metadata": {},
     "output_type": "execute_result"
    }
   ],
   "source": [
    "%%sql\n",
    "ALTER TABLE facts\n",
    "DROP COLUMN Method_Received;"
   ]
  },
  {
   "cell_type": "code",
   "execution_count": 38,
   "metadata": {},
   "outputs": [
    {
     "name": "stdout",
     "output_type": "stream",
     "text": [
      "Done.\n",
      "194092 rows affected.\n"
     ]
    },
    {
     "data": {
      "text/plain": [
       "[]"
      ]
     },
     "execution_count": 38,
     "metadata": {},
     "output_type": "execute_result"
    }
   ],
   "source": [
    "%%sql\n",
    "DROP TABLE  IF EXISTS Location;\n",
    "\n",
    "SELECT Distinct SR_Location,\n",
    "Street_Number,\n",
    "Street_Name,\n",
    "City,\n",
    "Zip_Code,\n",
    "County,\n",
    "State_Plane_X_Coordinate,\n",
    "State_Plane_Y_Coordinate,\n",
    "Latitude_Coordinate,\n",
    "Longitude_Coordinate,\n",
    "Council_District,\n",
    "Map_Page,\n",
    "Map_Tile\n",
    "INTO Location\n",
    "FROM facts;"
   ]
  },
  {
   "cell_type": "code",
   "execution_count": 39,
   "metadata": {},
   "outputs": [
    {
     "name": "stdout",
     "output_type": "stream",
     "text": [
      "Done.\n"
     ]
    },
    {
     "data": {
      "text/plain": [
       "[]"
      ]
     },
     "execution_count": 39,
     "metadata": {},
     "output_type": "execute_result"
    }
   ],
   "source": [
    "%%sql\n",
    "ALTER TABLE Location\n",
    "ADD COLUMN location_key SERIAL PRIMARY KEY;"
   ]
  },
  {
   "cell_type": "code",
   "execution_count": 40,
   "metadata": {},
   "outputs": [
    {
     "name": "stdout",
     "output_type": "stream",
     "text": [
      "Done.\n"
     ]
    },
    {
     "data": {
      "text/plain": [
       "[]"
      ]
     },
     "execution_count": 40,
     "metadata": {},
     "output_type": "execute_result"
    }
   ],
   "source": [
    "%%sql\n",
    "ALTER TABLE facts\n",
    "ADD COLUMN location_key INTEGER,\n",
    "ADD CONSTRAINT fk_location_key\n",
    "    FOREIGN KEY (location_key)\n",
    "    REFERENCES location (location_key);"
   ]
  },
  {
   "cell_type": "code",
   "execution_count": 41,
   "metadata": {},
   "outputs": [
    {
     "name": "stdout",
     "output_type": "stream",
     "text": [
      "10 rows affected.\n"
     ]
    },
    {
     "data": {
      "text/html": [
       "<table>\n",
       "    <tr>\n",
       "        <th>sr_location</th>\n",
       "        <th>street_number</th>\n",
       "        <th>street_name</th>\n",
       "        <th>city</th>\n",
       "        <th>zip_code</th>\n",
       "        <th>county</th>\n",
       "        <th>state_plane_x_coordinate</th>\n",
       "        <th>state_plane_y_coordinate</th>\n",
       "        <th>latitude_coordinate</th>\n",
       "        <th>longitude_coordinate</th>\n",
       "        <th>council_district</th>\n",
       "        <th>map_page</th>\n",
       "        <th>map_tile</th>\n",
       "        <th>location_key</th>\n",
       "    </tr>\n",
       "    <tr>\n",
       "        <td>0 BASTROP HWY NB, AUSTIN, TX</td>\n",
       "        <td>0.0</td>\n",
       "        <td>BASTROP HWY</td>\n",
       "        <td>AUSTIN</td>\n",
       "        <td>78725</td>\n",
       "        <td>TRAVIS</td>\n",
       "        <td>3131078.8046126</td>\n",
       "        <td>10062985.599024301</td>\n",
       "        <td>30.24562909</td>\n",
       "        <td>-97.69029776</td>\n",
       "        <td>3</td>\n",
       "        <td>616K</td>\n",
       "        <td>ML20</td>\n",
       "        <td>1</td>\n",
       "    </tr>\n",
       "    <tr>\n",
       "        <td>0 E US 290 HWY EB, AUSTIN, TX</td>\n",
       "        <td>0.0</td>\n",
       "        <td>290</td>\n",
       "        <td>AUSTIN</td>\n",
       "        <td>78724</td>\n",
       "        <td>TRAVIS</td>\n",
       "        <td>3136294.85582263</td>\n",
       "        <td>10092147.3753045</td>\n",
       "        <td>30.32544739</td>\n",
       "        <td>-97.67157404</td>\n",
       "        <td>1</td>\n",
       "        <td>558A</td>\n",
       "        <td>MQ27</td>\n",
       "        <td>2</td>\n",
       "    </tr>\n",
       "    <tr>\n",
       "        <td>0 E US 290 HWY EB, AUSTIN, TX</td>\n",
       "        <td>0.0</td>\n",
       "        <td>290</td>\n",
       "        <td>AUSTIN</td>\n",
       "        <td>78724</td>\n",
       "        <td>TRAVIS</td>\n",
       "        <td>3136294.856</td>\n",
       "        <td>10092147.38</td>\n",
       "        <td>30.32544739</td>\n",
       "        <td>-97.67157404</td>\n",
       "        <td>1</td>\n",
       "        <td>558A</td>\n",
       "        <td>MQ27</td>\n",
       "        <td>3</td>\n",
       "    </tr>\n",
       "    <tr>\n",
       "        <td>0 N SH 130 NB, AUSTIN, TX</td>\n",
       "        <td>0.0</td>\n",
       "        <td>130</td>\n",
       "        <td>AUSTIN</td>\n",
       "        <td>78653</td>\n",
       "        <td>TRAVIS</td>\n",
       "        <td>3168463.31273532</td>\n",
       "        <td>10087069.406244801</td>\n",
       "        <td>30.30933259</td>\n",
       "        <td>-97.57004581</td>\n",
       "        <td>1</td>\n",
       "        <td>559P</td>\n",
       "        <td>MS26</td>\n",
       "        <td>4</td>\n",
       "    </tr>\n",
       "    <tr>\n",
       "        <td>0 RESEARCH BLVD SVRD NB, AUSTIN, TX 78758</td>\n",
       "        <td>0.0</td>\n",
       "        <td>RESEARCH BLVD SVRD</td>\n",
       "        <td>AUSTIN</td>\n",
       "        <td>78758</td>\n",
       "        <td>TRAVIS</td>\n",
       "        <td>3118828.582</td>\n",
       "        <td>10109080.93</td>\n",
       "        <td>30.37313223</td>\n",
       "        <td>-97.72566097</td>\n",
       "        <td>7</td>\n",
       "        <td>495Y</td>\n",
       "        <td>MK31</td>\n",
       "        <td>5</td>\n",
       "    </tr>\n",
       "    <tr>\n",
       "        <td>0 SERVICE RD N/A N/A N/A, AUSTIN, TX 78758</td>\n",
       "        <td>0.0</td>\n",
       "        <td>SERVICE</td>\n",
       "        <td>AUSTIN</td>\n",
       "        <td>78719</td>\n",
       "        <td>TRAVIS</td>\n",
       "        <td>3136878.89302637</td>\n",
       "        <td>10048964.4706612</td>\n",
       "        <td>30.20670769</td>\n",
       "        <td>-97.67299638</td>\n",
       "        <td>2</td>\n",
       "        <td>646R</td>\n",
       "        <td>MM17</td>\n",
       "        <td>6</td>\n",
       "    </tr>\n",
       "    <tr>\n",
       "        <td>10000 ANAHUAC TRL, AUSTIN, TX</td>\n",
       "        <td>10000.0</td>\n",
       "        <td>ANAHUAC</td>\n",
       "        <td>AUSTIN</td>\n",
       "        <td>78747</td>\n",
       "        <td>TRAVIS</td>\n",
       "        <td>3101033.93605819</td>\n",
       "        <td>10029672.133327</td>\n",
       "        <td>30.15598249</td>\n",
       "        <td>-97.78783672</td>\n",
       "        <td>5</td>\n",
       "        <td>704A</td>\n",
       "        <td>MG12</td>\n",
       "        <td>7</td>\n",
       "    </tr>\n",
       "    <tr>\n",
       "        <td>10000 AUSTRAL CV, AUSTIN, TX 78739</td>\n",
       "        <td>10000.0</td>\n",
       "        <td>AUSTRAL</td>\n",
       "        <td>AUSTIN</td>\n",
       "        <td>78739</td>\n",
       "        <td>TRAVIS</td>\n",
       "        <td>3072903.00042677</td>\n",
       "        <td>10043209.00136</td>\n",
       "        <td>30.19493282</td>\n",
       "        <td>-97.87587493</td>\n",
       "        <td>8</td>\n",
       "        <td>641Z</td>\n",
       "        <td>MB16</td>\n",
       "        <td>8</td>\n",
       "    </tr>\n",
       "    <tr>\n",
       "        <td>10000 BARRINGTON CV, AUSTIN, TX</td>\n",
       "        <td>10000.0</td>\n",
       "        <td>BARRINGTON</td>\n",
       "        <td>AUSTIN</td>\n",
       "        <td>78753</td>\n",
       "        <td>TRAVIS</td>\n",
       "        <td>3134923.19425932</td>\n",
       "        <td>10104507.5227323</td>\n",
       "        <td>30.35951334</td>\n",
       "        <td>-97.67498423</td>\n",
       "        <td>4</td>\n",
       "        <td>526H</td>\n",
       "        <td>MM30</td>\n",
       "        <td>9</td>\n",
       "    </tr>\n",
       "    <tr>\n",
       "        <td>10000 BILBROOK PL, AUSTIN, TX</td>\n",
       "        <td>10000.0</td>\n",
       "        <td>BILBROOK</td>\n",
       "        <td>AUSTIN</td>\n",
       "        <td>78748</td>\n",
       "        <td>TRAVIS</td>\n",
       "        <td>3091504.72891257</td>\n",
       "        <td>10033777.8454873</td>\n",
       "        <td>30.16786448</td>\n",
       "        <td>-97.81768559</td>\n",
       "        <td>5</td>\n",
       "        <td>673T</td>\n",
       "        <td>ME13</td>\n",
       "        <td>10</td>\n",
       "    </tr>\n",
       "</table>"
      ],
      "text/plain": [
       "[('0 BASTROP HWY NB, AUSTIN, TX', '0.0', 'BASTROP HWY', 'AUSTIN', 78725, 'TRAVIS', '3131078.8046126', '10062985.599024301', Decimal('30.24562909'), Decimal('-97.69029776'), 3, '616K', 'ML20', 1),\n",
       " ('0 E US 290 HWY EB, AUSTIN, TX', '0.0', '290', 'AUSTIN', 78724, 'TRAVIS', '3136294.85582263', '10092147.3753045', Decimal('30.32544739'), Decimal('-97.67157404'), 1, '558A', 'MQ27', 2),\n",
       " ('0 E US 290 HWY EB, AUSTIN, TX', '0.0', '290', 'AUSTIN', 78724, 'TRAVIS', '3136294.856', '10092147.38', Decimal('30.32544739'), Decimal('-97.67157404'), 1, '558A', 'MQ27', 3),\n",
       " ('0 N SH 130 NB, AUSTIN, TX', '0.0', '130', 'AUSTIN', 78653, 'TRAVIS', '3168463.31273532', '10087069.406244801', Decimal('30.30933259'), Decimal('-97.57004581'), 1, '559P', 'MS26', 4),\n",
       " ('0 RESEARCH BLVD SVRD NB, AUSTIN, TX 78758', '0.0', 'RESEARCH BLVD SVRD', 'AUSTIN', 78758, 'TRAVIS', '3118828.582', '10109080.93', Decimal('30.37313223'), Decimal('-97.72566097'), 7, '495Y', 'MK31', 5),\n",
       " ('0 SERVICE RD N/A N/A N/A, AUSTIN, TX 78758', '0.0', 'SERVICE', 'AUSTIN', 78719, 'TRAVIS', '3136878.89302637', '10048964.4706612', Decimal('30.20670769'), Decimal('-97.67299638'), 2, '646R', 'MM17', 6),\n",
       " ('10000 ANAHUAC TRL, AUSTIN, TX', '10000.0', 'ANAHUAC', 'AUSTIN', 78747, 'TRAVIS', '3101033.93605819', '10029672.133327', Decimal('30.15598249'), Decimal('-97.78783672'), 5, '704A', 'MG12', 7),\n",
       " ('10000 AUSTRAL CV, AUSTIN, TX 78739', '10000.0', 'AUSTRAL', 'AUSTIN', 78739, 'TRAVIS', '3072903.00042677', '10043209.00136', Decimal('30.19493282'), Decimal('-97.87587493'), 8, '641Z', 'MB16', 8),\n",
       " ('10000 BARRINGTON CV, AUSTIN, TX', '10000.0', 'BARRINGTON', 'AUSTIN', 78753, 'TRAVIS', '3134923.19425932', '10104507.5227323', Decimal('30.35951334'), Decimal('-97.67498423'), 4, '526H', 'MM30', 9),\n",
       " ('10000 BILBROOK PL, AUSTIN, TX', '10000.0', 'BILBROOK', 'AUSTIN', 78748, 'TRAVIS', '3091504.72891257', '10033777.8454873', Decimal('30.16786448'), Decimal('-97.81768559'), 5, '673T', 'ME13', 10)]"
      ]
     },
     "execution_count": 41,
     "metadata": {},
     "output_type": "execute_result"
    }
   ],
   "source": [
    "%%sql\n",
    "SELECT *\n",
    "FROM location\n",
    "limit 10 ;"
   ]
  },
  {
   "cell_type": "code",
   "execution_count": 42,
   "metadata": {},
   "outputs": [
    {
     "name": "stdout",
     "output_type": "stream",
     "text": [
      "1 rows affected.\n"
     ]
    },
    {
     "data": {
      "text/html": [
       "<table>\n",
       "    <tr>\n",
       "        <th>count</th>\n",
       "    </tr>\n",
       "    <tr>\n",
       "        <td>344794</td>\n",
       "    </tr>\n",
       "</table>"
      ],
      "text/plain": [
       "[(344794,)]"
      ]
     },
     "execution_count": 42,
     "metadata": {},
     "output_type": "execute_result"
    }
   ],
   "source": [
    "%%sql\n",
    "Select count(*)\n",
    "FROM location as l,facts as f\n",
    "WHERE\n",
    "f.sr_location= l.sr_location AND\n",
    "f.SR_Location = l.SR_Location AND\n",
    "f.Street_Number = l.Street_Number AND\n",
    "f.Street_Name = l.Street_Name AND\n",
    "f.City = l.City AND\n",
    "f.Zip_Code = l.Zip_Code AND\n",
    "f.County = l.County AND\n",
    "f.State_Plane_X_Coordinate = l.State_Plane_X_Coordinate AND\n",
    "f.State_Plane_Y_Coordinate = l.State_Plane_Y_Coordinate AND\n",
    "f.Council_District = l.Council_District  AND\n",
    "f.Latitude_Coordinate = l.Latitude_Coordinate AND\n",
    "f.Longitude_Coordinate = l.Longitude_Coordinate AND\n",
    "f.Map_Page = l.Map_Page AND\n",
    "f.Map_Tile = l.Map_Tile;"
   ]
  },
  {
   "cell_type": "code",
   "execution_count": 43,
   "metadata": {},
   "outputs": [
    {
     "name": "stdout",
     "output_type": "stream",
     "text": [
      "344794 rows affected.\n"
     ]
    },
    {
     "data": {
      "text/plain": [
       "[]"
      ]
     },
     "execution_count": 43,
     "metadata": {},
     "output_type": "execute_result"
    }
   ],
   "source": [
    "%%sql\n",
    "UPDATE facts as f\n",
    "SET location_key = l.location_key\n",
    "FROM location as l\n",
    "WHERE \n",
    "f.sr_location= l.sr_location AND\n",
    "f.SR_Location = l.SR_Location AND\n",
    "f.Street_Number = l.Street_Number AND\n",
    "f.Street_Name = l.Street_Name AND\n",
    "f.City = l.City AND\n",
    "f.Zip_Code = l.Zip_Code AND\n",
    "f.County = l.County AND\n",
    "f.State_Plane_X_Coordinate = l.State_Plane_X_Coordinate AND\n",
    "f.State_Plane_Y_Coordinate = l.State_Plane_Y_Coordinate AND\n",
    "f.Council_District = l.Council_District  AND\n",
    "f.Latitude_Coordinate = l.Latitude_Coordinate AND\n",
    "f.Longitude_Coordinate = l.Longitude_Coordinate AND\n",
    "f.Map_Page = l.Map_Page AND\n",
    "f.Map_Tile = l.Map_Tile;\n"
   ]
  },
  {
   "cell_type": "code",
   "execution_count": 44,
   "metadata": {},
   "outputs": [
    {
     "name": "stdout",
     "output_type": "stream",
     "text": [
      "5 rows affected.\n"
     ]
    },
    {
     "data": {
      "text/html": [
       "<table>\n",
       "    <tr>\n",
       "        <th>sr_number</th>\n",
       "        <th>sr_type_code</th>\n",
       "        <th>sr_description</th>\n",
       "        <th>owning_department</th>\n",
       "        <th>sr_status</th>\n",
       "        <th>sr_location</th>\n",
       "        <th>street_number</th>\n",
       "        <th>street_name</th>\n",
       "        <th>city</th>\n",
       "        <th>zip_code</th>\n",
       "        <th>county</th>\n",
       "        <th>state_plane_x_coordinate</th>\n",
       "        <th>state_plane_y_coordinate</th>\n",
       "        <th>latitude_coordinate</th>\n",
       "        <th>longitude_coordinate</th>\n",
       "        <th>latitude_longitude</th>\n",
       "        <th>council_district</th>\n",
       "        <th>map_page</th>\n",
       "        <th>map_tile</th>\n",
       "        <th>status_change_date_key</th>\n",
       "        <th>created_date_key</th>\n",
       "        <th>last_update_date_key</th>\n",
       "        <th>close_date_key</th>\n",
       "        <th>method_key</th>\n",
       "        <th>location_key</th>\n",
       "    </tr>\n",
       "    <tr>\n",
       "        <td>15-00044206</td>\n",
       "        <td>SBPAVEFA</td>\n",
       "        <td>Pavement Failure</td>\n",
       "        <td>Public Works</td>\n",
       "        <td>Closed</td>\n",
       "        <td>3007 RAY WOOD DR, AUSTIN, TX</td>\n",
       "        <td>3007.0</td>\n",
       "        <td>RAY WOOD</td>\n",
       "        <td>AUSTIN</td>\n",
       "        <td>78704</td>\n",
       "        <td>TRAVIS</td>\n",
       "        <td>3105933.75</td>\n",
       "        <td>10059411.0</td>\n",
       "        <td>30.23742084</td>\n",
       "        <td>-97.77017001</td>\n",
       "        <td>(30.23742084, -97.77017001)</td>\n",
       "        <td>3</td>\n",
       "        <td>614U</td>\n",
       "        <td>MH19</td>\n",
       "        <td>16093</td>\n",
       "        <td>13511</td>\n",
       "        <td>16093</td>\n",
       "        <td>16093</td>\n",
       "        <td>15</td>\n",
       "        <td>87762</td>\n",
       "    </tr>\n",
       "    <tr>\n",
       "        <td>15-00078136</td>\n",
       "        <td>PWBICYCL</td>\n",
       "        <td>Bicycle Issues</td>\n",
       "        <td>Transportation</td>\n",
       "        <td>Closed</td>\n",
       "        <td>5706 CLAY AVE, AUSTIN, TX 78756</td>\n",
       "        <td>5706.0</td>\n",
       "        <td>CLAY</td>\n",
       "        <td>AUSTIN</td>\n",
       "        <td>78756</td>\n",
       "        <td>TRAVIS</td>\n",
       "        <td>3115423.5</td>\n",
       "        <td>10094023.0</td>\n",
       "        <td>30.33195919</td>\n",
       "        <td>-97.73757006</td>\n",
       "        <td>(30.33195919, -97.73757006)</td>\n",
       "        <td>7</td>\n",
       "        <td>555B</td>\n",
       "        <td>MJ27</td>\n",
       "        <td>18208</td>\n",
       "        <td>7133</td>\n",
       "        <td>18208</td>\n",
       "        <td>18208</td>\n",
       "        <td>4</td>\n",
       "        <td>133606</td>\n",
       "    </tr>\n",
       "    <tr>\n",
       "        <td>15-00082108</td>\n",
       "        <td>CONCERNS</td>\n",
       "        <td>Concerns in the ROW</td>\n",
       "        <td>Transportation</td>\n",
       "        <td>Closed</td>\n",
       "        <td>8661 W SH 71, AUSTIN, TX</td>\n",
       "        <td>8661.0</td>\n",
       "        <td>71</td>\n",
       "        <td>AUSTIN</td>\n",
       "        <td>78736</td>\n",
       "        <td>TRAVIS</td>\n",
       "        <td>3066536.25</td>\n",
       "        <td>10062993.28</td>\n",
       "        <td>30.24970334</td>\n",
       "        <td>-97.89464981</td>\n",
       "        <td>(30.24970334, -97.89464981)</td>\n",
       "        <td>8</td>\n",
       "        <td>611L</td>\n",
       "        <td>MB20</td>\n",
       "        <td>17017</td>\n",
       "        <td>9898</td>\n",
       "        <td>17017</td>\n",
       "        <td>17017</td>\n",
       "        <td>15</td>\n",
       "        <td>180535</td>\n",
       "    </tr>\n",
       "    <tr>\n",
       "        <td>15-00112332</td>\n",
       "        <td>SBPOTREP</td>\n",
       "        <td>Pothole Repair</td>\n",
       "        <td>Public Works</td>\n",
       "        <td>Closed</td>\n",
       "        <td>906 ROBERTSON ST, AUSTIN, TX</td>\n",
       "        <td>906.0</td>\n",
       "        <td>ROBERTSON</td>\n",
       "        <td>AUSTIN</td>\n",
       "        <td>78703</td>\n",
       "        <td>TRAVIS</td>\n",
       "        <td>3108231.5</td>\n",
       "        <td>10074363.0</td>\n",
       "        <td>30.27837594</td>\n",
       "        <td>-97.76180134</td>\n",
       "        <td>(30.27837594, -97.76180134)</td>\n",
       "        <td>9</td>\n",
       "        <td>584Q</td>\n",
       "        <td>MH23</td>\n",
       "        <td>24826</td>\n",
       "        <td>941</td>\n",
       "        <td>24826</td>\n",
       "        <td>24826</td>\n",
       "        <td>15</td>\n",
       "        <td>186019</td>\n",
       "    </tr>\n",
       "    <tr>\n",
       "        <td>15-00113553</td>\n",
       "        <td>SBDEBROW</td>\n",
       "        <td>Debris in Street</td>\n",
       "        <td>Public Works</td>\n",
       "        <td>Closed</td>\n",
       "        <td>600 E RUNDBERG LN, AUSTIN, TX</td>\n",
       "        <td>600.0</td>\n",
       "        <td>RUNDBERG</td>\n",
       "        <td>AUSTIN</td>\n",
       "        <td>78753</td>\n",
       "        <td>TRAVIS</td>\n",
       "        <td>3130375.0</td>\n",
       "        <td>10104307.0</td>\n",
       "        <td>30.35926015</td>\n",
       "        <td>-97.68941608</td>\n",
       "        <td>(30.35926015, -97.68941608)</td>\n",
       "        <td>4</td>\n",
       "        <td>526F</td>\n",
       "        <td>ML30</td>\n",
       "        <td>25194</td>\n",
       "        <td>26976</td>\n",
       "        <td>25194</td>\n",
       "        <td>25194</td>\n",
       "        <td>15</td>\n",
       "        <td>138462</td>\n",
       "    </tr>\n",
       "</table>"
      ],
      "text/plain": [
       "[('15-00044206', 'SBPAVEFA', 'Pavement Failure', 'Public Works', 'Closed', '3007 RAY WOOD DR, AUSTIN, TX', '3007.0', 'RAY WOOD', 'AUSTIN', 78704, 'TRAVIS', '3105933.75', '10059411.0', Decimal('30.23742084'), Decimal('-97.77017001'), '(30.23742084, -97.77017001)', 3, '614U', 'MH19', 16093, 13511, 16093, 16093, 15, 87762),\n",
       " ('15-00078136', 'PWBICYCL', 'Bicycle Issues', 'Transportation', 'Closed', '5706 CLAY AVE, AUSTIN, TX 78756', '5706.0', 'CLAY', 'AUSTIN', 78756, 'TRAVIS', '3115423.5', '10094023.0', Decimal('30.33195919'), Decimal('-97.73757006'), '(30.33195919, -97.73757006)', 7, '555B', 'MJ27', 18208, 7133, 18208, 18208, 4, 133606),\n",
       " ('15-00082108', 'CONCERNS', 'Concerns in the ROW', 'Transportation', 'Closed', '8661 W SH 71, AUSTIN, TX', '8661.0', '71', 'AUSTIN', 78736, 'TRAVIS', '3066536.25', '10062993.28', Decimal('30.24970334'), Decimal('-97.89464981'), '(30.24970334, -97.89464981)', 8, '611L', 'MB20', 17017, 9898, 17017, 17017, 15, 180535),\n",
       " ('15-00112332', 'SBPOTREP', 'Pothole Repair', 'Public Works', 'Closed', '906 ROBERTSON ST, AUSTIN, TX', '906.0', 'ROBERTSON', 'AUSTIN', 78703, 'TRAVIS', '3108231.5', '10074363.0', Decimal('30.27837594'), Decimal('-97.76180134'), '(30.27837594, -97.76180134)', 9, '584Q', 'MH23', 24826, 941, 24826, 24826, 15, 186019),\n",
       " ('15-00113553', 'SBDEBROW', 'Debris in Street', 'Public Works', 'Closed', '600 E RUNDBERG LN, AUSTIN, TX', '600.0', 'RUNDBERG', 'AUSTIN', 78753, 'TRAVIS', '3130375.0', '10104307.0', Decimal('30.35926015'), Decimal('-97.68941608'), '(30.35926015, -97.68941608)', 4, '526F', 'ML30', 25194, 26976, 25194, 25194, 15, 138462)]"
      ]
     },
     "execution_count": 44,
     "metadata": {},
     "output_type": "execute_result"
    }
   ],
   "source": [
    "%%sql\n",
    "SELECT *\n",
    "FROM facts\n",
    "LIMIT 5;"
   ]
  },
  {
   "cell_type": "code",
   "execution_count": 45,
   "metadata": {},
   "outputs": [
    {
     "name": "stdout",
     "output_type": "stream",
     "text": [
      "Done.\n"
     ]
    },
    {
     "data": {
      "text/plain": [
       "[]"
      ]
     },
     "execution_count": 45,
     "metadata": {},
     "output_type": "execute_result"
    }
   ],
   "source": [
    "%%sql\n",
    "ALTER TABLE facts\n",
    "DROP COLUMN SR_Location,\n",
    "DROP COLUMN Street_Number,\n",
    "DROP COLUMN Street_Name,\n",
    "DROP COLUMN City,\n",
    "DROP COLUMN Zip_Code,\n",
    "DROP COLUMN County,\n",
    "DROP COLUMN State_Plane_X_Coordinate,\n",
    "DROP COLUMN State_Plane_Y_Coordinate,\n",
    "DROP COLUMN latitude_coordinate,\n",
    "DROP COLUMN longitude_coordinate,\n",
    "DROP COLUMN latitude_longitude,\n",
    "DROP COLUMN council_district,\n",
    "DROP COLUMN map_page,\n",
    "DROP COLUMN map_tile;"
   ]
  },
  {
   "cell_type": "code",
   "execution_count": 46,
   "metadata": {},
   "outputs": [
    {
     "name": "stdout",
     "output_type": "stream",
     "text": [
      "5 rows affected.\n"
     ]
    },
    {
     "data": {
      "text/html": [
       "<table>\n",
       "    <tr>\n",
       "        <th>sr_number</th>\n",
       "        <th>sr_type_code</th>\n",
       "        <th>sr_description</th>\n",
       "        <th>owning_department</th>\n",
       "        <th>sr_status</th>\n",
       "        <th>status_change_date_key</th>\n",
       "        <th>created_date_key</th>\n",
       "        <th>last_update_date_key</th>\n",
       "        <th>close_date_key</th>\n",
       "        <th>method_key</th>\n",
       "        <th>location_key</th>\n",
       "    </tr>\n",
       "    <tr>\n",
       "        <td>15-00113553</td>\n",
       "        <td>SBDEBROW</td>\n",
       "        <td>Debris in Street</td>\n",
       "        <td>Public Works</td>\n",
       "        <td>Closed</td>\n",
       "        <td>25194</td>\n",
       "        <td>26976</td>\n",
       "        <td>25194</td>\n",
       "        <td>25194</td>\n",
       "        <td>15</td>\n",
       "        <td>138462</td>\n",
       "    </tr>\n",
       "    <tr>\n",
       "        <td>14-00072137</td>\n",
       "        <td>OBSTMIDB</td>\n",
       "        <td>Obstruction in ROW</td>\n",
       "        <td>Public Works</td>\n",
       "        <td>Closed</td>\n",
       "        <td>2903</td>\n",
       "        <td>18679</td>\n",
       "        <td>2903</td>\n",
       "        <td>2903</td>\n",
       "        <td>15</td>\n",
       "        <td>187333</td>\n",
       "    </tr>\n",
       "    <tr>\n",
       "        <td>15-00150781</td>\n",
       "        <td>PARMACIS</td>\n",
       "        <td>Parking Machine Issue</td>\n",
       "        <td>Transportation</td>\n",
       "        <td>Closed</td>\n",
       "        <td>303</td>\n",
       "        <td>11476</td>\n",
       "        <td>303</td>\n",
       "        <td>303</td>\n",
       "        <td>15</td>\n",
       "        <td>57129</td>\n",
       "    </tr>\n",
       "    <tr>\n",
       "        <td>15-00044830</td>\n",
       "        <td>SBCURBGU</td>\n",
       "        <td>Curb/Gutter Repair</td>\n",
       "        <td>Public Works</td>\n",
       "        <td>Closed</td>\n",
       "        <td>11315</td>\n",
       "        <td>9001</td>\n",
       "        <td>11315</td>\n",
       "        <td>11315</td>\n",
       "        <td>4</td>\n",
       "        <td>25896</td>\n",
       "    </tr>\n",
       "    <tr>\n",
       "        <td>15-00048717</td>\n",
       "        <td>SIGNNEWT</td>\n",
       "        <td>Sign - New</td>\n",
       "        <td>Transportation</td>\n",
       "        <td>Closed</td>\n",
       "        <td>3605</td>\n",
       "        <td>15013</td>\n",
       "        <td>993</td>\n",
       "        <td>993</td>\n",
       "        <td>15</td>\n",
       "        <td>2349</td>\n",
       "    </tr>\n",
       "</table>"
      ],
      "text/plain": [
       "[('15-00113553', 'SBDEBROW', 'Debris in Street', 'Public Works', 'Closed', 25194, 26976, 25194, 25194, 15, 138462),\n",
       " ('14-00072137', 'OBSTMIDB', 'Obstruction in ROW', 'Public Works', 'Closed', 2903, 18679, 2903, 2903, 15, 187333),\n",
       " ('15-00150781', 'PARMACIS', 'Parking Machine Issue', 'Transportation', 'Closed', 303, 11476, 303, 303, 15, 57129),\n",
       " ('15-00044830', 'SBCURBGU', 'Curb/Gutter Repair', 'Public Works', 'Closed', 11315, 9001, 11315, 11315, 4, 25896),\n",
       " ('15-00048717', 'SIGNNEWT', 'Sign - New', 'Transportation', 'Closed', 3605, 15013, 993, 993, 15, 2349)]"
      ]
     },
     "execution_count": 46,
     "metadata": {},
     "output_type": "execute_result"
    }
   ],
   "source": [
    "%%sql\n",
    "SELECT *\n",
    "FROM facts\n",
    "LIMIT 5;"
   ]
  },
  {
   "cell_type": "code",
   "execution_count": 47,
   "metadata": {},
   "outputs": [
    {
     "name": "stdout",
     "output_type": "stream",
     "text": [
      "Done.\n",
      "146 rows affected.\n"
     ]
    },
    {
     "data": {
      "text/plain": [
       "[]"
      ]
     },
     "execution_count": 47,
     "metadata": {},
     "output_type": "execute_result"
    }
   ],
   "source": [
    "%%sql\n",
    "DROP TABLE  IF EXISTS Service_type;\n",
    "\n",
    "SELECT Distinct\n",
    "sr_type_code,\n",
    "sr_description,\n",
    "owning_department\n",
    "INTO Service_type\n",
    "FROM facts;"
   ]
  },
  {
   "cell_type": "code",
   "execution_count": 48,
   "metadata": {},
   "outputs": [
    {
     "name": "stdout",
     "output_type": "stream",
     "text": [
      "Done.\n"
     ]
    },
    {
     "data": {
      "text/plain": [
       "[]"
      ]
     },
     "execution_count": 48,
     "metadata": {},
     "output_type": "execute_result"
    }
   ],
   "source": [
    "%%sql\n",
    "ALTER TABLE Service_type\n",
    "ADD COLUMN Service_type_key SERIAL PRIMARY KEY;"
   ]
  },
  {
   "cell_type": "code",
   "execution_count": 49,
   "metadata": {},
   "outputs": [
    {
     "name": "stdout",
     "output_type": "stream",
     "text": [
      "Done.\n"
     ]
    },
    {
     "data": {
      "text/plain": [
       "[]"
      ]
     },
     "execution_count": 49,
     "metadata": {},
     "output_type": "execute_result"
    }
   ],
   "source": [
    "%%sql\n",
    "ALTER TABLE facts\n",
    "ADD COLUMN Service_type_key INTEGER,\n",
    "ADD CONSTRAINT fk_Service_type_key\n",
    "    FOREIGN KEY (Service_type_key)\n",
    "    REFERENCES Service_type (Service_type_key);"
   ]
  },
  {
   "cell_type": "code",
   "execution_count": 50,
   "metadata": {},
   "outputs": [
    {
     "name": "stdout",
     "output_type": "stream",
     "text": [
      "1 rows affected.\n"
     ]
    },
    {
     "data": {
      "text/html": [
       "<table>\n",
       "    <tr>\n",
       "        <th>count</th>\n",
       "    </tr>\n",
       "    <tr>\n",
       "        <td>344794</td>\n",
       "    </tr>\n",
       "</table>"
      ],
      "text/plain": [
       "[(344794,)]"
      ]
     },
     "execution_count": 50,
     "metadata": {},
     "output_type": "execute_result"
    }
   ],
   "source": [
    "%%sql\n",
    "Select count(*)\n",
    "FROM Service_type as s,facts as f\n",
    "WHERE\n",
    "s.sr_type_code = f.sr_type_code AND\n",
    "s.sr_description = f.sr_description AND\n",
    "s.owning_department = f.owning_department;"
   ]
  },
  {
   "cell_type": "code",
   "execution_count": 51,
   "metadata": {},
   "outputs": [
    {
     "name": "stdout",
     "output_type": "stream",
     "text": [
      "344794 rows affected.\n"
     ]
    },
    {
     "data": {
      "text/plain": [
       "[]"
      ]
     },
     "execution_count": 51,
     "metadata": {},
     "output_type": "execute_result"
    }
   ],
   "source": [
    "%%sql\n",
    "UPDATE facts as f\n",
    "SET Service_type_key = s.Service_type_key\n",
    "FROM Service_type as s\n",
    "WHERE \n",
    "s.sr_type_code = f.sr_type_code AND\n",
    "s.sr_description = f.sr_description AND\n",
    "s.owning_department = f.owning_department;"
   ]
  },
  {
   "cell_type": "code",
   "execution_count": 52,
   "metadata": {},
   "outputs": [
    {
     "name": "stdout",
     "output_type": "stream",
     "text": [
      "5 rows affected.\n"
     ]
    },
    {
     "data": {
      "text/html": [
       "<table>\n",
       "    <tr>\n",
       "        <th>sr_number</th>\n",
       "        <th>sr_type_code</th>\n",
       "        <th>sr_description</th>\n",
       "        <th>owning_department</th>\n",
       "        <th>sr_status</th>\n",
       "        <th>status_change_date_key</th>\n",
       "        <th>created_date_key</th>\n",
       "        <th>last_update_date_key</th>\n",
       "        <th>close_date_key</th>\n",
       "        <th>method_key</th>\n",
       "        <th>location_key</th>\n",
       "        <th>service_type_key</th>\n",
       "    </tr>\n",
       "    <tr>\n",
       "        <td>15-00044830</td>\n",
       "        <td>SBCURBGU</td>\n",
       "        <td>Curb/Gutter Repair</td>\n",
       "        <td>Public Works</td>\n",
       "        <td>Closed</td>\n",
       "        <td>11315</td>\n",
       "        <td>9001</td>\n",
       "        <td>11315</td>\n",
       "        <td>11315</td>\n",
       "        <td>4</td>\n",
       "        <td>25896</td>\n",
       "        <td>99</td>\n",
       "    </tr>\n",
       "    <tr>\n",
       "        <td>15-00048717</td>\n",
       "        <td>SIGNNEWT</td>\n",
       "        <td>Sign - New</td>\n",
       "        <td>Transportation</td>\n",
       "        <td>Closed</td>\n",
       "        <td>3605</td>\n",
       "        <td>15013</td>\n",
       "        <td>993</td>\n",
       "        <td>993</td>\n",
       "        <td>15</td>\n",
       "        <td>2349</td>\n",
       "        <td>117</td>\n",
       "    </tr>\n",
       "    <tr>\n",
       "        <td>15-00180232</td>\n",
       "        <td>SIGNNEWT</td>\n",
       "        <td>Sign - New</td>\n",
       "        <td>Transportation</td>\n",
       "        <td>Closed</td>\n",
       "        <td>11873</td>\n",
       "        <td>15103</td>\n",
       "        <td>11873</td>\n",
       "        <td>11873</td>\n",
       "        <td>11</td>\n",
       "        <td>92135</td>\n",
       "        <td>117</td>\n",
       "    </tr>\n",
       "    <tr>\n",
       "        <td>15-00204499</td>\n",
       "        <td>SBSIDERE</td>\n",
       "        <td>Sidewalk Repair</td>\n",
       "        <td>Public Works</td>\n",
       "        <td>Closed</td>\n",
       "        <td>28709</td>\n",
       "        <td>20332</td>\n",
       "        <td>28709</td>\n",
       "        <td>28709</td>\n",
       "        <td>15</td>\n",
       "        <td>76845</td>\n",
       "        <td>108</td>\n",
       "    </tr>\n",
       "    <tr>\n",
       "        <td>15-00238923</td>\n",
       "        <td>SBPOTREP</td>\n",
       "        <td>Pothole Repair</td>\n",
       "        <td>Public Works</td>\n",
       "        <td>Closed</td>\n",
       "        <td>5919</td>\n",
       "        <td>9679</td>\n",
       "        <td>5919</td>\n",
       "        <td>5919</td>\n",
       "        <td>15</td>\n",
       "        <td>115568</td>\n",
       "        <td>105</td>\n",
       "    </tr>\n",
       "</table>"
      ],
      "text/plain": [
       "[('15-00044830', 'SBCURBGU', 'Curb/Gutter Repair', 'Public Works', 'Closed', 11315, 9001, 11315, 11315, 4, 25896, 99),\n",
       " ('15-00048717', 'SIGNNEWT', 'Sign - New', 'Transportation', 'Closed', 3605, 15013, 993, 993, 15, 2349, 117),\n",
       " ('15-00180232', 'SIGNNEWT', 'Sign - New', 'Transportation', 'Closed', 11873, 15103, 11873, 11873, 11, 92135, 117),\n",
       " ('15-00204499', 'SBSIDERE', 'Sidewalk Repair', 'Public Works', 'Closed', 28709, 20332, 28709, 28709, 15, 76845, 108),\n",
       " ('15-00238923', 'SBPOTREP', 'Pothole Repair', 'Public Works', 'Closed', 5919, 9679, 5919, 5919, 15, 115568, 105)]"
      ]
     },
     "execution_count": 52,
     "metadata": {},
     "output_type": "execute_result"
    }
   ],
   "source": [
    "%%sql\n",
    "SELECT *\n",
    "FROM facts\n",
    "LIMIT 5;"
   ]
  },
  {
   "cell_type": "code",
   "execution_count": 53,
   "metadata": {},
   "outputs": [
    {
     "name": "stdout",
     "output_type": "stream",
     "text": [
      "Done.\n"
     ]
    },
    {
     "data": {
      "text/plain": [
       "[]"
      ]
     },
     "execution_count": 53,
     "metadata": {},
     "output_type": "execute_result"
    }
   ],
   "source": [
    "%%sql\n",
    "ALTER TABLE facts\n",
    "DROP COLUMN sr_type_code,\n",
    "DROP COLUMN sr_description,\n",
    "DROP COLUMN owning_department;"
   ]
  },
  {
   "cell_type": "markdown",
   "metadata": {},
   "source": [
    "we finished the star schema."
   ]
  },
  {
   "cell_type": "code",
   "execution_count": 54,
   "metadata": {},
   "outputs": [
    {
     "data": {
      "text/html": [
       "<img src=\"https://s3.amazonaws.com/leiwen/dmfa/star_schema.jpg\"/>"
      ],
      "text/plain": [
       "<IPython.core.display.Image object>"
      ]
     },
     "execution_count": 54,
     "metadata": {},
     "output_type": "execute_result"
    }
   ],
   "source": [
    "from IPython.display import Image\n",
    "url = \"https://s3.amazonaws.com/leiwen/dmfa/star_schema.jpg\"\n",
    "Image(url=url)"
   ]
  },
  {
   "cell_type": "code",
   "execution_count": 55,
   "metadata": {},
   "outputs": [
    {
     "name": "stdout",
     "output_type": "stream",
     "text": [
      "5 rows affected.\n"
     ]
    },
    {
     "data": {
      "text/html": [
       "<table>\n",
       "    <tr>\n",
       "        <th>sr_number</th>\n",
       "        <th>sr_status</th>\n",
       "        <th>status_change_date_key</th>\n",
       "        <th>created_date_key</th>\n",
       "        <th>last_update_date_key</th>\n",
       "        <th>close_date_key</th>\n",
       "        <th>method_key</th>\n",
       "        <th>location_key</th>\n",
       "        <th>service_type_key</th>\n",
       "    </tr>\n",
       "    <tr>\n",
       "        <td>15-00238923</td>\n",
       "        <td>Closed</td>\n",
       "        <td>5919</td>\n",
       "        <td>9679</td>\n",
       "        <td>5919</td>\n",
       "        <td>5919</td>\n",
       "        <td>15</td>\n",
       "        <td>115568</td>\n",
       "        <td>105</td>\n",
       "    </tr>\n",
       "    <tr>\n",
       "        <td>15-00272716</td>\n",
       "        <td>Closed</td>\n",
       "        <td>29200</td>\n",
       "        <td>2474</td>\n",
       "        <td>29200</td>\n",
       "        <td>29200</td>\n",
       "        <td>4</td>\n",
       "        <td>77580</td>\n",
       "        <td>88</td>\n",
       "    </tr>\n",
       "    <tr>\n",
       "        <td>16-00042718</td>\n",
       "        <td>Closed</td>\n",
       "        <td>24333</td>\n",
       "        <td>24333</td>\n",
       "        <td>24333</td>\n",
       "        <td>24333</td>\n",
       "        <td>4</td>\n",
       "        <td>77665</td>\n",
       "        <td>133</td>\n",
       "    </tr>\n",
       "    <tr>\n",
       "        <td>15-00122157</td>\n",
       "        <td>Closed</td>\n",
       "        <td>6360</td>\n",
       "        <td>3132</td>\n",
       "        <td>11444</td>\n",
       "        <td>6360</td>\n",
       "        <td>15</td>\n",
       "        <td>166057</td>\n",
       "        <td>100</td>\n",
       "    </tr>\n",
       "    <tr>\n",
       "        <td>16-00105960</td>\n",
       "        <td>Closed</td>\n",
       "        <td>2198</td>\n",
       "        <td>11616</td>\n",
       "        <td>2198</td>\n",
       "        <td>2198</td>\n",
       "        <td>15</td>\n",
       "        <td>146717</td>\n",
       "        <td>117</td>\n",
       "    </tr>\n",
       "</table>"
      ],
      "text/plain": [
       "[('15-00238923', 'Closed', 5919, 9679, 5919, 5919, 15, 115568, 105),\n",
       " ('15-00272716', 'Closed', 29200, 2474, 29200, 29200, 4, 77580, 88),\n",
       " ('16-00042718', 'Closed', 24333, 24333, 24333, 24333, 4, 77665, 133),\n",
       " ('15-00122157', 'Closed', 6360, 3132, 11444, 6360, 15, 166057, 100),\n",
       " ('16-00105960', 'Closed', 2198, 11616, 2198, 2198, 15, 146717, 117)]"
      ]
     },
     "execution_count": 55,
     "metadata": {},
     "output_type": "execute_result"
    }
   ],
   "source": [
    "%%sql\n",
    "SELECT *\n",
    "FROM facts\n",
    "LIMIT 5;"
   ]
  },
  {
   "cell_type": "code",
   "execution_count": 56,
   "metadata": {},
   "outputs": [
    {
     "name": "stdout",
     "output_type": "stream",
     "text": [
      "5 rows affected.\n"
     ]
    },
    {
     "data": {
      "text/html": [
       "<table>\n",
       "    <tr>\n",
       "        <th>hour_key</th>\n",
       "        <th>hour</th>\n",
       "        <th>day</th>\n",
       "        <th>year</th>\n",
       "        <th>month_of_year_str</th>\n",
       "        <th>month_of_year</th>\n",
       "        <th>day_of_month</th>\n",
       "        <th>day_of_week_str</th>\n",
       "        <th>day_of_week</th>\n",
       "        <th>is_weekend</th>\n",
       "        <th>is_weekday</th>\n",
       "        <th>hour_of_day</th>\n",
       "        <th>quarter_of_year</th>\n",
       "    </tr>\n",
       "    <tr>\n",
       "        <td>1</td>\n",
       "        <td>2015-10-16 06:00:00</td>\n",
       "        <td>2015-10-16</td>\n",
       "        <td>2015</td>\n",
       "        <td>October  </td>\n",
       "        <td>10</td>\n",
       "        <td>16</td>\n",
       "        <td>Friday   </td>\n",
       "        <td>6</td>\n",
       "        <td>False</td>\n",
       "        <td>True</td>\n",
       "        <td>6</td>\n",
       "        <td>4</td>\n",
       "    </tr>\n",
       "    <tr>\n",
       "        <td>2</td>\n",
       "        <td>2017-09-22 00:00:00</td>\n",
       "        <td>2017-09-22</td>\n",
       "        <td>2017</td>\n",
       "        <td>September</td>\n",
       "        <td>9</td>\n",
       "        <td>22</td>\n",
       "        <td>Friday   </td>\n",
       "        <td>6</td>\n",
       "        <td>False</td>\n",
       "        <td>True</td>\n",
       "        <td>0</td>\n",
       "        <td>3</td>\n",
       "    </tr>\n",
       "    <tr>\n",
       "        <td>3</td>\n",
       "        <td>2014-01-26 16:00:00</td>\n",
       "        <td>2014-01-26</td>\n",
       "        <td>2014</td>\n",
       "        <td>January  </td>\n",
       "        <td>1</td>\n",
       "        <td>26</td>\n",
       "        <td>Sunday   </td>\n",
       "        <td>1</td>\n",
       "        <td>True</td>\n",
       "        <td>False</td>\n",
       "        <td>16</td>\n",
       "        <td>1</td>\n",
       "    </tr>\n",
       "    <tr>\n",
       "        <td>4</td>\n",
       "        <td>2015-09-24 16:00:00</td>\n",
       "        <td>2015-09-24</td>\n",
       "        <td>2015</td>\n",
       "        <td>September</td>\n",
       "        <td>9</td>\n",
       "        <td>24</td>\n",
       "        <td>Thursday </td>\n",
       "        <td>5</td>\n",
       "        <td>False</td>\n",
       "        <td>True</td>\n",
       "        <td>16</td>\n",
       "        <td>3</td>\n",
       "    </tr>\n",
       "    <tr>\n",
       "        <td>5</td>\n",
       "        <td>2017-03-15 08:00:00</td>\n",
       "        <td>2017-03-15</td>\n",
       "        <td>2017</td>\n",
       "        <td>March    </td>\n",
       "        <td>3</td>\n",
       "        <td>15</td>\n",
       "        <td>Wednesday</td>\n",
       "        <td>4</td>\n",
       "        <td>False</td>\n",
       "        <td>True</td>\n",
       "        <td>8</td>\n",
       "        <td>1</td>\n",
       "    </tr>\n",
       "</table>"
      ],
      "text/plain": [
       "[(1, '2015-10-16 06:00:00', '2015-10-16', 2015, 'October  ', 10, 16, 'Friday   ', 6, False, True, 6, 4),\n",
       " (2, '2017-09-22 00:00:00', '2017-09-22', 2017, 'September', 9, 22, 'Friday   ', 6, False, True, 0, 3),\n",
       " (3, '2014-01-26 16:00:00', '2014-01-26', 2014, 'January  ', 1, 26, 'Sunday   ', 1, True, False, 16, 1),\n",
       " (4, '2015-09-24 16:00:00', '2015-09-24', 2015, 'September', 9, 24, 'Thursday ', 5, False, True, 16, 3),\n",
       " (5, '2017-03-15 08:00:00', '2017-03-15', 2017, 'March    ', 3, 15, 'Wednesday', 4, False, True, 8, 1)]"
      ]
     },
     "execution_count": 56,
     "metadata": {},
     "output_type": "execute_result"
    }
   ],
   "source": [
    "%%sql\n",
    "SELECT *\n",
    "FROM hour\n",
    "LIMIT 5;"
   ]
  },
  {
   "cell_type": "code",
   "execution_count": 57,
   "metadata": {},
   "outputs": [
    {
     "name": "stdout",
     "output_type": "stream",
     "text": [
      "5 rows affected.\n"
     ]
    },
    {
     "data": {
      "text/html": [
       "<table>\n",
       "    <tr>\n",
       "        <th>method_key</th>\n",
       "        <th>method</th>\n",
       "    </tr>\n",
       "    <tr>\n",
       "        <td>1</td>\n",
       "        <td>Mobile Devi</td>\n",
       "    </tr>\n",
       "    <tr>\n",
       "        <td>2</td>\n",
       "        <td>Mass Entry</td>\n",
       "    </tr>\n",
       "    <tr>\n",
       "        <td>3</td>\n",
       "        <td>CSR - Follow On SR</td>\n",
       "    </tr>\n",
       "    <tr>\n",
       "        <td>4</td>\n",
       "        <td>Web</td>\n",
       "    </tr>\n",
       "    <tr>\n",
       "        <td>5</td>\n",
       "        <td>Social Media</td>\n",
       "    </tr>\n",
       "</table>"
      ],
      "text/plain": [
       "[(1, 'Mobile Devi'),\n",
       " (2, 'Mass Entry'),\n",
       " (3, 'CSR - Follow On SR'),\n",
       " (4, 'Web'),\n",
       " (5, 'Social Media')]"
      ]
     },
     "execution_count": 57,
     "metadata": {},
     "output_type": "execute_result"
    }
   ],
   "source": [
    "%%sql\n",
    "SELECT *\n",
    "FROM Method\n",
    "LIMIT 5;"
   ]
  },
  {
   "cell_type": "code",
   "execution_count": 58,
   "metadata": {},
   "outputs": [
    {
     "name": "stdout",
     "output_type": "stream",
     "text": [
      "5 rows affected.\n"
     ]
    },
    {
     "data": {
      "text/html": [
       "<table>\n",
       "    <tr>\n",
       "        <th>sr_location</th>\n",
       "        <th>street_number</th>\n",
       "        <th>street_name</th>\n",
       "        <th>city</th>\n",
       "        <th>zip_code</th>\n",
       "        <th>county</th>\n",
       "        <th>state_plane_x_coordinate</th>\n",
       "        <th>state_plane_y_coordinate</th>\n",
       "        <th>latitude_coordinate</th>\n",
       "        <th>longitude_coordinate</th>\n",
       "        <th>council_district</th>\n",
       "        <th>map_page</th>\n",
       "        <th>map_tile</th>\n",
       "        <th>location_key</th>\n",
       "    </tr>\n",
       "    <tr>\n",
       "        <td>0 BASTROP HWY NB, AUSTIN, TX</td>\n",
       "        <td>0.0</td>\n",
       "        <td>BASTROP HWY</td>\n",
       "        <td>AUSTIN</td>\n",
       "        <td>78725</td>\n",
       "        <td>TRAVIS</td>\n",
       "        <td>3131078.8046126</td>\n",
       "        <td>10062985.599024301</td>\n",
       "        <td>30.24562909</td>\n",
       "        <td>-97.69029776</td>\n",
       "        <td>3</td>\n",
       "        <td>616K</td>\n",
       "        <td>ML20</td>\n",
       "        <td>1</td>\n",
       "    </tr>\n",
       "    <tr>\n",
       "        <td>0 E US 290 HWY EB, AUSTIN, TX</td>\n",
       "        <td>0.0</td>\n",
       "        <td>290</td>\n",
       "        <td>AUSTIN</td>\n",
       "        <td>78724</td>\n",
       "        <td>TRAVIS</td>\n",
       "        <td>3136294.85582263</td>\n",
       "        <td>10092147.3753045</td>\n",
       "        <td>30.32544739</td>\n",
       "        <td>-97.67157404</td>\n",
       "        <td>1</td>\n",
       "        <td>558A</td>\n",
       "        <td>MQ27</td>\n",
       "        <td>2</td>\n",
       "    </tr>\n",
       "    <tr>\n",
       "        <td>0 E US 290 HWY EB, AUSTIN, TX</td>\n",
       "        <td>0.0</td>\n",
       "        <td>290</td>\n",
       "        <td>AUSTIN</td>\n",
       "        <td>78724</td>\n",
       "        <td>TRAVIS</td>\n",
       "        <td>3136294.856</td>\n",
       "        <td>10092147.38</td>\n",
       "        <td>30.32544739</td>\n",
       "        <td>-97.67157404</td>\n",
       "        <td>1</td>\n",
       "        <td>558A</td>\n",
       "        <td>MQ27</td>\n",
       "        <td>3</td>\n",
       "    </tr>\n",
       "    <tr>\n",
       "        <td>0 N SH 130 NB, AUSTIN, TX</td>\n",
       "        <td>0.0</td>\n",
       "        <td>130</td>\n",
       "        <td>AUSTIN</td>\n",
       "        <td>78653</td>\n",
       "        <td>TRAVIS</td>\n",
       "        <td>3168463.31273532</td>\n",
       "        <td>10087069.406244801</td>\n",
       "        <td>30.30933259</td>\n",
       "        <td>-97.57004581</td>\n",
       "        <td>1</td>\n",
       "        <td>559P</td>\n",
       "        <td>MS26</td>\n",
       "        <td>4</td>\n",
       "    </tr>\n",
       "    <tr>\n",
       "        <td>0 RESEARCH BLVD SVRD NB, AUSTIN, TX 78758</td>\n",
       "        <td>0.0</td>\n",
       "        <td>RESEARCH BLVD SVRD</td>\n",
       "        <td>AUSTIN</td>\n",
       "        <td>78758</td>\n",
       "        <td>TRAVIS</td>\n",
       "        <td>3118828.582</td>\n",
       "        <td>10109080.93</td>\n",
       "        <td>30.37313223</td>\n",
       "        <td>-97.72566097</td>\n",
       "        <td>7</td>\n",
       "        <td>495Y</td>\n",
       "        <td>MK31</td>\n",
       "        <td>5</td>\n",
       "    </tr>\n",
       "</table>"
      ],
      "text/plain": [
       "[('0 BASTROP HWY NB, AUSTIN, TX', '0.0', 'BASTROP HWY', 'AUSTIN', 78725, 'TRAVIS', '3131078.8046126', '10062985.599024301', Decimal('30.24562909'), Decimal('-97.69029776'), 3, '616K', 'ML20', 1),\n",
       " ('0 E US 290 HWY EB, AUSTIN, TX', '0.0', '290', 'AUSTIN', 78724, 'TRAVIS', '3136294.85582263', '10092147.3753045', Decimal('30.32544739'), Decimal('-97.67157404'), 1, '558A', 'MQ27', 2),\n",
       " ('0 E US 290 HWY EB, AUSTIN, TX', '0.0', '290', 'AUSTIN', 78724, 'TRAVIS', '3136294.856', '10092147.38', Decimal('30.32544739'), Decimal('-97.67157404'), 1, '558A', 'MQ27', 3),\n",
       " ('0 N SH 130 NB, AUSTIN, TX', '0.0', '130', 'AUSTIN', 78653, 'TRAVIS', '3168463.31273532', '10087069.406244801', Decimal('30.30933259'), Decimal('-97.57004581'), 1, '559P', 'MS26', 4),\n",
       " ('0 RESEARCH BLVD SVRD NB, AUSTIN, TX 78758', '0.0', 'RESEARCH BLVD SVRD', 'AUSTIN', 78758, 'TRAVIS', '3118828.582', '10109080.93', Decimal('30.37313223'), Decimal('-97.72566097'), 7, '495Y', 'MK31', 5)]"
      ]
     },
     "execution_count": 58,
     "metadata": {},
     "output_type": "execute_result"
    }
   ],
   "source": [
    "%%sql\n",
    "SELECT *\n",
    "FROM Location\n",
    "LIMIT 5;"
   ]
  },
  {
   "cell_type": "code",
   "execution_count": 59,
   "metadata": {},
   "outputs": [
    {
     "name": "stdout",
     "output_type": "stream",
     "text": [
      "5 rows affected.\n"
     ]
    },
    {
     "data": {
      "text/html": [
       "<table>\n",
       "    <tr>\n",
       "        <th>sr_type_code</th>\n",
       "        <th>sr_description</th>\n",
       "        <th>owning_department</th>\n",
       "        <th>service_type_key</th>\n",
       "    </tr>\n",
       "    <tr>\n",
       "        <td>ACBITE2</td>\n",
       "        <td>Animal Bite</td>\n",
       "        <td>Animal Services Office</td>\n",
       "        <td>1</td>\n",
       "    </tr>\n",
       "    <tr>\n",
       "        <td>ACCOYTE</td>\n",
       "        <td>Coyote Complaints</td>\n",
       "        <td>Animal Services Office</td>\n",
       "        <td>2</td>\n",
       "    </tr>\n",
       "    <tr>\n",
       "        <td>ACFOUND</td>\n",
       "        <td>Found Animal - Pick Up</td>\n",
       "        <td>Animal Services Office</td>\n",
       "        <td>3</td>\n",
       "    </tr>\n",
       "    <tr>\n",
       "        <td>ACINFORM</td>\n",
       "        <td>Animal Control - Assistance Request</td>\n",
       "        <td>Animal Services Office</td>\n",
       "        <td>4</td>\n",
       "    </tr>\n",
       "    <tr>\n",
       "        <td>ACLOANIM</td>\n",
       "        <td>Loose Animal (not dog)</td>\n",
       "        <td>Animal Services Office</td>\n",
       "        <td>5</td>\n",
       "    </tr>\n",
       "</table>"
      ],
      "text/plain": [
       "[('ACBITE2', 'Animal Bite', 'Animal Services Office', 1),\n",
       " ('ACCOYTE', 'Coyote Complaints', 'Animal Services Office', 2),\n",
       " ('ACFOUND', 'Found Animal - Pick Up', 'Animal Services Office', 3),\n",
       " ('ACINFORM', 'Animal Control - Assistance Request', 'Animal Services Office', 4),\n",
       " ('ACLOANIM', 'Loose Animal (not dog)', 'Animal Services Office', 5)]"
      ]
     },
     "execution_count": 59,
     "metadata": {},
     "output_type": "execute_result"
    }
   ],
   "source": [
    "%%sql\n",
    "SELECT *\n",
    "FROM Service_type\n",
    "LIMIT 5;"
   ]
  },
  {
   "cell_type": "code",
   "execution_count": null,
   "metadata": {
    "collapsed": true
   },
   "outputs": [],
   "source": []
  }
 ],
 "metadata": {
  "kernelspec": {
   "display_name": "Python 3",
   "language": "python",
   "name": "python3"
  },
  "language_info": {
   "codemirror_mode": {
    "name": "ipython",
    "version": 3
   },
   "file_extension": ".py",
   "mimetype": "text/x-python",
   "name": "python",
   "nbconvert_exporter": "python",
   "pygments_lexer": "ipython3",
   "version": "3.5.3"
  }
 },
 "nbformat": 4,
 "nbformat_minor": 2
}
