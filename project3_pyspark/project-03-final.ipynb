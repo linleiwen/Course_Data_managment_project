{
 "cells": [
  {
   "cell_type": "markdown",
   "metadata": {},
   "source": [
    "# Project 03 - Due Monday, November 13 at 12pm\n",
    "\n",
    "*Objectives*: Use Spark to process and perform basic analysis on non-relational data, including its DataFrame and SQL interfaces.\n",
    "\n",
    "*Grading criteria*: The tasks should all be completed, and questions should all be answered with Python code, SQL queries, shell commands, and markdown cells.  The notebook itself should be completely reproducible (using AWS EC2 instance based on the provided AMI) from start to finish; another person should be able to use the code to obtain the same results as yours.  Note that you will receive no more than partial credit if you do not add text/markdown cells explaining your thinking when appropriate.\n",
    "\n",
    "*Attestation*: **Work in groups**.  At the end of your submitted notebook, identify the work each partner performed and attest that each contributed substantially to the work.\n",
    "\n",
    "*Deadline*: Monday, November 13, 12pm.  One member of each group must submit your notebook to Blackboard; you should not submit it separately."
   ]
  },
  {
   "cell_type": "markdown",
   "metadata": {},
   "source": [
    "# Group Member: Leiwen Lin, Huiting Tang, Xiaoli Zhao, Ziyi Zhao"
   ]
  },
  {
   "cell_type": "markdown",
   "metadata": {},
   "source": [
    "## Part 1 - Setup\n",
    "\n",
    "Begin by setting up Spark and fetching the project data.  \n",
    "\n",
    "**Note**: you may want to use a larger EC2 instance type than normal.  This project was prepared using a `t2.xlarge` instance.  Just remember that the larger the instance, the higher the per-hour charge, so be sure to remember to shut your instance down when you're done, as always.\n",
    "\n",
    "### About the data\n",
    "\n",
    "We will use JSON data from Twitter; we saw an example of this in class.  It should parse cleanly, allowing you to focus on analysis.\n",
    "\n",
    "This data was gathered using GWU Libraries' [Social Feed Manager](http://sfm.library.gwu.edu/) application during a recent game of the MLB World Series featuring the Los Angeles Dodgers and Houston Astros.  This first file tells you a little bit about how it was gathered:"
   ]
  },
  {
   "cell_type": "code",
   "execution_count": 1,
   "metadata": {},
   "outputs": [
    {
     "name": "stdout",
     "output_type": "stream",
     "text": [
      "--2017-11-12 00:27:31--  https://s3.amazonaws.com/2017-dmfa/project-3/9670f3399f774789b7c3e18975d25611-README.txt\n",
      "Resolving s3.amazonaws.com (s3.amazonaws.com)... 52.216.131.93\n",
      "Connecting to s3.amazonaws.com (s3.amazonaws.com)|52.216.131.93|:443... connected.\n",
      "HTTP request sent, awaiting response... 200 OK\n",
      "Length: 1920 (1.9K) [text/plain]\n",
      "Saving to: ‘9670f3399f774789b7c3e18975d25611-README.txt.1’\n",
      "\n",
      "9670f3399f774789b7c 100%[===================>]   1.88K  --.-KB/s    in 0s      \n",
      "\n",
      "2017-11-12 00:27:31 (148 MB/s) - ‘9670f3399f774789b7c3e18975d25611-README.txt.1’ saved [1920/1920]\n",
      "\n"
     ]
    }
   ],
   "source": [
    "!wget https://s3.amazonaws.com/2017-dmfa/project-3/9670f3399f774789b7c3e18975d25611-README.txt"
   ]
  },
  {
   "cell_type": "code",
   "execution_count": 2,
   "metadata": {},
   "outputs": [
    {
     "name": "stdout",
     "output_type": "stream",
     "text": [
      "This is an export created with Social Feed Manager.\r\n",
      "\r\n",
      "EXPORT INFORMATION\r\n",
      "Selected seeds: All seeds\r\n",
      "Export id: 9670f3399f774789b7c3e18975d25611\r\n",
      "Export type: twitter_filter\r\n",
      "Format: Full JSON\r\n",
      "Export completed:  Oct. 30, 2017, 11:21:04 p.m. EDT\r\n",
      "Deduplicate: No\r\n",
      "\r\n",
      "COLLECTION INFORMATION\r\n",
      "Collection name: test set for world series\r\n",
      "Collection id: 34e3f7460b5c4df09d64a1e61fd81238\r\n",
      "Collection set: mlb-test (collection set id d6e8c27b1bc942e78790aa55a82b3a7a)\r\n",
      "Harvest type: Twitter filter\r\n",
      "Collection description: running for just one hour, just for fun.\r\n",
      "\r\n",
      "Harvest options:\r\n",
      "Media: No\r\n",
      "Web resources: No\r\n",
      "\r\n",
      "Seeds:\r\n",
      "* Track: dodgers,astros - Active\r\n",
      "\r\n",
      "Change log:\r\n",
      "\r\n",
      "Change to test set for world series (collection) on Oct. 30, 2017, 10:59:56 p.m. EDT by dchud:\r\n",
      "* is_active: \"True\" changed to \"False\"\r\n",
      "\r\n",
      "Change to test set for world series (collection) on Oct. 30, 2017, 10:58:51 p.m. EDT by dchud:\r\n",
      "* is_on: \"True\" changed to \"False\"\r\n",
      "\r\n",
      "Change to test set for world series (collection) on Oct. 29, 2017, 8:01:24 p.m. EDT by dchud:\r\n",
      "* is_on: \"False\" changed to \"True\"\r\n",
      "\r\n",
      "Change to Track: dodgers,astros (seed) on Oct. 29, 2017, 8:01:21 p.m. EDT by dchud:\r\n",
      "* token: \"blank\" changed to \"{\"track\": \"dodgers,astros\"}\"\r\n",
      "* is_active: \"blank\" changed to \"True\"\r\n",
      "\r\n",
      "Change to test set for world series (collection) on Oct. 29, 2017, 8:01:06 p.m. EDT by dchud:\r\n",
      "* credential: \"blank\" changed to \"dchud's twitter credential\"\r\n",
      "* harvest_type: \"blank\" changed to \"twitter_filter\"\r\n",
      "* is_on: \"blank\" changed to \"False\"\r\n",
      "* end_date: \"blank\" changed to \"Oct. 31, 2017, 8:00:38 p.m. EDT\"\r\n",
      "* description: \"blank\" changed to \"running for just one hour, just for fun.\"\r\n",
      "* collection_set: \"blank\" changed to \"mlb-test\"\r\n",
      "* is_active: \"blank\" changed to \"True\"\r\n",
      "* visibility: \"blank\" changed to \"default\"\r\n",
      "* harvest_options: \"blank\" changed to \"{\"media\": false, \"web_resources\": false}\"\r\n",
      "* name: \"blank\" changed to \"test set for world series\"\r\n",
      "\r\n",
      "\r\n",
      "Created on Oct. 30, 2017, 11:21:04 p.m. EDT\r\n"
     ]
    }
   ],
   "source": [
    "!cat 9670f3399f774789b7c3e18975d25611-README.txt"
   ]
  },
  {
   "cell_type": "markdown",
   "metadata": {},
   "source": [
    "The most important pieces in that metadata are:\n",
    "\n",
    " * It tracked tweets that mentioned \"dodgers\" or \"astros\".  Every item in this set should refer to one or the other, or both.\n",
    " * This data was not deduplicated; we may see individual items more than once.\n",
    " * Data was collected between October 29 and October 30.  Game 5 of the Series was played during this time.\n",
    " \n",
    "You should not need to know anything about baseball to complete this assignment.\n",
    "\n",
    "**Please note**: sometimes social media data contains offensive material.  This data set has not been filtered; if you do come across something inappropriate, please do your best to ignore it if you can."
   ]
  },
  {
   "cell_type": "markdown",
   "metadata": {},
   "source": [
    "## Fetch the data\n",
    "\n",
    "The following files are available:\n",
    "\n",
    " * https://s3.amazonaws.com/2017-dmfa/project-3/9670f3399f774789b7c3e18975d25611_003.json\n",
    " * https://s3.amazonaws.com/2017-dmfa/project-3/9670f3399f774789b7c3e18975d25611_004.json\n",
    " * https://s3.amazonaws.com/2017-dmfa/project-3/9670f3399f774789b7c3e18975d25611_005.json\n",
    " * https://s3.amazonaws.com/2017-dmfa/project-3/9670f3399f774789b7c3e18975d25611_006.json\n",
    " \n",
    "### Q1.1 - Select at least one and obtain it using `wget`.  Verify the file sizes using the command line.\n",
    "\n",
    "Each file should contain exactly 100,000 tweets.  \n",
    "\n",
    "*Note*: you are only required to use one of these files, but you may use more than one.  It will be easier to process more data if you use a larger EC2 instance type, as suggested above.  Use the exact same set of files throughout the assignment.\n",
    "\n",
    "**Answer**"
   ]
  },
  {
   "cell_type": "markdown",
   "metadata": {},
   "source": [
    "**We chose the first data set.**"
   ]
  },
  {
   "cell_type": "code",
   "execution_count": 3,
   "metadata": {},
   "outputs": [
    {
     "name": "stdout",
     "output_type": "stream",
     "text": [
      "--2017-11-09 02:57:18--  https://s3.amazonaws.com/2017-dmfa/project-3/9670f3399f774789b7c3e18975d25611_003.json\n",
      "Resolving s3.amazonaws.com (s3.amazonaws.com)... 52.216.22.13\n",
      "Connecting to s3.amazonaws.com (s3.amazonaws.com)|52.216.22.13|:443... connected.\n",
      "HTTP request sent, awaiting response... 200 OK\n",
      "Length: 595711407 (568M) [application/json]\n",
      "Saving to: ‘9670f3399f774789b7c3e18975d25611_003.json’\n",
      "\n",
      "9670f3399f774789b7c 100%[===================>] 568.11M  77.0MB/s    in 7.5s    \n",
      "\n",
      "2017-11-09 02:57:26 (75.7 MB/s) - ‘9670f3399f774789b7c3e18975d25611_003.json’ saved [595711407/595711407]\n",
      "\n"
     ]
    }
   ],
   "source": [
    "!wget https://s3.amazonaws.com/2017-dmfa/project-3/9670f3399f774789b7c3e18975d25611_003.json"
   ]
  },
  {
   "cell_type": "markdown",
   "metadata": {},
   "source": [
    "**Verifying the file size**"
   ]
  },
  {
   "cell_type": "code",
   "execution_count": 3,
   "metadata": {},
   "outputs": [
    {
     "name": "stdout",
     "output_type": "stream",
     "text": [
      "-rw-rw-r-- 1 ubuntu ubuntu 569M Nov  3 11:25 9670f3399f774789b7c3e18975d25611_003.json\r\n"
     ]
    }
   ],
   "source": [
    "!ls -lh 9670f3399f774789b7c3e18975d25611_003.json"
   ]
  },
  {
   "cell_type": "markdown",
   "metadata": {},
   "source": [
    "For your reference, here is the text of one Tweet, randomly selected from one of these files.  You might wish to study its structure and refer to it later."
   ]
  },
  {
   "cell_type": "code",
   "execution_count": 4,
   "metadata": {
    "collapsed": true
   },
   "outputs": [],
   "source": [
    "!cat *.json | shuf -n 1 > example-tweet.json"
   ]
  },
  {
   "cell_type": "code",
   "execution_count": 5,
   "metadata": {
    "scrolled": false
   },
   "outputs": [
    {
     "name": "stdout",
     "output_type": "stream",
     "text": [
      "{\n",
      "  \"entities\": {\n",
      "    \"media\": [\n",
      "      {\n",
      "        \"id\": 924916209103130625,\n",
      "        \"display_url\": \"pic.twitter.com/7NACbpBqDh\",\n",
      "        \"media_url_https\": \"https://pbs.twimg.com/media/DNX2ZEqX0AElPkK.jpg\",\n",
      "        \"indices\": [\n",
      "          87,\n",
      "          110\n",
      "        ],\n",
      "        \"media_url\": \"http://pbs.twimg.com/media/DNX2ZEqX0AElPkK.jpg\",\n",
      "        \"expanded_url\": \"https://twitter.com/yemekyapmaknet/status/924916211514830848/photo/1\",\n",
      "        \"id_str\": \"924916209103130625\",\n",
      "        \"type\": \"photo\",\n",
      "        \"url\": \"https://t.co/7NACbpBqDh\",\n",
      "        \"sizes\": {\n",
      "          \"thumb\": {\n",
      "            \"w\": 150,\n",
      "            \"resize\": \"crop\",\n",
      "            \"h\": 150\n",
      "          },\n",
      "          \"large\": {\n",
      "            \"w\": 1050,\n",
      "            \"resize\": \"fit\",\n",
      "            \"h\": 549\n",
      "          },\n",
      "          \"medium\": {\n",
      "            \"w\": 1050,\n",
      "            \"resize\": \"fit\",\n",
      "            \"h\": 549\n",
      "          },\n",
      "          \"small\": {\n",
      "            \"w\": 680,\n",
      "            \"resize\": \"fit\",\n",
      "            \"h\": 356\n",
      "          }\n",
      "        }\n",
      "      }\n",
      "    ],\n",
      "    \"user_mentions\": [],\n",
      "    \"urls\": [\n",
      "      {\n",
      "        \"expanded_url\": \"https://www.yemekyapmak.net/astros-down-the-dodgers-in-a-dramatic-and-dizzying-slugfest/\",\n",
      "        \"url\": \"https://t.co/wZHzZt7Iih\",\n",
      "        \"display_url\": \"yemekyapmak.net/astros-down-th\\u2026\",\n",
      "        \"indices\": [\n",
      "          63,\n",
      "          86\n",
      "        ]\n",
      "      }\n",
      "    ],\n",
      "    \"symbols\": [],\n",
      "    \"hashtags\": [\n",
      "      {\n",
      "        \"text\": \"Astros\",\n",
      "        \"indices\": [\n",
      "          0,\n",
      "          7\n",
      "        ]\n",
      "      }\n",
      "    ]\n",
      "  },\n",
      "  \"is_quote_status\": false,\n",
      "  \"in_reply_to_screen_name\": null,\n",
      "  \"reply_count\": 0,\n",
      "  \"possibly_sensitive\": false,\n",
      "  \"created_at\": \"Mon Oct 30 08:29:43 +0000 2017\",\n",
      "  \"extended_entities\": {\n",
      "    \"media\": [\n",
      "      {\n",
      "        \"id\": 924916209103130625,\n",
      "        \"display_url\": \"pic.twitter.com/7NACbpBqDh\",\n",
      "        \"media_url_https\": \"https://pbs.twimg.com/media/DNX2ZEqX0AElPkK.jpg\",\n",
      "        \"indices\": [\n",
      "          87,\n",
      "          110\n",
      "        ],\n",
      "        \"media_url\": \"http://pbs.twimg.com/media/DNX2ZEqX0AElPkK.jpg\",\n",
      "        \"expanded_url\": \"https://twitter.com/yemekyapmaknet/status/924916211514830848/photo/1\",\n",
      "        \"id_str\": \"924916209103130625\",\n",
      "        \"type\": \"photo\",\n",
      "        \"url\": \"https://t.co/7NACbpBqDh\",\n",
      "        \"sizes\": {\n",
      "          \"thumb\": {\n",
      "            \"w\": 150,\n",
      "            \"resize\": \"crop\",\n",
      "            \"h\": 150\n",
      "          },\n",
      "          \"large\": {\n",
      "            \"w\": 1050,\n",
      "            \"resize\": \"fit\",\n",
      "            \"h\": 549\n",
      "          },\n",
      "          \"medium\": {\n",
      "            \"w\": 1050,\n",
      "            \"resize\": \"fit\",\n",
      "            \"h\": 549\n",
      "          },\n",
      "          \"small\": {\n",
      "            \"w\": 680,\n",
      "            \"resize\": \"fit\",\n",
      "            \"h\": 356\n",
      "          }\n",
      "        }\n",
      "      }\n",
      "    ]\n",
      "  },\n",
      "  \"favorited\": false,\n",
      "  \"timestamp_ms\": \"1509352183594\",\n",
      "  \"lang\": \"en\",\n",
      "  \"geo\": null,\n",
      "  \"favorite_count\": 0,\n",
      "  \"id_str\": \"924916211514830848\",\n",
      "  \"text\": \"#Astros Down the Dodgers in a Dramatic and Dizzying Slugfest - https://t.co/wZHzZt7Iih https://t.co/7NACbpBqDh\",\n",
      "  \"id\": 924916211514830848,\n",
      "  \"coordinates\": null,\n",
      "  \"in_reply_to_user_id\": null,\n",
      "  \"in_reply_to_status_id\": null,\n",
      "  \"place\": null,\n",
      "  \"user\": {\n",
      "    \"default_profile_image\": false,\n",
      "    \"profile_background_image_url\": \"http://abs.twimg.com/images/themes/theme1/bg.png\",\n",
      "    \"contributors_enabled\": false,\n",
      "    \"name\": \"yemekyapmak\",\n",
      "    \"listed_count\": 2,\n",
      "    \"profile_sidebar_fill_color\": \"DDEEF6\",\n",
      "    \"screen_name\": \"yemekyapmaknet\",\n",
      "    \"id_str\": \"2784430024\",\n",
      "    \"is_translator\": false,\n",
      "    \"profile_use_background_image\": true,\n",
      "    \"profile_banner_url\": \"https://pbs.twimg.com/profile_banners/2784430024/1411852333\",\n",
      "    \"profile_background_color\": \"C0DEED\",\n",
      "    \"verified\": false,\n",
      "    \"translator_type\": \"none\",\n",
      "    \"time_zone\": null,\n",
      "    \"lang\": \"tr\",\n",
      "    \"following\": null,\n",
      "    \"geo_enabled\": false,\n",
      "    \"profile_link_color\": \"1DA1F2\",\n",
      "    \"default_profile\": true,\n",
      "    \"location\": \"istanbul\",\n",
      "    \"friends_count\": 41,\n",
      "    \"id\": 2784430024,\n",
      "    \"protected\": false,\n",
      "    \"utc_offset\": null,\n",
      "    \"favourites_count\": 0,\n",
      "    \"profile_background_tile\": false,\n",
      "    \"statuses_count\": 4257,\n",
      "    \"profile_image_url\": \"http://pbs.twimg.com/profile_images/515972503286468609/IbBwm43V_normal.png\",\n",
      "    \"created_at\": \"Thu Sep 25 21:19:39 +0000 2014\",\n",
      "    \"profile_text_color\": \"333333\",\n",
      "    \"url\": \"http://www.yemekyapmak.net\",\n",
      "    \"profile_sidebar_border_color\": \"C0DEED\",\n",
      "    \"followers_count\": 23,\n",
      "    \"follow_request_sent\": null,\n",
      "    \"notifications\": null,\n",
      "    \"profile_background_image_url_https\": \"https://abs.twimg.com/images/themes/theme1/bg.png\",\n",
      "    \"description\": \"Pratik ve kolay uygulanm\\u0131\\u015f yemek tarifleri. http://www.yemekyapmak.net\",\n",
      "    \"profile_image_url_https\": \"https://pbs.twimg.com/profile_images/515972503286468609/IbBwm43V_normal.png\"\n",
      "  },\n",
      "  \"display_text_range\": [\n",
      "    0,\n",
      "    86\n",
      "  ],\n",
      "  \"source\": \"<a href=\\\"http://www.yemekyapmak.net/\\\" rel=\\\"nofollow\\\">yemekyapmak.net</a>\",\n",
      "  \"contributors\": null,\n",
      "  \"retweeted\": false,\n",
      "  \"in_reply_to_user_id_str\": null,\n",
      "  \"truncated\": false,\n",
      "  \"quote_count\": 0,\n",
      "  \"in_reply_to_status_id_str\": null,\n",
      "  \"retweet_count\": 0,\n",
      "  \"filter_level\": \"low\"\n",
      "}\n"
     ]
    }
   ],
   "source": [
    "import json\n",
    "print(json.dumps(json.load(open(\"example-tweet.json\")), indent=2))"
   ]
  },
  {
   "cell_type": "markdown",
   "metadata": {},
   "source": [
    "You can find several key elements in this example; the text, time, and language of the tweet, whether it was a reply to another user, the user's screen name along with their primary language and other account information like creation date, follower/friend/tweet counts, and perhaps their location.  If there are hashtags, user mentions, or urls present in their tweet, they will be present in the `entities` section; these are not present in every tweet.  If this is a retweet, you will see the original tweet and its information nested within."
   ]
  },
  {
   "cell_type": "markdown",
   "metadata": {},
   "source": [
    "### Q1.2 - Start up Spark, and verify the file sizes."
   ]
  },
  {
   "cell_type": "markdown",
   "metadata": {},
   "source": [
    "We will use our normal startup sequence here:"
   ]
  },
  {
   "cell_type": "code",
   "execution_count": 1,
   "metadata": {
    "collapsed": true
   },
   "outputs": [],
   "source": [
    "import os"
   ]
  },
  {
   "cell_type": "code",
   "execution_count": 2,
   "metadata": {
    "collapsed": true
   },
   "outputs": [],
   "source": [
    "os.environ['SPARK_HOME'] = '/usr/local/lib/spark'"
   ]
  },
  {
   "cell_type": "code",
   "execution_count": 3,
   "metadata": {
    "collapsed": true
   },
   "outputs": [],
   "source": [
    "import findspark"
   ]
  },
  {
   "cell_type": "code",
   "execution_count": 4,
   "metadata": {
    "collapsed": true
   },
   "outputs": [],
   "source": [
    "findspark.init()"
   ]
  },
  {
   "cell_type": "code",
   "execution_count": 5,
   "metadata": {
    "collapsed": true
   },
   "outputs": [],
   "source": [
    "from pyspark import SparkContext"
   ]
  },
  {
   "cell_type": "code",
   "execution_count": 6,
   "metadata": {
    "collapsed": true
   },
   "outputs": [],
   "source": [
    "spark = SparkContext(appName='project-03')"
   ]
  },
  {
   "cell_type": "code",
   "execution_count": 7,
   "metadata": {},
   "outputs": [
    {
     "data": {
      "text/html": [
       "\n",
       "        <div>\n",
       "            <p><b>SparkContext</b></p>\n",
       "\n",
       "            <p><a href=\"http://172.31.93.27:4040\">Spark UI</a></p>\n",
       "\n",
       "            <dl>\n",
       "              <dt>Version</dt>\n",
       "                <dd><code>v2.2.0</code></dd>\n",
       "              <dt>Master</dt>\n",
       "                <dd><code>local[*]</code></dd>\n",
       "              <dt>AppName</dt>\n",
       "                <dd><code>project-03</code></dd>\n",
       "            </dl>\n",
       "        </div>\n",
       "        "
      ],
      "text/plain": [
       "<SparkContext master=local[*] appName=project-03>"
      ]
     },
     "execution_count": 7,
     "metadata": {},
     "output_type": "execute_result"
    }
   ],
   "source": [
    "spark"
   ]
  },
  {
   "cell_type": "code",
   "execution_count": 8,
   "metadata": {
    "collapsed": true
   },
   "outputs": [],
   "source": [
    "from pyspark import SQLContext"
   ]
  },
  {
   "cell_type": "code",
   "execution_count": 9,
   "metadata": {
    "collapsed": true
   },
   "outputs": [],
   "source": [
    "sqlc = SQLContext(spark)"
   ]
  },
  {
   "cell_type": "code",
   "execution_count": 10,
   "metadata": {},
   "outputs": [
    {
     "data": {
      "text/plain": [
       "<pyspark.sql.context.SQLContext at 0x7f20ab8b5d68>"
      ]
     },
     "execution_count": 10,
     "metadata": {},
     "output_type": "execute_result"
    }
   ],
   "source": [
    "sqlc"
   ]
  },
  {
   "cell_type": "markdown",
   "metadata": {},
   "source": [
    "Input tweet data set to spark."
   ]
  },
  {
   "cell_type": "code",
   "execution_count": 11,
   "metadata": {
    "collapsed": true
   },
   "outputs": [],
   "source": [
    "tweets = sqlc.read.json(\"9670f3399f774789b7c3e18975d25611_*.json\")"
   ]
  },
  {
   "cell_type": "markdown",
   "metadata": {},
   "source": [
    "Verify that Spark has loaded the same number of tweets you saw before:\n",
    "\n",
    "**Answer**"
   ]
  },
  {
   "cell_type": "markdown",
   "metadata": {},
   "source": [
    "**There is 100,000 records. Thus, we can verify that Spark has loaded the same number.**"
   ]
  },
  {
   "cell_type": "code",
   "execution_count": 24,
   "metadata": {},
   "outputs": [
    {
     "data": {
      "text/plain": [
       "100000"
      ]
     },
     "execution_count": 24,
     "metadata": {},
     "output_type": "execute_result"
    }
   ],
   "source": [
    "tweets.count()"
   ]
  },
  {
   "cell_type": "markdown",
   "metadata": {},
   "source": [
    "## Part 2 - Comparing DataFrames and Spark SQL\n",
    "\n",
    "For the next three questions, we will look at operations using both DataFrames and SQL queries. Note that `tweets` is already a DataFrame:"
   ]
  },
  {
   "cell_type": "code",
   "execution_count": 16,
   "metadata": {},
   "outputs": [
    {
     "data": {
      "text/plain": [
       "DataFrame[contributors: string, coordinates: struct<coordinates:array<double>,type:string>, created_at: string, display_text_range: array<bigint>, entities: struct<hashtags:array<struct<indices:array<bigint>,text:string>>,media:array<struct<display_url:string,expanded_url:string,id:bigint,id_str:string,indices:array<bigint>,media_url:string,media_url_https:string,sizes:struct<large:struct<h:bigint,resize:string,w:bigint>,medium:struct<h:bigint,resize:string,w:bigint>,small:struct<h:bigint,resize:string,w:bigint>,thumb:struct<h:bigint,resize:string,w:bigint>>,source_status_id:bigint,source_status_id_str:string,source_user_id:bigint,source_user_id_str:string,type:string,url:string>>,symbols:array<struct<indices:array<bigint>,text:string>>,urls:array<struct<display_url:string,expanded_url:string,indices:array<bigint>,url:string>>,user_mentions:array<struct<id:bigint,id_str:string,indices:array<bigint>,name:string,screen_name:string>>>, extended_entities: struct<media:array<struct<display_url:string,expanded_url:string,id:bigint,id_str:string,indices:array<bigint>,media_url:string,media_url_https:string,sizes:struct<large:struct<h:bigint,resize:string,w:bigint>,medium:struct<h:bigint,resize:string,w:bigint>,small:struct<h:bigint,resize:string,w:bigint>,thumb:struct<h:bigint,resize:string,w:bigint>>,source_status_id:bigint,source_status_id_str:string,source_user_id:bigint,source_user_id_str:string,type:string,url:string,video_info:struct<aspect_ratio:array<bigint>,duration_millis:bigint,variants:array<struct<bitrate:bigint,content_type:string,url:string>>>>>>, extended_tweet: struct<display_text_range:array<bigint>,entities:struct<hashtags:array<struct<indices:array<bigint>,text:string>>,media:array<struct<display_url:string,expanded_url:string,id:bigint,id_str:string,indices:array<bigint>,media_url:string,media_url_https:string,sizes:struct<large:struct<h:bigint,resize:string,w:bigint>,medium:struct<h:bigint,resize:string,w:bigint>,small:struct<h:bigint,resize:string,w:bigint>,thumb:struct<h:bigint,resize:string,w:bigint>>,source_status_id:bigint,source_status_id_str:string,source_user_id:bigint,source_user_id_str:string,type:string,url:string,video_info:struct<aspect_ratio:array<bigint>,duration_millis:bigint,variants:array<struct<bitrate:bigint,content_type:string,url:string>>>>>,symbols:array<string>,urls:array<struct<display_url:string,expanded_url:string,indices:array<bigint>,url:string>>,user_mentions:array<struct<id:bigint,id_str:string,indices:array<bigint>,name:string,screen_name:string>>>,extended_entities:struct<media:array<struct<display_url:string,expanded_url:string,id:bigint,id_str:string,indices:array<bigint>,media_url:string,media_url_https:string,sizes:struct<large:struct<h:bigint,resize:string,w:bigint>,medium:struct<h:bigint,resize:string,w:bigint>,small:struct<h:bigint,resize:string,w:bigint>,thumb:struct<h:bigint,resize:string,w:bigint>>,source_status_id:bigint,source_status_id_str:string,source_user_id:bigint,source_user_id_str:string,type:string,url:string,video_info:struct<aspect_ratio:array<bigint>,duration_millis:bigint,variants:array<struct<bitrate:bigint,content_type:string,url:string>>>>>>,full_text:string>, favorite_count: bigint, favorited: boolean, filter_level: string, geo: struct<coordinates:array<double>,type:string>, id: bigint, id_str: string, in_reply_to_screen_name: string, in_reply_to_status_id: bigint, in_reply_to_status_id_str: string, in_reply_to_user_id: bigint, in_reply_to_user_id_str: string, is_quote_status: boolean, lang: string, place: struct<bounding_box:struct<coordinates:array<array<array<double>>>,type:string>,country:string,country_code:string,full_name:string,id:string,name:string,place_type:string,url:string>, possibly_sensitive: boolean, quote_count: bigint, quoted_status: struct<contributors:string,coordinates:struct<coordinates:array<double>,type:string>,created_at:string,display_text_range:array<bigint>,entities:struct<hashtags:array<struct<indices:array<bigint>,text:string>>,media:array<struct<description:string,display_url:string,expanded_url:string,id:bigint,id_str:string,indices:array<bigint>,media_url:string,media_url_https:string,sizes:struct<large:struct<h:bigint,resize:string,w:bigint>,medium:struct<h:bigint,resize:string,w:bigint>,small:struct<h:bigint,resize:string,w:bigint>,thumb:struct<h:bigint,resize:string,w:bigint>>,source_status_id:bigint,source_status_id_str:string,source_user_id:bigint,source_user_id_str:string,type:string,url:string>>,symbols:array<string>,urls:array<struct<display_url:string,expanded_url:string,indices:array<bigint>,url:string>>,user_mentions:array<struct<id:bigint,id_str:string,indices:array<bigint>,name:string,screen_name:string>>>,extended_entities:struct<media:array<struct<description:string,display_url:string,expanded_url:string,id:bigint,id_str:string,indices:array<bigint>,media_url:string,media_url_https:string,sizes:struct<large:struct<h:bigint,resize:string,w:bigint>,medium:struct<h:bigint,resize:string,w:bigint>,small:struct<h:bigint,resize:string,w:bigint>,thumb:struct<h:bigint,resize:string,w:bigint>>,source_status_id:bigint,source_status_id_str:string,source_user_id:bigint,source_user_id_str:string,type:string,url:string,video_info:struct<aspect_ratio:array<bigint>,duration_millis:bigint,variants:array<struct<bitrate:bigint,content_type:string,url:string>>>>>>,extended_tweet:struct<display_text_range:array<bigint>,entities:struct<hashtags:array<struct<indices:array<bigint>,text:string>>,media:array<struct<display_url:string,expanded_url:string,id:bigint,id_str:string,indices:array<bigint>,media_url:string,media_url_https:string,sizes:struct<large:struct<h:bigint,resize:string,w:bigint>,medium:struct<h:bigint,resize:string,w:bigint>,small:struct<h:bigint,resize:string,w:bigint>,thumb:struct<h:bigint,resize:string,w:bigint>>,source_status_id:bigint,source_status_id_str:string,source_user_id:bigint,source_user_id_str:string,type:string,url:string,video_info:struct<aspect_ratio:array<bigint>,duration_millis:bigint,variants:array<struct<bitrate:bigint,content_type:string,url:string>>>>>,symbols:array<string>,urls:array<struct<display_url:string,expanded_url:string,indices:array<bigint>,url:string>>,user_mentions:array<struct<id:bigint,id_str:string,indices:array<bigint>,name:string,screen_name:string>>>,extended_entities:struct<media:array<struct<display_url:string,expanded_url:string,id:bigint,id_str:string,indices:array<bigint>,media_url:string,media_url_https:string,sizes:struct<large:struct<h:bigint,resize:string,w:bigint>,medium:struct<h:bigint,resize:string,w:bigint>,small:struct<h:bigint,resize:string,w:bigint>,thumb:struct<h:bigint,resize:string,w:bigint>>,source_status_id:bigint,source_status_id_str:string,source_user_id:bigint,source_user_id_str:string,type:string,url:string,video_info:struct<aspect_ratio:array<bigint>,duration_millis:bigint,variants:array<struct<bitrate:bigint,content_type:string,url:string>>>>>>,full_text:string>,favorite_count:bigint,favorited:boolean,filter_level:string,geo:struct<coordinates:array<double>,type:string>,id:bigint,id_str:string,in_reply_to_screen_name:string,in_reply_to_status_id:bigint,in_reply_to_status_id_str:string,in_reply_to_user_id:bigint,in_reply_to_user_id_str:string,is_quote_status:boolean,lang:string,place:struct<bounding_box:struct<coordinates:array<array<array<double>>>,type:string>,country:string,country_code:string,full_name:string,id:string,name:string,place_type:string,url:string>,possibly_sensitive:boolean,quote_count:bigint,quoted_status_id:bigint,quoted_status_id_str:string,reply_count:bigint,retweet_count:bigint,retweeted:boolean,scopes:struct<followers:boolean>,source:string,text:string,truncated:boolean,user:struct<contributors_enabled:boolean,created_at:string,default_profile:boolean,default_profile_image:boolean,description:string,favourites_count:bigint,follow_request_sent:string,followers_count:bigint,following:string,friends_count:bigint,geo_enabled:boolean,id:bigint,id_str:string,is_translator:boolean,lang:string,listed_count:bigint,location:string,name:string,notifications:string,profile_background_color:string,profile_background_image_url:string,profile_background_image_url_https:string,profile_background_tile:boolean,profile_banner_url:string,profile_image_url:string,profile_image_url_https:string,profile_link_color:string,profile_sidebar_border_color:string,profile_sidebar_fill_color:string,profile_text_color:string,profile_use_background_image:boolean,protected:boolean,screen_name:string,statuses_count:bigint,time_zone:string,translator_type:string,url:string,utc_offset:bigint,verified:boolean>>, quoted_status_id: bigint, quoted_status_id_str: string, reply_count: bigint, retweet_count: bigint, retweeted: boolean, retweeted_status: struct<contributors:string,coordinates:struct<coordinates:array<double>,type:string>,created_at:string,display_text_range:array<bigint>,entities:struct<hashtags:array<struct<indices:array<bigint>,text:string>>,media:array<struct<display_url:string,expanded_url:string,id:bigint,id_str:string,indices:array<bigint>,media_url:string,media_url_https:string,sizes:struct<large:struct<h:bigint,resize:string,w:bigint>,medium:struct<h:bigint,resize:string,w:bigint>,small:struct<h:bigint,resize:string,w:bigint>,thumb:struct<h:bigint,resize:string,w:bigint>>,source_status_id:bigint,source_status_id_str:string,source_user_id:bigint,source_user_id_str:string,type:string,url:string>>,symbols:array<struct<indices:array<bigint>,text:string>>,urls:array<struct<display_url:string,expanded_url:string,indices:array<bigint>,url:string>>,user_mentions:array<struct<id:bigint,id_str:string,indices:array<bigint>,name:string,screen_name:string>>>,extended_entities:struct<media:array<struct<display_url:string,expanded_url:string,id:bigint,id_str:string,indices:array<bigint>,media_url:string,media_url_https:string,sizes:struct<large:struct<h:bigint,resize:string,w:bigint>,medium:struct<h:bigint,resize:string,w:bigint>,small:struct<h:bigint,resize:string,w:bigint>,thumb:struct<h:bigint,resize:string,w:bigint>>,source_status_id:bigint,source_status_id_str:string,source_user_id:bigint,source_user_id_str:string,type:string,url:string,video_info:struct<aspect_ratio:array<bigint>,duration_millis:bigint,variants:array<struct<bitrate:bigint,content_type:string,url:string>>>>>>,extended_tweet:struct<display_text_range:array<bigint>,entities:struct<hashtags:array<struct<indices:array<bigint>,text:string>>,media:array<struct<description:string,display_url:string,expanded_url:string,id:bigint,id_str:string,indices:array<bigint>,media_url:string,media_url_https:string,sizes:struct<large:struct<h:bigint,resize:string,w:bigint>,medium:struct<h:bigint,resize:string,w:bigint>,small:struct<h:bigint,resize:string,w:bigint>,thumb:struct<h:bigint,resize:string,w:bigint>>,source_status_id:bigint,source_status_id_str:string,source_user_id:bigint,source_user_id_str:string,type:string,url:string,video_info:struct<aspect_ratio:array<bigint>,duration_millis:bigint,variants:array<struct<bitrate:bigint,content_type:string,url:string>>>>>,symbols:array<string>,urls:array<struct<display_url:string,expanded_url:string,indices:array<bigint>,url:string>>,user_mentions:array<struct<id:bigint,id_str:string,indices:array<bigint>,name:string,screen_name:string>>>,extended_entities:struct<media:array<struct<description:string,display_url:string,expanded_url:string,id:bigint,id_str:string,indices:array<bigint>,media_url:string,media_url_https:string,sizes:struct<large:struct<h:bigint,resize:string,w:bigint>,medium:struct<h:bigint,resize:string,w:bigint>,small:struct<h:bigint,resize:string,w:bigint>,thumb:struct<h:bigint,resize:string,w:bigint>>,source_status_id:bigint,source_status_id_str:string,source_user_id:bigint,source_user_id_str:string,type:string,url:string,video_info:struct<aspect_ratio:array<bigint>,duration_millis:bigint,variants:array<struct<bitrate:bigint,content_type:string,url:string>>>>>>,full_text:string>,favorite_count:bigint,favorited:boolean,filter_level:string,geo:struct<coordinates:array<double>,type:string>,id:bigint,id_str:string,in_reply_to_screen_name:string,in_reply_to_status_id:bigint,in_reply_to_status_id_str:string,in_reply_to_user_id:bigint,in_reply_to_user_id_str:string,is_quote_status:boolean,lang:string,place:struct<bounding_box:struct<coordinates:array<array<array<double>>>,type:string>,country:string,country_code:string,full_name:string,id:string,name:string,place_type:string,url:string>,possibly_sensitive:boolean,quote_count:bigint,quoted_status:struct<contributors:string,coordinates:struct<coordinates:array<double>,type:string>,created_at:string,display_text_range:array<bigint>,entities:struct<hashtags:array<struct<indices:array<bigint>,text:string>>,media:array<struct<display_url:string,expanded_url:string,id:bigint,id_str:string,indices:array<bigint>,media_url:string,media_url_https:string,sizes:struct<large:struct<h:bigint,resize:string,w:bigint>,medium:struct<h:bigint,resize:string,w:bigint>,small:struct<h:bigint,resize:string,w:bigint>,thumb:struct<h:bigint,resize:string,w:bigint>>,source_status_id:bigint,source_status_id_str:string,source_user_id:bigint,source_user_id_str:string,type:string,url:string>>,symbols:array<string>,urls:array<struct<display_url:string,expanded_url:string,indices:array<bigint>,url:string>>,user_mentions:array<struct<id:bigint,id_str:string,indices:array<bigint>,name:string,screen_name:string>>>,extended_entities:struct<media:array<struct<display_url:string,expanded_url:string,id:bigint,id_str:string,indices:array<bigint>,media_url:string,media_url_https:string,sizes:struct<large:struct<h:bigint,resize:string,w:bigint>,medium:struct<h:bigint,resize:string,w:bigint>,small:struct<h:bigint,resize:string,w:bigint>,thumb:struct<h:bigint,resize:string,w:bigint>>,source_status_id:bigint,source_status_id_str:string,source_user_id:bigint,source_user_id_str:string,type:string,url:string,video_info:struct<aspect_ratio:array<bigint>,duration_millis:bigint,variants:array<struct<bitrate:bigint,content_type:string,url:string>>>>>>,extended_tweet:struct<display_text_range:array<bigint>,entities:struct<hashtags:array<struct<indices:array<bigint>,text:string>>,media:array<struct<display_url:string,expanded_url:string,id:bigint,id_str:string,indices:array<bigint>,media_url:string,media_url_https:string,sizes:struct<large:struct<h:bigint,resize:string,w:bigint>,medium:struct<h:bigint,resize:string,w:bigint>,small:struct<h:bigint,resize:string,w:bigint>,thumb:struct<h:bigint,resize:string,w:bigint>>,type:string,url:string,video_info:struct<aspect_ratio:array<bigint>,duration_millis:bigint,variants:array<struct<bitrate:bigint,content_type:string,url:string>>>>>,symbols:array<string>,urls:array<struct<display_url:string,expanded_url:string,indices:array<bigint>,url:string>>,user_mentions:array<struct<id:bigint,id_str:string,indices:array<bigint>,name:string,screen_name:string>>>,extended_entities:struct<media:array<struct<display_url:string,expanded_url:string,id:bigint,id_str:string,indices:array<bigint>,media_url:string,media_url_https:string,sizes:struct<large:struct<h:bigint,resize:string,w:bigint>,medium:struct<h:bigint,resize:string,w:bigint>,small:struct<h:bigint,resize:string,w:bigint>,thumb:struct<h:bigint,resize:string,w:bigint>>,type:string,url:string,video_info:struct<aspect_ratio:array<bigint>,duration_millis:bigint,variants:array<struct<bitrate:bigint,content_type:string,url:string>>>>>>,full_text:string>,favorite_count:bigint,favorited:boolean,filter_level:string,geo:struct<coordinates:array<double>,type:string>,id:bigint,id_str:string,in_reply_to_screen_name:string,in_reply_to_status_id:bigint,in_reply_to_status_id_str:string,in_reply_to_user_id:bigint,in_reply_to_user_id_str:string,is_quote_status:boolean,lang:string,place:struct<bounding_box:struct<coordinates:array<array<array<double>>>,type:string>,country:string,country_code:string,full_name:string,id:string,name:string,place_type:string,url:string>,possibly_sensitive:boolean,quote_count:bigint,quoted_status_id:bigint,quoted_status_id_str:string,reply_count:bigint,retweet_count:bigint,retweeted:boolean,source:string,text:string,truncated:boolean,user:struct<contributors_enabled:boolean,created_at:string,default_profile:boolean,default_profile_image:boolean,description:string,favourites_count:bigint,follow_request_sent:string,followers_count:bigint,following:string,friends_count:bigint,geo_enabled:boolean,id:bigint,id_str:string,is_translator:boolean,lang:string,listed_count:bigint,location:string,name:string,notifications:string,profile_background_color:string,profile_background_image_url:string,profile_background_image_url_https:string,profile_background_tile:boolean,profile_banner_url:string,profile_image_url:string,profile_image_url_https:string,profile_link_color:string,profile_sidebar_border_color:string,profile_sidebar_fill_color:string,profile_text_color:string,profile_use_background_image:boolean,protected:boolean,screen_name:string,statuses_count:bigint,time_zone:string,translator_type:string,url:string,utc_offset:bigint,verified:boolean>>,quoted_status_id:bigint,quoted_status_id_str:string,reply_count:bigint,retweet_count:bigint,retweeted:boolean,source:string,text:string,truncated:boolean,user:struct<contributors_enabled:boolean,created_at:string,default_profile:boolean,default_profile_image:boolean,description:string,favourites_count:bigint,follow_request_sent:string,followers_count:bigint,following:string,friends_count:bigint,geo_enabled:boolean,id:bigint,id_str:string,is_translator:boolean,lang:string,listed_count:bigint,location:string,name:string,notifications:string,profile_background_color:string,profile_background_image_url:string,profile_background_image_url_https:string,profile_background_tile:boolean,profile_banner_url:string,profile_image_url:string,profile_image_url_https:string,profile_link_color:string,profile_sidebar_border_color:string,profile_sidebar_fill_color:string,profile_text_color:string,profile_use_background_image:boolean,protected:boolean,screen_name:string,statuses_count:bigint,time_zone:string,translator_type:string,url:string,utc_offset:bigint,verified:boolean>>, source: string, text: string, timestamp_ms: string, truncated: boolean, user: struct<contributors_enabled:boolean,created_at:string,default_profile:boolean,default_profile_image:boolean,description:string,favourites_count:bigint,follow_request_sent:string,followers_count:bigint,following:string,friends_count:bigint,geo_enabled:boolean,id:bigint,id_str:string,is_translator:boolean,lang:string,listed_count:bigint,location:string,name:string,notifications:string,profile_background_color:string,profile_background_image_url:string,profile_background_image_url_https:string,profile_background_tile:boolean,profile_banner_url:string,profile_image_url:string,profile_image_url_https:string,profile_link_color:string,profile_sidebar_border_color:string,profile_sidebar_fill_color:string,profile_text_color:string,profile_use_background_image:boolean,protected:boolean,screen_name:string,statuses_count:bigint,time_zone:string,translator_type:string,url:string,utc_offset:bigint,verified:boolean>]"
      ]
     },
     "execution_count": 16,
     "metadata": {},
     "output_type": "execute_result"
    }
   ],
   "source": [
    "tweets"
   ]
  },
  {
   "cell_type": "markdown",
   "metadata": {},
   "source": [
    "To issue SQL queries, we need to register a table based on `tweets`:"
   ]
  },
  {
   "cell_type": "code",
   "execution_count": 25,
   "metadata": {
    "collapsed": true
   },
   "outputs": [],
   "source": [
    "tweets.createOrReplaceTempView(\"tweets\")"
   ]
  },
  {
   "cell_type": "markdown",
   "metadata": {},
   "source": [
    "### Q2.1 - Which 10 languages are most commonly used in tweets?  Verify your result by executing it with both the dataframe and with SQL.\n",
    "\n",
    "Hint: for the dataframe, use `groupBy`, `count`, and `orderBy`.  See the documentation at https://spark.apache.org/docs/2.2.0/api/python/pyspark.sql.html for details on these and other functions.\n",
    "\n",
    "**Answer**"
   ]
  },
  {
   "cell_type": "code",
   "execution_count": 14,
   "metadata": {},
   "outputs": [
    {
     "name": "stdout",
     "output_type": "stream",
     "text": [
      "+----+-----+\n",
      "|lang|count|\n",
      "+----+-----+\n",
      "|  en|88987|\n",
      "|  es| 6825|\n",
      "| und| 3058|\n",
      "|  in|  210|\n",
      "|  fr|  181|\n",
      "|  pt|  133|\n",
      "|  nl|   89|\n",
      "|  ht|   83|\n",
      "|  ja|   81|\n",
      "|  tl|   77|\n",
      "+----+-----+\n",
      "only showing top 10 rows\n",
      "\n"
     ]
    }
   ],
   "source": [
    "tweets.select(\"lang\").groupBy(\"lang\").count().orderBy(\"count\",ascending=False).show(10)"
   ]
  },
  {
   "cell_type": "markdown",
   "metadata": {},
   "source": [
    "**The 10 most commonly used languages are English, Spanish, undertermined language, Indonesian, french, Portuguese, Dutch, Haitian Creole,Japanese, and Tagalog.**"
   ]
  },
  {
   "cell_type": "code",
   "execution_count": 20,
   "metadata": {},
   "outputs": [
    {
     "name": "stdout",
     "output_type": "stream",
     "text": [
      "+--------+-----+\n",
      "|language|count|\n",
      "+--------+-----+\n",
      "|      en|88987|\n",
      "|      es| 6825|\n",
      "|     und| 3058|\n",
      "|      in|  210|\n",
      "|      fr|  181|\n",
      "|      pt|  133|\n",
      "|      nl|   89|\n",
      "|      ht|   83|\n",
      "|      ja|   81|\n",
      "|      tl|   77|\n",
      "+--------+-----+\n",
      "\n"
     ]
    }
   ],
   "source": [
    "sqlc.sql(\"\"\"\n",
    "SELECT lang AS language, COUNT(*) AS count\n",
    "FROM tweets\n",
    "GROUP BY language\n",
    "ORDER BY count DESC\n",
    "LIMIT 10\n",
    "\"\"\").show()"
   ]
  },
  {
   "cell_type": "markdown",
   "metadata": {},
   "source": [
    "**We got the same result by SQL query and spark python code.**"
   ]
  },
  {
   "cell_type": "markdown",
   "metadata": {},
   "source": [
    "### Q2.2 - Which 10 time zones are most common among users?  Verify your result with both the dataframe and SQL.\n",
    "\n",
    "*Note*: for this question, you may leave NULL values present in your results, as a way to help you understand what data is present and what is missing.\n",
    "\n",
    "**Answer**"
   ]
  },
  {
   "cell_type": "code",
   "execution_count": 21,
   "metadata": {},
   "outputs": [
    {
     "name": "stdout",
     "output_type": "stream",
     "text": [
      "+--------------------+-----+\n",
      "|           time_zone|count|\n",
      "+--------------------+-----+\n",
      "|                null|42239|\n",
      "|Central Time (US ...|17436|\n",
      "|Pacific Time (US ...|17097|\n",
      "|Eastern Time (US ...| 8664|\n",
      "|             Arizona| 2490|\n",
      "|Mountain Time (US...| 2475|\n",
      "|Atlantic Time (Ca...| 1048|\n",
      "|             Caracas| 1006|\n",
      "|              Hawaii|  821|\n",
      "|         Mexico City|  793|\n",
      "+--------------------+-----+\n",
      "only showing top 10 rows\n",
      "\n"
     ]
    }
   ],
   "source": [
    "tweets.select('user.time_zone').groupBy('time_zone').count().orderBy('count',ascending=False).show(10)"
   ]
  },
  {
   "cell_type": "code",
   "execution_count": 22,
   "metadata": {},
   "outputs": [
    {
     "name": "stdout",
     "output_type": "stream",
     "text": [
      "+--------------------+-----+\n",
      "|           time_zone|count|\n",
      "+--------------------+-----+\n",
      "|                null|42239|\n",
      "|Central Time (US ...|17436|\n",
      "|Pacific Time (US ...|17097|\n",
      "|Eastern Time (US ...| 8664|\n",
      "|             Arizona| 2490|\n",
      "|Mountain Time (US...| 2475|\n",
      "|Atlantic Time (Ca...| 1048|\n",
      "|             Caracas| 1006|\n",
      "|              Hawaii|  821|\n",
      "|         Mexico City|  793|\n",
      "+--------------------+-----+\n",
      "\n"
     ]
    }
   ],
   "source": [
    "sqlc.sql(\"\"\"\n",
    "SELECT user.time_zone AS time_zone, COUNT(*) AS count\n",
    "FROM tweets\n",
    "GROUP BY time_zone\n",
    "ORDER BY count DESC\n",
    "LIMIT 10\n",
    "\"\"\").show()"
   ]
  },
  {
   "cell_type": "markdown",
   "metadata": {},
   "source": [
    "**We got same result by SQL query and spark python code.**"
   ]
  },
  {
   "cell_type": "markdown",
   "metadata": {},
   "source": [
    "### Q2.3 - How many tweets mention the Dodgers?  How many mention the Astros?  How many mention both?\n",
    "\n",
    "You may use either the dataframe or SQL to answer.  Explain why you have chosen that approach.\n",
    "\n",
    "Hint:  you will want to look at the value of the `text` field.\n",
    "\n",
    "**Answer**"
   ]
  },
  {
   "cell_type": "markdown",
   "metadata": {},
   "source": [
    "**We assumed \"Dodgers\" and \"Astros\" should be capital insensitive.**"
   ]
  },
  {
   "cell_type": "markdown",
   "metadata": {},
   "source": [
    "**We transfromed all text content to lower case to achieve capital insensitive search.**"
   ]
  },
  {
   "cell_type": "markdown",
   "metadata": {},
   "source": [
    "**The reason why we used SQL to answer this question was that we believed the SQL syntax \"like\" could make our queries clearly  readable.**"
   ]
  },
  {
   "cell_type": "code",
   "execution_count": 50,
   "metadata": {},
   "outputs": [
    {
     "name": "stdout",
     "output_type": "stream",
     "text": [
      "+-----+\n",
      "|count|\n",
      "+-----+\n",
      "|33114|\n",
      "+-----+\n",
      "\n"
     ]
    }
   ],
   "source": [
    "sqlc.sql(\"\"\"\n",
    "SELECT COUNT(*) AS count \n",
    "FROM tweets\n",
    "WHERE Lower(tweets.text) LIKE '%dodgers%'\n",
    "\"\"\").show()"
   ]
  },
  {
   "cell_type": "code",
   "execution_count": 51,
   "metadata": {},
   "outputs": [
    {
     "name": "stdout",
     "output_type": "stream",
     "text": [
      "+-----+\n",
      "|count|\n",
      "+-----+\n",
      "|70149|\n",
      "+-----+\n",
      "\n"
     ]
    }
   ],
   "source": [
    "sqlc.sql(\"\"\"\n",
    "SELECT COUNT(*) AS count FROM tweets\n",
    "WHERE Lower(text) LIKE '%astros%' \n",
    "\"\"\").show()"
   ]
  },
  {
   "cell_type": "code",
   "execution_count": 56,
   "metadata": {},
   "outputs": [
    {
     "name": "stdout",
     "output_type": "stream",
     "text": [
      "+-----+\n",
      "|count|\n",
      "+-----+\n",
      "|13962|\n",
      "+-----+\n",
      "\n"
     ]
    }
   ],
   "source": [
    "sqlc.sql(\"\"\"\n",
    "SELECT COUNT(*) AS count FROM tweets\n",
    "WHERE lower(text) LIKE '%astros%' AND lower(text) LIKE '%dodgers%'\n",
    "\"\"\").show()"
   ]
  },
  {
   "cell_type": "markdown",
   "metadata": {},
   "source": [
    "## Part 3 - More complex queries\n",
    "\n",
    "For this section, you may choose to use dataframe queries or SQL.  If you wish, you may verify results by using both, as in Part 2, but this is not required for this section.\n",
    "\n",
    "### Q3.1 - Team mentions by location\n",
    "\n",
    "In which users' locations are the Astros and the Dodgers being mentioned the most?  Consider each team separately, one at a time.  Discuss your findings.\n",
    "\n",
    "Hint:  you may use either the time zones or user-specified locations for this question.\n",
    "\n",
    "**Answer**"
   ]
  },
  {
   "cell_type": "markdown",
   "metadata": {},
   "source": [
    "**In the following answers, we didn't clean null value since we believed understanding what data was present and what was missing was also important.**"
   ]
  },
  {
   "cell_type": "code",
   "execution_count": 59,
   "metadata": {},
   "outputs": [
    {
     "name": "stdout",
     "output_type": "stream",
     "text": [
      "+-------------------+-----+\n",
      "|           location|count|\n",
      "+-------------------+-----+\n",
      "|               null|10064|\n",
      "|    Los Angeles, CA| 1192|\n",
      "|        Houston, TX|  721|\n",
      "|    California, USA|  565|\n",
      "|        Los Angeles|  451|\n",
      "|      United States|  379|\n",
      "|         Texas, USA|  226|\n",
      "|          Venezuela|  203|\n",
      "|         California|  171|\n",
      "|             México|  136|\n",
      "|      Las Vegas, NV|  107|\n",
      "|        Chicago, IL|  104|\n",
      "|              Texas|  102|\n",
      "|    San Antonio, TX|  100|\n",
      "|            Houston|   94|\n",
      "|                USA|   87|\n",
      "|      San Diego, CA|   81|\n",
      "|                 LA|   78|\n",
      "|Southern California|   76|\n",
      "|     Long Beach, CA|   75|\n",
      "+-------------------+-----+\n",
      "only showing top 20 rows\n",
      "\n"
     ]
    }
   ],
   "source": [
    "sqlc.sql(\"\"\"\n",
    "SELECT user.location, COUNT(*) AS count\n",
    "FROM tweets\n",
    "WHERE lower(text) LIKE '%dodgers%'\n",
    "GROUP BY location\n",
    "ORDER BY count DESC\n",
    "\"\"\").show()"
   ]
  },
  {
   "cell_type": "markdown",
   "metadata": {},
   "source": [
    "**It is pretty reasonable that users in Los Angeles mentioned Dodgers most excluding null value because Dodgers is a team from Los Angeles.**"
   ]
  },
  {
   "cell_type": "code",
   "execution_count": 61,
   "metadata": {},
   "outputs": [
    {
     "name": "stdout",
     "output_type": "stream",
     "text": [
      "+-------------------+-----+\n",
      "|           location|count|\n",
      "+-------------------+-----+\n",
      "|               null|19352|\n",
      "|        Houston, TX| 5670|\n",
      "|         Texas, USA| 1213|\n",
      "|              Texas|  738|\n",
      "|            Houston|  696|\n",
      "|    Los Angeles, CA|  679|\n",
      "|     Houston, Texas|  564|\n",
      "|      United States|  528|\n",
      "|         Austin, TX|  406|\n",
      "|    California, USA|  394|\n",
      "|    San Antonio, TX|  381|\n",
      "|                HTX|  277|\n",
      "|        Houston, Tx|  269|\n",
      "|        Los Angeles|  235|\n",
      "|College Station, TX|  212|\n",
      "|        Chicago, IL|  204|\n",
      "|         Dallas, TX|  200|\n",
      "|             México|  179|\n",
      "|          Venezuela|  162|\n",
      "|                htx|  162|\n",
      "+-------------------+-----+\n",
      "only showing top 20 rows\n",
      "\n"
     ]
    }
   ],
   "source": [
    "sqlc.sql(\"\"\"\n",
    "SELECT user.location, COUNT(*) AS count\n",
    "FROM tweets\n",
    "WHERE lower(text) LIKE '%astros%'\n",
    "GROUP BY location\n",
    "ORDER BY count DESC\n",
    "\"\"\").show()"
   ]
  },
  {
   "cell_type": "markdown",
   "metadata": {},
   "source": [
    "**It is pretty reasonable that users in Houston mentioned Astros most excluding null value because Astros is a team from Houston.**"
   ]
  },
  {
   "cell_type": "markdown",
   "metadata": {},
   "source": [
    "### Q3.2 - Which Twitter users are being replied to the most?\n",
    "\n",
    "Discuss your findings.\n",
    "\n",
    "Hint: use the top-level `in_reply_to_screen_name` for this.\n",
    "\n",
    "**Answer**"
   ]
  },
  {
   "cell_type": "code",
   "execution_count": 73,
   "metadata": {},
   "outputs": [
    {
     "name": "stdout",
     "output_type": "stream",
     "text": [
      "+---------------+-----+\n",
      "|           name|count|\n",
      "+---------------+-----+\n",
      "|         astros|  821|\n",
      "|        Dodgers|  624|\n",
      "|            MLB|  196|\n",
      "|  stephenasmith|  106|\n",
      "|       MLBONFOX|   68|\n",
      "|  DodgerInsider|   61|\n",
      "|  Nick_Offerman|   54|\n",
      "|        ABREG_1|   49|\n",
      "|        trvisXX|   46|\n",
      "|JustinVerlander|   42|\n",
      "|   katiedtellez|   36|\n",
      "|TitanicBaseball|   30|\n",
      "|    TeddyCatnip|   24|\n",
      "|      FOXSports|   22|\n",
      "|      benmaller|   22|\n",
      "|  rolandsmartin|   22|\n",
      "|     JoelEmbiid|   21|\n",
      "| DonnieWahlberg|   21|\n",
      "|     LADominate|   21|\n",
      "|  BlainVincent7|   20|\n",
      "+---------------+-----+\n",
      "only showing top 20 rows\n",
      "\n"
     ]
    }
   ],
   "source": [
    "sqlc.sql(\"\"\"\n",
    "SELECT in_reply_to_screen_name AS name, COUNT(*) AS count\n",
    "FROM tweets\n",
    "WHERE in_reply_to_screen_name IS NOT NULL\n",
    "GROUP BY name\n",
    "ORDER BY count DESC\n",
    "\"\"\").show()"
   ]
  },
  {
   "cell_type": "markdown",
   "metadata": {},
   "source": [
    "**ANS: \"astros\" was the Twitter user who had the most replies.**"
   ]
  },
  {
   "cell_type": "markdown",
   "metadata": {},
   "source": [
    "### Q3.3 - Which 10 verified users have the most followers?  Which 10 unverified users have the most followers?\n",
    "\n",
    "Provide both the screen names and follower counts for each.\n",
    "\n",
    "Discuss your findings.\n",
    "\n",
    "**Answer**"
   ]
  },
  {
   "cell_type": "code",
   "execution_count": 18,
   "metadata": {},
   "outputs": [
    {
     "name": "stdout",
     "output_type": "stream",
     "text": [
      "+--------------+--------+\n",
      "|   screen_name|  counts|\n",
      "+--------------+--------+\n",
      "|       Reuters|18937529|\n",
      "|       FoxNews|16272836|\n",
      "|           ABC|12551437|\n",
      "|washingtonpost|11417638|\n",
      "|           MLB| 7841255|\n",
      "|           NPR| 7289492|\n",
      "|   BillSimmons| 6000106|\n",
      "|       NBCNews| 5442705|\n",
      "|    JohnLegere| 4630104|\n",
      "|     ANCALERTS| 4453229|\n",
      "+--------------+--------+\n",
      "\n"
     ]
    }
   ],
   "source": [
    "sqlc.sql(\"\"\"\n",
    "SELECT user.screen_name, max(user.followers_count) AS counts\n",
    "FROM tweets\n",
    "WHERE user.verified = 'true'\n",
    "GROUP BY 1\n",
    "ORDER BY 2 DESC\n",
    "LIMIT 10\n",
    "\"\"\").show()"
   ]
  },
  {
   "cell_type": "markdown",
   "metadata": {},
   "source": [
    "**The top 10 verified users who had the most followers are showed above.**"
   ]
  },
  {
   "cell_type": "code",
   "execution_count": 19,
   "metadata": {},
   "outputs": [
    {
     "name": "stdout",
     "output_type": "stream",
     "text": [
      "+---------------+------+\n",
      "|    screen_name|counts|\n",
      "+---------------+------+\n",
      "|        chochos|833669|\n",
      "|  el_carabobeno|725952|\n",
      "|       PAMsLOvE|712254|\n",
      "|        jilevin|568341|\n",
      "|    sun_das_ill|559669|\n",
      "|       EP_Mundo|538525|\n",
      "|         LALATE|516139|\n",
      "|  piercearrow33|503015|\n",
      "|      BigNeechi|496825|\n",
      "|periodicovzlano|493446|\n",
      "+---------------+------+\n",
      "\n"
     ]
    }
   ],
   "source": [
    "sqlc.sql(\"\"\"\n",
    "SELECT user.screen_name, max(user.followers_count) AS counts\n",
    "FROM tweets\n",
    "WHERE user.verified = 'false'\n",
    "GROUP BY 1\n",
    "ORDER BY 2 DESC\n",
    "LIMIT 10\n",
    "\"\"\").show()"
   ]
  },
  {
   "cell_type": "markdown",
   "metadata": {},
   "source": [
    "**The top 10 unverified users who had the most followers are showed above.**"
   ]
  },
  {
   "cell_type": "markdown",
   "metadata": {},
   "source": [
    "### Q3.4 - What are the most popular sets of hashtags among users with many followers?  Are they the same as among users with few followers?\n",
    "\n",
    "Decide for yourself exactly how many followers you believe to be \"many\", and explain your decision.  You may use queries and statistics to support this decision if you wish.\n",
    "\n",
    "Hint: if your sample tweet above does not include hashtags under the `entities` field, generate a new example by running the `shuf` command again until you find one that does.\n",
    "\n",
    "Hint 2: the hashtag texts will be in an array, so you may need some functions you haven't used before.  If you're using SQL, see the docs for [Hive SQL](https://docs.treasuredata.com/articles/hive-functions) for details, (and consider `CONCAT_WS`, for example).\n",
    "\n",
    "Discuss your findings.\n",
    "\n",
    "**Answer**"
   ]
  },
  {
   "cell_type": "code",
   "execution_count": 78,
   "metadata": {},
   "outputs": [
    {
     "name": "stdout",
     "output_type": "stream",
     "text": [
      "+-------+--------------------+\n",
      "|summary|user.followers_count|\n",
      "+-------+--------------------+\n",
      "|  count|              100000|\n",
      "|   mean|          4989.93252|\n",
      "| stddev|  127175.56091358254|\n",
      "|    min|                   0|\n",
      "|    max|            18937529|\n",
      "+-------+--------------------+\n",
      "\n"
     ]
    }
   ],
   "source": [
    "tweets.describe('user.followers_count').show()"
   ]
  },
  {
   "cell_type": "markdown",
   "metadata": {},
   "source": [
    "* **We assumed sets of hashtags of users who had 1.5 times of average number of followers were popular.**\n",
    "* **We assumed sets of hashtags of users who had 0.5 times of average number of followers were unpopular.**"
   ]
  },
  {
   "cell_type": "code",
   "execution_count": 79,
   "metadata": {},
   "outputs": [
    {
     "name": "stdout",
     "output_type": "stream",
     "text": [
      "+-------------+----------+-------------+\n",
      "|first_quarter|      mean|third_quarter|\n",
      "+-------------+----------+-------------+\n",
      "|   2494.96626|4989.93252|   7484.89878|\n",
      "+-------------+----------+-------------+\n",
      "\n"
     ]
    }
   ],
   "source": [
    "sqlc.sql(\"\"\"\n",
    "SELECT \n",
    "AVG(user.followers_count)/2 AS first_quarter,\n",
    "AVG(user.followers_count) AS mean, \n",
    "AVG(user.followers_count)*3/2 AS third_quarter\n",
    "FROM tweets\n",
    "\"\"\").show()"
   ]
  },
  {
   "cell_type": "code",
   "execution_count": 80,
   "metadata": {},
   "outputs": [
    {
     "name": "stdout",
     "output_type": "stream",
     "text": [
      "+--------------------+-----+\n",
      "|                text|count|\n",
      "+--------------------+-----+\n",
      "|                  []| 1949|\n",
      "|       [WorldSeries]|  256|\n",
      "|       [EarnHistory]|  145|\n",
      "|            [Astros]|  106|\n",
      "|           [Dodgers]|   62|\n",
      "|         [ASTROSWIN]|   43|\n",
      "|               [MLB]|   30|\n",
      "|      [SerieMundial]|   23|\n",
      "|[walkoff, WorldSe...|   22|\n",
      "|[EarnHistory, Wor...|   22|\n",
      "+--------------------+-----+\n",
      "only showing top 10 rows\n",
      "\n"
     ]
    }
   ],
   "source": [
    "tweets.filter(tweets.user.followers_count>7485) \\\n",
    ".groupby('entities.hashtags.text').count().orderBy(\"count\", ascending=False).show(10)"
   ]
  },
  {
   "cell_type": "code",
   "execution_count": 81,
   "metadata": {},
   "outputs": [
    {
     "name": "stdout",
     "output_type": "stream",
     "text": [
      "+--------------------+-----+\n",
      "|                name|count|\n",
      "+--------------------+-----+\n",
      "|                    | 1949|\n",
      "|         WorldSeries|  256|\n",
      "|         EarnHistory|  145|\n",
      "|              Astros|  106|\n",
      "|             Dodgers|   62|\n",
      "|           ASTROSWIN|   43|\n",
      "|                 MLB|   30|\n",
      "|        SerieMundial|   23|\n",
      "| walkoff,WorldSeries|   22|\n",
      "|EarnHistory,World...|   22|\n",
      "+--------------------+-----+\n",
      "\n"
     ]
    }
   ],
   "source": [
    "sqlc.sql(\"\"\"\n",
    "SELECT CONCAT_WS(',', entities.hashtags['text']) AS name, COUNT(*) AS count\n",
    "FROM tweets\n",
    "WHERE user.followers_count > 7485\n",
    "GROUP BY name\n",
    "ORDER BY count DESC\n",
    "LIMIT 10\n",
    "\"\"\").show()"
   ]
  },
  {
   "cell_type": "markdown",
   "metadata": {},
   "source": [
    "**We got the same result by SQL query and spark python codes.**"
   ]
  },
  {
   "cell_type": "code",
   "execution_count": 82,
   "metadata": {},
   "outputs": [
    {
     "name": "stdout",
     "output_type": "stream",
     "text": [
      "+--------------------+-----+\n",
      "|                text|count|\n",
      "+--------------------+-----+\n",
      "|                  []|50323|\n",
      "|       [EarnHistory]|10365|\n",
      "|       [WorldSeries]| 6977|\n",
      "|         [ASTROSWIN]| 3379|\n",
      "|            [Astros]| 1642|\n",
      "|           [Dodgers]| 1013|\n",
      "|[walkoff, WorldSe...|  611|\n",
      "|[ThisTeam, WorldS...|  587|\n",
      "|          [ThisTeam]|  535|\n",
      "|[Astros, WorldSer...|  414|\n",
      "+--------------------+-----+\n",
      "only showing top 10 rows\n",
      "\n"
     ]
    }
   ],
   "source": [
    "tweets.filter(tweets.user.followers_count<2494) \\\n",
    ".groupby('entities.hashtags.text').count().orderBy(\"count\", ascending=False).show(10)"
   ]
  },
  {
   "cell_type": "code",
   "execution_count": 83,
   "metadata": {},
   "outputs": [
    {
     "name": "stdout",
     "output_type": "stream",
     "text": [
      "+--------------------+-----+\n",
      "|                name|count|\n",
      "+--------------------+-----+\n",
      "|                    |50323|\n",
      "|         EarnHistory|10365|\n",
      "|         WorldSeries| 6977|\n",
      "|           ASTROSWIN| 3379|\n",
      "|              Astros| 1642|\n",
      "|             Dodgers| 1013|\n",
      "| walkoff,WorldSeries|  611|\n",
      "|ThisTeam,WorldSeries|  587|\n",
      "|            ThisTeam|  535|\n",
      "|Astros,WorldSerie...|  414|\n",
      "+--------------------+-----+\n",
      "\n"
     ]
    }
   ],
   "source": [
    "sqlc.sql(\"\"\"\n",
    "SELECT CONCAT_WS(',', entities.hashtags['text']) AS name, COUNT(*) AS count\n",
    "FROM tweets\n",
    "WHERE user.followers_count < 2494\n",
    "GROUP BY name\n",
    "ORDER BY count DESC\n",
    "LIMIT 10\n",
    "\"\"\").show()"
   ]
  },
  {
   "cell_type": "markdown",
   "metadata": {},
   "source": [
    "**We got the same result by SQL query and spark python codes.**"
   ]
  },
  {
   "cell_type": "markdown",
   "metadata": {},
   "source": [
    "### Q3.5 - Analyze common words in tweet text\n",
    "\n",
    "Following the example in class, use `tweets.rdd` to find the most common interesting words in tweet text.  To keep it \"interesting\", add a filter that removes at least 10 common stop words found in tweets, like \"a\", \"an\", \"the\", and \"RT\" (you might want to derive these stop words from initial results).  To split lines into words, a simple split on text whitespace like we had in class is sufficient; you do not have to account for punctuation.\n",
    "\n",
    "After you find the most common words, use dataframe or SQL queries to find patterns among how those words are used.  For example, are they more frequently used by Dodgers or Astros fans, or by people in one part of the country over another?  Explore and see what you can find, and discuss your findings.\n",
    "\n",
    "Hint: don't forget all the word count pipeline steps we used earlier in class.\n",
    "\n",
    "**Answer**"
   ]
  },
  {
   "cell_type": "code",
   "execution_count": 30,
   "metadata": {
    "collapsed": true
   },
   "outputs": [],
   "source": [
    "wordlist=[\"an\", \"the\", \"in\",\"to\",\"at\",\"this\",\"and\",\"for\",\"is\",\"rt\",\"it\",\"of\"]\n",
    "def process(line,wordlist):\n",
    "    words=[]\n",
    "    line=line.lower()\n",
    "    for word in line.split():\n",
    "        if len(word)>1 and not(word in wordlist):\n",
    "            words.append(word)\n",
    "    return words"
   ]
  },
  {
   "cell_type": "markdown",
   "metadata": {},
   "source": [
    "**\"an\",\"the\",\"in\",\"to\",\"at\",\"this\",\"and\",\"for\",\"is\",\"it\",\"of\",\"rt\" are our stop words. In order to ignore the case issue, we lowered all words before counting. Therefore, we used \"rt\" rather than \"RT\" in stop word list.**"
   ]
  },
  {
   "cell_type": "code",
   "execution_count": 35,
   "metadata": {},
   "outputs": [
    {
     "data": {
      "text/plain": [
       "[('astros', 31412),\n",
       " ('dodgers', 18358),\n",
       " ('game', 15963),\n",
       " ('@astros:', 15411),\n",
       " ('win', 14945),\n",
       " ('#earnhistory', 14873),\n",
       " ('#worldseries', 13801),\n",
       " ('@astros', 10746),\n",
       " ('world', 8392),\n",
       " ('series', 8141)]"
      ]
     },
     "execution_count": 35,
     "metadata": {},
     "output_type": "execute_result"
    }
   ],
   "source": [
    "tweets.rdd.flatMap(lambda r: process(r['text'],wordlist)) \\\n",
    "    .map(lambda t: (t, 1)) \\\n",
    "    .reduceByKey(lambda a, b: a + b) \\\n",
    "    .takeOrdered(10, key=lambda pair: -pair[1])"
   ]
  },
  {
   "cell_type": "markdown",
   "metadata": {},
   "source": [
    "**As the result shown above, these ten words were the top 10 most common words in tweet text. Since we didn't account for punctuation, there are some repeat words due to the punctuation.**"
   ]
  },
  {
   "cell_type": "code",
   "execution_count": 37,
   "metadata": {},
   "outputs": [
    {
     "data": {
      "text/plain": [
       "[('#earnhistory', 2036),\n",
       " ('astros', 2014),\n",
       " ('@astros:', 1999),\n",
       " ('win', 1379),\n",
       " ('#worldseries', 1015),\n",
       " ('game', 1002),\n",
       " ('@astros', 813),\n",
       " ('#astros', 788),\n",
       " ('@abreg_1', 652),\n",
       " ('world', 637)]"
      ]
     },
     "execution_count": 37,
     "metadata": {},
     "output_type": "execute_result"
    }
   ],
   "source": [
    "tweets.filter(tweets.user.location == 'Houston, TX').rdd.flatMap(lambda r: process(r['text'],wordlist)) \\\n",
    "    .map(lambda t: (t, 1)) \\\n",
    "    .reduceByKey(lambda a, b: a + b) \\\n",
    "    .takeOrdered(10, key=lambda pair: -pair[1])"
   ]
  },
  {
   "cell_type": "code",
   "execution_count": 38,
   "metadata": {},
   "outputs": [
    {
     "data": {
      "text/plain": [
       "[('dodgers', 601),\n",
       " ('astros', 398),\n",
       " ('game', 322),\n",
       " ('@dodgers', 299),\n",
       " ('#worldseries', 275),\n",
       " ('#thisteam', 267),\n",
       " ('win', 199),\n",
       " ('you', 187),\n",
       " ('on', 152),\n",
       " ('series', 145)]"
      ]
     },
     "execution_count": 38,
     "metadata": {},
     "output_type": "execute_result"
    }
   ],
   "source": [
    "tweets.filter(tweets.user.location == 'Los Angeles, CA').rdd.flatMap(lambda r: process(r['text'],wordlist)) \\\n",
    "    .map(lambda t: (t, 1)) \\\n",
    "    .reduceByKey(lambda a, b: a + b) \\\n",
    "    .takeOrdered(10, key=lambda pair: -pair[1])"
   ]
  },
  {
   "cell_type": "markdown",
   "metadata": {},
   "source": [
    "**We were wondering if different location had different top common words. Therefore, we counted top common words in tweets with the location of \"Los Angeles\" and \"Houston\".**\n",
    "<br>\n",
    "**As the results shown above, in Houston, people only talked about thier team Astros. However, in Los Angeles, people not only talked about Dodgers, but also their opponent Astros. Then, people in both locations talked about \"world-series\", and of course \"win\".**"
   ]
  }
 ],
 "metadata": {
  "kernelspec": {
   "display_name": "Python 3",
   "language": "python",
   "name": "python3"
  },
  "language_info": {
   "codemirror_mode": {
    "name": "ipython",
    "version": 3
   },
   "file_extension": ".py",
   "mimetype": "text/x-python",
   "name": "python",
   "nbconvert_exporter": "python",
   "pygments_lexer": "ipython3",
   "version": "3.6.2"
  }
 },
 "nbformat": 4,
 "nbformat_minor": 2
}
